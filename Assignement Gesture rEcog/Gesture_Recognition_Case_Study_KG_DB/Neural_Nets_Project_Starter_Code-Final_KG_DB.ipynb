{
 "cells": [
  {
   "cell_type": "markdown",
   "metadata": {},
   "source": [
    "# Gesture Recognition\n",
    "In this group project, you are going to build a 3D Conv model that will be able to predict the 5 gestures correctly. Please import the following libraries to get started."
   ]
  },
  {
   "cell_type": "code",
   "execution_count": 1,
   "metadata": {},
   "outputs": [],
   "source": [
    "import numpy as np\n",
    "import os\n",
    "from scipy.misc import imread, imresize\n",
    "import datetime\n",
    "import os"
   ]
  },
  {
   "cell_type": "markdown",
   "metadata": {},
   "source": [
    "We set the random seed so that the results don't vary drastically."
   ]
  },
  {
   "cell_type": "code",
   "execution_count": 2,
   "metadata": {},
   "outputs": [
    {
     "name": "stderr",
     "output_type": "stream",
     "text": [
      "Using TensorFlow backend.\n"
     ]
    }
   ],
   "source": [
    "np.random.seed(30)\n",
    "import random as rn\n",
    "rn.seed(30)\n",
    "from keras import backend as K\n",
    "import tensorflow as tf\n",
    "tf.set_random_seed(30)"
   ]
  },
  {
   "cell_type": "markdown",
   "metadata": {},
   "source": [
    "In this block, you read the folder names for training and validation. You also set the `batch_size` here. Note that you set the batch size in such a way that you are able to use the GPU in full capacity. You keep increasing the batch size until the machine throws an error."
   ]
  },
  {
   "cell_type": "code",
   "execution_count": 3,
   "metadata": {},
   "outputs": [],
   "source": [
    "train_doc = np.random.permutation(open('Project_data/train.csv').readlines())\n",
    "val_doc = np.random.permutation(open('Project_data/val.csv').readlines())\n",
    "batch_size = 10"
   ]
  },
  {
   "cell_type": "markdown",
   "metadata": {},
   "source": [
    "## Generator\n",
    "This is one of the most important part of the code. The overall structure of the generator has been given. In the generator, you are going to preprocess the images as you have images of 2 different dimensions as well as create a batch of video frames. You have to experiment with `img_idx`, `y`,`z` and normalization such that you get high accuracy."
   ]
  },
  {
   "cell_type": "code",
   "execution_count": 4,
   "metadata": {},
   "outputs": [],
   "source": [
    "x = 30 # number of frames\n",
    "y = 120 # image width\n",
    "z = 120 # image height\n",
    "\n",
    "def generator(source_path, folder_list, batch_size):\n",
    "    print( 'Source path = ', source_path, '; batch size =', batch_size)\n",
    "    img_idx = [x for x in range(0,x)] #create a list of image numbers you want to use for a particular video\n",
    "    while True:\n",
    "        t = np.random.permutation(folder_list)\n",
    "        num_batches = len(folder_list)//batch_size # calculate the number of batches\n",
    "        for batch in range(num_batches): # we iterate over the number of batches\n",
    "            batch_data = np.zeros((batch_size,x,y,z,3)) # x is the number of images you use for each video, (y,z) is the final size of the input images and 3 is the number of channels RGB\n",
    "            batch_labels = np.zeros((batch_size,5)) # batch_labels is the one hot representation of the output\n",
    "            for folder in range(batch_size): # iterate over the batch_size\n",
    "                imgs = os.listdir(source_path+'/'+ t[folder + (batch*batch_size)].split(';')[0]) # read all the images in the folder\n",
    "                for idx,item in enumerate(img_idx): #  Iterate iver the frames/images of a folder to read them in\n",
    "                    image = imread(source_path+'/'+ t[folder + (batch*batch_size)].strip().split(';')[0]+'/'+imgs[item]).astype(np.float32)\n",
    "                    \n",
    "                    #crop the images and resize them. Note that the images are of 2 different shape \n",
    "                    #and the conv3D will throw error if the inputs in a batch have different shapes\n",
    "                    \n",
    "                    temp = imresize(image,(120,120))\n",
    "                    temp = temp/127.5-1 #Normalize data\n",
    "                    \n",
    "                    batch_data[folder,idx,:,:,0] = (temp[:,:,0]) #normalise and feed in the image\n",
    "                    batch_data[folder,idx,:,:,1] = (temp[:,:,1]) #normalise and feed in the image\n",
    "                    batch_data[folder,idx,:,:,2] = (temp[:,:,2]) #normalise and feed in the image\n",
    "                    \n",
    "                batch_labels[folder, int(t[folder + (batch*batch_size)].strip().split(';')[2])] = 1\n",
    "            yield batch_data, batch_labels #you yield the batch_data and the batch_labels, remember what does yield do\n",
    "\n",
    "        \n",
    "        # write the code for the remaining data points which are left after full batches\n",
    "        if (len(folder_list) != batch_size*num_batches):\n",
    "            print(\"Batch: \",num_batches+1,\"Index:\", batch_size)\n",
    "            batch_size = len(folder_list) - (batch_size*num_batches)\n",
    "            batch_data = np.zeros((batch_size,x,y,z,3)) # x is the number of images you use for each video, (y,z) is the final size of the input images and 3 is the number of channels RGB\n",
    "            batch_labels = np.zeros((batch_size,5)) # batch_labels is the one hot representation of the output\n",
    "            for folder in range(batch_size): # iterate over the batch_size\n",
    "                imgs = os.listdir(source_path+'/'+ t[folder + (batch*batch_size)].split(';')[0]) # read all the images in the folder\n",
    "                for idx,item in enumerate(img_idx): #  Iterate iver the frames/images of a folder to read them in\n",
    "                    image = imread(source_path+'/'+ t[folder + (batch*batch_size)].strip().split(';')[0]+'/'+imgs[item]).astype(np.float32)\n",
    "                    \n",
    "                    #crop the images and resize them. Note that the images are of 2 different shape \n",
    "                    #and the conv3D will throw error if the inputs in a batch have different shapes\n",
    "                    temp = imresize(image,(120,120))\n",
    "                    temp = temp/127.5-1 #Normalize data\n",
    "                    \n",
    "                    batch_data[folder,idx,:,:,0] = (temp[:,:,0])\n",
    "                    batch_data[folder,idx,:,:,1] = (temp[:,:,1])\n",
    "                    batch_data[folder,idx,:,:,2] = (temp[:,:,2])\n",
    "                   \n",
    "                batch_labels[folder, int(t[folder + (batch*batch_size)].strip().split(';')[2])] = 1\n",
    "            yield batch_data, batch_labels"
   ]
  },
  {
   "cell_type": "markdown",
   "metadata": {},
   "source": [
    "Note here that a video is represented above in the generator as (number of images, height, width, number of channels). Take this into consideration while creating the model architecture."
   ]
  },
  {
   "cell_type": "code",
   "execution_count": 5,
   "metadata": {},
   "outputs": [
    {
     "name": "stdout",
     "output_type": "stream",
     "text": [
      "# training sequences = 663\n",
      "# validation sequences = 100\n",
      "# epochs = 10\n"
     ]
    }
   ],
   "source": [
    "curr_dt_time = datetime.datetime.now()\n",
    "train_path = 'Project_data/train'\n",
    "val_path = 'Project_data/val'\n",
    "num_train_sequences = len(train_doc)\n",
    "print('# training sequences =', num_train_sequences)\n",
    "num_val_sequences = len(val_doc)\n",
    "print('# validation sequences =', num_val_sequences)\n",
    "num_epochs = 10 # choose the number of epochs\n",
    "print ('# epochs =', num_epochs)"
   ]
  },
  {
   "cell_type": "markdown",
   "metadata": {},
   "source": [
    "## Model\n",
    "Here you make the model using different functionalities that Keras provides. Remember to use `Conv3D` and `MaxPooling3D` and not `Conv2D` and `Maxpooling2D` for a 3D convolution model. You would want to use `TimeDistributed` while building a Conv2D + RNN model. Also remember that the last layer is the softmax. Design the network in such a way that the model is able to give good accuracy on the least number of parameters so that it can fit in the memory of the webcam."
   ]
  },
  {
   "cell_type": "code",
   "execution_count": 6,
   "metadata": {},
   "outputs": [],
   "source": [
    "from keras.models import Sequential, Model\n",
    "from keras.layers import Dense, GRU, Flatten, TimeDistributed, Flatten, BatchNormalization, Activation, Dropout\n",
    "from keras.layers.convolutional import Conv3D, MaxPooling3D\n",
    "from keras.callbacks import ModelCheckpoint, ReduceLROnPlateau\n",
    "from keras import optimizers\n",
    "import keras\n",
    "\n",
    "#write your model here\n",
    "#model a\n",
    "model_a = Sequential()\n",
    "\n",
    "model_a.add(Conv3D(8, #number of filters \n",
    "                 kernel_size=(3,3,3), \n",
    "                 input_shape=(30, 120, 120, 3),\n",
    "                 padding='same'))\n",
    "model_a.add(BatchNormalization())\n",
    "model_a.add(Activation('relu'))\n",
    "\n",
    "model_a.add(MaxPooling3D(pool_size=(2,2,2)))\n",
    "\n",
    "model_a.add(Conv3D(16, #Number of filters, \n",
    "                 kernel_size=(3,3,3), \n",
    "                 padding='same'))\n",
    "model_a.add(BatchNormalization())\n",
    "model_a.add(Activation('relu'))\n",
    "\n",
    "model_a.add(MaxPooling3D(pool_size=(2,2,2)))\n",
    "\n",
    "model_a.add(Conv3D(32, #Number of filters \n",
    "                 kernel_size=(1,3,3), \n",
    "                 padding='same'))\n",
    "model_a.add(BatchNormalization())\n",
    "model_a.add(Activation('relu'))\n",
    "\n",
    "model_a.add(MaxPooling3D(pool_size=(2,2,2)))\n",
    "\n",
    "model_a.add(Conv3D(64, #Number pf filters \n",
    "                 kernel_size=(1,3,3), \n",
    "                 padding='same'))\n",
    "model_a.add(BatchNormalization())\n",
    "model_a.add(Activation('relu'))\n",
    "\n",
    "model_a.add(MaxPooling3D(pool_size=(2,2,2)))\n",
    "\n",
    "#Flatten Layers\n",
    "model_a.add(Flatten())\n",
    "\n",
    "model_a.add(Dense(1000, activation='relu'))\n",
    "model_a.add(Dropout(0.5))\n",
    "\n",
    "model_a.add(Dense(500, activation='relu'))\n",
    "model_a.add(Dropout(0.5))\n",
    "\n",
    "#softmax layer\n",
    "model_a.add(Dense(5, activation='softmax'))"
   ]
  },
  {
   "cell_type": "markdown",
   "metadata": {},
   "source": [
    "Now that you have written the model, the next step is to `compile` the model. When you print the `summary` of the model, you'll see the total number of parameters you have to train."
   ]
  },
  {
   "cell_type": "code",
   "execution_count": 7,
   "metadata": {
    "scrolled": true
   },
   "outputs": [
    {
     "name": "stdout",
     "output_type": "stream",
     "text": [
      "_________________________________________________________________\n",
      "Layer (type)                 Output Shape              Param #   \n",
      "=================================================================\n",
      "conv3d_1 (Conv3D)            (None, 30, 120, 120, 8)   656       \n",
      "_________________________________________________________________\n",
      "batch_normalization_1 (Batch (None, 30, 120, 120, 8)   32        \n",
      "_________________________________________________________________\n",
      "activation_1 (Activation)    (None, 30, 120, 120, 8)   0         \n",
      "_________________________________________________________________\n",
      "max_pooling3d_1 (MaxPooling3 (None, 15, 60, 60, 8)     0         \n",
      "_________________________________________________________________\n",
      "conv3d_2 (Conv3D)            (None, 15, 60, 60, 16)    3472      \n",
      "_________________________________________________________________\n",
      "batch_normalization_2 (Batch (None, 15, 60, 60, 16)    64        \n",
      "_________________________________________________________________\n",
      "activation_2 (Activation)    (None, 15, 60, 60, 16)    0         \n",
      "_________________________________________________________________\n",
      "max_pooling3d_2 (MaxPooling3 (None, 7, 30, 30, 16)     0         \n",
      "_________________________________________________________________\n",
      "conv3d_3 (Conv3D)            (None, 7, 30, 30, 32)     4640      \n",
      "_________________________________________________________________\n",
      "batch_normalization_3 (Batch (None, 7, 30, 30, 32)     128       \n",
      "_________________________________________________________________\n",
      "activation_3 (Activation)    (None, 7, 30, 30, 32)     0         \n",
      "_________________________________________________________________\n",
      "max_pooling3d_3 (MaxPooling3 (None, 3, 15, 15, 32)     0         \n",
      "_________________________________________________________________\n",
      "conv3d_4 (Conv3D)            (None, 3, 15, 15, 64)     18496     \n",
      "_________________________________________________________________\n",
      "batch_normalization_4 (Batch (None, 3, 15, 15, 64)     256       \n",
      "_________________________________________________________________\n",
      "activation_4 (Activation)    (None, 3, 15, 15, 64)     0         \n",
      "_________________________________________________________________\n",
      "max_pooling3d_4 (MaxPooling3 (None, 1, 7, 7, 64)       0         \n",
      "_________________________________________________________________\n",
      "flatten_1 (Flatten)          (None, 3136)              0         \n",
      "_________________________________________________________________\n",
      "dense_1 (Dense)              (None, 1000)              3137000   \n",
      "_________________________________________________________________\n",
      "dropout_1 (Dropout)          (None, 1000)              0         \n",
      "_________________________________________________________________\n",
      "dense_2 (Dense)              (None, 500)               500500    \n",
      "_________________________________________________________________\n",
      "dropout_2 (Dropout)          (None, 500)               0         \n",
      "_________________________________________________________________\n",
      "dense_3 (Dense)              (None, 5)                 2505      \n",
      "=================================================================\n",
      "Total params: 3,667,749\n",
      "Trainable params: 3,667,509\n",
      "Non-trainable params: 240\n",
      "_________________________________________________________________\n",
      "None\n"
     ]
    }
   ],
   "source": [
    "optimiser = optimizers.Adam(lr=0.001) #write your optimizer\n",
    "model_a.compile(optimizer=optimiser, loss='categorical_crossentropy', metrics=['categorical_accuracy'])\n",
    "print (model_a.summary())"
   ]
  },
  {
   "cell_type": "markdown",
   "metadata": {},
   "source": [
    "Let us create the `train_generator` and the `val_generator` which will be used in `.fit_generator`."
   ]
  },
  {
   "cell_type": "code",
   "execution_count": 8,
   "metadata": {},
   "outputs": [],
   "source": [
    "train_generator = generator(train_path, train_doc, batch_size)\n",
    "val_generator = generator(val_path, val_doc, batch_size)"
   ]
  },
  {
   "cell_type": "code",
   "execution_count": 9,
   "metadata": {},
   "outputs": [],
   "source": [
    "model_name = 'model_init' + '_' + str(curr_dt_time).replace(' ','').replace(':','_') + '/'\n",
    "    \n",
    "if not os.path.exists(model_name):\n",
    "    os.mkdir(model_name)\n",
    "        \n",
    "filepath = model_name + 'model-{epoch:05d}-{loss:.5f}-{categorical_accuracy:.5f}-{val_loss:.5f}-{val_categorical_accuracy:.5f}.h5'\n",
    "\n",
    "checkpoint = ModelCheckpoint(filepath, monitor='val_loss', verbose=1, save_best_only=False, save_weights_only=False, mode='auto', period=1)\n",
    "\n",
    "LR = ReduceLROnPlateau(monitor='val_loss', factor=0.5, patience=2, cooldown=1, verbose=1) # write the REducelronplateau code here\n",
    "callbacks_list = [checkpoint, LR]"
   ]
  },
  {
   "cell_type": "markdown",
   "metadata": {},
   "source": [
    "The `steps_per_epoch` and `validation_steps` are used by `fit_generator` to decide the number of next() calls it need to make."
   ]
  },
  {
   "cell_type": "code",
   "execution_count": 10,
   "metadata": {},
   "outputs": [],
   "source": [
    "if (num_train_sequences%batch_size) == 0:\n",
    "    steps_per_epoch = int(num_train_sequences/batch_size)\n",
    "else:\n",
    "    steps_per_epoch = (num_train_sequences//batch_size) + 1\n",
    "\n",
    "if (num_val_sequences%batch_size) == 0:\n",
    "    validation_steps = int(num_val_sequences/batch_size)\n",
    "else:\n",
    "    validation_steps = (num_val_sequences//batch_size) + 1"
   ]
  },
  {
   "cell_type": "markdown",
   "metadata": {},
   "source": [
    "Let us now fit the model. This will start training the model and with the help of the checkpoints, you'll be able to save the model at the end of each epoch."
   ]
  },
  {
   "cell_type": "code",
   "execution_count": 11,
   "metadata": {},
   "outputs": [
    {
     "name": "stdout",
     "output_type": "stream",
     "text": [
      "Source path =  Project_data/val ; batch size = 10\n",
      "Source path =  Project_data/train ; batch size = 10\n",
      "Epoch 1/10\n"
     ]
    },
    {
     "name": "stderr",
     "output_type": "stream",
     "text": [
      "/mnt/disks/user/anaconda3/lib/python3.6/site-packages/ipykernel_launcher.py:17: DeprecationWarning: `imread` is deprecated!\n",
      "`imread` is deprecated in SciPy 1.0.0, and will be removed in 1.2.0.\n",
      "Use ``imageio.imread`` instead.\n",
      "/mnt/disks/user/anaconda3/lib/python3.6/site-packages/ipykernel_launcher.py:22: DeprecationWarning: `imresize` is deprecated!\n",
      "`imresize` is deprecated in SciPy 1.0.0, and will be removed in 1.2.0.\n",
      "Use ``skimage.transform.resize`` instead.\n"
     ]
    },
    {
     "name": "stdout",
     "output_type": "stream",
     "text": [
      "65/67 [============================>.] - ETA: 5s - loss: 5.9100 - categorical_accuracy: 0.2815Batch:  67 Index: 10\n"
     ]
    },
    {
     "name": "stderr",
     "output_type": "stream",
     "text": [
      "/mnt/disks/user/anaconda3/lib/python3.6/site-packages/ipykernel_launcher.py:42: DeprecationWarning: `imread` is deprecated!\n",
      "`imread` is deprecated in SciPy 1.0.0, and will be removed in 1.2.0.\n",
      "Use ``imageio.imread`` instead.\n",
      "/mnt/disks/user/anaconda3/lib/python3.6/site-packages/ipykernel_launcher.py:46: DeprecationWarning: `imresize` is deprecated!\n",
      "`imresize` is deprecated in SciPy 1.0.0, and will be removed in 1.2.0.\n",
      "Use ``skimage.transform.resize`` instead.\n"
     ]
    },
    {
     "name": "stdout",
     "output_type": "stream",
     "text": [
      "67/67 [==============================] - 200s 3s/step - loss: 5.8529 - categorical_accuracy: 0.2841 - val_loss: 4.7454 - val_categorical_accuracy: 0.3600\n",
      "\n",
      "Epoch 00001: saving model to model_init_2020-02-0915_11_30.104831/model-00001-5.87963-0.28356-4.74543-0.36000.h5\n",
      "Epoch 2/10\n",
      "67/67 [==============================] - 26s 381ms/step - loss: 3.4411 - categorical_accuracy: 0.2836 - val_loss: 2.4837 - val_categorical_accuracy: 0.2800\n",
      "\n",
      "Epoch 00002: saving model to model_init_2020-02-0915_11_30.104831/model-00002-3.44110-0.28358-2.48375-0.28000.h5\n",
      "Epoch 3/10\n",
      "67/67 [==============================] - 26s 388ms/step - loss: 1.8730 - categorical_accuracy: 0.3184 - val_loss: 1.2485 - val_categorical_accuracy: 0.5100\n",
      "\n",
      "Epoch 00003: saving model to model_init_2020-02-0915_11_30.104831/model-00003-1.87303-0.31841-1.24849-0.51000.h5\n",
      "Epoch 4/10\n",
      "67/67 [==============================] - 27s 405ms/step - loss: 1.6609 - categorical_accuracy: 0.3433 - val_loss: 1.3044 - val_categorical_accuracy: 0.4000\n",
      "\n",
      "Epoch 00004: saving model to model_init_2020-02-0915_11_30.104831/model-00004-1.66091-0.34328-1.30441-0.40000.h5\n",
      "Epoch 5/10\n",
      "67/67 [==============================] - 28s 414ms/step - loss: 1.5467 - categorical_accuracy: 0.3284 - val_loss: 1.1873 - val_categorical_accuracy: 0.5100\n",
      "\n",
      "Epoch 00005: saving model to model_init_2020-02-0915_11_30.104831/model-00005-1.54669-0.32836-1.18734-0.51000.h5\n",
      "Epoch 6/10\n",
      "67/67 [==============================] - 27s 410ms/step - loss: 1.5883 - categorical_accuracy: 0.3085 - val_loss: 1.3837 - val_categorical_accuracy: 0.3600\n",
      "\n",
      "Epoch 00006: saving model to model_init_2020-02-0915_11_30.104831/model-00006-1.58830-0.30846-1.38373-0.36000.h5\n",
      "Epoch 7/10\n",
      "67/67 [==============================] - 26s 394ms/step - loss: 1.5011 - categorical_accuracy: 0.3582 - val_loss: 1.5412 - val_categorical_accuracy: 0.2500\n",
      "\n",
      "Epoch 00007: saving model to model_init_2020-02-0915_11_30.104831/model-00007-1.50107-0.35821-1.54116-0.25000.h5\n",
      "\n",
      "Epoch 00007: ReduceLROnPlateau reducing learning rate to 0.0005000000237487257.\n",
      "Epoch 8/10\n",
      "67/67 [==============================] - 26s 393ms/step - loss: 1.4137 - categorical_accuracy: 0.4677 - val_loss: 1.2597 - val_categorical_accuracy: 0.4700\n",
      "\n",
      "Epoch 00008: saving model to model_init_2020-02-0915_11_30.104831/model-00008-1.41373-0.46766-1.25975-0.47000.h5\n",
      "Epoch 9/10\n",
      "67/67 [==============================] - 28s 422ms/step - loss: 1.4036 - categorical_accuracy: 0.4030 - val_loss: 1.1192 - val_categorical_accuracy: 0.5700\n",
      "\n",
      "Epoch 00009: saving model to model_init_2020-02-0915_11_30.104831/model-00009-1.40355-0.40299-1.11918-0.57000.h5\n",
      "Epoch 10/10\n",
      "67/67 [==============================] - 27s 400ms/step - loss: 1.2655 - categorical_accuracy: 0.4328 - val_loss: 1.0898 - val_categorical_accuracy: 0.5400\n",
      "\n",
      "Epoch 00010: saving model to model_init_2020-02-0915_11_30.104831/model-00010-1.26555-0.43284-1.08976-0.54000.h5\n"
     ]
    },
    {
     "data": {
      "text/plain": [
       "<keras.callbacks.History at 0x7fa7a1f9ed30>"
      ]
     },
     "execution_count": 11,
     "metadata": {},
     "output_type": "execute_result"
    }
   ],
   "source": [
    "model_a.fit_generator(train_generator, steps_per_epoch=steps_per_epoch, epochs=num_epochs, verbose=1, \n",
    "                    callbacks=callbacks_list, validation_data=val_generator, \n",
    "                    validation_steps=validation_steps, class_weight=None, workers=1, initial_epoch=0)"
   ]
  },
  {
   "cell_type": "code",
   "execution_count": 12,
   "metadata": {},
   "outputs": [],
   "source": [
    "classes = 5 #left swipe, right swipe, thumbs up, thumbs down, stop\n",
    "channel = 3\n",
    "x = 30 # number of frames\n",
    "y = 120 # image width\n",
    "z = 120 # image height\n",
    "\n",
    "def generator_ex(source_path, folder_list, batch_size):\n",
    "    print( 'Source path = ', source_path, '; batch size =', batch_size)\n",
    "    img_idx = [x for x in range(0,x)] #create a list of image numbers you want to use for a particular video\n",
    "    while True:\n",
    "        t = np.random.permutation(folder_list)\n",
    "        num_batches = len(folder_list)//batch_size # calculate the number of batches\n",
    "        for batch in range(num_batches): # we iterate over the number of batches\n",
    "            batch_data = np.zeros((batch_size,x,y,z,channel)) # x is the number of images you use for each video, (y,z) is the final size of the input images and 3 is the number of channels RGB\n",
    "            batch_labels = np.zeros((batch_size,classes)) # batch_labels is the one hot representation of the output\n",
    "            for folder in range(batch_size): # iterate over the batch_size\n",
    "                imgs = os.listdir(source_path+'/'+ t[folder + (batch*batch_size)].split(';')[0]) # read all the images in the folder\n",
    "                for idx,item in enumerate(img_idx): #  Iterate iver the frames/images of a folder to read them in\n",
    "                    image = imread(source_path+'/'+ t[folder + (batch*batch_size)].strip().split(';')[0]+'/'+imgs[item]).astype(np.float32)\n",
    "                    \n",
    "                    #crop the images and resize them. Note that the images are of 2 different shape \n",
    "                    #and the conv3D will throw error if the inputs in a batch have different shapes\n",
    "                    \n",
    "                    temp = imresize(image,(y,z))\n",
    "                    #Converting to gray scale\n",
    "                    temp = temp.mean(axis=-1,keepdims=1) \n",
    "                    temp = temp/127.5-1 #Normalize data\n",
    "                    batch_data[folder,idx] = temp #normalise and feed in the image\n",
    "                    \n",
    "                batch_labels[folder, int(t[folder + (batch*batch_size)].strip().split(';')[2])] = 1\n",
    "                \n",
    "            yield batch_data, batch_labels #you yield the batch_data and the batch_labels, remember what does yield do\n",
    "\n",
    "        \n",
    "        # write the code for the remaining data points which are left after full batches\n",
    "        if (len(folder_list) != batch_size*num_batches):\n",
    "            print(\"Batch: \",num_batches+1,\"Index:\", batch_size)\n",
    "            batch_size = len(folder_list) - (batch_size*num_batches)\n",
    "            batch_data = np.zeros((batch_size,x,y,z,channel)) # x is the number of images you use for each video, (y,z) is the final size of the input images and 3 is the number of channels RGB\n",
    "            batch_labels = np.zeros((batch_size,classes)) # batch_labels is the one hot representation of the output\n",
    "            for folder in range(batch_size): # iterate over the batch_size\n",
    "                imgs = os.listdir(source_path+'/'+ t[folder + (batch*batch_size)].split(';')[0]) # read all the images in the folder\n",
    "                for idx,item in enumerate(img_idx): #  Iterate iver the frames/images of a folder to read them in\n",
    "                    image = imread(source_path+'/'+ t[folder + (batch*batch_size)].strip().split(';')[0]+'/'+imgs[item]).astype(np.float32)\n",
    "                    \n",
    "                    #crop the images and resize them. Note that the images are of 2 different shape \n",
    "                    #and the conv3D will throw error if the inputs in a batch have different shapes\n",
    "                    temp = imresize(image,(y,z))\n",
    "                    #Converting to gray scale\n",
    "                    temp = temp.mean(axis=-1,keepdims=1) \n",
    "                    temp = temp/127.5-1 #Normalize data\n",
    "                    \n",
    "                    batch_data[folder,idx] = temp\n",
    "                   \n",
    "                batch_labels[folder, int(t[folder + (batch*batch_size)].strip().split(';')[2])] = 1\n",
    "            yield batch_data, batch_labels"
   ]
  },
  {
   "cell_type": "code",
   "execution_count": 13,
   "metadata": {},
   "outputs": [
    {
     "name": "stdout",
     "output_type": "stream",
     "text": [
      "_________________________________________________________________\n",
      "Layer (type)                 Output Shape              Param #   \n",
      "=================================================================\n",
      "conv3d_5 (Conv3D)            (None, 30, 120, 120, 32)  2624      \n",
      "_________________________________________________________________\n",
      "activation_5 (Activation)    (None, 30, 120, 120, 32)  0         \n",
      "_________________________________________________________________\n",
      "conv3d_6 (Conv3D)            (None, 30, 120, 120, 32)  27680     \n",
      "_________________________________________________________________\n",
      "activation_6 (Activation)    (None, 30, 120, 120, 32)  0         \n",
      "_________________________________________________________________\n",
      "max_pooling3d_5 (MaxPooling3 (None, 10, 40, 40, 32)    0         \n",
      "_________________________________________________________________\n",
      "dropout_3 (Dropout)          (None, 10, 40, 40, 32)    0         \n",
      "_________________________________________________________________\n",
      "conv3d_7 (Conv3D)            (None, 10, 40, 40, 64)    55360     \n",
      "_________________________________________________________________\n",
      "activation_7 (Activation)    (None, 10, 40, 40, 64)    0         \n",
      "_________________________________________________________________\n",
      "conv3d_8 (Conv3D)            (None, 10, 40, 40, 64)    110656    \n",
      "_________________________________________________________________\n",
      "activation_8 (Activation)    (None, 10, 40, 40, 64)    0         \n",
      "_________________________________________________________________\n",
      "max_pooling3d_6 (MaxPooling3 (None, 4, 14, 14, 64)     0         \n",
      "_________________________________________________________________\n",
      "dropout_4 (Dropout)          (None, 4, 14, 14, 64)     0         \n",
      "_________________________________________________________________\n",
      "flatten_2 (Flatten)          (None, 50176)             0         \n",
      "_________________________________________________________________\n",
      "dense_4 (Dense)              (None, 512)               25690624  \n",
      "_________________________________________________________________\n",
      "dropout_5 (Dropout)          (None, 512)               0         \n",
      "_________________________________________________________________\n",
      "dense_5 (Dense)              (None, 5)                 2565      \n",
      "=================================================================\n",
      "Total params: 25,889,509\n",
      "Trainable params: 25,889,509\n",
      "Non-trainable params: 0\n",
      "_________________________________________________________________\n"
     ]
    }
   ],
   "source": [
    "from keras.losses import categorical_crossentropy\n",
    "from keras.optimizers import Adam\n",
    "\n",
    "# Define model b\n",
    "model_b = Sequential()\n",
    "model_b.add(Conv3D(32, kernel_size=(3, 3, 3), input_shape=(x,y,z,channel), padding='same'))\n",
    "model_b.add(Activation('relu'))\n",
    "model_b.add(Conv3D(32, kernel_size=(3, 3, 3), padding='same'))\n",
    "model_b.add(Activation('relu'))\n",
    "model_b.add(MaxPooling3D(pool_size=(3, 3, 3), padding='same'))\n",
    "model_b.add(Dropout(0.25))\n",
    "\n",
    "model_b.add(Conv3D(64, kernel_size=(3, 3, 3), padding='same'))\n",
    "model_b.add(Activation('relu'))\n",
    "model_b.add(Conv3D(64, kernel_size=(3, 3, 3), padding='same'))\n",
    "model_b.add(Activation('relu'))\n",
    "model_b.add(MaxPooling3D(pool_size=(3, 3, 3), padding='same'))\n",
    "model_b.add(Dropout(0.25))\n",
    "\n",
    "model_b.add(Flatten())\n",
    "model_b.add(Dense(512, activation='relu'))\n",
    "model_b.add(Dropout(0.5))\n",
    "model_b.add(Dense(classes, activation='softmax'))\n",
    "\n",
    "model_b.compile(optimizer=Adam(), loss='categorical_crossentropy', metrics=['categorical_accuracy'])\n",
    "model_b.summary()"
   ]
  },
  {
   "cell_type": "code",
   "execution_count": 14,
   "metadata": {},
   "outputs": [],
   "source": [
    "train_generator = generator_ex(train_path, train_doc, batch_size)\n",
    "val_generator = generator_ex(val_path, val_doc, batch_size)"
   ]
  },
  {
   "cell_type": "code",
   "execution_count": 15,
   "metadata": {},
   "outputs": [
    {
     "name": "stdout",
     "output_type": "stream",
     "text": [
      "Source path =  Project_data/val ; batch size = Source path =  Project_data/train 10\n",
      "Epoch 1/10\n",
      "; batch size = 10\n"
     ]
    },
    {
     "name": "stderr",
     "output_type": "stream",
     "text": [
      "/mnt/disks/user/anaconda3/lib/python3.6/site-packages/ipykernel_launcher.py:19: DeprecationWarning: `imread` is deprecated!\n",
      "`imread` is deprecated in SciPy 1.0.0, and will be removed in 1.2.0.\n",
      "Use ``imageio.imread`` instead.\n",
      "/mnt/disks/user/anaconda3/lib/python3.6/site-packages/ipykernel_launcher.py:24: DeprecationWarning: `imresize` is deprecated!\n",
      "`imresize` is deprecated in SciPy 1.0.0, and will be removed in 1.2.0.\n",
      "Use ``skimage.transform.resize`` instead.\n"
     ]
    },
    {
     "name": "stdout",
     "output_type": "stream",
     "text": [
      "56/67 [========================>.....] - ETA: 20s - loss: 1.8072 - categorical_accuracy: 0.2054Batch:  67 Index: 10\n"
     ]
    },
    {
     "name": "stderr",
     "output_type": "stream",
     "text": [
      "/mnt/disks/user/anaconda3/lib/python3.6/site-packages/ipykernel_launcher.py:44: DeprecationWarning: `imread` is deprecated!\n",
      "`imread` is deprecated in SciPy 1.0.0, and will be removed in 1.2.0.\n",
      "Use ``imageio.imread`` instead.\n",
      "/mnt/disks/user/anaconda3/lib/python3.6/site-packages/ipykernel_launcher.py:48: DeprecationWarning: `imresize` is deprecated!\n",
      "`imresize` is deprecated in SciPy 1.0.0, and will be removed in 1.2.0.\n",
      "Use ``skimage.transform.resize`` instead.\n"
     ]
    },
    {
     "name": "stdout",
     "output_type": "stream",
     "text": [
      "67/67 [==============================] - 127s 2s/step - loss: 1.7747 - categorical_accuracy: 0.2188 - val_loss: 1.6027 - val_categorical_accuracy: 0.3000\n",
      "\n",
      "Epoch 00001: saving model to model_init_2020-02-0915_11_30.104831/model-00001-1.77666-0.21418-1.60269-0.30000.h5\n",
      "Epoch 2/10\n",
      "67/67 [==============================] - 44s 657ms/step - loss: 1.5684 - categorical_accuracy: 0.2687 - val_loss: 1.5106 - val_categorical_accuracy: 0.3000\n",
      "\n",
      "Epoch 00002: saving model to model_init_2020-02-0915_11_30.104831/model-00002-1.56845-0.26866-1.51056-0.30000.h5\n",
      "Epoch 3/10\n",
      "67/67 [==============================] - 44s 658ms/step - loss: 1.5854 - categorical_accuracy: 0.2786 - val_loss: 1.5450 - val_categorical_accuracy: 0.3100\n",
      "\n",
      "Epoch 00003: saving model to model_init_2020-02-0915_11_30.104831/model-00003-1.58536-0.27861-1.54496-0.31000.h5\n",
      "Epoch 4/10\n",
      "67/67 [==============================] - 44s 661ms/step - loss: 1.5304 - categorical_accuracy: 0.2935 - val_loss: 1.4809 - val_categorical_accuracy: 0.3300\n",
      "\n",
      "Epoch 00004: saving model to model_init_2020-02-0915_11_30.104831/model-00004-1.53037-0.29353-1.48085-0.33000.h5\n",
      "Epoch 5/10\n",
      "67/67 [==============================] - 44s 660ms/step - loss: 1.4671 - categorical_accuracy: 0.3682 - val_loss: 1.5766 - val_categorical_accuracy: 0.4000\n",
      "\n",
      "Epoch 00005: saving model to model_init_2020-02-0915_11_30.104831/model-00005-1.46710-0.36816-1.57661-0.40000.h5\n",
      "Epoch 6/10\n",
      "67/67 [==============================] - 44s 662ms/step - loss: 1.5312 - categorical_accuracy: 0.3184 - val_loss: 1.4717 - val_categorical_accuracy: 0.3900\n",
      "\n",
      "Epoch 00006: saving model to model_init_2020-02-0915_11_30.104831/model-00006-1.53115-0.31841-1.47166-0.39000.h5\n",
      "Epoch 7/10\n",
      "67/67 [==============================] - 44s 659ms/step - loss: 1.4911 - categorical_accuracy: 0.3085 - val_loss: 1.4836 - val_categorical_accuracy: 0.3600\n",
      "\n",
      "Epoch 00007: saving model to model_init_2020-02-0915_11_30.104831/model-00007-1.49112-0.30846-1.48365-0.36000.h5\n",
      "Epoch 8/10\n",
      "67/67 [==============================] - 44s 664ms/step - loss: 1.5310 - categorical_accuracy: 0.3682 - val_loss: 1.5075 - val_categorical_accuracy: 0.2700\n",
      "\n",
      "Epoch 00008: saving model to model_init_2020-02-0915_11_30.104831/model-00008-1.53101-0.36816-1.50745-0.27000.h5\n",
      "\n",
      "Epoch 00008: ReduceLROnPlateau reducing learning rate to 0.0005000000237487257.\n",
      "Epoch 9/10\n",
      "67/67 [==============================] - 44s 660ms/step - loss: 1.3730 - categorical_accuracy: 0.4328 - val_loss: 1.4377 - val_categorical_accuracy: 0.4000\n",
      "\n",
      "Epoch 00009: saving model to model_init_2020-02-0915_11_30.104831/model-00009-1.37301-0.43284-1.43775-0.40000.h5\n",
      "Epoch 10/10\n",
      "67/67 [==============================] - 44s 661ms/step - loss: 1.3571 - categorical_accuracy: 0.4478 - val_loss: 1.3745 - val_categorical_accuracy: 0.3600\n",
      "\n",
      "Epoch 00010: saving model to model_init_2020-02-0915_11_30.104831/model-00010-1.35708-0.44776-1.37447-0.36000.h5\n"
     ]
    },
    {
     "data": {
      "text/plain": [
       "<keras.callbacks.History at 0x7fa75dd1aeb8>"
      ]
     },
     "execution_count": 15,
     "metadata": {},
     "output_type": "execute_result"
    }
   ],
   "source": [
    "model_b.fit_generator(train_generator, steps_per_epoch=steps_per_epoch, epochs=num_epochs, verbose=1, \n",
    "                    callbacks=callbacks_list, validation_data=val_generator, \n",
    "                    validation_steps=validation_steps, class_weight=None, workers=1, initial_epoch=0)"
   ]
  },
  {
   "cell_type": "markdown",
   "metadata": {},
   "source": [
    "##### Changing x,y,z values \n"
   ]
  },
  {
   "cell_type": "code",
   "execution_count": 16,
   "metadata": {},
   "outputs": [],
   "source": [
    "x = 30 # number of frames\n",
    "y = 60 # image width\n",
    "z = 60 # image height"
   ]
  },
  {
   "cell_type": "code",
   "execution_count": 17,
   "metadata": {},
   "outputs": [
    {
     "name": "stdout",
     "output_type": "stream",
     "text": [
      "_________________________________________________________________\n",
      "Layer (type)                 Output Shape              Param #   \n",
      "=================================================================\n",
      "conv3d_9 (Conv3D)            (None, 30, 60, 60, 32)    2624      \n",
      "_________________________________________________________________\n",
      "activation_9 (Activation)    (None, 30, 60, 60, 32)    0         \n",
      "_________________________________________________________________\n",
      "conv3d_10 (Conv3D)           (None, 30, 60, 60, 32)    27680     \n",
      "_________________________________________________________________\n",
      "activation_10 (Activation)   (None, 30, 60, 60, 32)    0         \n",
      "_________________________________________________________________\n",
      "max_pooling3d_7 (MaxPooling3 (None, 10, 20, 20, 32)    0         \n",
      "_________________________________________________________________\n",
      "dropout_6 (Dropout)          (None, 10, 20, 20, 32)    0         \n",
      "_________________________________________________________________\n",
      "conv3d_11 (Conv3D)           (None, 10, 20, 20, 64)    55360     \n",
      "_________________________________________________________________\n",
      "activation_11 (Activation)   (None, 10, 20, 20, 64)    0         \n",
      "_________________________________________________________________\n",
      "conv3d_12 (Conv3D)           (None, 10, 20, 20, 64)    110656    \n",
      "_________________________________________________________________\n",
      "activation_12 (Activation)   (None, 10, 20, 20, 64)    0         \n",
      "_________________________________________________________________\n",
      "max_pooling3d_8 (MaxPooling3 (None, 4, 7, 7, 64)       0         \n",
      "_________________________________________________________________\n",
      "dropout_7 (Dropout)          (None, 4, 7, 7, 64)       0         \n",
      "_________________________________________________________________\n",
      "flatten_3 (Flatten)          (None, 12544)             0         \n",
      "_________________________________________________________________\n",
      "dense_6 (Dense)              (None, 512)               6423040   \n",
      "_________________________________________________________________\n",
      "dropout_8 (Dropout)          (None, 512)               0         \n",
      "_________________________________________________________________\n",
      "dense_7 (Dense)              (None, 5)                 2565      \n",
      "=================================================================\n",
      "Total params: 6,621,925\n",
      "Trainable params: 6,621,925\n",
      "Non-trainable params: 0\n",
      "_________________________________________________________________\n"
     ]
    }
   ],
   "source": [
    "# Define model b\n",
    "model_b = Sequential()\n",
    "model_b.add(Conv3D(32, kernel_size=(3, 3, 3), input_shape=(x,y,z,channel), padding='same'))\n",
    "model_b.add(Activation('relu'))\n",
    "model_b.add(Conv3D(32, kernel_size=(3, 3, 3), padding='same'))\n",
    "model_b.add(Activation('relu'))\n",
    "model_b.add(MaxPooling3D(pool_size=(3, 3, 3), padding='same'))\n",
    "model_b.add(Dropout(0.25))\n",
    "\n",
    "model_b.add(Conv3D(64, kernel_size=(3, 3, 3), padding='same'))\n",
    "model_b.add(Activation('relu'))\n",
    "model_b.add(Conv3D(64, kernel_size=(3, 3, 3), padding='same'))\n",
    "model_b.add(Activation('relu'))\n",
    "model_b.add(MaxPooling3D(pool_size=(3, 3, 3), padding='same'))\n",
    "model_b.add(Dropout(0.25))\n",
    "\n",
    "model_b.add(Flatten())\n",
    "model_b.add(Dense(512, activation='relu'))\n",
    "model_b.add(Dropout(0.5))\n",
    "model_b.add(Dense(classes, activation='softmax'))\n",
    "\n",
    "model_b.compile(optimizer=keras.optimizers.Adam(), loss='categorical_crossentropy', metrics=['categorical_accuracy'])\n",
    "model_b.summary()"
   ]
  },
  {
   "cell_type": "code",
   "execution_count": 18,
   "metadata": {},
   "outputs": [],
   "source": [
    "train_generator = generator_ex(train_path, train_doc, batch_size)\n",
    "val_generator = generator_ex(val_path, val_doc, batch_size)"
   ]
  },
  {
   "cell_type": "code",
   "execution_count": 19,
   "metadata": {},
   "outputs": [
    {
     "name": "stdout",
     "output_type": "stream",
     "text": [
      "Source path =  Project_data/val ; batch size = 10\n",
      "Source path =  Project_data/train ; batch size = 10\n",
      "Epoch 1/10\n"
     ]
    },
    {
     "name": "stderr",
     "output_type": "stream",
     "text": [
      "/mnt/disks/user/anaconda3/lib/python3.6/site-packages/ipykernel_launcher.py:19: DeprecationWarning: `imread` is deprecated!\n",
      "`imread` is deprecated in SciPy 1.0.0, and will be removed in 1.2.0.\n",
      "Use ``imageio.imread`` instead.\n",
      "/mnt/disks/user/anaconda3/lib/python3.6/site-packages/ipykernel_launcher.py:24: DeprecationWarning: `imresize` is deprecated!\n",
      "`imresize` is deprecated in SciPy 1.0.0, and will be removed in 1.2.0.\n",
      "Use ``skimage.transform.resize`` instead.\n"
     ]
    },
    {
     "name": "stdout",
     "output_type": "stream",
     "text": [
      "65/67 [============================>.] - ETA: 2s - loss: 1.6465 - categorical_accuracy: 0.1969Batch:  67 Index: 10\n"
     ]
    },
    {
     "name": "stderr",
     "output_type": "stream",
     "text": [
      "/mnt/disks/user/anaconda3/lib/python3.6/site-packages/ipykernel_launcher.py:44: DeprecationWarning: `imread` is deprecated!\n",
      "`imread` is deprecated in SciPy 1.0.0, and will be removed in 1.2.0.\n",
      "Use ``imageio.imread`` instead.\n",
      "/mnt/disks/user/anaconda3/lib/python3.6/site-packages/ipykernel_launcher.py:48: DeprecationWarning: `imresize` is deprecated!\n",
      "`imresize` is deprecated in SciPy 1.0.0, and will be removed in 1.2.0.\n",
      "Use ``skimage.transform.resize`` instead.\n"
     ]
    },
    {
     "name": "stdout",
     "output_type": "stream",
     "text": [
      "67/67 [==============================] - 75s 1s/step - loss: 1.6454 - categorical_accuracy: 0.1956 - val_loss: 1.6093 - val_categorical_accuracy: 0.2100\n",
      "\n",
      "Epoch 00001: saving model to model_init_2020-02-0915_11_30.104831/model-00001-1.64573-0.19759-1.60931-0.21000.h5\n",
      "Epoch 2/10\n",
      "67/67 [==============================] - 24s 357ms/step - loss: 1.6106 - categorical_accuracy: 0.1990 - val_loss: 1.6085 - val_categorical_accuracy: 0.2300\n",
      "\n",
      "Epoch 00002: saving model to model_init_2020-02-0915_11_30.104831/model-00002-1.61062-0.19900-1.60854-0.23000.h5\n",
      "Epoch 3/10\n",
      "67/67 [==============================] - 25s 376ms/step - loss: 1.6091 - categorical_accuracy: 0.2338 - val_loss: 1.6075 - val_categorical_accuracy: 0.2300\n",
      "\n",
      "Epoch 00003: saving model to model_init_2020-02-0915_11_30.104831/model-00003-1.60910-0.23383-1.60752-0.23000.h5\n",
      "Epoch 4/10\n",
      "67/67 [==============================] - 24s 365ms/step - loss: 1.6106 - categorical_accuracy: 0.1891 - val_loss: 1.6078 - val_categorical_accuracy: 0.2100\n",
      "\n",
      "Epoch 00004: saving model to model_init_2020-02-0915_11_30.104831/model-00004-1.61061-0.18905-1.60777-0.21000.h5\n",
      "Epoch 5/10\n",
      "67/67 [==============================] - 24s 358ms/step - loss: 1.6355 - categorical_accuracy: 0.1940 - val_loss: 1.6093 - val_categorical_accuracy: 0.1800\n",
      "\n",
      "Epoch 00005: saving model to model_init_2020-02-0915_11_30.104831/model-00005-1.63555-0.19403-1.60929-0.18000.h5\n",
      "\n",
      "Epoch 00005: ReduceLROnPlateau reducing learning rate to 0.0005000000237487257.\n",
      "Epoch 6/10\n",
      "67/67 [==============================] - 24s 360ms/step - loss: 1.6116 - categorical_accuracy: 0.1940 - val_loss: 1.6087 - val_categorical_accuracy: 0.2100\n",
      "\n",
      "Epoch 00006: saving model to model_init_2020-02-0915_11_30.104831/model-00006-1.61160-0.19403-1.60871-0.21000.h5\n",
      "Epoch 7/10\n",
      "67/67 [==============================] - 25s 377ms/step - loss: 1.6188 - categorical_accuracy: 0.2189 - val_loss: 1.6071 - val_categorical_accuracy: 0.1800\n",
      "\n",
      "Epoch 00007: saving model to model_init_2020-02-0915_11_30.104831/model-00007-1.61883-0.21891-1.60713-0.18000.h5\n",
      "Epoch 8/10\n",
      "67/67 [==============================] - 25s 368ms/step - loss: 1.6065 - categorical_accuracy: 0.2090 - val_loss: 1.6077 - val_categorical_accuracy: 0.2300\n",
      "\n",
      "Epoch 00008: saving model to model_init_2020-02-0915_11_30.104831/model-00008-1.60649-0.20896-1.60767-0.23000.h5\n",
      "Epoch 9/10\n",
      "67/67 [==============================] - 25s 369ms/step - loss: 1.6102 - categorical_accuracy: 0.2090 - val_loss: 1.6049 - val_categorical_accuracy: 0.2100\n",
      "\n",
      "Epoch 00009: saving model to model_init_2020-02-0915_11_30.104831/model-00009-1.61024-0.20896-1.60489-0.21000.h5\n",
      "Epoch 10/10\n",
      "67/67 [==============================] - 25s 367ms/step - loss: 1.5947 - categorical_accuracy: 0.2040 - val_loss: 1.5920 - val_categorical_accuracy: 0.2100\n",
      "\n",
      "Epoch 00010: saving model to model_init_2020-02-0915_11_30.104831/model-00010-1.59472-0.20398-1.59201-0.21000.h5\n"
     ]
    },
    {
     "data": {
      "text/plain": [
       "<keras.callbacks.History at 0x7fa793a1c160>"
      ]
     },
     "execution_count": 19,
     "metadata": {},
     "output_type": "execute_result"
    }
   ],
   "source": [
    "model_b.fit_generator(train_generator, steps_per_epoch=steps_per_epoch, epochs=num_epochs, verbose=1, \n",
    "                    callbacks=callbacks_list, validation_data=val_generator, \n",
    "                    validation_steps=validation_steps, class_weight=None, workers=1, initial_epoch=0)"
   ]
  },
  {
   "cell_type": "markdown",
   "metadata": {},
   "source": [
    "##### Batch size = 20 \n"
   ]
  },
  {
   "cell_type": "code",
   "execution_count": 20,
   "metadata": {},
   "outputs": [],
   "source": [
    "train_generator = generator_ex(train_path, train_doc, 20)\n",
    "val_generator = generator_ex(val_path, val_doc, 20)"
   ]
  },
  {
   "cell_type": "code",
   "execution_count": 21,
   "metadata": {},
   "outputs": [
    {
     "name": "stdout",
     "output_type": "stream",
     "text": [
      "Source path =  Project_data/valSource path =  Project_data/train ; batch size = 20\n",
      " ; batch size = 20\n",
      "Epoch 1/10\n"
     ]
    },
    {
     "name": "stderr",
     "output_type": "stream",
     "text": [
      "/mnt/disks/user/anaconda3/lib/python3.6/site-packages/ipykernel_launcher.py:19: DeprecationWarning: `imread` is deprecated!\n",
      "`imread` is deprecated in SciPy 1.0.0, and will be removed in 1.2.0.\n",
      "Use ``imageio.imread`` instead.\n",
      "/mnt/disks/user/anaconda3/lib/python3.6/site-packages/ipykernel_launcher.py:24: DeprecationWarning: `imresize` is deprecated!\n",
      "`imresize` is deprecated in SciPy 1.0.0, and will be removed in 1.2.0.\n",
      "Use ``skimage.transform.resize`` instead.\n"
     ]
    },
    {
     "name": "stdout",
     "output_type": "stream",
     "text": [
      "32/67 [=============>................] - ETA: 1:19 - loss: 1.5973 - categorical_accuracy: 0.1953Batch:  34 Index: 20\n"
     ]
    },
    {
     "name": "stderr",
     "output_type": "stream",
     "text": [
      "/mnt/disks/user/anaconda3/lib/python3.6/site-packages/ipykernel_launcher.py:44: DeprecationWarning: `imread` is deprecated!\n",
      "`imread` is deprecated in SciPy 1.0.0, and will be removed in 1.2.0.\n",
      "Use ``imageio.imread`` instead.\n",
      "/mnt/disks/user/anaconda3/lib/python3.6/site-packages/ipykernel_launcher.py:48: DeprecationWarning: `imresize` is deprecated!\n",
      "`imresize` is deprecated in SciPy 1.0.0, and will be removed in 1.2.0.\n",
      "Use ``skimage.transform.resize`` instead.\n"
     ]
    },
    {
     "name": "stdout",
     "output_type": "stream",
     "text": [
      "67/67 [==============================] - 88s 1s/step - loss: 1.5716 - categorical_accuracy: 0.2408 - val_loss: 1.5721 - val_categorical_accuracy: 0.2200\n",
      "\n",
      "Epoch 00001: saving model to model_init_2020-02-0915_11_30.104831/model-00001-1.58751-0.20866-1.57211-0.22000.h5\n",
      "Epoch 2/10\n",
      "67/67 [==============================] - 30s 444ms/step - loss: 1.5684 - categorical_accuracy: 0.2687 - val_loss: 1.5143 - val_categorical_accuracy: 0.4000\n",
      "\n",
      "Epoch 00002: saving model to model_init_2020-02-0915_11_30.104831/model-00002-1.56836-0.26866-1.51427-0.40000.h5\n",
      "Epoch 3/10\n",
      "67/67 [==============================] - 31s 458ms/step - loss: 1.5136 - categorical_accuracy: 0.3433 - val_loss: 1.4296 - val_categorical_accuracy: 0.4100\n",
      "\n",
      "Epoch 00003: saving model to model_init_2020-02-0915_11_30.104831/model-00003-1.51360-0.34328-1.42957-0.41000.h5\n",
      "Epoch 4/10\n",
      "67/67 [==============================] - 31s 457ms/step - loss: 1.4383 - categorical_accuracy: 0.3284 - val_loss: 1.3500 - val_categorical_accuracy: 0.3600\n",
      "\n",
      "Epoch 00004: saving model to model_init_2020-02-0915_11_30.104831/model-00004-1.43831-0.32836-1.35004-0.36000.h5\n",
      "Epoch 5/10\n",
      "67/67 [==============================] - 30s 452ms/step - loss: 1.3008 - categorical_accuracy: 0.4627 - val_loss: 1.2676 - val_categorical_accuracy: 0.4900\n",
      "\n",
      "Epoch 00005: saving model to model_init_2020-02-0915_11_30.104831/model-00005-1.30079-0.46269-1.26764-0.49000.h5\n",
      "Epoch 6/10\n",
      "67/67 [==============================] - 30s 454ms/step - loss: 1.3508 - categorical_accuracy: 0.4030 - val_loss: 1.2578 - val_categorical_accuracy: 0.5300\n",
      "\n",
      "Epoch 00006: saving model to model_init_2020-02-0915_11_30.104831/model-00006-1.35076-0.40299-1.25776-0.53000.h5\n",
      "Epoch 7/10\n",
      "67/67 [==============================] - 30s 453ms/step - loss: 1.2852 - categorical_accuracy: 0.3980 - val_loss: 1.1953 - val_categorical_accuracy: 0.5100\n",
      "\n",
      "Epoch 00007: saving model to model_init_2020-02-0915_11_30.104831/model-00007-1.28523-0.39801-1.19528-0.51000.h5\n",
      "Epoch 8/10\n",
      "67/67 [==============================] - 30s 447ms/step - loss: 1.1817 - categorical_accuracy: 0.4925 - val_loss: 1.1783 - val_categorical_accuracy: 0.4800\n",
      "\n",
      "Epoch 00008: saving model to model_init_2020-02-0915_11_30.104831/model-00008-1.18175-0.49254-1.17827-0.48000.h5\n",
      "Epoch 9/10\n",
      "67/67 [==============================] - 30s 454ms/step - loss: 1.1301 - categorical_accuracy: 0.5622 - val_loss: 1.1324 - val_categorical_accuracy: 0.5200\n",
      "\n",
      "Epoch 00009: saving model to model_init_2020-02-0915_11_30.104831/model-00009-1.13008-0.56219-1.13240-0.52000.h5\n",
      "Epoch 10/10\n",
      "67/67 [==============================] - 30s 455ms/step - loss: 1.1778 - categorical_accuracy: 0.4925 - val_loss: 1.1337 - val_categorical_accuracy: 0.5600\n",
      "\n",
      "Epoch 00010: saving model to model_init_2020-02-0915_11_30.104831/model-00010-1.17776-0.49254-1.13366-0.56000.h5\n"
     ]
    },
    {
     "data": {
      "text/plain": [
       "<keras.callbacks.History at 0x7fa793a1c710>"
      ]
     },
     "execution_count": 21,
     "metadata": {},
     "output_type": "execute_result"
    }
   ],
   "source": [
    "model_b.fit_generator(train_generator, steps_per_epoch=steps_per_epoch, epochs=num_epochs, verbose=1, \n",
    "                    callbacks=callbacks_list, validation_data=val_generator, \n",
    "                    validation_steps=validation_steps, class_weight=None, workers=1, initial_epoch=0)"
   ]
  },
  {
   "cell_type": "markdown",
   "metadata": {},
   "source": [
    "#####  Batch size  = 30 \n"
   ]
  },
  {
   "cell_type": "code",
   "execution_count": 22,
   "metadata": {},
   "outputs": [],
   "source": [
    "train_generator = generator_ex(train_path, train_doc, 30)\n",
    "val_generator = generator_ex(val_path, val_doc, 30)"
   ]
  },
  {
   "cell_type": "code",
   "execution_count": 23,
   "metadata": {},
   "outputs": [
    {
     "name": "stdout",
     "output_type": "stream",
     "text": [
      "Source path =  Project_data/val ; batch size = 30Source path =  Project_data/train ; batch size = 30\n",
      "Epoch 1/10\n",
      "\n"
     ]
    },
    {
     "name": "stderr",
     "output_type": "stream",
     "text": [
      "/mnt/disks/user/anaconda3/lib/python3.6/site-packages/ipykernel_launcher.py:19: DeprecationWarning: `imread` is deprecated!\n",
      "`imread` is deprecated in SciPy 1.0.0, and will be removed in 1.2.0.\n",
      "Use ``imageio.imread`` instead.\n",
      "/mnt/disks/user/anaconda3/lib/python3.6/site-packages/ipykernel_launcher.py:24: DeprecationWarning: `imresize` is deprecated!\n",
      "`imresize` is deprecated in SciPy 1.0.0, and will be removed in 1.2.0.\n",
      "Use ``skimage.transform.resize`` instead.\n"
     ]
    },
    {
     "name": "stdout",
     "output_type": "stream",
     "text": [
      " 2/67 [..............................] - ETA: 5:20 - loss: 1.0995 - categorical_accuracy: 0.5667Batch:  4 Index: 30\n"
     ]
    },
    {
     "name": "stderr",
     "output_type": "stream",
     "text": [
      "/mnt/disks/user/anaconda3/lib/python3.6/site-packages/ipykernel_launcher.py:44: DeprecationWarning: `imread` is deprecated!\n",
      "`imread` is deprecated in SciPy 1.0.0, and will be removed in 1.2.0.\n",
      "Use ``imageio.imread`` instead.\n",
      "/mnt/disks/user/anaconda3/lib/python3.6/site-packages/ipykernel_launcher.py:48: DeprecationWarning: `imresize` is deprecated!\n",
      "`imresize` is deprecated in SciPy 1.0.0, and will be removed in 1.2.0.\n",
      "Use ``skimage.transform.resize`` instead.\n"
     ]
    },
    {
     "name": "stdout",
     "output_type": "stream",
     "text": [
      "21/67 [========>.....................] - ETA: 2:36 - loss: 1.0060 - categorical_accuracy: 0.6111Batch:  23 Index: 30\n",
      "67/67 [==============================] - 89s 1s/step - loss: 0.9787 - categorical_accuracy: 0.6395 - val_loss: 1.2059 - val_categorical_accuracy: 0.5375\n",
      "\n",
      "Epoch 00001: saving model to model_init_2020-02-0915_11_30.104831/model-00001-0.99734-0.62138-1.20592-0.53750.h5\n",
      "Epoch 2/10\n",
      "67/67 [==============================] - 26s 386ms/step - loss: 1.0515 - categorical_accuracy: 0.5572 - val_loss: 1.0705 - val_categorical_accuracy: 0.5600\n",
      "\n",
      "Epoch 00002: saving model to model_init_2020-02-0915_11_30.104831/model-00002-1.05150-0.55721-1.07047-0.56000.h5\n",
      "Epoch 3/10\n",
      "67/67 [==============================] - 24s 362ms/step - loss: 1.0676 - categorical_accuracy: 0.5622 - val_loss: 1.2628 - val_categorical_accuracy: 0.5200\n",
      "\n",
      "Epoch 00003: saving model to model_init_2020-02-0915_11_30.104831/model-00003-1.06761-0.56219-1.26282-0.52000.h5\n",
      "Epoch 4/10\n",
      "67/67 [==============================] - 24s 359ms/step - loss: 0.9284 - categorical_accuracy: 0.6269 - val_loss: 1.0746 - val_categorical_accuracy: 0.5300\n",
      "\n",
      "Epoch 00004: saving model to model_init_2020-02-0915_11_30.104831/model-00004-0.92843-0.62687-1.07462-0.53000.h5\n",
      "\n",
      "Epoch 00004: ReduceLROnPlateau reducing learning rate to 0.0002500000118743628.\n",
      "Epoch 5/10\n",
      "67/67 [==============================] - 23s 347ms/step - loss: 0.8264 - categorical_accuracy: 0.6418 - val_loss: 1.0481 - val_categorical_accuracy: 0.5700\n",
      "\n",
      "Epoch 00005: saving model to model_init_2020-02-0915_11_30.104831/model-00005-0.82639-0.64179-1.04814-0.57000.h5\n",
      "Epoch 6/10\n",
      "67/67 [==============================] - 25s 369ms/step - loss: 0.7605 - categorical_accuracy: 0.7114 - val_loss: 1.0717 - val_categorical_accuracy: 0.5100\n",
      "\n",
      "Epoch 00006: saving model to model_init_2020-02-0915_11_30.104831/model-00006-0.76053-0.71144-1.07169-0.51000.h5\n",
      "Epoch 7/10\n",
      "67/67 [==============================] - 26s 393ms/step - loss: 0.8376 - categorical_accuracy: 0.6617 - val_loss: 0.9076 - val_categorical_accuracy: 0.6300\n",
      "\n",
      "Epoch 00007: saving model to model_init_2020-02-0915_11_30.104831/model-00007-0.83764-0.66169-0.90761-0.63000.h5\n",
      "Epoch 8/10\n",
      "67/67 [==============================] - 26s 385ms/step - loss: 0.7225 - categorical_accuracy: 0.7363 - val_loss: 1.1586 - val_categorical_accuracy: 0.5400\n",
      "\n",
      "Epoch 00008: saving model to model_init_2020-02-0915_11_30.104831/model-00008-0.72250-0.73632-1.15864-0.54000.h5\n",
      "Epoch 9/10\n",
      "67/67 [==============================] - 25s 369ms/step - loss: 0.7104 - categorical_accuracy: 0.7214 - val_loss: 1.0842 - val_categorical_accuracy: 0.5500\n",
      "\n",
      "Epoch 00009: saving model to model_init_2020-02-0915_11_30.104831/model-00009-0.71043-0.72139-1.08424-0.55000.h5\n",
      "\n",
      "Epoch 00009: ReduceLROnPlateau reducing learning rate to 0.0001250000059371814.\n",
      "Epoch 10/10\n",
      "67/67 [==============================] - 24s 360ms/step - loss: 0.6391 - categorical_accuracy: 0.7562 - val_loss: 0.9523 - val_categorical_accuracy: 0.6400\n",
      "\n",
      "Epoch 00010: saving model to model_init_2020-02-0915_11_30.104831/model-00010-0.63907-0.75622-0.95225-0.64000.h5\n"
     ]
    },
    {
     "data": {
      "text/plain": [
       "<keras.callbacks.History at 0x7fa793a1cac8>"
      ]
     },
     "execution_count": 23,
     "metadata": {},
     "output_type": "execute_result"
    }
   ],
   "source": [
    "model_b.fit_generator(train_generator, steps_per_epoch=steps_per_epoch, epochs=num_epochs, verbose=1, \n",
    "                    callbacks=callbacks_list, validation_data=val_generator, \n",
    "                    validation_steps=validation_steps, class_weight=None, workers=1, initial_epoch=0)"
   ]
  },
  {
   "cell_type": "markdown",
   "metadata": {},
   "source": [
    "##### Batch size  = 40 \n"
   ]
  },
  {
   "cell_type": "code",
   "execution_count": 24,
   "metadata": {},
   "outputs": [],
   "source": [
    "train_generator = generator_ex(train_path, train_doc, 40)\n",
    "val_generator = generator_ex(val_path, val_doc, 40)"
   ]
  },
  {
   "cell_type": "code",
   "execution_count": 25,
   "metadata": {},
   "outputs": [
    {
     "name": "stdout",
     "output_type": "stream",
     "text": [
      "Source path =  Project_data/val ; batch size = 40\n",
      "Source path =  Project_data/train ; batch size = 40\n",
      "Epoch 1/10\n"
     ]
    },
    {
     "name": "stderr",
     "output_type": "stream",
     "text": [
      "/mnt/disks/user/anaconda3/lib/python3.6/site-packages/ipykernel_launcher.py:19: DeprecationWarning: `imread` is deprecated!\n",
      "`imread` is deprecated in SciPy 1.0.0, and will be removed in 1.2.0.\n",
      "Use ``imageio.imread`` instead.\n",
      "/mnt/disks/user/anaconda3/lib/python3.6/site-packages/ipykernel_launcher.py:24: DeprecationWarning: `imresize` is deprecated!\n",
      "`imresize` is deprecated in SciPy 1.0.0, and will be removed in 1.2.0.\n",
      "Use ``skimage.transform.resize`` instead.\n"
     ]
    },
    {
     "name": "stdout",
     "output_type": "stream",
     "text": [
      " 2/67 [..............................] - ETA: 6:10 - loss: 0.6568 - categorical_accuracy: 0.7625 Batch:  3 Index: 40\n"
     ]
    },
    {
     "name": "stderr",
     "output_type": "stream",
     "text": [
      "/mnt/disks/user/anaconda3/lib/python3.6/site-packages/ipykernel_launcher.py:44: DeprecationWarning: `imread` is deprecated!\n",
      "`imread` is deprecated in SciPy 1.0.0, and will be removed in 1.2.0.\n",
      "Use ``imageio.imread`` instead.\n",
      "/mnt/disks/user/anaconda3/lib/python3.6/site-packages/ipykernel_launcher.py:48: DeprecationWarning: `imresize` is deprecated!\n",
      "`imresize` is deprecated in SciPy 1.0.0, and will be removed in 1.2.0.\n",
      "Use ``skimage.transform.resize`` instead.\n"
     ]
    },
    {
     "name": "stdout",
     "output_type": "stream",
     "text": [
      "15/67 [=====>........................] - ETA: 4:05 - loss: 0.5983 - categorical_accuracy: 0.7783Batch:  17 Index: 40\n",
      "44/67 [==================>...........] - ETA: 1:13 - loss: 0.5711 - categorical_accuracy: 0.7887Batch:  29 Index: 23\n",
      "67/67 [==============================] - 189s 3s/step - loss: 0.5666 - categorical_accuracy: 0.7862 - val_loss: 1.0158 - val_categorical_accuracy: 0.5542\n",
      "\n",
      "Epoch 00001: saving model to model_init_2020-02-0915_11_30.104831/model-00001-0.57187-0.78493-1.01584-0.55417.h5\n",
      "Epoch 2/10\n",
      "12/67 [====>.........................] - ETA: 2:07 - loss: 0.5485 - categorical_accuracy: 0.8114Batch:  35 Index: 19\n",
      "67/67 [==============================] - 127s 2s/step - loss: 0.5123 - categorical_accuracy: 0.8162 - val_loss: 1.1681 - val_categorical_accuracy: 0.5000\n",
      "\n",
      "Epoch 00002: saving model to model_init_2020-02-0915_11_30.104831/model-00002-0.51278-0.81631-1.16806-0.50000.h5\n",
      "Epoch 3/10\n",
      "67/67 [==============================] - 124s 2s/step - loss: 0.4810 - categorical_accuracy: 0.8235 - val_loss: 0.9972 - val_categorical_accuracy: 0.6200\n",
      "\n",
      "Epoch 00003: saving model to model_init_2020-02-0915_11_30.104831/model-00003-0.48101-0.82353-0.99716-0.62000.h5\n",
      "Epoch 4/10\n",
      "67/67 [==============================] - 123s 2s/step - loss: 0.4495 - categorical_accuracy: 0.8314 - val_loss: 1.1717 - val_categorical_accuracy: 0.5150\n",
      "\n",
      "Epoch 00004: saving model to model_init_2020-02-0915_11_30.104831/model-00004-0.44953-0.83143-1.17168-0.51500.h5\n",
      "Epoch 5/10\n",
      "67/67 [==============================] - 123s 2s/step - loss: 0.3981 - categorical_accuracy: 0.8551 - val_loss: 1.2104 - val_categorical_accuracy: 0.5650\n",
      "\n",
      "Epoch 00005: saving model to model_init_2020-02-0915_11_30.104831/model-00005-0.39809-0.85514-1.21042-0.56500.h5\n",
      "\n",
      "Epoch 00005: ReduceLROnPlateau reducing learning rate to 6.25000029685907e-05.\n",
      "Epoch 6/10\n",
      "67/67 [==============================] - 122s 2s/step - loss: 0.3787 - categorical_accuracy: 0.8683 - val_loss: 1.0863 - val_categorical_accuracy: 0.5900\n",
      "\n",
      "Epoch 00006: saving model to model_init_2020-02-0915_11_30.104831/model-00006-0.37867-0.86831-1.08627-0.59000.h5\n",
      "Epoch 7/10\n",
      "67/67 [==============================] - 125s 2s/step - loss: 0.3394 - categorical_accuracy: 0.8824 - val_loss: 1.2063 - val_categorical_accuracy: 0.5450\n",
      "\n",
      "Epoch 00007: saving model to model_init_2020-02-0915_11_30.104831/model-00007-0.33942-0.88235-1.20626-0.54500.h5\n",
      "\n",
      "Epoch 00007: ReduceLROnPlateau reducing learning rate to 3.125000148429535e-05.\n",
      "Epoch 8/10\n",
      "67/67 [==============================] - 124s 2s/step - loss: 0.3225 - categorical_accuracy: 0.8850 - val_loss: 1.1263 - val_categorical_accuracy: 0.5950\n",
      "\n",
      "Epoch 00008: saving model to model_init_2020-02-0915_11_30.104831/model-00008-0.32248-0.88499-1.12627-0.59500.h5\n",
      "Epoch 9/10\n",
      "67/67 [==============================] - 123s 2s/step - loss: 0.3122 - categorical_accuracy: 0.8859 - val_loss: 1.1406 - val_categorical_accuracy: 0.5900\n",
      "\n",
      "Epoch 00009: saving model to model_init_2020-02-0915_11_30.104831/model-00009-0.31220-0.88586-1.14055-0.59000.h5\n",
      "\n",
      "Epoch 00009: ReduceLROnPlateau reducing learning rate to 1.5625000742147677e-05.\n",
      "Epoch 10/10\n",
      "67/67 [==============================] - 123s 2s/step - loss: 0.3049 - categorical_accuracy: 0.8929 - val_loss: 1.2593 - val_categorical_accuracy: 0.5600\n",
      "\n",
      "Epoch 00010: saving model to model_init_2020-02-0915_11_30.104831/model-00010-0.30486-0.89289-1.25934-0.56000.h5\n"
     ]
    },
    {
     "data": {
      "text/plain": [
       "<keras.callbacks.History at 0x7fa778069048>"
      ]
     },
     "execution_count": 25,
     "metadata": {},
     "output_type": "execute_result"
    }
   ],
   "source": [
    "model_b.fit_generator(train_generator, steps_per_epoch=steps_per_epoch, epochs=num_epochs, verbose=1, \n",
    "                    callbacks=callbacks_list, validation_data=val_generator, \n",
    "                    validation_steps=validation_steps, class_weight=None, workers=1, initial_epoch=0)"
   ]
  },
  {
   "cell_type": "markdown",
   "metadata": {},
   "source": [
    "##### using Adadelta optimizer"
   ]
  },
  {
   "cell_type": "code",
   "execution_count": 26,
   "metadata": {},
   "outputs": [
    {
     "name": "stdout",
     "output_type": "stream",
     "text": [
      "_________________________________________________________________\n",
      "Layer (type)                 Output Shape              Param #   \n",
      "=================================================================\n",
      "conv3d_9 (Conv3D)            (None, 30, 60, 60, 32)    2624      \n",
      "_________________________________________________________________\n",
      "activation_9 (Activation)    (None, 30, 60, 60, 32)    0         \n",
      "_________________________________________________________________\n",
      "conv3d_10 (Conv3D)           (None, 30, 60, 60, 32)    27680     \n",
      "_________________________________________________________________\n",
      "activation_10 (Activation)   (None, 30, 60, 60, 32)    0         \n",
      "_________________________________________________________________\n",
      "max_pooling3d_7 (MaxPooling3 (None, 10, 20, 20, 32)    0         \n",
      "_________________________________________________________________\n",
      "dropout_6 (Dropout)          (None, 10, 20, 20, 32)    0         \n",
      "_________________________________________________________________\n",
      "conv3d_11 (Conv3D)           (None, 10, 20, 20, 64)    55360     \n",
      "_________________________________________________________________\n",
      "activation_11 (Activation)   (None, 10, 20, 20, 64)    0         \n",
      "_________________________________________________________________\n",
      "conv3d_12 (Conv3D)           (None, 10, 20, 20, 64)    110656    \n",
      "_________________________________________________________________\n",
      "activation_12 (Activation)   (None, 10, 20, 20, 64)    0         \n",
      "_________________________________________________________________\n",
      "max_pooling3d_8 (MaxPooling3 (None, 4, 7, 7, 64)       0         \n",
      "_________________________________________________________________\n",
      "dropout_7 (Dropout)          (None, 4, 7, 7, 64)       0         \n",
      "_________________________________________________________________\n",
      "flatten_3 (Flatten)          (None, 12544)             0         \n",
      "_________________________________________________________________\n",
      "dense_6 (Dense)              (None, 512)               6423040   \n",
      "_________________________________________________________________\n",
      "dropout_8 (Dropout)          (None, 512)               0         \n",
      "_________________________________________________________________\n",
      "dense_7 (Dense)              (None, 5)                 2565      \n",
      "=================================================================\n",
      "Total params: 6,621,925\n",
      "Trainable params: 6,621,925\n",
      "Non-trainable params: 0\n",
      "_________________________________________________________________\n"
     ]
    }
   ],
   "source": [
    "model_b.compile(optimizer=keras.optimizers.Adadelta(), loss='categorical_crossentropy', metrics=['categorical_accuracy'])\n",
    "model_b.summary()"
   ]
  },
  {
   "cell_type": "code",
   "execution_count": 27,
   "metadata": {},
   "outputs": [],
   "source": [
    "train_generator = generator_ex(train_path, train_doc, 40)\n",
    "val_generator = generator_ex(val_path, val_doc, 40)"
   ]
  },
  {
   "cell_type": "code",
   "execution_count": 28,
   "metadata": {},
   "outputs": [
    {
     "name": "stdout",
     "output_type": "stream",
     "text": [
      "Source path =  Project_data/val ; batch size = 40\n",
      "Source path =  Project_data/train ; batch size = 40\n",
      "Epoch 1/10\n"
     ]
    },
    {
     "name": "stderr",
     "output_type": "stream",
     "text": [
      "/mnt/disks/user/anaconda3/lib/python3.6/site-packages/ipykernel_launcher.py:19: DeprecationWarning: `imread` is deprecated!\n",
      "`imread` is deprecated in SciPy 1.0.0, and will be removed in 1.2.0.\n",
      "Use ``imageio.imread`` instead.\n",
      "/mnt/disks/user/anaconda3/lib/python3.6/site-packages/ipykernel_launcher.py:24: DeprecationWarning: `imresize` is deprecated!\n",
      "`imresize` is deprecated in SciPy 1.0.0, and will be removed in 1.2.0.\n",
      "Use ``skimage.transform.resize`` instead.\n"
     ]
    },
    {
     "name": "stdout",
     "output_type": "stream",
     "text": [
      " 2/67 [..............................] - ETA: 5:42 - loss: 0.3432 - categorical_accuracy: 0.9125Batch:  3 Index: 40\n"
     ]
    },
    {
     "name": "stderr",
     "output_type": "stream",
     "text": [
      "/mnt/disks/user/anaconda3/lib/python3.6/site-packages/ipykernel_launcher.py:44: DeprecationWarning: `imread` is deprecated!\n",
      "`imread` is deprecated in SciPy 1.0.0, and will be removed in 1.2.0.\n",
      "Use ``imageio.imread`` instead.\n",
      "/mnt/disks/user/anaconda3/lib/python3.6/site-packages/ipykernel_launcher.py:48: DeprecationWarning: `imresize` is deprecated!\n",
      "`imresize` is deprecated in SciPy 1.0.0, and will be removed in 1.2.0.\n",
      "Use ``skimage.transform.resize`` instead.\n"
     ]
    },
    {
     "name": "stdout",
     "output_type": "stream",
     "text": [
      "15/67 [=====>........................] - ETA: 4:01 - loss: 0.4139 - categorical_accuracy: 0.8567Batch:  17 Index: 40\n",
      "44/67 [==================>...........] - ETA: 1:13 - loss: 0.3837 - categorical_accuracy: 0.8673Batch:  29 Index: 23\n",
      "67/67 [==============================] - 191s 3s/step - loss: 0.3951 - categorical_accuracy: 0.8590 - val_loss: 1.5010 - val_categorical_accuracy: 0.5792\n",
      "\n",
      "Epoch 00001: saving model to model_init_2020-02-0915_11_30.104831/model-00001-0.39507-0.85971-1.50098-0.57917.h5\n",
      "Epoch 2/10\n",
      "12/67 [====>.........................] - ETA: 1:53 - loss: 0.3683 - categorical_accuracy: 0.8509Batch:  35 Index: 19\n",
      "67/67 [==============================] - 124s 2s/step - loss: 0.2995 - categorical_accuracy: 0.8849 - val_loss: 1.5917 - val_categorical_accuracy: 0.5800\n",
      "\n",
      "Epoch 00002: saving model to model_init_2020-02-0915_11_30.104831/model-00002-0.30080-0.88412-1.59168-0.58000.h5\n",
      "Epoch 3/10\n",
      "67/67 [==============================] - 122s 2s/step - loss: 0.2296 - categorical_accuracy: 0.9148 - val_loss: 1.5336 - val_categorical_accuracy: 0.5800\n",
      "\n",
      "Epoch 00003: saving model to model_init_2020-02-0915_11_30.104831/model-00003-0.22961-0.91484-1.53358-0.58000.h5\n",
      "\n",
      "Epoch 00003: ReduceLROnPlateau reducing learning rate to 0.5.\n",
      "Epoch 4/10\n",
      "67/67 [==============================] - 123s 2s/step - loss: 0.1294 - categorical_accuracy: 0.9561 - val_loss: 1.4639 - val_categorical_accuracy: 0.6250\n",
      "\n",
      "Epoch 00004: saving model to model_init_2020-02-0915_11_30.104831/model-00004-0.12940-0.95610-1.46389-0.62500.h5\n",
      "Epoch 5/10\n",
      "67/67 [==============================] - 121s 2s/step - loss: 0.1221 - categorical_accuracy: 0.9614 - val_loss: 1.7232 - val_categorical_accuracy: 0.5600\n",
      "\n",
      "Epoch 00005: saving model to model_init_2020-02-0915_11_30.104831/model-00005-0.12214-0.96137-1.72317-0.56000.h5\n",
      "Epoch 6/10\n",
      "67/67 [==============================] - 121s 2s/step - loss: 0.0855 - categorical_accuracy: 0.9649 - val_loss: 1.8211 - val_categorical_accuracy: 0.6000\n",
      "\n",
      "Epoch 00006: saving model to model_init_2020-02-0915_11_30.104831/model-00006-0.08546-0.96488-1.82106-0.60000.h5\n",
      "\n",
      "Epoch 00006: ReduceLROnPlateau reducing learning rate to 0.25.\n",
      "Epoch 7/10\n",
      "67/67 [==============================] - 123s 2s/step - loss: 0.0696 - categorical_accuracy: 0.9772 - val_loss: 2.0367 - val_categorical_accuracy: 0.5750\n",
      "\n",
      "Epoch 00007: saving model to model_init_2020-02-0915_11_30.104831/model-00007-0.06962-0.97717-2.03675-0.57500.h5\n",
      "Epoch 8/10\n",
      "67/67 [==============================] - 122s 2s/step - loss: 0.0506 - categorical_accuracy: 0.9851 - val_loss: 1.9316 - val_categorical_accuracy: 0.5900\n",
      "\n",
      "Epoch 00008: saving model to model_init_2020-02-0915_11_30.104831/model-00008-0.05059-0.98507-1.93163-0.59000.h5\n",
      "\n",
      "Epoch 00008: ReduceLROnPlateau reducing learning rate to 0.125.\n",
      "Epoch 9/10\n",
      "67/67 [==============================] - 124s 2s/step - loss: 0.0576 - categorical_accuracy: 0.9772 - val_loss: 1.9350 - val_categorical_accuracy: 0.5750\n",
      "\n",
      "Epoch 00009: saving model to model_init_2020-02-0915_11_30.104831/model-00009-0.05765-0.97717-1.93502-0.57500.h5\n",
      "Epoch 10/10\n",
      "67/67 [==============================] - 121s 2s/step - loss: 0.0311 - categorical_accuracy: 0.9903 - val_loss: 1.9409 - val_categorical_accuracy: 0.5900\n",
      "\n",
      "Epoch 00010: saving model to model_init_2020-02-0915_11_30.104831/model-00010-0.03112-0.99034-1.94094-0.59000.h5\n",
      "\n",
      "Epoch 00010: ReduceLROnPlateau reducing learning rate to 0.0625.\n"
     ]
    },
    {
     "data": {
      "text/plain": [
       "<keras.callbacks.History at 0x7fa793156f28>"
      ]
     },
     "execution_count": 28,
     "metadata": {},
     "output_type": "execute_result"
    }
   ],
   "source": [
    "model_b.fit_generator(train_generator, steps_per_epoch=steps_per_epoch, epochs=num_epochs, verbose=1, \n",
    "                    callbacks=callbacks_list, validation_data=val_generator, \n",
    "                    validation_steps=validation_steps, class_weight=None, workers=1, initial_epoch=0)"
   ]
  },
  {
   "cell_type": "markdown",
   "metadata": {},
   "source": [
    "##### epoch = 20 "
   ]
  },
  {
   "cell_type": "code",
   "execution_count": 29,
   "metadata": {},
   "outputs": [
    {
     "name": "stdout",
     "output_type": "stream",
     "text": [
      "# epochs = 20\n"
     ]
    }
   ],
   "source": [
    "num_epochs = 20 # choose the number of epochs\n",
    "print ('# epochs =', num_epochs)"
   ]
  },
  {
   "cell_type": "code",
   "execution_count": 30,
   "metadata": {},
   "outputs": [
    {
     "name": "stdout",
     "output_type": "stream",
     "text": [
      "_________________________________________________________________\n",
      "Layer (type)                 Output Shape              Param #   \n",
      "=================================================================\n",
      "conv3d_9 (Conv3D)            (None, 30, 60, 60, 32)    2624      \n",
      "_________________________________________________________________\n",
      "activation_9 (Activation)    (None, 30, 60, 60, 32)    0         \n",
      "_________________________________________________________________\n",
      "conv3d_10 (Conv3D)           (None, 30, 60, 60, 32)    27680     \n",
      "_________________________________________________________________\n",
      "activation_10 (Activation)   (None, 30, 60, 60, 32)    0         \n",
      "_________________________________________________________________\n",
      "max_pooling3d_7 (MaxPooling3 (None, 10, 20, 20, 32)    0         \n",
      "_________________________________________________________________\n",
      "dropout_6 (Dropout)          (None, 10, 20, 20, 32)    0         \n",
      "_________________________________________________________________\n",
      "conv3d_11 (Conv3D)           (None, 10, 20, 20, 64)    55360     \n",
      "_________________________________________________________________\n",
      "activation_11 (Activation)   (None, 10, 20, 20, 64)    0         \n",
      "_________________________________________________________________\n",
      "conv3d_12 (Conv3D)           (None, 10, 20, 20, 64)    110656    \n",
      "_________________________________________________________________\n",
      "activation_12 (Activation)   (None, 10, 20, 20, 64)    0         \n",
      "_________________________________________________________________\n",
      "max_pooling3d_8 (MaxPooling3 (None, 4, 7, 7, 64)       0         \n",
      "_________________________________________________________________\n",
      "dropout_7 (Dropout)          (None, 4, 7, 7, 64)       0         \n",
      "_________________________________________________________________\n",
      "flatten_3 (Flatten)          (None, 12544)             0         \n",
      "_________________________________________________________________\n",
      "dense_6 (Dense)              (None, 512)               6423040   \n",
      "_________________________________________________________________\n",
      "dropout_8 (Dropout)          (None, 512)               0         \n",
      "_________________________________________________________________\n",
      "dense_7 (Dense)              (None, 5)                 2565      \n",
      "=================================================================\n",
      "Total params: 6,621,925\n",
      "Trainable params: 6,621,925\n",
      "Non-trainable params: 0\n",
      "_________________________________________________________________\n"
     ]
    }
   ],
   "source": [
    "import keras\n",
    "model_b.compile(optimizer=keras.optimizers.Adadelta(), loss='categorical_crossentropy', metrics=['categorical_accuracy'])\n",
    "model_b.summary()"
   ]
  },
  {
   "cell_type": "code",
   "execution_count": 31,
   "metadata": {},
   "outputs": [],
   "source": [
    "train_generator = generator_ex(train_path, train_doc, 40)\n",
    "val_generator = generator_ex(val_path, val_doc, 40)"
   ]
  },
  {
   "cell_type": "code",
   "execution_count": 32,
   "metadata": {},
   "outputs": [
    {
     "name": "stdout",
     "output_type": "stream",
     "text": [
      "Source path =  Project_data/val ; batch size = 40\n",
      "Source path =  Project_data/train ; batch size = 40\n",
      "Epoch 1/20\n"
     ]
    },
    {
     "name": "stderr",
     "output_type": "stream",
     "text": [
      "/mnt/disks/user/anaconda3/lib/python3.6/site-packages/ipykernel_launcher.py:19: DeprecationWarning: `imread` is deprecated!\n",
      "`imread` is deprecated in SciPy 1.0.0, and will be removed in 1.2.0.\n",
      "Use ``imageio.imread`` instead.\n",
      "/mnt/disks/user/anaconda3/lib/python3.6/site-packages/ipykernel_launcher.py:24: DeprecationWarning: `imresize` is deprecated!\n",
      "`imresize` is deprecated in SciPy 1.0.0, and will be removed in 1.2.0.\n",
      "Use ``skimage.transform.resize`` instead.\n"
     ]
    },
    {
     "name": "stdout",
     "output_type": "stream",
     "text": [
      " 2/67 [..............................] - ETA: 6:03 - loss: 0.0452 - categorical_accuracy: 0.9750Batch:  3 Index: 40\n"
     ]
    },
    {
     "name": "stderr",
     "output_type": "stream",
     "text": [
      "/mnt/disks/user/anaconda3/lib/python3.6/site-packages/ipykernel_launcher.py:44: DeprecationWarning: `imread` is deprecated!\n",
      "`imread` is deprecated in SciPy 1.0.0, and will be removed in 1.2.0.\n",
      "Use ``imageio.imread`` instead.\n",
      "/mnt/disks/user/anaconda3/lib/python3.6/site-packages/ipykernel_launcher.py:48: DeprecationWarning: `imresize` is deprecated!\n",
      "`imresize` is deprecated in SciPy 1.0.0, and will be removed in 1.2.0.\n",
      "Use ``skimage.transform.resize`` instead.\n"
     ]
    },
    {
     "name": "stdout",
     "output_type": "stream",
     "text": [
      "15/67 [=====>........................] - ETA: 4:00 - loss: 0.1491 - categorical_accuracy: 0.9533Batch:  17 Index: 40\n",
      "44/67 [==================>...........] - ETA: 1:12 - loss: 0.1872 - categorical_accuracy: 0.9419Batch:  29 Index: 23\n",
      "67/67 [==============================] - 185s 3s/step - loss: 0.1879 - categorical_accuracy: 0.9422 - val_loss: 2.0377 - val_categorical_accuracy: 0.5333\n",
      "\n",
      "Epoch 00001: saving model to model_init_2020-02-0915_11_30.104831/model-00001-0.18199-0.94377-2.03775-0.53333.h5\n",
      "Epoch 2/20\n",
      "12/67 [====>.........................] - ETA: 2:05 - loss: 0.1901 - categorical_accuracy: 0.9211Batch:  35 Index: 19\n",
      "67/67 [==============================] - 125s 2s/step - loss: 0.1081 - categorical_accuracy: 0.9604 - val_loss: 2.2205 - val_categorical_accuracy: 0.5950\n",
      "\n",
      "Epoch 00002: saving model to model_init_2020-02-0915_11_30.104831/model-00002-0.10971-0.95966-2.22051-0.59500.h5\n",
      "Epoch 3/20\n",
      "67/67 [==============================] - 124s 2s/step - loss: 0.0594 - categorical_accuracy: 0.9789 - val_loss: 2.1238 - val_categorical_accuracy: 0.6250\n",
      "\n",
      "Epoch 00003: saving model to model_init_2020-02-0915_11_30.104831/model-00003-0.05942-0.97893-2.12379-0.62500.h5\n",
      "\n",
      "Epoch 00003: ReduceLROnPlateau reducing learning rate to 0.5.\n",
      "Epoch 4/20\n",
      "67/67 [==============================] - 122s 2s/step - loss: 0.0440 - categorical_accuracy: 0.9868 - val_loss: 2.2022 - val_categorical_accuracy: 0.5750\n",
      "\n",
      "Epoch 00004: saving model to model_init_2020-02-0915_11_30.104831/model-00004-0.04404-0.98683-2.20222-0.57500.h5\n",
      "Epoch 5/20\n",
      "67/67 [==============================] - 123s 2s/step - loss: 0.0293 - categorical_accuracy: 0.9930 - val_loss: 2.3713 - val_categorical_accuracy: 0.5300\n",
      "\n",
      "Epoch 00005: saving model to model_init_2020-02-0915_11_30.104831/model-00005-0.02932-0.99298-2.37134-0.53000.h5\n",
      "\n",
      "Epoch 00005: ReduceLROnPlateau reducing learning rate to 0.25.\n",
      "Epoch 6/20\n",
      "67/67 [==============================] - 124s 2s/step - loss: 0.0191 - categorical_accuracy: 0.9956 - val_loss: 2.0045 - val_categorical_accuracy: 0.6000\n",
      "\n",
      "Epoch 00006: saving model to model_init_2020-02-0915_11_30.104831/model-00006-0.01910-0.99561-2.00449-0.60000.h5\n",
      "Epoch 7/20\n",
      "67/67 [==============================] - 122s 2s/step - loss: 0.0213 - categorical_accuracy: 0.9921 - val_loss: 2.4442 - val_categorical_accuracy: 0.5400\n",
      "\n",
      "Epoch 00007: saving model to model_init_2020-02-0915_11_30.104831/model-00007-0.02127-0.99210-2.44423-0.54000.h5\n",
      "Epoch 8/20\n",
      "67/67 [==============================] - 122s 2s/step - loss: 0.0158 - categorical_accuracy: 0.9921 - val_loss: 2.3683 - val_categorical_accuracy: 0.5700\n",
      "\n",
      "Epoch 00008: saving model to model_init_2020-02-0915_11_30.104831/model-00008-0.01575-0.99210-2.36827-0.57000.h5\n",
      "\n",
      "Epoch 00008: ReduceLROnPlateau reducing learning rate to 0.125.\n",
      "Epoch 9/20\n",
      "67/67 [==============================] - 126s 2s/step - loss: 0.0107 - categorical_accuracy: 0.9965 - val_loss: 2.1350 - val_categorical_accuracy: 0.6100\n",
      "\n",
      "Epoch 00009: saving model to model_init_2020-02-0915_11_30.104831/model-00009-0.01071-0.99649-2.13496-0.61000.h5\n",
      "Epoch 10/20\n",
      "67/67 [==============================] - 120s 2s/step - loss: 0.0230 - categorical_accuracy: 0.9895 - val_loss: 2.6342 - val_categorical_accuracy: 0.5550\n",
      "\n",
      "Epoch 00010: saving model to model_init_2020-02-0915_11_30.104831/model-00010-0.02297-0.98946-2.63423-0.55500.h5\n",
      "\n",
      "Epoch 00010: ReduceLROnPlateau reducing learning rate to 0.0625.\n",
      "Epoch 11/20\n",
      "67/67 [==============================] - 126s 2s/step - loss: 0.0133 - categorical_accuracy: 0.9965 - val_loss: 2.5475 - val_categorical_accuracy: 0.5700\n",
      "\n",
      "Epoch 00011: saving model to model_init_2020-02-0915_11_30.104831/model-00011-0.01332-0.99649-2.54748-0.57000.h5\n",
      "Epoch 12/20\n",
      "67/67 [==============================] - 123s 2s/step - loss: 0.0182 - categorical_accuracy: 0.9939 - val_loss: 2.1379 - val_categorical_accuracy: 0.6100\n",
      "\n",
      "Epoch 00012: saving model to model_init_2020-02-0915_11_30.104831/model-00012-0.01823-0.99385-2.13794-0.61000.h5\n",
      "\n",
      "Epoch 00012: ReduceLROnPlateau reducing learning rate to 0.03125.\n",
      "Epoch 13/20\n",
      "67/67 [==============================] - 123s 2s/step - loss: 0.0120 - categorical_accuracy: 0.9974 - val_loss: 2.4981 - val_categorical_accuracy: 0.5800\n",
      "\n",
      "Epoch 00013: saving model to model_init_2020-02-0915_11_30.104831/model-00013-0.01204-0.99737-2.49807-0.58000.h5\n",
      "Epoch 14/20\n",
      "67/67 [==============================] - 122s 2s/step - loss: 0.0214 - categorical_accuracy: 0.9930 - val_loss: 2.2963 - val_categorical_accuracy: 0.5700\n",
      "\n",
      "Epoch 00014: saving model to model_init_2020-02-0915_11_30.104831/model-00014-0.02144-0.99298-2.29634-0.57000.h5\n",
      "\n",
      "Epoch 00014: ReduceLROnPlateau reducing learning rate to 0.015625.\n",
      "Epoch 15/20\n",
      "67/67 [==============================] - 124s 2s/step - loss: 0.0082 - categorical_accuracy: 0.9982 - val_loss: 2.4388 - val_categorical_accuracy: 0.5600\n",
      "\n",
      "Epoch 00015: saving model to model_init_2020-02-0915_11_30.104831/model-00015-0.00820-0.99824-2.43882-0.56000.h5\n",
      "Epoch 16/20\n",
      "67/67 [==============================] - 125s 2s/step - loss: 0.0261 - categorical_accuracy: 0.9895 - val_loss: 2.6102 - val_categorical_accuracy: 0.5400\n",
      "\n",
      "Epoch 00016: saving model to model_init_2020-02-0915_11_30.104831/model-00016-0.02609-0.98946-2.61021-0.54000.h5\n",
      "\n",
      "Epoch 00016: ReduceLROnPlateau reducing learning rate to 0.0078125.\n",
      "Epoch 17/20\n",
      "67/67 [==============================] - 122s 2s/step - loss: 0.0062 - categorical_accuracy: 0.9991 - val_loss: 1.9296 - val_categorical_accuracy: 0.6050\n",
      "\n",
      "Epoch 00017: saving model to model_init_2020-02-0915_11_30.104831/model-00017-0.00619-0.99912-1.92961-0.60500.h5\n",
      "Epoch 18/20\n",
      "67/67 [==============================] - 124s 2s/step - loss: 0.0111 - categorical_accuracy: 0.9982 - val_loss: 2.3466 - val_categorical_accuracy: 0.5700\n",
      "\n",
      "Epoch 00018: saving model to model_init_2020-02-0915_11_30.104831/model-00018-0.01112-0.99824-2.34657-0.57000.h5\n",
      "Epoch 19/20\n",
      "67/67 [==============================] - 124s 2s/step - loss: 0.0090 - categorical_accuracy: 0.9982 - val_loss: 2.5444 - val_categorical_accuracy: 0.5550\n",
      "\n",
      "Epoch 00019: saving model to model_init_2020-02-0915_11_30.104831/model-00019-0.00898-0.99824-2.54438-0.55500.h5\n",
      "\n",
      "Epoch 00019: ReduceLROnPlateau reducing learning rate to 0.00390625.\n",
      "Epoch 20/20\n",
      "67/67 [==============================] - 123s 2s/step - loss: 0.0239 - categorical_accuracy: 0.9939 - val_loss: 2.3129 - val_categorical_accuracy: 0.5850\n",
      "\n",
      "Epoch 00020: saving model to model_init_2020-02-0915_11_30.104831/model-00020-0.02392-0.99385-2.31287-0.58500.h5\n"
     ]
    },
    {
     "data": {
      "text/plain": [
       "<keras.callbacks.History at 0x7fa7929edfd0>"
      ]
     },
     "execution_count": 32,
     "metadata": {},
     "output_type": "execute_result"
    }
   ],
   "source": [
    "model_b.fit_generator(train_generator, steps_per_epoch=steps_per_epoch, epochs=num_epochs, verbose=1, \n",
    "                    callbacks=callbacks_list, validation_data=val_generator, \n",
    "                    validation_steps=validation_steps, class_weight=None, workers=1, initial_epoch=0)"
   ]
  },
  {
   "cell_type": "markdown",
   "metadata": {},
   "source": [
    "##### 99.39% accuracy in training data"
   ]
  },
  {
   "cell_type": "markdown",
   "metadata": {},
   "source": [
    "##### model_c"
   ]
  },
  {
   "cell_type": "code",
   "execution_count": 33,
   "metadata": {},
   "outputs": [
    {
     "name": "stdout",
     "output_type": "stream",
     "text": [
      "_________________________________________________________________\n",
      "Layer (type)                 Output Shape              Param #   \n",
      "=================================================================\n",
      "conv3d_13 (Conv3D)           (None, 30, 60, 60, 32)    2624      \n",
      "_________________________________________________________________\n",
      "activation_13 (Activation)   (None, 30, 60, 60, 32)    0         \n",
      "_________________________________________________________________\n",
      "conv3d_14 (Conv3D)           (None, 30, 60, 60, 32)    27680     \n",
      "_________________________________________________________________\n",
      "activation_14 (Activation)   (None, 30, 60, 60, 32)    0         \n",
      "_________________________________________________________________\n",
      "max_pooling3d_9 (MaxPooling3 (None, 10, 20, 20, 32)    0         \n",
      "_________________________________________________________________\n",
      "dropout_9 (Dropout)          (None, 10, 20, 20, 32)    0         \n",
      "_________________________________________________________________\n",
      "conv3d_15 (Conv3D)           (None, 10, 20, 20, 64)    55360     \n",
      "_________________________________________________________________\n",
      "activation_15 (Activation)   (None, 10, 20, 20, 64)    0         \n",
      "_________________________________________________________________\n",
      "conv3d_16 (Conv3D)           (None, 10, 20, 20, 64)    110656    \n",
      "_________________________________________________________________\n",
      "activation_16 (Activation)   (None, 10, 20, 20, 64)    0         \n",
      "_________________________________________________________________\n",
      "max_pooling3d_10 (MaxPooling (None, 4, 7, 7, 64)       0         \n",
      "_________________________________________________________________\n",
      "dropout_10 (Dropout)         (None, 4, 7, 7, 64)       0         \n",
      "_________________________________________________________________\n",
      "conv3d_17 (Conv3D)           (None, 4, 7, 7, 64)       110656    \n",
      "_________________________________________________________________\n",
      "activation_17 (Activation)   (None, 4, 7, 7, 64)       0         \n",
      "_________________________________________________________________\n",
      "conv3d_18 (Conv3D)           (None, 4, 7, 7, 64)       110656    \n",
      "_________________________________________________________________\n",
      "activation_18 (Activation)   (None, 4, 7, 7, 64)       0         \n",
      "_________________________________________________________________\n",
      "max_pooling3d_11 (MaxPooling (None, 2, 3, 3, 64)       0         \n",
      "_________________________________________________________________\n",
      "dropout_11 (Dropout)         (None, 2, 3, 3, 64)       0         \n",
      "_________________________________________________________________\n",
      "flatten_4 (Flatten)          (None, 1152)              0         \n",
      "_________________________________________________________________\n",
      "dense_8 (Dense)              (None, 512)               590336    \n",
      "_________________________________________________________________\n",
      "batch_normalization_5 (Batch (None, 512)               2048      \n",
      "_________________________________________________________________\n",
      "dropout_12 (Dropout)         (None, 512)               0         \n",
      "_________________________________________________________________\n",
      "dense_9 (Dense)              (None, 5)                 2565      \n",
      "=================================================================\n",
      "Total params: 1,012,581\n",
      "Trainable params: 1,011,557\n",
      "Non-trainable params: 1,024\n",
      "_________________________________________________________________\n"
     ]
    }
   ],
   "source": [
    "model_c = Sequential()\n",
    "model_c.add(Conv3D(32, kernel_size=(3, 3, 3), input_shape=(x,y,z,channel), padding=\"same\"))\n",
    "model_c.add(Activation('relu'))\n",
    "model_c.add(Conv3D(32, padding=\"same\", kernel_size=(3, 3, 3)))\n",
    "model_c.add(Activation('relu'))\n",
    "model_c.add(MaxPooling3D(pool_size=(3, 3, 3), padding=\"same\"))\n",
    "model_c.add(Dropout(0.25))\n",
    "\n",
    "model_c.add(Conv3D(64, padding=\"same\", kernel_size=(3, 3, 3)))\n",
    "model_c.add(Activation('relu'))\n",
    "model_c.add(Conv3D(64, padding=\"same\", kernel_size=(3, 3, 3)))\n",
    "model_c.add(Activation('relu'))\n",
    "model_c.add(MaxPooling3D(pool_size=(3, 3, 3), padding=\"same\"))\n",
    "model_c.add(Dropout(0.25))\n",
    "\n",
    "model_c.add(Conv3D(64, padding=\"same\", kernel_size=(3, 3, 3)))\n",
    "model_c.add(Activation('relu'))\n",
    "model_c.add(Conv3D(64, padding=\"same\", kernel_size=(3, 3, 3)))\n",
    "model_c.add(Activation('relu'))\n",
    "model_c.add(MaxPooling3D(pool_size=(3, 3, 3), padding=\"same\"))\n",
    "model_c.add(Dropout(0.25))\n",
    "\n",
    "model_c.add(Flatten())\n",
    "model_c.add(Dense(512, activation='relu'))\n",
    "model_c.add(BatchNormalization())\n",
    "model_c.add(Dropout(0.5))\n",
    "model_c.add(Dense(classes, activation='softmax'))\n",
    "model_c.compile(optimizer=keras.optimizers.Adadelta(), loss='categorical_crossentropy', metrics=['categorical_accuracy'])\n",
    "model_c.summary()"
   ]
  },
  {
   "cell_type": "code",
   "execution_count": 34,
   "metadata": {},
   "outputs": [],
   "source": [
    "# Changing back batch size, images per frame, height and width of image\n",
    "batch_size = 10\n",
    "x = 30 # number of frames\n",
    "y = 60 # image width\n",
    "z = 60 # image height\n",
    "num_epochs = 20"
   ]
  },
  {
   "cell_type": "code",
   "execution_count": 35,
   "metadata": {},
   "outputs": [],
   "source": [
    "train_generator = generator_ex(train_path, train_doc, batch_size)\n",
    "val_generator = generator_ex(val_path, val_doc, batch_size)"
   ]
  },
  {
   "cell_type": "code",
   "execution_count": 36,
   "metadata": {},
   "outputs": [
    {
     "name": "stdout",
     "output_type": "stream",
     "text": [
      "Source path =  Project_data/val ; batch size = 10\n",
      "Source path =  Project_data/train ; batch size = 10\n",
      "Epoch 1/20\n"
     ]
    },
    {
     "name": "stderr",
     "output_type": "stream",
     "text": [
      "/mnt/disks/user/anaconda3/lib/python3.6/site-packages/ipykernel_launcher.py:19: DeprecationWarning: `imread` is deprecated!\n",
      "`imread` is deprecated in SciPy 1.0.0, and will be removed in 1.2.0.\n",
      "Use ``imageio.imread`` instead.\n",
      "/mnt/disks/user/anaconda3/lib/python3.6/site-packages/ipykernel_launcher.py:24: DeprecationWarning: `imresize` is deprecated!\n",
      "`imresize` is deprecated in SciPy 1.0.0, and will be removed in 1.2.0.\n",
      "Use ``skimage.transform.resize`` instead.\n"
     ]
    },
    {
     "name": "stdout",
     "output_type": "stream",
     "text": [
      "65/67 [============================>.] - ETA: 2s - loss: 2.2133 - categorical_accuracy: 0.2723Batch:  67 Index: 10\n"
     ]
    },
    {
     "name": "stderr",
     "output_type": "stream",
     "text": [
      "/mnt/disks/user/anaconda3/lib/python3.6/site-packages/ipykernel_launcher.py:44: DeprecationWarning: `imread` is deprecated!\n",
      "`imread` is deprecated in SciPy 1.0.0, and will be removed in 1.2.0.\n",
      "Use ``imageio.imread`` instead.\n",
      "/mnt/disks/user/anaconda3/lib/python3.6/site-packages/ipykernel_launcher.py:48: DeprecationWarning: `imresize` is deprecated!\n",
      "`imresize` is deprecated in SciPy 1.0.0, and will be removed in 1.2.0.\n",
      "Use ``skimage.transform.resize`` instead.\n"
     ]
    },
    {
     "name": "stdout",
     "output_type": "stream",
     "text": [
      "67/67 [==============================] - 73s 1s/step - loss: 2.1867 - categorical_accuracy: 0.2820 - val_loss: 3.0701 - val_categorical_accuracy: 0.1800\n",
      "\n",
      "Epoch 00001: saving model to model_init_2020-02-0915_11_30.104831/model-00001-2.20577-0.27451-3.07013-0.18000.h5\n",
      "Epoch 2/20\n",
      "67/67 [==============================] - 23s 348ms/step - loss: 2.0307 - categorical_accuracy: 0.2736 - val_loss: 2.0495 - val_categorical_accuracy: 0.2900\n",
      "\n",
      "Epoch 00002: saving model to model_init_2020-02-0915_11_30.104831/model-00002-2.03071-0.27363-2.04945-0.29000.h5\n",
      "Epoch 3/20\n",
      "67/67 [==============================] - 25s 373ms/step - loss: 1.9401 - categorical_accuracy: 0.3085 - val_loss: 2.1808 - val_categorical_accuracy: 0.2700\n",
      "\n",
      "Epoch 00003: saving model to model_init_2020-02-0915_11_30.104831/model-00003-1.94013-0.30846-2.18082-0.27000.h5\n",
      "Epoch 4/20\n",
      "67/67 [==============================] - 24s 362ms/step - loss: 1.8850 - categorical_accuracy: 0.2488 - val_loss: 2.6582 - val_categorical_accuracy: 0.1900\n",
      "\n",
      "Epoch 00004: saving model to model_init_2020-02-0915_11_30.104831/model-00004-1.88498-0.24876-2.65817-0.19000.h5\n",
      "\n",
      "Epoch 00004: ReduceLROnPlateau reducing learning rate to 0.5.\n",
      "Epoch 5/20\n",
      "67/67 [==============================] - 25s 375ms/step - loss: 1.8504 - categorical_accuracy: 0.3035 - val_loss: 1.5879 - val_categorical_accuracy: 0.2600\n",
      "\n",
      "Epoch 00005: saving model to model_init_2020-02-0915_11_30.104831/model-00005-1.85042-0.30348-1.58792-0.26000.h5\n",
      "Epoch 6/20\n",
      "67/67 [==============================] - 24s 362ms/step - loss: 1.8499 - categorical_accuracy: 0.2637 - val_loss: 1.4980 - val_categorical_accuracy: 0.2800\n",
      "\n",
      "Epoch 00006: saving model to model_init_2020-02-0915_11_30.104831/model-00006-1.84990-0.26368-1.49804-0.28000.h5\n",
      "Epoch 7/20\n",
      "67/67 [==============================] - 26s 386ms/step - loss: 2.0197 - categorical_accuracy: 0.1990 - val_loss: 1.5977 - val_categorical_accuracy: 0.2000\n",
      "\n",
      "Epoch 00007: saving model to model_init_2020-02-0915_11_30.104831/model-00007-2.01966-0.19900-1.59774-0.20000.h5\n",
      "Epoch 8/20\n",
      "67/67 [==============================] - 23s 349ms/step - loss: 1.7686 - categorical_accuracy: 0.2836 - val_loss: 1.4264 - val_categorical_accuracy: 0.4300\n",
      "\n",
      "Epoch 00008: saving model to model_init_2020-02-0915_11_30.104831/model-00008-1.76856-0.28358-1.42636-0.43000.h5\n",
      "Epoch 9/20\n",
      "67/67 [==============================] - 25s 376ms/step - loss: 1.8282 - categorical_accuracy: 0.2537 - val_loss: 1.3278 - val_categorical_accuracy: 0.4500\n",
      "\n",
      "Epoch 00009: saving model to model_init_2020-02-0915_11_30.104831/model-00009-1.82818-0.25373-1.32780-0.45000.h5\n",
      "Epoch 10/20\n",
      "67/67 [==============================] - 25s 374ms/step - loss: 1.7480 - categorical_accuracy: 0.3184 - val_loss: 1.8930 - val_categorical_accuracy: 0.2800\n",
      "\n",
      "Epoch 00010: saving model to model_init_2020-02-0915_11_30.104831/model-00010-1.74800-0.31841-1.89299-0.28000.h5\n",
      "Epoch 11/20\n",
      "67/67 [==============================] - 24s 354ms/step - loss: 1.8276 - categorical_accuracy: 0.2687 - val_loss: 1.3865 - val_categorical_accuracy: 0.3900\n",
      "\n",
      "Epoch 00011: saving model to model_init_2020-02-0915_11_30.104831/model-00011-1.82762-0.26866-1.38647-0.39000.h5\n",
      "\n",
      "Epoch 00011: ReduceLROnPlateau reducing learning rate to 0.25.\n",
      "Epoch 12/20\n",
      "67/67 [==============================] - 24s 353ms/step - loss: 1.7027 - categorical_accuracy: 0.3433 - val_loss: 1.3349 - val_categorical_accuracy: 0.4200\n",
      "\n",
      "Epoch 00012: saving model to model_init_2020-02-0915_11_30.104831/model-00012-1.70269-0.34328-1.33491-0.42000.h5\n",
      "Epoch 13/20\n",
      "67/67 [==============================] - 24s 361ms/step - loss: 1.6556 - categorical_accuracy: 0.3085 - val_loss: 1.2712 - val_categorical_accuracy: 0.4600\n",
      "\n",
      "Epoch 00013: saving model to model_init_2020-02-0915_11_30.104831/model-00013-1.65558-0.30846-1.27121-0.46000.h5\n",
      "Epoch 14/20\n",
      "67/67 [==============================] - 26s 385ms/step - loss: 1.6594 - categorical_accuracy: 0.3134 - val_loss: 1.2650 - val_categorical_accuracy: 0.4800\n",
      "\n",
      "Epoch 00014: saving model to model_init_2020-02-0915_11_30.104831/model-00014-1.65939-0.31343-1.26496-0.48000.h5\n",
      "Epoch 15/20\n",
      "67/67 [==============================] - 25s 380ms/step - loss: 1.7212 - categorical_accuracy: 0.3085 - val_loss: 1.2577 - val_categorical_accuracy: 0.4700\n",
      "\n",
      "Epoch 00015: saving model to model_init_2020-02-0915_11_30.104831/model-00015-1.72125-0.30846-1.25766-0.47000.h5\n",
      "Epoch 16/20\n",
      "67/67 [==============================] - 24s 365ms/step - loss: 1.6671 - categorical_accuracy: 0.3085 - val_loss: 1.5386 - val_categorical_accuracy: 0.3100\n",
      "\n",
      "Epoch 00016: saving model to model_init_2020-02-0915_11_30.104831/model-00016-1.66708-0.30846-1.53856-0.31000.h5\n",
      "Epoch 17/20\n",
      "67/67 [==============================] - 25s 369ms/step - loss: 1.6434 - categorical_accuracy: 0.3433 - val_loss: 1.2349 - val_categorical_accuracy: 0.5000\n",
      "\n",
      "Epoch 00017: saving model to model_init_2020-02-0915_11_30.104831/model-00017-1.64338-0.34328-1.23488-0.50000.h5\n",
      "Epoch 18/20\n",
      "67/67 [==============================] - 24s 359ms/step - loss: 1.6943 - categorical_accuracy: 0.3085 - val_loss: 1.2679 - val_categorical_accuracy: 0.4500\n",
      "\n",
      "Epoch 00018: saving model to model_init_2020-02-0915_11_30.104831/model-00018-1.69429-0.30846-1.26789-0.45000.h5\n",
      "Epoch 19/20\n",
      "67/67 [==============================] - 25s 375ms/step - loss: 1.6281 - categorical_accuracy: 0.2935 - val_loss: 1.3339 - val_categorical_accuracy: 0.4500\n",
      "\n",
      "Epoch 00019: saving model to model_init_2020-02-0915_11_30.104831/model-00019-1.62810-0.29353-1.33387-0.45000.h5\n",
      "\n",
      "Epoch 00019: ReduceLROnPlateau reducing learning rate to 0.125.\n",
      "Epoch 20/20\n",
      "67/67 [==============================] - 25s 368ms/step - loss: 1.7712 - categorical_accuracy: 0.2438 - val_loss: 1.2313 - val_categorical_accuracy: 0.5100\n",
      "\n",
      "Epoch 00020: saving model to model_init_2020-02-0915_11_30.104831/model-00020-1.77117-0.24378-1.23133-0.51000.h5\n"
     ]
    },
    {
     "data": {
      "text/plain": [
       "<keras.callbacks.History at 0x7fa79239d128>"
      ]
     },
     "execution_count": 36,
     "metadata": {},
     "output_type": "execute_result"
    }
   ],
   "source": [
    "model_c.fit_generator(train_generator, steps_per_epoch=steps_per_epoch, epochs=num_epochs, verbose=1, \n",
    "                    callbacks=callbacks_list, validation_data=val_generator, \n",
    "                    validation_steps=validation_steps, class_weight=None, workers=1, initial_epoch=0)"
   ]
  },
  {
   "cell_type": "markdown",
   "metadata": {},
   "source": [
    "##### model_d"
   ]
  },
  {
   "cell_type": "code",
   "execution_count": 37,
   "metadata": {},
   "outputs": [
    {
     "name": "stdout",
     "output_type": "stream",
     "text": [
      "_________________________________________________________________\n",
      "Layer (type)                 Output Shape              Param #   \n",
      "=================================================================\n",
      "conv3d_19 (Conv3D)           (None, 30, 60, 60, 8)     656       \n",
      "_________________________________________________________________\n",
      "batch_normalization_6 (Batch (None, 30, 60, 60, 8)     32        \n",
      "_________________________________________________________________\n",
      "activation_19 (Activation)   (None, 30, 60, 60, 8)     0         \n",
      "_________________________________________________________________\n",
      "max_pooling3d_12 (MaxPooling (None, 15, 30, 30, 8)     0         \n",
      "_________________________________________________________________\n",
      "conv3d_20 (Conv3D)           (None, 15, 30, 30, 16)    3472      \n",
      "_________________________________________________________________\n",
      "batch_normalization_7 (Batch (None, 15, 30, 30, 16)    64        \n",
      "_________________________________________________________________\n",
      "activation_20 (Activation)   (None, 15, 30, 30, 16)    0         \n",
      "_________________________________________________________________\n",
      "max_pooling3d_13 (MaxPooling (None, 7, 15, 15, 16)     0         \n",
      "_________________________________________________________________\n",
      "conv3d_21 (Conv3D)           (None, 7, 15, 15, 32)     4640      \n",
      "_________________________________________________________________\n",
      "batch_normalization_8 (Batch (None, 7, 15, 15, 32)     128       \n",
      "_________________________________________________________________\n",
      "activation_21 (Activation)   (None, 7, 15, 15, 32)     0         \n",
      "_________________________________________________________________\n",
      "max_pooling3d_14 (MaxPooling (None, 3, 7, 7, 32)       0         \n",
      "_________________________________________________________________\n",
      "conv3d_22 (Conv3D)           (None, 3, 7, 7, 64)       18496     \n",
      "_________________________________________________________________\n",
      "batch_normalization_9 (Batch (None, 3, 7, 7, 64)       256       \n",
      "_________________________________________________________________\n",
      "activation_22 (Activation)   (None, 3, 7, 7, 64)       0         \n",
      "_________________________________________________________________\n",
      "max_pooling3d_15 (MaxPooling (None, 1, 3, 3, 64)       0         \n",
      "_________________________________________________________________\n",
      "flatten_5 (Flatten)          (None, 576)               0         \n",
      "_________________________________________________________________\n",
      "dense_10 (Dense)             (None, 1000)              577000    \n",
      "_________________________________________________________________\n",
      "dropout_13 (Dropout)         (None, 1000)              0         \n",
      "_________________________________________________________________\n",
      "dense_11 (Dense)             (None, 500)               500500    \n",
      "_________________________________________________________________\n",
      "dropout_14 (Dropout)         (None, 500)               0         \n",
      "_________________________________________________________________\n",
      "dense_12 (Dense)             (None, 5)                 2505      \n",
      "=================================================================\n",
      "Total params: 1,107,749\n",
      "Trainable params: 1,107,509\n",
      "Non-trainable params: 240\n",
      "_________________________________________________________________\n"
     ]
    }
   ],
   "source": [
    "input_shape=(x,y,z,channel)\n",
    "\n",
    "nb_filters = [8,16,32,64]\n",
    "nb_dense = [1000, 500, 5]\n",
    "# Define model\n",
    "model_d = Sequential()\n",
    "\n",
    "model_d.add(Conv3D(nb_filters[0], \n",
    "                 kernel_size=(3,3,3), \n",
    "                 input_shape=input_shape,\n",
    "                 padding='same'))\n",
    "model_d.add(BatchNormalization())\n",
    "model_d.add(Activation('relu'))\n",
    "\n",
    "model_d.add(MaxPooling3D(pool_size=(2,2,2)))\n",
    "\n",
    "model_d.add(Conv3D(nb_filters[1], \n",
    "                 kernel_size=(3,3,3), \n",
    "                 padding='same'))\n",
    "model_d.add(BatchNormalization())\n",
    "model_d.add(Activation('relu'))\n",
    "\n",
    "model_d.add(MaxPooling3D(pool_size=(2,2,2)))\n",
    "\n",
    "model_d.add(Conv3D(nb_filters[2], \n",
    "                 kernel_size=(1,3,3), \n",
    "                 padding='same'))\n",
    "model_d.add(BatchNormalization())\n",
    "model_d.add(Activation('relu'))\n",
    "\n",
    "model_d.add(MaxPooling3D(pool_size=(2,2,2)))\n",
    "\n",
    "model_d.add(Conv3D(nb_filters[3], \n",
    "                 kernel_size=(1,3,3), \n",
    "                 padding='same'))\n",
    "model_d.add(BatchNormalization())\n",
    "model_d.add(Activation('relu'))\n",
    "\n",
    "model_d.add(MaxPooling3D(pool_size=(2,2,2)))\n",
    "\n",
    "#Flatten Layers\n",
    "model_d.add(Flatten())\n",
    "\n",
    "model_d.add(Dense(nb_dense[0], activation='relu'))\n",
    "model_d.add(Dropout(0.5))\n",
    "\n",
    "model_d.add(Dense(nb_dense[1], activation='relu'))\n",
    "model_d.add(Dropout(0.5))\n",
    "\n",
    "#softmax layer\n",
    "model_d.add(Dense(nb_dense[2], activation='softmax'))\n",
    "model_d.compile(optimizer=keras.optimizers.Adadelta(), loss='categorical_crossentropy', metrics=['categorical_accuracy'])\n",
    "model_d.summary()"
   ]
  },
  {
   "cell_type": "code",
   "execution_count": 38,
   "metadata": {},
   "outputs": [
    {
     "name": "stdout",
     "output_type": "stream",
     "text": [
      "Source path =  Project_data/val ; batch size = 10\n",
      "Source path =  Project_data/train ; batch size = 10\n",
      "Epoch 1/10\n"
     ]
    },
    {
     "name": "stderr",
     "output_type": "stream",
     "text": [
      "/mnt/disks/user/anaconda3/lib/python3.6/site-packages/ipykernel_launcher.py:19: DeprecationWarning: `imread` is deprecated!\n",
      "`imread` is deprecated in SciPy 1.0.0, and will be removed in 1.2.0.\n",
      "Use ``imageio.imread`` instead.\n",
      "/mnt/disks/user/anaconda3/lib/python3.6/site-packages/ipykernel_launcher.py:24: DeprecationWarning: `imresize` is deprecated!\n",
      "`imresize` is deprecated in SciPy 1.0.0, and will be removed in 1.2.0.\n",
      "Use ``skimage.transform.resize`` instead.\n"
     ]
    },
    {
     "name": "stdout",
     "output_type": "stream",
     "text": [
      "65/67 [============================>.] - ETA: 2s - loss: 2.1740 - categorical_accuracy: 0.2908Batch:  67 Index: 10\n",
      "66/67 [============================>.] - ETA: 1s - loss: 2.1612 - categorical_accuracy: 0.2924"
     ]
    },
    {
     "name": "stderr",
     "output_type": "stream",
     "text": [
      "/mnt/disks/user/anaconda3/lib/python3.6/site-packages/ipykernel_launcher.py:44: DeprecationWarning: `imread` is deprecated!\n",
      "`imread` is deprecated in SciPy 1.0.0, and will be removed in 1.2.0.\n",
      "Use ``imageio.imread`` instead.\n",
      "/mnt/disks/user/anaconda3/lib/python3.6/site-packages/ipykernel_launcher.py:48: DeprecationWarning: `imresize` is deprecated!\n",
      "`imresize` is deprecated in SciPy 1.0.0, and will be removed in 1.2.0.\n",
      "Use ``skimage.transform.resize`` instead.\n"
     ]
    },
    {
     "name": "stdout",
     "output_type": "stream",
     "text": [
      "67/67 [==============================] - 71s 1s/step - loss: 2.1446 - categorical_accuracy: 0.2980 - val_loss: 1.3263 - val_categorical_accuracy: 0.4100\n",
      "\n",
      "Epoch 00001: saving model to model_init_2020-02-0915_11_30.104831/model-00001-2.15611-0.29412-1.32629-0.41000.h5\n",
      "Epoch 2/10\n",
      "67/67 [==============================] - 22s 334ms/step - loss: 1.8135 - categorical_accuracy: 0.2985 - val_loss: 1.5352 - val_categorical_accuracy: 0.3300\n",
      "\n",
      "Epoch 00002: saving model to model_init_2020-02-0915_11_30.104831/model-00002-1.81345-0.29851-1.53518-0.33000.h5\n",
      "Epoch 3/10\n",
      "67/67 [==============================] - 24s 353ms/step - loss: 1.4970 - categorical_accuracy: 0.3284 - val_loss: 1.5154 - val_categorical_accuracy: 0.4300\n",
      "\n",
      "Epoch 00003: saving model to model_init_2020-02-0915_11_30.104831/model-00003-1.49699-0.32836-1.51537-0.43000.h5\n",
      "\n",
      "Epoch 00003: ReduceLROnPlateau reducing learning rate to 0.5.\n",
      "Epoch 4/10\n",
      "67/67 [==============================] - 23s 340ms/step - loss: 1.4273 - categorical_accuracy: 0.3930 - val_loss: 1.1688 - val_categorical_accuracy: 0.4700\n",
      "\n",
      "Epoch 00004: saving model to model_init_2020-02-0915_11_30.104831/model-00004-1.42729-0.39303-1.16877-0.47000.h5\n",
      "Epoch 5/10\n",
      "67/67 [==============================] - 24s 362ms/step - loss: 1.3758 - categorical_accuracy: 0.4080 - val_loss: 1.3168 - val_categorical_accuracy: 0.3800\n",
      "\n",
      "Epoch 00005: saving model to model_init_2020-02-0915_11_30.104831/model-00005-1.37579-0.40796-1.31680-0.38000.h5\n",
      "Epoch 6/10\n",
      "67/67 [==============================] - 24s 357ms/step - loss: 1.2709 - categorical_accuracy: 0.4677 - val_loss: 1.4339 - val_categorical_accuracy: 0.4300\n",
      "\n",
      "Epoch 00006: saving model to model_init_2020-02-0915_11_30.104831/model-00006-1.27094-0.46766-1.43391-0.43000.h5\n",
      "\n",
      "Epoch 00006: ReduceLROnPlateau reducing learning rate to 0.25.\n",
      "Epoch 7/10\n",
      "67/67 [==============================] - 23s 345ms/step - loss: 1.2460 - categorical_accuracy: 0.5174 - val_loss: 0.9271 - val_categorical_accuracy: 0.6100\n",
      "\n",
      "Epoch 00007: saving model to model_init_2020-02-0915_11_30.104831/model-00007-1.24600-0.51741-0.92709-0.61000.h5\n",
      "Epoch 8/10\n",
      "67/67 [==============================] - 23s 341ms/step - loss: 1.1637 - categorical_accuracy: 0.4826 - val_loss: 0.8918 - val_categorical_accuracy: 0.6500\n",
      "\n",
      "Epoch 00008: saving model to model_init_2020-02-0915_11_30.104831/model-00008-1.16368-0.48259-0.89184-0.65000.h5\n",
      "Epoch 9/10\n",
      "67/67 [==============================] - 24s 355ms/step - loss: 1.2387 - categorical_accuracy: 0.4776 - val_loss: 0.8531 - val_categorical_accuracy: 0.6400\n",
      "\n",
      "Epoch 00009: saving model to model_init_2020-02-0915_11_30.104831/model-00009-1.23868-0.47761-0.85309-0.64000.h5\n",
      "Epoch 10/10\n",
      "67/67 [==============================] - 24s 355ms/step - loss: 1.0558 - categorical_accuracy: 0.5473 - val_loss: 1.1714 - val_categorical_accuracy: 0.5100\n",
      "\n",
      "Epoch 00010: saving model to model_init_2020-02-0915_11_30.104831/model-00010-1.05577-0.54726-1.17143-0.51000.h5\n"
     ]
    },
    {
     "data": {
      "text/plain": [
       "<keras.callbacks.History at 0x7fa7914d9fd0>"
      ]
     },
     "execution_count": 38,
     "metadata": {},
     "output_type": "execute_result"
    }
   ],
   "source": [
    "train_generator = generator_ex(train_path, train_doc, batch_size)\n",
    "val_generator = generator_ex(val_path, val_doc, batch_size)\n",
    "num_epochs = 10\n",
    "model_d.fit_generator(train_generator, steps_per_epoch=steps_per_epoch, epochs=num_epochs, verbose=1, \n",
    "                    callbacks=callbacks_list, validation_data=val_generator, \n",
    "                    validation_steps=validation_steps, class_weight=None, workers=1, initial_epoch=0)"
   ]
  },
  {
   "cell_type": "markdown",
   "metadata": {},
   "source": [
    "##### Model with images per frame(width and height of images)"
   ]
  },
  {
   "cell_type": "code",
   "execution_count": 39,
   "metadata": {},
   "outputs": [],
   "source": [
    "x = 30 # number of frames\n",
    "y = 64 # image width\n",
    "z = 64 # image height \n",
    "\n",
    "classes = 5\n",
    "channel = 1"
   ]
  },
  {
   "cell_type": "code",
   "execution_count": 40,
   "metadata": {},
   "outputs": [
    {
     "name": "stdout",
     "output_type": "stream",
     "text": [
      "_________________________________________________________________\n",
      "Layer (type)                 Output Shape              Param #   \n",
      "=================================================================\n",
      "conv3d_23 (Conv3D)           (None, 30, 64, 64, 32)    896       \n",
      "_________________________________________________________________\n",
      "activation_23 (Activation)   (None, 30, 64, 64, 32)    0         \n",
      "_________________________________________________________________\n",
      "conv3d_24 (Conv3D)           (None, 30, 64, 64, 32)    27680     \n",
      "_________________________________________________________________\n",
      "activation_24 (Activation)   (None, 30, 64, 64, 32)    0         \n",
      "_________________________________________________________________\n",
      "max_pooling3d_16 (MaxPooling (None, 10, 22, 22, 32)    0         \n",
      "_________________________________________________________________\n",
      "dropout_15 (Dropout)         (None, 10, 22, 22, 32)    0         \n",
      "_________________________________________________________________\n",
      "conv3d_25 (Conv3D)           (None, 10, 22, 22, 64)    55360     \n",
      "_________________________________________________________________\n",
      "activation_25 (Activation)   (None, 10, 22, 22, 64)    0         \n",
      "_________________________________________________________________\n",
      "conv3d_26 (Conv3D)           (None, 10, 22, 22, 64)    110656    \n",
      "_________________________________________________________________\n",
      "activation_26 (Activation)   (None, 10, 22, 22, 64)    0         \n",
      "_________________________________________________________________\n",
      "max_pooling3d_17 (MaxPooling (None, 4, 8, 8, 64)       0         \n",
      "_________________________________________________________________\n",
      "dropout_16 (Dropout)         (None, 4, 8, 8, 64)       0         \n",
      "_________________________________________________________________\n",
      "conv3d_27 (Conv3D)           (None, 4, 8, 8, 64)       110656    \n",
      "_________________________________________________________________\n",
      "activation_27 (Activation)   (None, 4, 8, 8, 64)       0         \n",
      "_________________________________________________________________\n",
      "conv3d_28 (Conv3D)           (None, 4, 8, 8, 64)       110656    \n",
      "_________________________________________________________________\n",
      "activation_28 (Activation)   (None, 4, 8, 8, 64)       0         \n",
      "_________________________________________________________________\n",
      "max_pooling3d_18 (MaxPooling (None, 2, 3, 3, 64)       0         \n",
      "_________________________________________________________________\n",
      "dropout_17 (Dropout)         (None, 2, 3, 3, 64)       0         \n",
      "_________________________________________________________________\n",
      "flatten_6 (Flatten)          (None, 1152)              0         \n",
      "_________________________________________________________________\n",
      "dense_13 (Dense)             (None, 512)               590336    \n",
      "_________________________________________________________________\n",
      "batch_normalization_10 (Batc (None, 512)               2048      \n",
      "_________________________________________________________________\n",
      "dropout_18 (Dropout)         (None, 512)               0         \n",
      "_________________________________________________________________\n",
      "dense_14 (Dense)             (None, 5)                 2565      \n",
      "=================================================================\n",
      "Total params: 1,010,853\n",
      "Trainable params: 1,009,829\n",
      "Non-trainable params: 1,024\n",
      "_________________________________________________________________\n"
     ]
    }
   ],
   "source": [
    "model_e = Sequential()\n",
    "model_e.add(Conv3D(32, kernel_size=(3, 3, 3), input_shape=(x,y,z,channel), padding=\"same\"))\n",
    "model_e.add(Activation('relu'))\n",
    "model_e.add(Conv3D(32, padding=\"same\", kernel_size=(3, 3, 3)))\n",
    "model_e.add(Activation('relu'))\n",
    "model_e.add(MaxPooling3D(pool_size=(3, 3, 3), padding=\"same\"))\n",
    "model_e.add(Dropout(0.25))\n",
    "\n",
    "model_e.add(Conv3D(64, padding=\"same\", kernel_size=(3, 3, 3)))\n",
    "model_e.add(Activation('relu'))\n",
    "model_e.add(Conv3D(64, padding=\"same\", kernel_size=(3, 3, 3)))\n",
    "model_e.add(Activation('relu'))\n",
    "model_e.add(MaxPooling3D(pool_size=(3, 3, 3), padding=\"same\"))\n",
    "model_e.add(Dropout(0.25))\n",
    "\n",
    "model_e.add(Conv3D(64, padding=\"same\", kernel_size=(3, 3, 3)))\n",
    "model_e.add(Activation('relu'))\n",
    "model_e.add(Conv3D(64, padding=\"same\", kernel_size=(3, 3, 3)))\n",
    "model_e.add(Activation('relu'))\n",
    "model_e.add(MaxPooling3D(pool_size=(3, 3, 3), padding=\"same\"))\n",
    "model_e.add(Dropout(0.25))\n",
    "\n",
    "model_e.add(Flatten())\n",
    "model_e.add(Dense(512, activation='relu'))\n",
    "model_e.add(BatchNormalization())\n",
    "model_e.add(Dropout(0.5))\n",
    "model_e.add(Dense(classes, activation='softmax'))\n",
    "model_e.compile(optimizer=keras.optimizers.Adadelta(), loss='categorical_crossentropy', metrics=['categorical_accuracy'])\n",
    "model_e.summary()"
   ]
  },
  {
   "cell_type": "code",
   "execution_count": 41,
   "metadata": {},
   "outputs": [
    {
     "name": "stdout",
     "output_type": "stream",
     "text": [
      "Source path =  Project_data/val ; batch size = 5\n",
      "Source path =  Project_data/train ; batch size =Epoch 1/20\n",
      " 5\n"
     ]
    },
    {
     "name": "stderr",
     "output_type": "stream",
     "text": [
      "/mnt/disks/user/anaconda3/lib/python3.6/site-packages/ipykernel_launcher.py:19: DeprecationWarning: `imread` is deprecated!\n",
      "`imread` is deprecated in SciPy 1.0.0, and will be removed in 1.2.0.\n",
      "Use ``imageio.imread`` instead.\n",
      "/mnt/disks/user/anaconda3/lib/python3.6/site-packages/ipykernel_launcher.py:24: DeprecationWarning: `imresize` is deprecated!\n",
      "`imresize` is deprecated in SciPy 1.0.0, and will be removed in 1.2.0.\n",
      "Use ``skimage.transform.resize`` instead.\n"
     ]
    },
    {
     "name": "stdout",
     "output_type": "stream",
     "text": [
      "67/67 [==============================] - 39s 582ms/step - loss: 2.1254 - categorical_accuracy: 0.2746 - val_loss: 2.2144 - val_categorical_accuracy: 0.2400\n",
      "\n",
      "Epoch 00001: saving model to model_init_2020-02-0915_11_30.104831/model-00001-2.12536-0.27463-2.21442-0.24000.h5\n",
      "Epoch 2/20\n",
      "64/67 [===========================>..] - ETA: 1s - loss: 1.9234 - categorical_accuracy: 0.3063Batch:  133 Index: 5\n"
     ]
    },
    {
     "name": "stderr",
     "output_type": "stream",
     "text": [
      "/mnt/disks/user/anaconda3/lib/python3.6/site-packages/ipykernel_launcher.py:44: DeprecationWarning: `imread` is deprecated!\n",
      "`imread` is deprecated in SciPy 1.0.0, and will be removed in 1.2.0.\n",
      "Use ``imageio.imread`` instead.\n",
      "/mnt/disks/user/anaconda3/lib/python3.6/site-packages/ipykernel_launcher.py:48: DeprecationWarning: `imresize` is deprecated!\n",
      "`imresize` is deprecated in SciPy 1.0.0, and will be removed in 1.2.0.\n",
      "Use ``skimage.transform.resize`` instead.\n"
     ]
    },
    {
     "name": "stdout",
     "output_type": "stream",
     "text": [
      "67/67 [==============================] - 35s 517ms/step - loss: 1.9052 - categorical_accuracy: 0.3035 - val_loss: 3.5157 - val_categorical_accuracy: 0.3200\n",
      "\n",
      "Epoch 00002: saving model to model_init_2020-02-0915_11_30.104831/model-00002-1.90859-0.30514-3.51571-0.32000.h5\n",
      "Epoch 3/20\n",
      "67/67 [==============================] - 21s 311ms/step - loss: 1.9276 - categorical_accuracy: 0.3433 - val_loss: 4.0424 - val_categorical_accuracy: 0.1800\n",
      "\n",
      "Epoch 00003: saving model to model_init_2020-02-0915_11_30.104831/model-00003-1.92757-0.34328-4.04242-0.18000.h5\n",
      "\n",
      "Epoch 00003: ReduceLROnPlateau reducing learning rate to 0.5.\n",
      "Epoch 4/20\n",
      "67/67 [==============================] - 23s 343ms/step - loss: 1.8104 - categorical_accuracy: 0.3184 - val_loss: 1.7374 - val_categorical_accuracy: 0.2800\n",
      "\n",
      "Epoch 00004: saving model to model_init_2020-02-0915_11_30.104831/model-00004-1.81037-0.31841-1.73744-0.28000.h5\n",
      "Epoch 5/20\n",
      "67/67 [==============================] - 22s 335ms/step - loss: 1.9548 - categorical_accuracy: 0.2338 - val_loss: 1.6625 - val_categorical_accuracy: 0.3000\n",
      "\n",
      "Epoch 00005: saving model to model_init_2020-02-0915_11_30.104831/model-00005-1.95484-0.23383-1.66250-0.30000.h5\n",
      "Epoch 6/20\n",
      "67/67 [==============================] - 23s 340ms/step - loss: 1.8424 - categorical_accuracy: 0.2886 - val_loss: 1.3576 - val_categorical_accuracy: 0.3000\n",
      "\n",
      "Epoch 00006: saving model to model_init_2020-02-0915_11_30.104831/model-00006-1.84240-0.28856-1.35764-0.30000.h5\n",
      "Epoch 7/20\n",
      "67/67 [==============================] - 23s 337ms/step - loss: 1.9325 - categorical_accuracy: 0.2388 - val_loss: 1.3826 - val_categorical_accuracy: 0.3600\n",
      "\n",
      "Epoch 00007: saving model to model_init_2020-02-0915_11_30.104831/model-00007-1.93248-0.23881-1.38256-0.36000.h5\n",
      "Epoch 8/20\n",
      "67/67 [==============================] - 23s 337ms/step - loss: 1.7208 - categorical_accuracy: 0.3184 - val_loss: 1.3737 - val_categorical_accuracy: 0.4400\n",
      "\n",
      "Epoch 00008: saving model to model_init_2020-02-0915_11_30.104831/model-00008-1.72078-0.31841-1.37372-0.44000.h5\n",
      "\n",
      "Epoch 00008: ReduceLROnPlateau reducing learning rate to 0.25.\n",
      "Epoch 9/20\n",
      "67/67 [==============================] - 22s 324ms/step - loss: 1.8504 - categorical_accuracy: 0.2985 - val_loss: 1.3221 - val_categorical_accuracy: 0.3800\n",
      "\n",
      "Epoch 00009: saving model to model_init_2020-02-0915_11_30.104831/model-00009-1.85037-0.29851-1.32209-0.38000.h5\n",
      "Epoch 10/20\n",
      "67/67 [==============================] - 24s 360ms/step - loss: 1.7695 - categorical_accuracy: 0.2935 - val_loss: 1.1552 - val_categorical_accuracy: 0.5200\n",
      "\n",
      "Epoch 00010: saving model to model_init_2020-02-0915_11_30.104831/model-00010-1.76946-0.29353-1.15520-0.52000.h5\n",
      "Epoch 11/20\n",
      "67/67 [==============================] - 22s 331ms/step - loss: 1.7712 - categorical_accuracy: 0.3035 - val_loss: 1.2987 - val_categorical_accuracy: 0.4400\n",
      "\n",
      "Epoch 00011: saving model to model_init_2020-02-0915_11_30.104831/model-00011-1.77117-0.30348-1.29870-0.44000.h5\n",
      "Epoch 12/20\n",
      "67/67 [==============================] - 22s 331ms/step - loss: 1.7441 - categorical_accuracy: 0.3134 - val_loss: 1.2439 - val_categorical_accuracy: 0.5000\n",
      "\n",
      "Epoch 00012: saving model to model_init_2020-02-0915_11_30.104831/model-00012-1.74410-0.31343-1.24395-0.50000.h5\n",
      "\n",
      "Epoch 00012: ReduceLROnPlateau reducing learning rate to 0.125.\n",
      "Epoch 13/20\n",
      "67/67 [==============================] - 24s 359ms/step - loss: 1.7043 - categorical_accuracy: 0.2935 - val_loss: 1.3049 - val_categorical_accuracy: 0.4200\n",
      "\n",
      "Epoch 00013: saving model to model_init_2020-02-0915_11_30.104831/model-00013-1.70434-0.29353-1.30492-0.42000.h5\n",
      "Epoch 14/20\n",
      "67/67 [==============================] - 23s 349ms/step - loss: 1.6109 - categorical_accuracy: 0.3433 - val_loss: 1.2216 - val_categorical_accuracy: 0.4400\n",
      "\n",
      "Epoch 00014: saving model to model_init_2020-02-0915_11_30.104831/model-00014-1.61092-0.34328-1.22161-0.44000.h5\n",
      "\n",
      "Epoch 00014: ReduceLROnPlateau reducing learning rate to 0.0625.\n",
      "Epoch 15/20\n",
      "67/67 [==============================] - 21s 315ms/step - loss: 1.5941 - categorical_accuracy: 0.3085 - val_loss: 1.2741 - val_categorical_accuracy: 0.3600\n",
      "\n",
      "Epoch 00015: saving model to model_init_2020-02-0915_11_30.104831/model-00015-1.59408-0.30846-1.27406-0.36000.h5\n",
      "Epoch 16/20\n",
      "67/67 [==============================] - 22s 329ms/step - loss: 1.5922 - categorical_accuracy: 0.3184 - val_loss: 1.2396 - val_categorical_accuracy: 0.5000\n",
      "\n",
      "Epoch 00016: saving model to model_init_2020-02-0915_11_30.104831/model-00016-1.59218-0.31841-1.23961-0.50000.h5\n",
      "\n",
      "Epoch 00016: ReduceLROnPlateau reducing learning rate to 0.03125.\n",
      "Epoch 17/20\n",
      "67/67 [==============================] - 23s 343ms/step - loss: 1.7679 - categorical_accuracy: 0.2935 - val_loss: 1.2254 - val_categorical_accuracy: 0.4800\n",
      "\n",
      "Epoch 00017: saving model to model_init_2020-02-0915_11_30.104831/model-00017-1.76793-0.29353-1.22543-0.48000.h5\n",
      "Epoch 18/20\n",
      "67/67 [==============================] - 23s 339ms/step - loss: 1.6496 - categorical_accuracy: 0.2935 - val_loss: 1.2835 - val_categorical_accuracy: 0.4600\n",
      "\n",
      "Epoch 00018: saving model to model_init_2020-02-0915_11_30.104831/model-00018-1.64962-0.29353-1.28352-0.46000.h5\n",
      "\n",
      "Epoch 00018: ReduceLROnPlateau reducing learning rate to 0.015625.\n",
      "Epoch 19/20\n",
      "67/67 [==============================] - 23s 346ms/step - loss: 1.6630 - categorical_accuracy: 0.2886 - val_loss: 1.2518 - val_categorical_accuracy: 0.4800\n",
      "\n",
      "Epoch 00019: saving model to model_init_2020-02-0915_11_30.104831/model-00019-1.66300-0.28856-1.25178-0.48000.h5\n",
      "Epoch 20/20\n",
      "67/67 [==============================] - 22s 333ms/step - loss: 1.6839 - categorical_accuracy: 0.2736 - val_loss: 1.2393 - val_categorical_accuracy: 0.4000\n",
      "\n",
      "Epoch 00020: saving model to model_init_2020-02-0915_11_30.104831/model-00020-1.68394-0.27363-1.23933-0.40000.h5\n",
      "\n",
      "Epoch 00020: ReduceLROnPlateau reducing learning rate to 0.0078125.\n"
     ]
    },
    {
     "data": {
      "text/plain": [
       "<keras.callbacks.History at 0x7fa79157a048>"
      ]
     },
     "execution_count": 41,
     "metadata": {},
     "output_type": "execute_result"
    }
   ],
   "source": [
    "batch_size = 5\n",
    "train_generator = generator_ex(train_path, train_doc, batch_size)\n",
    "val_generator = generator_ex(val_path, val_doc, batch_size)\n",
    "num_epochs = 20\n",
    "model_e.fit_generator(train_generator, steps_per_epoch=steps_per_epoch, epochs=num_epochs, verbose=1, \n",
    "                    callbacks=callbacks_list, validation_data=val_generator, \n",
    "                    validation_steps=validation_steps, class_weight=None, workers=1, initial_epoch=0)"
   ]
  },
  {
   "cell_type": "markdown",
   "metadata": {},
   "source": [
    "##### model_f"
   ]
  },
  {
   "cell_type": "code",
   "execution_count": 42,
   "metadata": {},
   "outputs": [
    {
     "name": "stdout",
     "output_type": "stream",
     "text": [
      "_________________________________________________________________\n",
      "Layer (type)                 Output Shape              Param #   \n",
      "=================================================================\n",
      "conv3d_29 (Conv3D)           (None, 30, 120, 120, 8)   224       \n",
      "_________________________________________________________________\n",
      "batch_normalization_11 (Batc (None, 30, 120, 120, 8)   32        \n",
      "_________________________________________________________________\n",
      "activation_29 (Activation)   (None, 30, 120, 120, 8)   0         \n",
      "_________________________________________________________________\n",
      "max_pooling3d_19 (MaxPooling (None, 15, 60, 60, 8)     0         \n",
      "_________________________________________________________________\n",
      "conv3d_30 (Conv3D)           (None, 15, 60, 60, 16)    3472      \n",
      "_________________________________________________________________\n",
      "batch_normalization_12 (Batc (None, 15, 60, 60, 16)    64        \n",
      "_________________________________________________________________\n",
      "activation_30 (Activation)   (None, 15, 60, 60, 16)    0         \n",
      "_________________________________________________________________\n",
      "max_pooling3d_20 (MaxPooling (None, 7, 30, 30, 16)     0         \n",
      "_________________________________________________________________\n",
      "conv3d_31 (Conv3D)           (None, 7, 30, 30, 32)     4640      \n",
      "_________________________________________________________________\n",
      "batch_normalization_13 (Batc (None, 7, 30, 30, 32)     128       \n",
      "_________________________________________________________________\n",
      "activation_31 (Activation)   (None, 7, 30, 30, 32)     0         \n",
      "_________________________________________________________________\n",
      "max_pooling3d_21 (MaxPooling (None, 3, 15, 15, 32)     0         \n",
      "_________________________________________________________________\n",
      "conv3d_32 (Conv3D)           (None, 3, 15, 15, 64)     18496     \n",
      "_________________________________________________________________\n",
      "batch_normalization_14 (Batc (None, 3, 15, 15, 64)     256       \n",
      "_________________________________________________________________\n",
      "activation_32 (Activation)   (None, 3, 15, 15, 64)     0         \n",
      "_________________________________________________________________\n",
      "max_pooling3d_22 (MaxPooling (None, 1, 7, 7, 64)       0         \n",
      "_________________________________________________________________\n",
      "flatten_7 (Flatten)          (None, 3136)              0         \n",
      "_________________________________________________________________\n",
      "dense_15 (Dense)             (None, 1000)              3137000   \n",
      "_________________________________________________________________\n",
      "dropout_19 (Dropout)         (None, 1000)              0         \n",
      "_________________________________________________________________\n",
      "dense_16 (Dense)             (None, 500)               500500    \n",
      "_________________________________________________________________\n",
      "dropout_20 (Dropout)         (None, 500)               0         \n",
      "_________________________________________________________________\n",
      "dense_17 (Dense)             (None, 5)                 2505      \n",
      "=================================================================\n",
      "Total params: 3,667,317\n",
      "Trainable params: 3,667,077\n",
      "Non-trainable params: 240\n",
      "_________________________________________________________________\n"
     ]
    }
   ],
   "source": [
    "x = 30 # number of frames\n",
    "y = 120 # image width\n",
    "z = 120 # image height \n",
    "\n",
    "classes = 5\n",
    "channel = 1\n",
    "nb_dense = [1000, 500, 5]\n",
    "\n",
    "input_shape=(x,y,z,channel)\n",
    "\n",
    "# Define model\n",
    "model_f = Sequential()\n",
    "\n",
    "model_f.add(Conv3D(nb_filters[0], \n",
    "                 kernel_size=(3,3,3), \n",
    "                 input_shape=input_shape,\n",
    "                 padding='same'))\n",
    "model_f.add(BatchNormalization())\n",
    "model_f.add(Activation('relu'))\n",
    "\n",
    "model_f.add(MaxPooling3D(pool_size=(2,2,2)))\n",
    "\n",
    "model_f.add(Conv3D(nb_filters[1], \n",
    "                 kernel_size=(3,3,3), \n",
    "                 padding='same'))\n",
    "model_f.add(BatchNormalization())\n",
    "model_f.add(Activation('relu'))\n",
    "\n",
    "model_f.add(MaxPooling3D(pool_size=(2,2,2)))\n",
    "\n",
    "model_f.add(Conv3D(nb_filters[2], \n",
    "                 kernel_size=(1,3,3), \n",
    "                 padding='same'))\n",
    "model_f.add(BatchNormalization())\n",
    "model_f.add(Activation('relu'))\n",
    "\n",
    "model_f.add(MaxPooling3D(pool_size=(2,2,2)))\n",
    "\n",
    "model_f.add(Conv3D(nb_filters[3], \n",
    "                 kernel_size=(1,3,3), \n",
    "                 padding='same'))\n",
    "model_f.add(BatchNormalization())\n",
    "model_f.add(Activation('relu'))\n",
    "\n",
    "model_f.add(MaxPooling3D(pool_size=(2,2,2)))\n",
    "\n",
    "#Flatten Layers\n",
    "model_f.add(Flatten())\n",
    "\n",
    "model_f.add(Dense(nb_dense[0], activation='relu'))\n",
    "model_f.add(Dropout(0.5))\n",
    "\n",
    "model_f.add(Dense(nb_dense[1], activation='relu'))\n",
    "model_f.add(Dropout(0.5))\n",
    "\n",
    "#softmax layer\n",
    "model_f.add(Dense(nb_dense[2], activation='softmax'))\n",
    "model_f.compile(optimizer=keras.optimizers.Adadelta(), loss='categorical_crossentropy', metrics=['categorical_accuracy'])\n",
    "model_f.summary()"
   ]
  },
  {
   "cell_type": "code",
   "execution_count": 43,
   "metadata": {},
   "outputs": [
    {
     "name": "stdout",
     "output_type": "stream",
     "text": [
      "Source path =  Project_data/val ; batch size = 10\n",
      "Source path =  Project_data/train ; batch size = 10\n",
      "Epoch 1/30\n"
     ]
    },
    {
     "name": "stderr",
     "output_type": "stream",
     "text": [
      "/mnt/disks/user/anaconda3/lib/python3.6/site-packages/ipykernel_launcher.py:19: DeprecationWarning: `imread` is deprecated!\n",
      "`imread` is deprecated in SciPy 1.0.0, and will be removed in 1.2.0.\n",
      "Use ``imageio.imread`` instead.\n",
      "/mnt/disks/user/anaconda3/lib/python3.6/site-packages/ipykernel_launcher.py:24: DeprecationWarning: `imresize` is deprecated!\n",
      "`imresize` is deprecated in SciPy 1.0.0, and will be removed in 1.2.0.\n",
      "Use ``skimage.transform.resize`` instead.\n"
     ]
    },
    {
     "name": "stdout",
     "output_type": "stream",
     "text": [
      "65/67 [============================>.] - ETA: 2s - loss: 6.3931 - categorical_accuracy: 0.2554Batch:  67 Index: 10\n"
     ]
    },
    {
     "name": "stderr",
     "output_type": "stream",
     "text": [
      "/mnt/disks/user/anaconda3/lib/python3.6/site-packages/ipykernel_launcher.py:44: DeprecationWarning: `imread` is deprecated!\n",
      "`imread` is deprecated in SciPy 1.0.0, and will be removed in 1.2.0.\n",
      "Use ``imageio.imread`` instead.\n",
      "/mnt/disks/user/anaconda3/lib/python3.6/site-packages/ipykernel_launcher.py:48: DeprecationWarning: `imresize` is deprecated!\n",
      "`imresize` is deprecated in SciPy 1.0.0, and will be removed in 1.2.0.\n",
      "Use ``skimage.transform.resize`` instead.\n"
     ]
    },
    {
     "name": "stdout",
     "output_type": "stream",
     "text": [
      "67/67 [==============================] - 81s 1s/step - loss: 6.3501 - categorical_accuracy: 0.2508 - val_loss: 5.0220 - val_categorical_accuracy: 0.2500\n",
      "\n",
      "Epoch 00001: saving model to model_init_2020-02-0915_11_30.104831/model-00001-6.35119-0.25339-5.02199-0.25000.h5\n",
      "Epoch 2/30\n",
      "67/67 [==============================] - 24s 363ms/step - loss: 2.8264 - categorical_accuracy: 0.2388 - val_loss: 1.4508 - val_categorical_accuracy: 0.3600\n",
      "\n",
      "Epoch 00002: saving model to model_init_2020-02-0915_11_30.104831/model-00002-2.82644-0.23881-1.45077-0.36000.h5\n",
      "Epoch 3/30\n",
      "67/67 [==============================] - 25s 369ms/step - loss: 1.7548 - categorical_accuracy: 0.3284 - val_loss: 1.2833 - val_categorical_accuracy: 0.4600\n",
      "\n",
      "Epoch 00003: saving model to model_init_2020-02-0915_11_30.104831/model-00003-1.75477-0.32836-1.28334-0.46000.h5\n",
      "Epoch 4/30\n",
      "67/67 [==============================] - 26s 394ms/step - loss: 1.6751 - categorical_accuracy: 0.3085 - val_loss: 1.4143 - val_categorical_accuracy: 0.3500\n",
      "\n",
      "Epoch 00004: saving model to model_init_2020-02-0915_11_30.104831/model-00004-1.67512-0.30846-1.41432-0.35000.h5\n",
      "Epoch 5/30\n",
      "67/67 [==============================] - 25s 380ms/step - loss: 1.5508 - categorical_accuracy: 0.2985 - val_loss: 1.2582 - val_categorical_accuracy: 0.4400\n",
      "\n",
      "Epoch 00005: saving model to model_init_2020-02-0915_11_30.104831/model-00005-1.55079-0.29851-1.25823-0.44000.h5\n",
      "Epoch 6/30\n",
      "67/67 [==============================] - 27s 406ms/step - loss: 1.6173 - categorical_accuracy: 0.2985 - val_loss: 1.2563 - val_categorical_accuracy: 0.4400\n",
      "\n",
      "Epoch 00006: saving model to model_init_2020-02-0915_11_30.104831/model-00006-1.61732-0.29851-1.25626-0.44000.h5\n",
      "Epoch 7/30\n",
      "67/67 [==============================] - 25s 374ms/step - loss: 1.4620 - categorical_accuracy: 0.3781 - val_loss: 1.1161 - val_categorical_accuracy: 0.5700\n",
      "\n",
      "Epoch 00007: saving model to model_init_2020-02-0915_11_30.104831/model-00007-1.46198-0.37811-1.11607-0.57000.h5\n",
      "Epoch 8/30\n",
      "67/67 [==============================] - 27s 399ms/step - loss: 1.3383 - categorical_accuracy: 0.4229 - val_loss: 1.4171 - val_categorical_accuracy: 0.4100\n",
      "\n",
      "Epoch 00008: saving model to model_init_2020-02-0915_11_30.104831/model-00008-1.33835-0.42289-1.41714-0.41000.h5\n",
      "Epoch 9/30\n",
      "67/67 [==============================] - 26s 385ms/step - loss: 1.3828 - categorical_accuracy: 0.4279 - val_loss: 1.2011 - val_categorical_accuracy: 0.4700\n",
      "\n",
      "Epoch 00009: saving model to model_init_2020-02-0915_11_30.104831/model-00009-1.38278-0.42786-1.20109-0.47000.h5\n",
      "\n",
      "Epoch 00009: ReduceLROnPlateau reducing learning rate to 0.5.\n",
      "Epoch 10/30\n",
      "67/67 [==============================] - 25s 368ms/step - loss: 1.2304 - categorical_accuracy: 0.5124 - val_loss: 1.0332 - val_categorical_accuracy: 0.5000\n",
      "\n",
      "Epoch 00010: saving model to model_init_2020-02-0915_11_30.104831/model-00010-1.23038-0.51244-1.03318-0.50000.h5\n",
      "Epoch 11/30\n",
      "67/67 [==============================] - 27s 409ms/step - loss: 1.3037 - categorical_accuracy: 0.4677 - val_loss: 1.0763 - val_categorical_accuracy: 0.5300\n",
      "\n",
      "Epoch 00011: saving model to model_init_2020-02-0915_11_30.104831/model-00011-1.30370-0.46766-1.07628-0.53000.h5\n",
      "Epoch 12/30\n",
      "67/67 [==============================] - 25s 368ms/step - loss: 1.2734 - categorical_accuracy: 0.3930 - val_loss: 0.9532 - val_categorical_accuracy: 0.6600\n",
      "\n",
      "Epoch 00012: saving model to model_init_2020-02-0915_11_30.104831/model-00012-1.27343-0.39303-0.95323-0.66000.h5\n",
      "Epoch 13/30\n",
      "67/67 [==============================] - 27s 397ms/step - loss: 1.2324 - categorical_accuracy: 0.4975 - val_loss: 0.9797 - val_categorical_accuracy: 0.6400\n",
      "\n",
      "Epoch 00013: saving model to model_init_2020-02-0915_11_30.104831/model-00013-1.23235-0.49751-0.97966-0.64000.h5\n",
      "Epoch 14/30\n",
      "67/67 [==============================] - 26s 381ms/step - loss: 1.2394 - categorical_accuracy: 0.4627 - val_loss: 0.9024 - val_categorical_accuracy: 0.6400\n",
      "\n",
      "Epoch 00014: saving model to model_init_2020-02-0915_11_30.104831/model-00014-1.23936-0.46269-0.90245-0.64000.h5\n",
      "Epoch 15/30\n",
      "67/67 [==============================] - 26s 394ms/step - loss: 1.1547 - categorical_accuracy: 0.5323 - val_loss: 0.7597 - val_categorical_accuracy: 0.6900\n",
      "\n",
      "Epoch 00015: saving model to model_init_2020-02-0915_11_30.104831/model-00015-1.15469-0.53234-0.75974-0.69000.h5\n",
      "Epoch 16/30\n",
      "67/67 [==============================] - 27s 398ms/step - loss: 1.0360 - categorical_accuracy: 0.5323 - val_loss: 0.9619 - val_categorical_accuracy: 0.6000\n",
      "\n",
      "Epoch 00016: saving model to model_init_2020-02-0915_11_30.104831/model-00016-1.03598-0.53234-0.96192-0.60000.h5\n",
      "Epoch 17/30\n",
      "67/67 [==============================] - 24s 364ms/step - loss: 1.2139 - categorical_accuracy: 0.5323 - val_loss: 1.1313 - val_categorical_accuracy: 0.5200\n",
      "\n",
      "Epoch 00017: saving model to model_init_2020-02-0915_11_30.104831/model-00017-1.21395-0.53234-1.13129-0.52000.h5\n",
      "\n",
      "Epoch 00017: ReduceLROnPlateau reducing learning rate to 0.25.\n",
      "Epoch 18/30\n",
      "67/67 [==============================] - 26s 383ms/step - loss: 1.0178 - categorical_accuracy: 0.5821 - val_loss: 0.7725 - val_categorical_accuracy: 0.6800\n",
      "\n",
      "Epoch 00018: saving model to model_init_2020-02-0915_11_30.104831/model-00018-1.01784-0.58209-0.77249-0.68000.h5\n",
      "Epoch 19/30\n",
      "67/67 [==============================] - 27s 403ms/step - loss: 0.9368 - categorical_accuracy: 0.6617 - val_loss: 0.6757 - val_categorical_accuracy: 0.7100\n",
      "\n",
      "Epoch 00019: saving model to model_init_2020-02-0915_11_30.104831/model-00019-0.93680-0.66169-0.67567-0.71000.h5\n",
      "Epoch 20/30\n",
      "67/67 [==============================] - 26s 391ms/step - loss: 0.8467 - categorical_accuracy: 0.6617 - val_loss: 0.6601 - val_categorical_accuracy: 0.7500\n",
      "\n",
      "Epoch 00020: saving model to model_init_2020-02-0915_11_30.104831/model-00020-0.84665-0.66169-0.66012-0.75000.h5\n",
      "Epoch 21/30\n",
      "67/67 [==============================] - 25s 370ms/step - loss: 0.9324 - categorical_accuracy: 0.6567 - val_loss: 0.6469 - val_categorical_accuracy: 0.7800\n",
      "\n",
      "Epoch 00021: saving model to model_init_2020-02-0915_11_30.104831/model-00021-0.93239-0.65672-0.64690-0.78000.h5\n",
      "Epoch 22/30\n",
      "67/67 [==============================] - 25s 377ms/step - loss: 0.7794 - categorical_accuracy: 0.7065 - val_loss: 0.5680 - val_categorical_accuracy: 0.7900\n",
      "\n",
      "Epoch 00022: saving model to model_init_2020-02-0915_11_30.104831/model-00022-0.77944-0.70647-0.56801-0.79000.h5\n",
      "Epoch 23/30\n",
      "67/67 [==============================] - 27s 406ms/step - loss: 0.9116 - categorical_accuracy: 0.6418 - val_loss: 0.6692 - val_categorical_accuracy: 0.7400\n",
      "\n",
      "Epoch 00023: saving model to model_init_2020-02-0915_11_30.104831/model-00023-0.91160-0.64179-0.66922-0.74000.h5\n",
      "Epoch 24/30\n",
      "67/67 [==============================] - 26s 389ms/step - loss: 0.9516 - categorical_accuracy: 0.6318 - val_loss: 0.7168 - val_categorical_accuracy: 0.7300\n",
      "\n",
      "Epoch 00024: saving model to model_init_2020-02-0915_11_30.104831/model-00024-0.95164-0.63184-0.71680-0.73000.h5\n",
      "\n",
      "Epoch 00024: ReduceLROnPlateau reducing learning rate to 0.125.\n",
      "Epoch 25/30\n",
      "67/67 [==============================] - 25s 375ms/step - loss: 0.8113 - categorical_accuracy: 0.6965 - val_loss: 0.7124 - val_categorical_accuracy: 0.7200\n",
      "\n",
      "Epoch 00025: saving model to model_init_2020-02-0915_11_30.104831/model-00025-0.81125-0.69652-0.71235-0.72000.h5\n",
      "Epoch 26/30\n",
      "67/67 [==============================] - 26s 384ms/step - loss: 0.6949 - categorical_accuracy: 0.7164 - val_loss: 0.5800 - val_categorical_accuracy: 0.7900\n",
      "\n",
      "Epoch 00026: saving model to model_init_2020-02-0915_11_30.104831/model-00026-0.69491-0.71642-0.57996-0.79000.h5\n",
      "\n",
      "Epoch 00026: ReduceLROnPlateau reducing learning rate to 0.0625.\n",
      "Epoch 27/30\n",
      "67/67 [==============================] - 26s 385ms/step - loss: 0.7059 - categorical_accuracy: 0.7264 - val_loss: 0.5599 - val_categorical_accuracy: 0.7800\n",
      "\n",
      "Epoch 00027: saving model to model_init_2020-02-0915_11_30.104831/model-00027-0.70589-0.72637-0.55992-0.78000.h5\n",
      "Epoch 28/30\n",
      "67/67 [==============================] - 27s 410ms/step - loss: 0.7905 - categorical_accuracy: 0.7164 - val_loss: 0.5599 - val_categorical_accuracy: 0.7900\n",
      "\n",
      "Epoch 00028: saving model to model_init_2020-02-0915_11_30.104831/model-00028-0.79050-0.71642-0.55994-0.79000.h5\n",
      "Epoch 29/30\n",
      "67/67 [==============================] - 26s 386ms/step - loss: 0.7271 - categorical_accuracy: 0.7313 - val_loss: 0.5763 - val_categorical_accuracy: 0.7700\n",
      "\n",
      "Epoch 00029: saving model to model_init_2020-02-0915_11_30.104831/model-00029-0.72714-0.73134-0.57632-0.77000.h5\n",
      "\n",
      "Epoch 00029: ReduceLROnPlateau reducing learning rate to 0.03125.\n",
      "Epoch 30/30\n",
      "67/67 [==============================] - 26s 385ms/step - loss: 0.5934 - categorical_accuracy: 0.7662 - val_loss: 0.5669 - val_categorical_accuracy: 0.7600\n",
      "\n",
      "Epoch 00030: saving model to model_init_2020-02-0915_11_30.104831/model-00030-0.59340-0.76617-0.56693-0.76000.h5\n"
     ]
    },
    {
     "data": {
      "text/plain": [
       "<keras.callbacks.History at 0x7fa78efb5e48>"
      ]
     },
     "execution_count": 43,
     "metadata": {},
     "output_type": "execute_result"
    }
   ],
   "source": [
    "batch_size = 10\n",
    "train_generator = generator_ex(train_path, train_doc, batch_size)\n",
    "val_generator = generator_ex(val_path, val_doc, batch_size)\n",
    "num_epochs = 30\n",
    "model_f.fit_generator(train_generator, steps_per_epoch=steps_per_epoch, epochs=num_epochs, verbose=1, \n",
    "                    callbacks=callbacks_list, validation_data=val_generator, \n",
    "                    validation_steps=validation_steps, class_weight=None, workers=1, initial_epoch=0)"
   ]
  },
  {
   "cell_type": "markdown",
   "metadata": {},
   "source": [
    "##### model_g"
   ]
  },
  {
   "cell_type": "code",
   "execution_count": 44,
   "metadata": {},
   "outputs": [
    {
     "name": "stdout",
     "output_type": "stream",
     "text": [
      "_________________________________________________________________\n",
      "Layer (type)                 Output Shape              Param #   \n",
      "=================================================================\n",
      "conv3d_33 (Conv3D)           (None, 30, 120, 120, 8)   656       \n",
      "_________________________________________________________________\n",
      "batch_normalization_15 (Batc (None, 30, 120, 120, 8)   32        \n",
      "_________________________________________________________________\n",
      "activation_33 (Activation)   (None, 30, 120, 120, 8)   0         \n",
      "_________________________________________________________________\n",
      "max_pooling3d_23 (MaxPooling (None, 15, 60, 60, 8)     0         \n",
      "_________________________________________________________________\n",
      "conv3d_34 (Conv3D)           (None, 15, 60, 60, 16)    3472      \n",
      "_________________________________________________________________\n",
      "batch_normalization_16 (Batc (None, 15, 60, 60, 16)    64        \n",
      "_________________________________________________________________\n",
      "activation_34 (Activation)   (None, 15, 60, 60, 16)    0         \n",
      "_________________________________________________________________\n",
      "max_pooling3d_24 (MaxPooling (None, 7, 30, 30, 16)     0         \n",
      "_________________________________________________________________\n",
      "conv3d_35 (Conv3D)           (None, 7, 30, 30, 32)     4640      \n",
      "_________________________________________________________________\n",
      "batch_normalization_17 (Batc (None, 7, 30, 30, 32)     128       \n",
      "_________________________________________________________________\n",
      "activation_35 (Activation)   (None, 7, 30, 30, 32)     0         \n",
      "_________________________________________________________________\n",
      "max_pooling3d_25 (MaxPooling (None, 3, 15, 15, 32)     0         \n",
      "_________________________________________________________________\n",
      "conv3d_36 (Conv3D)           (None, 3, 15, 15, 64)     18496     \n",
      "_________________________________________________________________\n",
      "batch_normalization_18 (Batc (None, 3, 15, 15, 64)     256       \n",
      "_________________________________________________________________\n",
      "activation_36 (Activation)   (None, 3, 15, 15, 64)     0         \n",
      "_________________________________________________________________\n",
      "max_pooling3d_26 (MaxPooling (None, 1, 7, 7, 64)       0         \n",
      "_________________________________________________________________\n",
      "flatten_8 (Flatten)          (None, 3136)              0         \n",
      "_________________________________________________________________\n",
      "dense_18 (Dense)             (None, 1000)              3137000   \n",
      "_________________________________________________________________\n",
      "dropout_21 (Dropout)         (None, 1000)              0         \n",
      "_________________________________________________________________\n",
      "dense_19 (Dense)             (None, 500)               500500    \n",
      "_________________________________________________________________\n",
      "dropout_22 (Dropout)         (None, 500)               0         \n",
      "_________________________________________________________________\n",
      "dense_20 (Dense)             (None, 5)                 2505      \n",
      "=================================================================\n",
      "Total params: 3,667,749\n",
      "Trainable params: 3,667,509\n",
      "Non-trainable params: 240\n",
      "_________________________________________________________________\n"
     ]
    }
   ],
   "source": [
    "x = 30 # number of frames\n",
    "y = 120 # image width\n",
    "z = 120 # image height \n",
    "\n",
    "classes = 5\n",
    "channel = 3\n",
    "nb_dense = [1000, 500, 5]\n",
    "\n",
    "input_shape=(x,y,z,channel)\n",
    "\n",
    "# Define model\n",
    "model_g = Sequential()\n",
    "\n",
    "model_g.add(Conv3D(nb_filters[0], \n",
    "                 kernel_size=(3,3,3), \n",
    "                 input_shape=input_shape,\n",
    "                 padding='same'))\n",
    "model_g.add(BatchNormalization())\n",
    "model_g.add(Activation('relu'))\n",
    "\n",
    "model_g.add(MaxPooling3D(pool_size=(2,2,2)))\n",
    "\n",
    "model_g.add(Conv3D(nb_filters[1], \n",
    "                 kernel_size=(3,3,3), \n",
    "                 padding='same'))\n",
    "model_g.add(BatchNormalization())\n",
    "model_g.add(Activation('relu'))\n",
    "\n",
    "model_g.add(MaxPooling3D(pool_size=(2,2,2)))\n",
    "\n",
    "model_g.add(Conv3D(nb_filters[2], \n",
    "                 kernel_size=(1,3,3), \n",
    "                 padding='same'))\n",
    "model_g.add(BatchNormalization())\n",
    "model_g.add(Activation('relu'))\n",
    "\n",
    "model_g.add(MaxPooling3D(pool_size=(2,2,2)))\n",
    "\n",
    "model_g.add(Conv3D(nb_filters[3], \n",
    "                 kernel_size=(1,3,3), \n",
    "                 padding='same'))\n",
    "model_g.add(BatchNormalization())\n",
    "model_g.add(Activation('relu'))\n",
    "\n",
    "model_g.add(MaxPooling3D(pool_size=(2,2,2)))\n",
    "\n",
    "#Flatten Layers\n",
    "model_g.add(Flatten())\n",
    "\n",
    "model_g.add(Dense(nb_dense[0], activation='relu'))\n",
    "model_g.add(Dropout(0.5))\n",
    "\n",
    "model_g.add(Dense(nb_dense[1], activation='relu'))\n",
    "model_g.add(Dropout(0.5))\n",
    "\n",
    "#softmax layer\n",
    "model_g.add(Dense(nb_dense[2], activation='softmax'))\n",
    "model_g.compile(optimizer=keras.optimizers.Adadelta(), loss='categorical_crossentropy', metrics=['categorical_accuracy'])\n",
    "model_g.summary()"
   ]
  },
  {
   "cell_type": "markdown",
   "metadata": {},
   "source": [
    "##### Model_h"
   ]
  },
  {
   "cell_type": "code",
   "execution_count": 45,
   "metadata": {},
   "outputs": [
    {
     "name": "stdout",
     "output_type": "stream",
     "text": [
      "Source path =  Project_data/val ; batch size =Source path =  Project_data/train ; batch size = 10\n",
      " 10\n",
      "Epoch 1/10\n"
     ]
    },
    {
     "name": "stderr",
     "output_type": "stream",
     "text": [
      "/mnt/disks/user/anaconda3/lib/python3.6/site-packages/ipykernel_launcher.py:19: DeprecationWarning: `imread` is deprecated!\n",
      "`imread` is deprecated in SciPy 1.0.0, and will be removed in 1.2.0.\n",
      "Use ``imageio.imread`` instead.\n",
      "/mnt/disks/user/anaconda3/lib/python3.6/site-packages/ipykernel_launcher.py:24: DeprecationWarning: `imresize` is deprecated!\n",
      "`imresize` is deprecated in SciPy 1.0.0, and will be removed in 1.2.0.\n",
      "Use ``skimage.transform.resize`` instead.\n"
     ]
    },
    {
     "name": "stdout",
     "output_type": "stream",
     "text": [
      "65/67 [============================>.] - ETA: 2s - loss: 5.8213 - categorical_accuracy: 0.2785Batch:  67 Index: 10\n"
     ]
    },
    {
     "name": "stderr",
     "output_type": "stream",
     "text": [
      "/mnt/disks/user/anaconda3/lib/python3.6/site-packages/ipykernel_launcher.py:44: DeprecationWarning: `imread` is deprecated!\n",
      "`imread` is deprecated in SciPy 1.0.0, and will be removed in 1.2.0.\n",
      "Use ``imageio.imread`` instead.\n",
      "/mnt/disks/user/anaconda3/lib/python3.6/site-packages/ipykernel_launcher.py:48: DeprecationWarning: `imresize` is deprecated!\n",
      "`imresize` is deprecated in SciPy 1.0.0, and will be removed in 1.2.0.\n",
      "Use ``skimage.transform.resize`` instead.\n"
     ]
    },
    {
     "name": "stdout",
     "output_type": "stream",
     "text": [
      "67/67 [==============================] - 86s 1s/step - loss: 5.7498 - categorical_accuracy: 0.2732 - val_loss: 2.1726 - val_categorical_accuracy: 0.3300\n",
      "\n",
      "Epoch 00001: saving model to model_init_2020-02-0915_11_30.104831/model-00001-5.76806-0.27602-2.17264-0.33000.h5\n",
      "Epoch 2/10\n",
      "67/67 [==============================] - 26s 382ms/step - loss: 2.6280 - categorical_accuracy: 0.2537 - val_loss: 1.4409 - val_categorical_accuracy: 0.4300\n",
      "\n",
      "Epoch 00002: saving model to model_init_2020-02-0915_11_30.104831/model-00002-2.62800-0.25373-1.44085-0.43000.h5\n",
      "Epoch 3/10\n",
      "67/67 [==============================] - 28s 414ms/step - loss: 1.8095 - categorical_accuracy: 0.3184 - val_loss: 1.7458 - val_categorical_accuracy: 0.4000\n",
      "\n",
      "Epoch 00003: saving model to model_init_2020-02-0915_11_30.104831/model-00003-1.80948-0.31841-1.74579-0.40000.h5\n",
      "Epoch 4/10\n",
      "67/67 [==============================] - 30s 441ms/step - loss: 1.9048 - categorical_accuracy: 0.2289 - val_loss: 1.4758 - val_categorical_accuracy: 0.2500\n",
      "\n",
      "Epoch 00004: saving model to model_init_2020-02-0915_11_30.104831/model-00004-1.90479-0.22886-1.47578-0.25000.h5\n",
      "\n",
      "Epoch 00004: ReduceLROnPlateau reducing learning rate to 0.5.\n",
      "Epoch 5/10\n",
      "67/67 [==============================] - 28s 411ms/step - loss: 1.5719 - categorical_accuracy: 0.3433 - val_loss: 1.4056 - val_categorical_accuracy: 0.2700\n",
      "\n",
      "Epoch 00005: saving model to model_init_2020-02-0915_11_30.104831/model-00005-1.57190-0.34328-1.40555-0.27000.h5\n",
      "Epoch 6/10\n",
      "67/67 [==============================] - 29s 429ms/step - loss: 1.5004 - categorical_accuracy: 0.3284 - val_loss: 1.3158 - val_categorical_accuracy: 0.5300\n",
      "\n",
      "Epoch 00006: saving model to model_init_2020-02-0915_11_30.104831/model-00006-1.50036-0.32836-1.31576-0.53000.h5\n",
      "Epoch 7/10\n",
      "67/67 [==============================] - 29s 428ms/step - loss: 1.3345 - categorical_accuracy: 0.4279 - val_loss: 1.2877 - val_categorical_accuracy: 0.4200\n",
      "\n",
      "Epoch 00007: saving model to model_init_2020-02-0915_11_30.104831/model-00007-1.33447-0.42786-1.28767-0.42000.h5\n",
      "Epoch 8/10\n",
      "67/67 [==============================] - 27s 409ms/step - loss: 1.3702 - categorical_accuracy: 0.4129 - val_loss: 1.4406 - val_categorical_accuracy: 0.3800\n",
      "\n",
      "Epoch 00008: saving model to model_init_2020-02-0915_11_30.104831/model-00008-1.37016-0.41294-1.44060-0.38000.h5\n",
      "Epoch 9/10\n",
      "67/67 [==============================] - 29s 426ms/step - loss: 1.2614 - categorical_accuracy: 0.4677 - val_loss: 1.0185 - val_categorical_accuracy: 0.5900\n",
      "\n",
      "Epoch 00009: saving model to model_init_2020-02-0915_11_30.104831/model-00009-1.26135-0.46766-1.01854-0.59000.h5\n",
      "Epoch 10/10\n",
      "67/67 [==============================] - 29s 439ms/step - loss: 1.3733 - categorical_accuracy: 0.4129 - val_loss: 1.0540 - val_categorical_accuracy: 0.5800\n",
      "\n",
      "Epoch 00010: saving model to model_init_2020-02-0915_11_30.104831/model-00010-1.37329-0.41294-1.05397-0.58000.h5\n"
     ]
    },
    {
     "data": {
      "text/plain": [
       "<keras.callbacks.History at 0x7fa7877cd6a0>"
      ]
     },
     "execution_count": 45,
     "metadata": {},
     "output_type": "execute_result"
    }
   ],
   "source": [
    "batch_size = 10\n",
    "train_generator = generator_ex(train_path, train_doc, batch_size)\n",
    "val_generator = generator_ex(val_path, val_doc, batch_size)\n",
    "num_epochs = 10\n",
    "model_g.fit_generator(train_generator, steps_per_epoch=steps_per_epoch, epochs=num_epochs, verbose=1, \n",
    "                    callbacks=callbacks_list, validation_data=val_generator, \n",
    "                    validation_steps=validation_steps, class_weight=None, workers=1, initial_epoch=0)"
   ]
  },
  {
   "cell_type": "code",
   "execution_count": 46,
   "metadata": {},
   "outputs": [
    {
     "name": "stdout",
     "output_type": "stream",
     "text": [
      "_________________________________________________________________\n",
      "Layer (type)                 Output Shape              Param #   \n",
      "=================================================================\n",
      "conv3d_37 (Conv3D)           (None, 30, 120, 120, 8)   656       \n",
      "_________________________________________________________________\n",
      "batch_normalization_19 (Batc (None, 30, 120, 120, 8)   32        \n",
      "_________________________________________________________________\n",
      "activation_37 (Activation)   (None, 30, 120, 120, 8)   0         \n",
      "_________________________________________________________________\n",
      "max_pooling3d_27 (MaxPooling (None, 15, 60, 60, 8)     0         \n",
      "_________________________________________________________________\n",
      "conv3d_38 (Conv3D)           (None, 15, 60, 60, 16)    3472      \n",
      "_________________________________________________________________\n",
      "batch_normalization_20 (Batc (None, 15, 60, 60, 16)    64        \n",
      "_________________________________________________________________\n",
      "activation_38 (Activation)   (None, 15, 60, 60, 16)    0         \n",
      "_________________________________________________________________\n",
      "max_pooling3d_28 (MaxPooling (None, 7, 30, 30, 16)     0         \n",
      "_________________________________________________________________\n",
      "conv3d_39 (Conv3D)           (None, 7, 30, 30, 32)     4640      \n",
      "_________________________________________________________________\n",
      "batch_normalization_21 (Batc (None, 7, 30, 30, 32)     128       \n",
      "_________________________________________________________________\n",
      "activation_39 (Activation)   (None, 7, 30, 30, 32)     0         \n",
      "_________________________________________________________________\n",
      "max_pooling3d_29 (MaxPooling (None, 3, 15, 15, 32)     0         \n",
      "_________________________________________________________________\n",
      "conv3d_40 (Conv3D)           (None, 3, 15, 15, 64)     18496     \n",
      "_________________________________________________________________\n",
      "batch_normalization_22 (Batc (None, 3, 15, 15, 64)     256       \n",
      "_________________________________________________________________\n",
      "activation_40 (Activation)   (None, 3, 15, 15, 64)     0         \n",
      "_________________________________________________________________\n",
      "max_pooling3d_30 (MaxPooling (None, 1, 7, 7, 64)       0         \n",
      "_________________________________________________________________\n",
      "flatten_9 (Flatten)          (None, 3136)              0         \n",
      "_________________________________________________________________\n",
      "dense_21 (Dense)             (None, 1000)              3137000   \n",
      "_________________________________________________________________\n",
      "dropout_23 (Dropout)         (None, 1000)              0         \n",
      "_________________________________________________________________\n",
      "dense_22 (Dense)             (None, 500)               500500    \n",
      "_________________________________________________________________\n",
      "dropout_24 (Dropout)         (None, 500)               0         \n",
      "_________________________________________________________________\n",
      "dense_23 (Dense)             (None, 5)                 2505      \n",
      "=================================================================\n",
      "Total params: 3,667,749\n",
      "Trainable params: 3,667,509\n",
      "Non-trainable params: 240\n",
      "_________________________________________________________________\n"
     ]
    }
   ],
   "source": [
    "x = 30 # number of frames\n",
    "y = 120 # image width\n",
    "z = 120 # image height \n",
    "\n",
    "classes = 5\n",
    "channel = 3\n",
    "\n",
    "input_shape=(x,y,z,channel)\n",
    "\n",
    "# Define model\n",
    "model_h = Sequential()\n",
    "\n",
    "model_h.add(Conv3D(nb_filters[0], \n",
    "                 kernel_size=(3,3,3), \n",
    "                 input_shape=input_shape,\n",
    "                 padding='same'))\n",
    "model_h.add(BatchNormalization())\n",
    "model_h.add(Activation('relu'))\n",
    "\n",
    "model_h.add(MaxPooling3D(pool_size=(2,2,2)))\n",
    "\n",
    "model_h.add(Conv3D(nb_filters[1], \n",
    "                 kernel_size=(3,3,3), \n",
    "                 padding='same'))\n",
    "model_h.add(BatchNormalization())\n",
    "model_h.add(Activation('relu'))\n",
    "\n",
    "model_h.add(MaxPooling3D(pool_size=(2,2,2)))\n",
    "\n",
    "model_h.add(Conv3D(nb_filters[2], \n",
    "                 kernel_size=(1,3,3), \n",
    "                 padding='same'))\n",
    "model_h.add(BatchNormalization())\n",
    "model_h.add(Activation('relu'))\n",
    "\n",
    "model_h.add(MaxPooling3D(pool_size=(2,2,2)))\n",
    "\n",
    "model_h.add(Conv3D(nb_filters[3], \n",
    "                 kernel_size=(1,3,3), \n",
    "                 padding='same'))\n",
    "model_h.add(BatchNormalization())\n",
    "model_h.add(Activation('relu'))\n",
    "\n",
    "model_h.add(MaxPooling3D(pool_size=(2,2,2)))\n",
    "\n",
    "#Flatten Layers\n",
    "model_h.add(Flatten())\n",
    "\n",
    "model_h.add(Dense(nb_dense[0], activation='relu'))\n",
    "model_h.add(Dropout(0.5))\n",
    "\n",
    "model_h.add(Dense(nb_dense[1], activation='relu'))\n",
    "model_h.add(Dropout(0.5))\n",
    "\n",
    "#softmax layer\n",
    "model_h.add(Dense(nb_dense[2], activation='softmax'))\n",
    "model_h.compile(optimizer=keras.optimizers.Adadelta(), loss='categorical_crossentropy', metrics=['categorical_accuracy'])\n",
    "model_h.summary()"
   ]
  },
  {
   "cell_type": "code",
   "execution_count": 47,
   "metadata": {},
   "outputs": [
    {
     "name": "stdout",
     "output_type": "stream",
     "text": [
      "Source path =  Source path =  Project_data/train Project_data/val ; batch size = 10\n",
      "Epoch 1/10\n",
      "; batch size = 10\n"
     ]
    },
    {
     "name": "stderr",
     "output_type": "stream",
     "text": [
      "/mnt/disks/user/anaconda3/lib/python3.6/site-packages/ipykernel_launcher.py:19: DeprecationWarning: `imread` is deprecated!\n",
      "`imread` is deprecated in SciPy 1.0.0, and will be removed in 1.2.0.\n",
      "Use ``imageio.imread`` instead.\n",
      "/mnt/disks/user/anaconda3/lib/python3.6/site-packages/ipykernel_launcher.py:24: DeprecationWarning: `imresize` is deprecated!\n",
      "`imresize` is deprecated in SciPy 1.0.0, and will be removed in 1.2.0.\n",
      "Use ``skimage.transform.resize`` instead.\n"
     ]
    },
    {
     "name": "stdout",
     "output_type": "stream",
     "text": [
      "65/67 [============================>.] - ETA: 2s - loss: 6.3324 - categorical_accuracy: 0.2631Batch:  67 Index: 10\n"
     ]
    },
    {
     "name": "stderr",
     "output_type": "stream",
     "text": [
      "/mnt/disks/user/anaconda3/lib/python3.6/site-packages/ipykernel_launcher.py:44: DeprecationWarning: `imread` is deprecated!\n",
      "`imread` is deprecated in SciPy 1.0.0, and will be removed in 1.2.0.\n",
      "Use ``imageio.imread`` instead.\n",
      "/mnt/disks/user/anaconda3/lib/python3.6/site-packages/ipykernel_launcher.py:48: DeprecationWarning: `imresize` is deprecated!\n",
      "`imresize` is deprecated in SciPy 1.0.0, and will be removed in 1.2.0.\n",
      "Use ``skimage.transform.resize`` instead.\n"
     ]
    },
    {
     "name": "stdout",
     "output_type": "stream",
     "text": [
      "67/67 [==============================] - 87s 1s/step - loss: 6.2098 - categorical_accuracy: 0.2582 - val_loss: 4.0269 - val_categorical_accuracy: 0.2400\n",
      "\n",
      "Epoch 00001: saving model to model_init_2020-02-0915_11_30.104831/model-00001-6.24593-0.26094-4.02689-0.24000.h5\n",
      "Epoch 2/10\n",
      "67/67 [==============================] - 25s 380ms/step - loss: 2.1908 - categorical_accuracy: 0.2786 - val_loss: 1.4041 - val_categorical_accuracy: 0.4400\n",
      "\n",
      "Epoch 00002: saving model to model_init_2020-02-0915_11_30.104831/model-00002-2.19079-0.27861-1.40409-0.44000.h5\n",
      "Epoch 3/10\n",
      "67/67 [==============================] - 26s 393ms/step - loss: 1.7888 - categorical_accuracy: 0.3781 - val_loss: 1.4737 - val_categorical_accuracy: 0.3300\n",
      "\n",
      "Epoch 00003: saving model to model_init_2020-02-0915_11_30.104831/model-00003-1.78881-0.37811-1.47374-0.33000.h5\n",
      "Epoch 4/10\n",
      "67/67 [==============================] - 29s 436ms/step - loss: 1.6573 - categorical_accuracy: 0.3085 - val_loss: 1.4482 - val_categorical_accuracy: 0.3200\n",
      "\n",
      "Epoch 00004: saving model to model_init_2020-02-0915_11_30.104831/model-00004-1.65726-0.30846-1.44816-0.32000.h5\n",
      "\n",
      "Epoch 00004: ReduceLROnPlateau reducing learning rate to 0.5.\n",
      "Epoch 5/10\n",
      "67/67 [==============================] - 28s 420ms/step - loss: 1.4234 - categorical_accuracy: 0.3483 - val_loss: 1.3567 - val_categorical_accuracy: 0.3400\n",
      "\n",
      "Epoch 00005: saving model to model_init_2020-02-0915_11_30.104831/model-00005-1.42337-0.34826-1.35667-0.34000.h5\n",
      "Epoch 6/10\n",
      "67/67 [==============================] - 28s 423ms/step - loss: 1.4064 - categorical_accuracy: 0.3781 - val_loss: 1.1064 - val_categorical_accuracy: 0.5300\n",
      "\n",
      "Epoch 00006: saving model to model_init_2020-02-0915_11_30.104831/model-00006-1.40642-0.37811-1.10636-0.53000.h5\n",
      "Epoch 7/10\n",
      "67/67 [==============================] - 28s 417ms/step - loss: 1.3826 - categorical_accuracy: 0.4080 - val_loss: 1.1931 - val_categorical_accuracy: 0.4900\n",
      "\n",
      "Epoch 00007: saving model to model_init_2020-02-0915_11_30.104831/model-00007-1.38256-0.40796-1.19313-0.49000.h5\n",
      "Epoch 8/10\n",
      "67/67 [==============================] - 29s 434ms/step - loss: 1.3555 - categorical_accuracy: 0.3980 - val_loss: 1.5158 - val_categorical_accuracy: 0.3700\n",
      "\n",
      "Epoch 00008: saving model to model_init_2020-02-0915_11_30.104831/model-00008-1.35548-0.39801-1.51580-0.37000.h5\n",
      "\n",
      "Epoch 00008: ReduceLROnPlateau reducing learning rate to 0.25.\n",
      "Epoch 9/10\n",
      "67/67 [==============================] - 29s 430ms/step - loss: 1.2654 - categorical_accuracy: 0.4378 - val_loss: 1.1118 - val_categorical_accuracy: 0.4700\n",
      "\n",
      "Epoch 00009: saving model to model_init_2020-02-0915_11_30.104831/model-00009-1.26540-0.43781-1.11177-0.47000.h5\n",
      "Epoch 10/10\n",
      "67/67 [==============================] - 28s 423ms/step - loss: 1.1554 - categorical_accuracy: 0.5174 - val_loss: 1.0194 - val_categorical_accuracy: 0.6000\n",
      "\n",
      "Epoch 00010: saving model to model_init_2020-02-0915_11_30.104831/model-00010-1.15541-0.51741-1.01940-0.60000.h5\n"
     ]
    },
    {
     "data": {
      "text/plain": [
       "<keras.callbacks.History at 0x7fa78df18e10>"
      ]
     },
     "execution_count": 47,
     "metadata": {},
     "output_type": "execute_result"
    }
   ],
   "source": [
    "batch_size = 10\n",
    "train_generator = generator_ex(train_path, train_doc, batch_size)\n",
    "val_generator = generator_ex(val_path, val_doc, batch_size)\n",
    "num_epochs = 10\n",
    "model_h.fit_generator(train_generator, steps_per_epoch=steps_per_epoch, epochs=num_epochs, verbose=1, \n",
    "                    callbacks=callbacks_list, validation_data=val_generator, \n",
    "                    validation_steps=validation_steps, class_weight=None, workers=1, initial_epoch=0)"
   ]
  },
  {
   "cell_type": "markdown",
   "metadata": {},
   "source": [
    "##### model_i"
   ]
  },
  {
   "cell_type": "code",
   "execution_count": 48,
   "metadata": {},
   "outputs": [
    {
     "name": "stdout",
     "output_type": "stream",
     "text": [
      "_________________________________________________________________\n",
      "Layer (type)                 Output Shape              Param #   \n",
      "=================================================================\n",
      "conv3d_41 (Conv3D)           (None, 30, 120, 120, 8)   656       \n",
      "_________________________________________________________________\n",
      "batch_normalization_23 (Batc (None, 30, 120, 120, 8)   32        \n",
      "_________________________________________________________________\n",
      "activation_41 (Activation)   (None, 30, 120, 120, 8)   0         \n",
      "_________________________________________________________________\n",
      "max_pooling3d_31 (MaxPooling (None, 15, 60, 60, 8)     0         \n",
      "_________________________________________________________________\n",
      "conv3d_42 (Conv3D)           (None, 15, 60, 60, 16)    3472      \n",
      "_________________________________________________________________\n",
      "batch_normalization_24 (Batc (None, 15, 60, 60, 16)    64        \n",
      "_________________________________________________________________\n",
      "activation_42 (Activation)   (None, 15, 60, 60, 16)    0         \n",
      "_________________________________________________________________\n",
      "max_pooling3d_32 (MaxPooling (None, 7, 30, 30, 16)     0         \n",
      "_________________________________________________________________\n",
      "conv3d_43 (Conv3D)           (None, 7, 30, 30, 32)     4640      \n",
      "_________________________________________________________________\n",
      "batch_normalization_25 (Batc (None, 7, 30, 30, 32)     128       \n",
      "_________________________________________________________________\n",
      "activation_43 (Activation)   (None, 7, 30, 30, 32)     0         \n",
      "_________________________________________________________________\n",
      "max_pooling3d_33 (MaxPooling (None, 3, 15, 15, 32)     0         \n",
      "_________________________________________________________________\n",
      "conv3d_44 (Conv3D)           (None, 3, 15, 15, 64)     18496     \n",
      "_________________________________________________________________\n",
      "activation_44 (Activation)   (None, 3, 15, 15, 64)     0         \n",
      "_________________________________________________________________\n",
      "dropout_25 (Dropout)         (None, 3, 15, 15, 64)     0         \n",
      "_________________________________________________________________\n",
      "max_pooling3d_34 (MaxPooling (None, 1, 7, 7, 64)       0         \n",
      "_________________________________________________________________\n",
      "flatten_10 (Flatten)         (None, 3136)              0         \n",
      "_________________________________________________________________\n",
      "dense_24 (Dense)             (None, 1000)              3137000   \n",
      "_________________________________________________________________\n",
      "dropout_26 (Dropout)         (None, 1000)              0         \n",
      "_________________________________________________________________\n",
      "dense_25 (Dense)             (None, 500)               500500    \n",
      "_________________________________________________________________\n",
      "dropout_27 (Dropout)         (None, 500)               0         \n",
      "_________________________________________________________________\n",
      "dense_26 (Dense)             (None, 5)                 2505      \n",
      "=================================================================\n",
      "Total params: 3,667,493\n",
      "Trainable params: 3,667,381\n",
      "Non-trainable params: 112\n",
      "_________________________________________________________________\n"
     ]
    }
   ],
   "source": [
    "x = 30 # number of frames\n",
    "y = 120 # image width\n",
    "z = 120 # image height \n",
    "\n",
    "classes = 5\n",
    "channel = 3\n",
    "\n",
    "input_shape=(x,y,z,channel)\n",
    "\n",
    "# Define model\n",
    "model_i = Sequential()\n",
    "\n",
    "model_i.add(Conv3D(nb_filters[0], \n",
    "                 kernel_size=(3,3,3), \n",
    "                 input_shape=input_shape,\n",
    "                 padding='same'))\n",
    "model_i.add(BatchNormalization())\n",
    "model_i.add(Activation('relu'))\n",
    "\n",
    "model_i.add(MaxPooling3D(pool_size=(2,2,2)))\n",
    "\n",
    "model_i.add(Conv3D(nb_filters[1], \n",
    "                 kernel_size=(3,3,3), \n",
    "                 padding='same'))\n",
    "model_i.add(BatchNormalization())\n",
    "model_i.add(Activation('relu'))\n",
    "\n",
    "model_i.add(MaxPooling3D(pool_size=(2,2,2)))\n",
    "\n",
    "model_i.add(Conv3D(nb_filters[2], \n",
    "                 kernel_size=(1,3,3), \n",
    "                 padding='same'))\n",
    "model_i.add(BatchNormalization())\n",
    "model_i.add(Activation('relu'))\n",
    "\n",
    "model_i.add(MaxPooling3D(pool_size=(2,2,2)))\n",
    "\n",
    "model_i.add(Conv3D(nb_filters[3], \n",
    "                 kernel_size=(1,3,3), \n",
    "                 padding='same'))\n",
    "model_i.add(Activation('relu'))\n",
    "model_i.add(Dropout(0.25))\n",
    "\n",
    "model_i.add(MaxPooling3D(pool_size=(2,2,2)))\n",
    "\n",
    "#Flatten Layers\n",
    "model_i.add(Flatten())\n",
    "\n",
    "model_i.add(Dense(nb_dense[0], activation='relu'))\n",
    "model_i.add(Dropout(0.5))\n",
    "\n",
    "model_i.add(Dense(nb_dense[1], activation='relu'))\n",
    "model_i.add(Dropout(0.5))\n",
    "\n",
    "#softmax layer\n",
    "model_i.add(Dense(nb_dense[2], activation='softmax'))\n",
    "model_i.compile(optimizer=keras.optimizers.Adadelta(), loss='categorical_crossentropy', metrics=['categorical_accuracy'])\n",
    "model_i.summary()"
   ]
  },
  {
   "cell_type": "code",
   "execution_count": 49,
   "metadata": {},
   "outputs": [
    {
     "name": "stdout",
     "output_type": "stream",
     "text": [
      "Source path =  Project_data/val ; batch size = 10\n",
      "Source path =  Project_data/train ; batch size = 10\n",
      "Epoch 1/10\n"
     ]
    },
    {
     "name": "stderr",
     "output_type": "stream",
     "text": [
      "/mnt/disks/user/anaconda3/lib/python3.6/site-packages/ipykernel_launcher.py:19: DeprecationWarning: `imread` is deprecated!\n",
      "`imread` is deprecated in SciPy 1.0.0, and will be removed in 1.2.0.\n",
      "Use ``imageio.imread`` instead.\n",
      "/mnt/disks/user/anaconda3/lib/python3.6/site-packages/ipykernel_launcher.py:24: DeprecationWarning: `imresize` is deprecated!\n",
      "`imresize` is deprecated in SciPy 1.0.0, and will be removed in 1.2.0.\n",
      "Use ``skimage.transform.resize`` instead.\n"
     ]
    },
    {
     "name": "stdout",
     "output_type": "stream",
     "text": [
      "65/67 [============================>.] - ETA: 2s - loss: 1.9433 - categorical_accuracy: 0.2969Batch:  67 Index: 10\n"
     ]
    },
    {
     "name": "stderr",
     "output_type": "stream",
     "text": [
      "/mnt/disks/user/anaconda3/lib/python3.6/site-packages/ipykernel_launcher.py:44: DeprecationWarning: `imread` is deprecated!\n",
      "`imread` is deprecated in SciPy 1.0.0, and will be removed in 1.2.0.\n",
      "Use ``imageio.imread`` instead.\n",
      "/mnt/disks/user/anaconda3/lib/python3.6/site-packages/ipykernel_launcher.py:48: DeprecationWarning: `imresize` is deprecated!\n",
      "`imresize` is deprecated in SciPy 1.0.0, and will be removed in 1.2.0.\n",
      "Use ``skimage.transform.resize`` instead.\n"
     ]
    },
    {
     "name": "stdout",
     "output_type": "stream",
     "text": [
      "67/67 [==============================] - 89s 1s/step - loss: 1.9316 - categorical_accuracy: 0.2911 - val_loss: 1.3851 - val_categorical_accuracy: 0.4000\n",
      "\n",
      "Epoch 00001: saving model to model_init_2020-02-0915_11_30.104831/model-00001-1.93477-0.29412-1.38509-0.40000.h5\n",
      "Epoch 2/10\n",
      "67/67 [==============================] - 25s 373ms/step - loss: 1.5750 - categorical_accuracy: 0.3234 - val_loss: 1.4378 - val_categorical_accuracy: 0.3500\n",
      "\n",
      "Epoch 00002: saving model to model_init_2020-02-0915_11_30.104831/model-00002-1.57500-0.32338-1.43782-0.35000.h5\n",
      "Epoch 3/10\n",
      "67/67 [==============================] - 28s 424ms/step - loss: 1.5308 - categorical_accuracy: 0.3781 - val_loss: 1.6499 - val_categorical_accuracy: 0.2600\n",
      "\n",
      "Epoch 00003: saving model to model_init_2020-02-0915_11_30.104831/model-00003-1.53081-0.37811-1.64992-0.26000.h5\n",
      "\n",
      "Epoch 00003: ReduceLROnPlateau reducing learning rate to 0.5.\n",
      "Epoch 4/10\n",
      "67/67 [==============================] - 29s 426ms/step - loss: 1.3270 - categorical_accuracy: 0.4627 - val_loss: 1.1900 - val_categorical_accuracy: 0.4800\n",
      "\n",
      "Epoch 00004: saving model to model_init_2020-02-0915_11_30.104831/model-00004-1.32704-0.46269-1.18998-0.48000.h5\n",
      "Epoch 5/10\n",
      "67/67 [==============================] - 30s 443ms/step - loss: 1.1607 - categorical_accuracy: 0.5075 - val_loss: 1.1146 - val_categorical_accuracy: 0.5800\n",
      "\n",
      "Epoch 00005: saving model to model_init_2020-02-0915_11_30.104831/model-00005-1.16073-0.50746-1.11458-0.58000.h5\n",
      "Epoch 6/10\n",
      "67/67 [==============================] - 29s 426ms/step - loss: 1.1228 - categorical_accuracy: 0.5672 - val_loss: 0.9978 - val_categorical_accuracy: 0.6300\n",
      "\n",
      "Epoch 00006: saving model to model_init_2020-02-0915_11_30.104831/model-00006-1.12284-0.56716-0.99783-0.63000.h5\n",
      "Epoch 7/10\n",
      "67/67 [==============================] - 29s 430ms/step - loss: 1.2857 - categorical_accuracy: 0.4826 - val_loss: 0.9581 - val_categorical_accuracy: 0.6600\n",
      "\n",
      "Epoch 00007: saving model to model_init_2020-02-0915_11_30.104831/model-00007-1.28570-0.48259-0.95810-0.66000.h5\n",
      "Epoch 8/10\n",
      "67/67 [==============================] - 28s 417ms/step - loss: 1.0943 - categorical_accuracy: 0.5821 - val_loss: 0.9934 - val_categorical_accuracy: 0.6100\n",
      "\n",
      "Epoch 00008: saving model to model_init_2020-02-0915_11_30.104831/model-00008-1.09434-0.58209-0.99343-0.61000.h5\n",
      "Epoch 9/10\n",
      "67/67 [==============================] - 29s 435ms/step - loss: 0.9302 - categorical_accuracy: 0.6517 - val_loss: 1.0660 - val_categorical_accuracy: 0.5800\n",
      "\n",
      "Epoch 00009: saving model to model_init_2020-02-0915_11_30.104831/model-00009-0.93016-0.65174-1.06603-0.58000.h5\n",
      "\n",
      "Epoch 00009: ReduceLROnPlateau reducing learning rate to 0.25.\n",
      "Epoch 10/10\n",
      "67/67 [==============================] - 28s 421ms/step - loss: 0.9249 - categorical_accuracy: 0.6567 - val_loss: 0.7788 - val_categorical_accuracy: 0.7300\n",
      "\n",
      "Epoch 00010: saving model to model_init_2020-02-0915_11_30.104831/model-00010-0.92486-0.65672-0.77876-0.73000.h5\n"
     ]
    },
    {
     "data": {
      "text/plain": [
       "<keras.callbacks.History at 0x7fa78afec9b0>"
      ]
     },
     "execution_count": 49,
     "metadata": {},
     "output_type": "execute_result"
    }
   ],
   "source": [
    "batch_size = 10\n",
    "train_generator = generator_ex(train_path, train_doc, batch_size)\n",
    "val_generator = generator_ex(val_path, val_doc, batch_size)\n",
    "num_epochs = 10\n",
    "model_i.fit_generator(train_generator, steps_per_epoch=steps_per_epoch, epochs=num_epochs, verbose=1, \n",
    "                    callbacks=callbacks_list, validation_data=val_generator, \n",
    "                    validation_steps=validation_steps, class_weight=None, workers=1, initial_epoch=0)"
   ]
  },
  {
   "cell_type": "markdown",
   "metadata": {},
   "source": [
    "##### model_final"
   ]
  },
  {
   "cell_type": "code",
   "execution_count": 50,
   "metadata": {},
   "outputs": [],
   "source": [
    "nb_filters = [8,16,32,64]\n",
    "nb_dense = [256, 128, 5]\n",
    "\n",
    "# Input\n",
    "input_shape=(30,120,120,3)\n",
    "\n",
    "# Define model\n",
    "model_final = Sequential()\n",
    "\n",
    "model_final.add(Conv3D(nb_filters[0], \n",
    "                 kernel_size=(3,3,3), \n",
    "                 input_shape=input_shape,\n",
    "                 padding='same'))\n",
    "model_final.add(BatchNormalization())\n",
    "model_final.add(Activation('relu'))\n",
    "\n",
    "model_final.add(MaxPooling3D(pool_size=(2,2,2)))\n",
    "\n",
    "model_final.add(Conv3D(nb_filters[1], \n",
    "                 kernel_size=(3,3,3), \n",
    "                 padding='same'))\n",
    "model_final.add(BatchNormalization())\n",
    "model_final.add(Activation('relu'))\n",
    "\n",
    "model_final.add(MaxPooling3D(pool_size=(2,2,2)))\n",
    "\n",
    "model_final.add(Conv3D(nb_filters[2], \n",
    "                 kernel_size=(1,3,3), \n",
    "                 padding='same'))\n",
    "model_final.add(BatchNormalization())\n",
    "model_final.add(Activation('relu'))\n",
    "\n",
    "model_final.add(MaxPooling3D(pool_size=(2,2,2)))\n",
    "\n",
    "model_final.add(Conv3D(nb_filters[3], \n",
    "                 kernel_size=(1,3,3), \n",
    "                 padding='same'))\n",
    "model_final.add(Activation('relu'))\n",
    "model_final.add(Dropout(0.25))\n",
    "\n",
    "model_final.add(MaxPooling3D(pool_size=(2,2,2)))\n",
    "\n",
    "#Flatten Layers\n",
    "model_final.add(Flatten())\n",
    "\n",
    "model_final.add(Dense(nb_dense[0], activation='relu'))\n",
    "model_final.add(Dropout(0.5))\n",
    "\n",
    "model_final.add(Dense(nb_dense[1], activation='relu'))\n",
    "model_final.add(Dropout(0.5))\n",
    "\n",
    "#softmax layer\n",
    "model_final.add(Dense(nb_dense[2], activation='softmax'))"
   ]
  },
  {
   "cell_type": "code",
   "execution_count": 51,
   "metadata": {},
   "outputs": [
    {
     "name": "stdout",
     "output_type": "stream",
     "text": [
      "_________________________________________________________________\n",
      "Layer (type)                 Output Shape              Param #   \n",
      "=================================================================\n",
      "conv3d_45 (Conv3D)           (None, 30, 120, 120, 8)   656       \n",
      "_________________________________________________________________\n",
      "batch_normalization_26 (Batc (None, 30, 120, 120, 8)   32        \n",
      "_________________________________________________________________\n",
      "activation_45 (Activation)   (None, 30, 120, 120, 8)   0         \n",
      "_________________________________________________________________\n",
      "max_pooling3d_35 (MaxPooling (None, 15, 60, 60, 8)     0         \n",
      "_________________________________________________________________\n",
      "conv3d_46 (Conv3D)           (None, 15, 60, 60, 16)    3472      \n",
      "_________________________________________________________________\n",
      "batch_normalization_27 (Batc (None, 15, 60, 60, 16)    64        \n",
      "_________________________________________________________________\n",
      "activation_46 (Activation)   (None, 15, 60, 60, 16)    0         \n",
      "_________________________________________________________________\n",
      "max_pooling3d_36 (MaxPooling (None, 7, 30, 30, 16)     0         \n",
      "_________________________________________________________________\n",
      "conv3d_47 (Conv3D)           (None, 7, 30, 30, 32)     4640      \n",
      "_________________________________________________________________\n",
      "batch_normalization_28 (Batc (None, 7, 30, 30, 32)     128       \n",
      "_________________________________________________________________\n",
      "activation_47 (Activation)   (None, 7, 30, 30, 32)     0         \n",
      "_________________________________________________________________\n",
      "max_pooling3d_37 (MaxPooling (None, 3, 15, 15, 32)     0         \n",
      "_________________________________________________________________\n",
      "conv3d_48 (Conv3D)           (None, 3, 15, 15, 64)     18496     \n",
      "_________________________________________________________________\n",
      "activation_48 (Activation)   (None, 3, 15, 15, 64)     0         \n",
      "_________________________________________________________________\n",
      "dropout_28 (Dropout)         (None, 3, 15, 15, 64)     0         \n",
      "_________________________________________________________________\n",
      "max_pooling3d_38 (MaxPooling (None, 1, 7, 7, 64)       0         \n",
      "_________________________________________________________________\n",
      "flatten_11 (Flatten)         (None, 3136)              0         \n",
      "_________________________________________________________________\n",
      "dense_27 (Dense)             (None, 256)               803072    \n",
      "_________________________________________________________________\n",
      "dropout_29 (Dropout)         (None, 256)               0         \n",
      "_________________________________________________________________\n",
      "dense_28 (Dense)             (None, 128)               32896     \n",
      "_________________________________________________________________\n",
      "dropout_30 (Dropout)         (None, 128)               0         \n",
      "_________________________________________________________________\n",
      "dense_29 (Dense)             (None, 5)                 645       \n",
      "=================================================================\n",
      "Total params: 864,101\n",
      "Trainable params: 863,989\n",
      "Non-trainable params: 112\n",
      "_________________________________________________________________\n",
      "None\n"
     ]
    }
   ],
   "source": [
    "optimiser = keras.optimizers.Adam() #write your optimizer\n",
    "model_final.compile(optimizer=optimiser, loss='categorical_crossentropy', metrics=['categorical_accuracy'])\n",
    "print (model_final.summary())"
   ]
  },
  {
   "cell_type": "code",
   "execution_count": 52,
   "metadata": {},
   "outputs": [],
   "source": [
    "train_generator = generator_ex(train_path, train_doc, batch_size)\n",
    "val_generator = generator_ex(val_path, val_doc, batch_size)"
   ]
  },
  {
   "cell_type": "code",
   "execution_count": 53,
   "metadata": {},
   "outputs": [
    {
     "name": "stdout",
     "output_type": "stream",
     "text": [
      "Source path =  Project_data/val ; batch size = 10\n",
      "Source path =  Project_data/train ; batch size = 10\n",
      "Epoch 1/20\n"
     ]
    },
    {
     "name": "stderr",
     "output_type": "stream",
     "text": [
      "/mnt/disks/user/anaconda3/lib/python3.6/site-packages/ipykernel_launcher.py:19: DeprecationWarning: `imread` is deprecated!\n",
      "`imread` is deprecated in SciPy 1.0.0, and will be removed in 1.2.0.\n",
      "Use ``imageio.imread`` instead.\n",
      "/mnt/disks/user/anaconda3/lib/python3.6/site-packages/ipykernel_launcher.py:24: DeprecationWarning: `imresize` is deprecated!\n",
      "`imresize` is deprecated in SciPy 1.0.0, and will be removed in 1.2.0.\n",
      "Use ``skimage.transform.resize`` instead.\n"
     ]
    },
    {
     "name": "stdout",
     "output_type": "stream",
     "text": [
      "65/67 [============================>.] - ETA: 2s - loss: 1.9103 - categorical_accuracy: 0.2354Batch:  67 Index: 10\n"
     ]
    },
    {
     "name": "stderr",
     "output_type": "stream",
     "text": [
      "/mnt/disks/user/anaconda3/lib/python3.6/site-packages/ipykernel_launcher.py:44: DeprecationWarning: `imread` is deprecated!\n",
      "`imread` is deprecated in SciPy 1.0.0, and will be removed in 1.2.0.\n",
      "Use ``imageio.imread`` instead.\n",
      "/mnt/disks/user/anaconda3/lib/python3.6/site-packages/ipykernel_launcher.py:48: DeprecationWarning: `imresize` is deprecated!\n",
      "`imresize` is deprecated in SciPy 1.0.0, and will be removed in 1.2.0.\n",
      "Use ``skimage.transform.resize`` instead.\n"
     ]
    },
    {
     "name": "stdout",
     "output_type": "stream",
     "text": [
      "67/67 [==============================] - 87s 1s/step - loss: 1.9060 - categorical_accuracy: 0.2314 - val_loss: 1.4182 - val_categorical_accuracy: 0.4000\n",
      "\n",
      "Epoch 00001: saving model to model_init_2020-02-0915_11_30.104831/model-00001-1.90824-0.23379-1.41815-0.40000.h5\n",
      "Epoch 2/20\n",
      "67/67 [==============================] - 26s 384ms/step - loss: 1.6067 - categorical_accuracy: 0.3085 - val_loss: 1.6995 - val_categorical_accuracy: 0.2200\n",
      "\n",
      "Epoch 00002: saving model to model_init_2020-02-0915_11_30.104831/model-00002-1.60669-0.30846-1.69951-0.22000.h5\n",
      "Epoch 3/20\n",
      "67/67 [==============================] - 29s 440ms/step - loss: 1.5522 - categorical_accuracy: 0.2637 - val_loss: 1.5096 - val_categorical_accuracy: 0.3000\n",
      "\n",
      "Epoch 00003: saving model to model_init_2020-02-0915_11_30.104831/model-00003-1.55220-0.26368-1.50955-0.30000.h5\n",
      "\n",
      "Epoch 00003: ReduceLROnPlateau reducing learning rate to 0.0005000000237487257.\n",
      "Epoch 4/20\n",
      "67/67 [==============================] - 29s 428ms/step - loss: 1.5516 - categorical_accuracy: 0.2935 - val_loss: 1.4934 - val_categorical_accuracy: 0.2700\n",
      "\n",
      "Epoch 00004: saving model to model_init_2020-02-0915_11_30.104831/model-00004-1.55161-0.29353-1.49343-0.27000.h5\n",
      "Epoch 5/20\n",
      "67/67 [==============================] - 28s 425ms/step - loss: 1.4887 - categorical_accuracy: 0.3682 - val_loss: 1.3690 - val_categorical_accuracy: 0.3800\n",
      "\n",
      "Epoch 00005: saving model to model_init_2020-02-0915_11_30.104831/model-00005-1.48872-0.36816-1.36905-0.38000.h5\n",
      "Epoch 6/20\n",
      "67/67 [==============================] - 29s 438ms/step - loss: 1.4916 - categorical_accuracy: 0.3383 - val_loss: 1.2976 - val_categorical_accuracy: 0.4900\n",
      "\n",
      "Epoch 00006: saving model to model_init_2020-02-0915_11_30.104831/model-00006-1.49163-0.33831-1.29760-0.49000.h5\n",
      "Epoch 7/20\n",
      "67/67 [==============================] - 28s 423ms/step - loss: 1.4793 - categorical_accuracy: 0.3333 - val_loss: 1.3892 - val_categorical_accuracy: 0.4400\n",
      "\n",
      "Epoch 00007: saving model to model_init_2020-02-0915_11_30.104831/model-00007-1.47928-0.33333-1.38921-0.44000.h5\n",
      "Epoch 8/20\n",
      "67/67 [==============================] - 28s 421ms/step - loss: 1.3919 - categorical_accuracy: 0.3980 - val_loss: 1.2974 - val_categorical_accuracy: 0.4400\n",
      "\n",
      "Epoch 00008: saving model to model_init_2020-02-0915_11_30.104831/model-00008-1.39192-0.39801-1.29739-0.44000.h5\n",
      "Epoch 9/20\n",
      "67/67 [==============================] - 29s 430ms/step - loss: 1.4118 - categorical_accuracy: 0.4030 - val_loss: 1.3509 - val_categorical_accuracy: 0.3900\n",
      "\n",
      "Epoch 00009: saving model to model_init_2020-02-0915_11_30.104831/model-00009-1.41178-0.40299-1.35095-0.39000.h5\n",
      "Epoch 10/20\n",
      "67/67 [==============================] - 29s 432ms/step - loss: 1.3851 - categorical_accuracy: 0.3881 - val_loss: 1.3741 - val_categorical_accuracy: 0.3800\n",
      "\n",
      "Epoch 00010: saving model to model_init_2020-02-0915_11_30.104831/model-00010-1.38505-0.38806-1.37405-0.38000.h5\n",
      "\n",
      "Epoch 00010: ReduceLROnPlateau reducing learning rate to 0.0002500000118743628.\n",
      "Epoch 11/20\n",
      "67/67 [==============================] - 27s 410ms/step - loss: 1.3017 - categorical_accuracy: 0.4975 - val_loss: 1.1582 - val_categorical_accuracy: 0.5600\n",
      "\n",
      "Epoch 00011: saving model to model_init_2020-02-0915_11_30.104831/model-00011-1.30170-0.49751-1.15823-0.56000.h5\n",
      "Epoch 12/20\n",
      "67/67 [==============================] - 27s 408ms/step - loss: 1.1891 - categorical_accuracy: 0.5274 - val_loss: 1.1196 - val_categorical_accuracy: 0.5700\n",
      "\n",
      "Epoch 00012: saving model to model_init_2020-02-0915_11_30.104831/model-00012-1.18908-0.52736-1.11958-0.57000.h5\n",
      "Epoch 13/20\n",
      "67/67 [==============================] - 31s 455ms/step - loss: 1.1608 - categorical_accuracy: 0.5622 - val_loss: 1.3594 - val_categorical_accuracy: 0.3700\n",
      "\n",
      "Epoch 00013: saving model to model_init_2020-02-0915_11_30.104831/model-00013-1.16077-0.56219-1.35941-0.37000.h5\n",
      "Epoch 14/20\n",
      "67/67 [==============================] - 28s 412ms/step - loss: 1.1129 - categorical_accuracy: 0.6020 - val_loss: 0.9881 - val_categorical_accuracy: 0.6100\n",
      "\n",
      "Epoch 00014: saving model to model_init_2020-02-0915_11_30.104831/model-00014-1.11285-0.60199-0.98813-0.61000.h5\n",
      "Epoch 15/20\n",
      "67/67 [==============================] - 30s 452ms/step - loss: 1.1143 - categorical_accuracy: 0.5821 - val_loss: 0.9972 - val_categorical_accuracy: 0.6000\n",
      "\n",
      "Epoch 00015: saving model to model_init_2020-02-0915_11_30.104831/model-00015-1.11429-0.58209-0.99723-0.60000.h5\n",
      "Epoch 16/20\n",
      "67/67 [==============================] - 28s 417ms/step - loss: 1.1131 - categorical_accuracy: 0.5572 - val_loss: 0.9764 - val_categorical_accuracy: 0.6300\n",
      "\n",
      "Epoch 00016: saving model to model_init_2020-02-0915_11_30.104831/model-00016-1.11307-0.55721-0.97644-0.63000.h5\n",
      "Epoch 17/20\n",
      "67/67 [==============================] - 28s 417ms/step - loss: 1.0955 - categorical_accuracy: 0.5124 - val_loss: 0.9458 - val_categorical_accuracy: 0.6100\n",
      "\n",
      "Epoch 00017: saving model to model_init_2020-02-0915_11_30.104831/model-00017-1.09549-0.51244-0.94581-0.61000.h5\n",
      "Epoch 18/20\n",
      "67/67 [==============================] - 29s 426ms/step - loss: 1.0339 - categorical_accuracy: 0.6020 - val_loss: 0.9901 - val_categorical_accuracy: 0.6300\n",
      "\n",
      "Epoch 00018: saving model to model_init_2020-02-0915_11_30.104831/model-00018-1.03385-0.60199-0.99013-0.63000.h5\n",
      "Epoch 19/20\n",
      "67/67 [==============================] - 27s 400ms/step - loss: 1.1045 - categorical_accuracy: 0.5572 - val_loss: 0.9302 - val_categorical_accuracy: 0.6600\n",
      "\n",
      "Epoch 00019: saving model to model_init_2020-02-0915_11_30.104831/model-00019-1.10450-0.55721-0.93018-0.66000.h5\n",
      "Epoch 20/20\n",
      "67/67 [==============================] - 29s 428ms/step - loss: 1.0656 - categorical_accuracy: 0.5473 - val_loss: 1.0135 - val_categorical_accuracy: 0.5900\n",
      "\n",
      "Epoch 00020: saving model to model_init_2020-02-0915_11_30.104831/model-00020-1.06558-0.54726-1.01348-0.59000.h5\n"
     ]
    },
    {
     "data": {
      "text/plain": [
       "<keras.callbacks.History at 0x7fa78c828b70>"
      ]
     },
     "execution_count": 53,
     "metadata": {},
     "output_type": "execute_result"
    }
   ],
   "source": [
    "batch_size = 10\n",
    "num_epochs = 20\n",
    "model_final.fit_generator(train_generator, steps_per_epoch=steps_per_epoch, epochs=num_epochs, verbose=1, \n",
    "                    callbacks=callbacks_list, validation_data=val_generator, \n",
    "                    validation_steps=validation_steps, class_weight=None, workers=1, initial_epoch=0)"
   ]
  },
  {
   "cell_type": "code",
   "execution_count": 54,
   "metadata": {},
   "outputs": [
    {
     "name": "stdout",
     "output_type": "stream",
     "text": [
      "Epoch 1/20\n"
     ]
    },
    {
     "name": "stderr",
     "output_type": "stream",
     "text": [
      "/mnt/disks/user/anaconda3/lib/python3.6/site-packages/ipykernel_launcher.py:19: DeprecationWarning: `imread` is deprecated!\n",
      "`imread` is deprecated in SciPy 1.0.0, and will be removed in 1.2.0.\n",
      "Use ``imageio.imread`` instead.\n",
      "/mnt/disks/user/anaconda3/lib/python3.6/site-packages/ipykernel_launcher.py:24: DeprecationWarning: `imresize` is deprecated!\n",
      "`imresize` is deprecated in SciPy 1.0.0, and will be removed in 1.2.0.\n",
      "Use ``skimage.transform.resize`` instead.\n"
     ]
    },
    {
     "name": "stdout",
     "output_type": "stream",
     "text": [
      "67/67 [==============================] - 31s 469ms/step - loss: 0.9695 - categorical_accuracy: 0.5821 - val_loss: 0.8921 - val_categorical_accuracy: 0.6300\n",
      "\n",
      "Epoch 00001: saving model to model_init_2020-02-0915_11_30.104831/model-00001-0.96948-0.58209-0.89208-0.63000.h5\n",
      "Epoch 2/20\n",
      "67/67 [==============================] - 29s 427ms/step - loss: 0.8834 - categorical_accuracy: 0.6468 - val_loss: 0.8682 - val_categorical_accuracy: 0.6200\n",
      "\n",
      "Epoch 00002: saving model to model_init_2020-02-0915_11_30.104831/model-00002-0.88342-0.64677-0.86822-0.62000.h5\n",
      "Epoch 3/20\n",
      "67/67 [==============================] - 27s 407ms/step - loss: 0.9828 - categorical_accuracy: 0.6368 - val_loss: 1.0422 - val_categorical_accuracy: 0.5300\n",
      "\n",
      "Epoch 00003: saving model to model_init_2020-02-0915_11_30.104831/model-00003-0.98283-0.63682-1.04217-0.53000.h5\n",
      "Epoch 4/20\n",
      "67/67 [==============================] - 28s 422ms/step - loss: 1.0040 - categorical_accuracy: 0.6070 - val_loss: 1.0273 - val_categorical_accuracy: 0.6400\n",
      "\n",
      "Epoch 00004: saving model to model_init_2020-02-0915_11_30.104831/model-00004-1.00404-0.60697-1.02730-0.64000.h5\n",
      "\n",
      "Epoch 00004: ReduceLROnPlateau reducing learning rate to 0.0001250000059371814.\n",
      "Epoch 5/20\n",
      "67/67 [==============================] - 27s 406ms/step - loss: 0.8349 - categorical_accuracy: 0.6667 - val_loss: 0.8326 - val_categorical_accuracy: 0.6900\n",
      "\n",
      "Epoch 00005: saving model to model_init_2020-02-0915_11_30.104831/model-00005-0.83493-0.66667-0.83258-0.69000.h5\n",
      "Epoch 6/20\n",
      "67/67 [==============================] - 28s 424ms/step - loss: 0.8768 - categorical_accuracy: 0.6866 - val_loss: 0.8745 - val_categorical_accuracy: 0.6200\n",
      "\n",
      "Epoch 00006: saving model to model_init_2020-02-0915_11_30.104831/model-00006-0.87678-0.68657-0.87447-0.62000.h5\n",
      "Epoch 7/20\n",
      "67/67 [==============================] - 28s 419ms/step - loss: 0.8106 - categorical_accuracy: 0.6915 - val_loss: 0.7698 - val_categorical_accuracy: 0.7300\n",
      "\n",
      "Epoch 00007: saving model to model_init_2020-02-0915_11_30.104831/model-00007-0.81060-0.69154-0.76977-0.73000.h5\n",
      "Epoch 8/20\n",
      "67/67 [==============================] - 29s 426ms/step - loss: 0.7940 - categorical_accuracy: 0.7463 - val_loss: 0.8044 - val_categorical_accuracy: 0.6600\n",
      "\n",
      "Epoch 00008: saving model to model_init_2020-02-0915_11_30.104831/model-00008-0.79397-0.74627-0.80443-0.66000.h5\n",
      "Epoch 9/20\n",
      "67/67 [==============================] - 29s 427ms/step - loss: 0.6889 - categorical_accuracy: 0.7662 - val_loss: 0.7878 - val_categorical_accuracy: 0.7200\n",
      "\n",
      "Epoch 00009: saving model to model_init_2020-02-0915_11_30.104831/model-00009-0.68888-0.76617-0.78779-0.72000.h5\n",
      "\n",
      "Epoch 00009: ReduceLROnPlateau reducing learning rate to 6.25000029685907e-05.\n",
      "Epoch 10/20\n",
      "67/67 [==============================] - 28s 419ms/step - loss: 0.6423 - categorical_accuracy: 0.7512 - val_loss: 0.7427 - val_categorical_accuracy: 0.6900\n",
      "\n",
      "Epoch 00010: saving model to model_init_2020-02-0915_11_30.104831/model-00010-0.64235-0.75124-0.74271-0.69000.h5\n",
      "Epoch 11/20\n",
      "67/67 [==============================] - 28s 415ms/step - loss: 0.7912 - categorical_accuracy: 0.7065 - val_loss: 0.7587 - val_categorical_accuracy: 0.6700\n",
      "\n",
      "Epoch 00011: saving model to model_init_2020-02-0915_11_30.104831/model-00011-0.79123-0.70647-0.75865-0.67000.h5\n",
      "Epoch 12/20\n",
      "67/67 [==============================] - 28s 421ms/step - loss: 0.7186 - categorical_accuracy: 0.7114 - val_loss: 0.7553 - val_categorical_accuracy: 0.7400\n",
      "\n",
      "Epoch 00012: saving model to model_init_2020-02-0915_11_30.104831/model-00012-0.71856-0.71144-0.75530-0.74000.h5\n",
      "\n",
      "Epoch 00012: ReduceLROnPlateau reducing learning rate to 3.125000148429535e-05.\n",
      "Epoch 13/20\n",
      "67/67 [==============================] - 28s 412ms/step - loss: 0.7478 - categorical_accuracy: 0.7015 - val_loss: 0.7816 - val_categorical_accuracy: 0.6900\n",
      "\n",
      "Epoch 00013: saving model to model_init_2020-02-0915_11_30.104831/model-00013-0.74783-0.70149-0.78161-0.69000.h5\n",
      "Epoch 14/20\n",
      "67/67 [==============================] - 29s 429ms/step - loss: 0.7395 - categorical_accuracy: 0.7413 - val_loss: 0.7938 - val_categorical_accuracy: 0.7100\n",
      "\n",
      "Epoch 00014: saving model to model_init_2020-02-0915_11_30.104831/model-00014-0.73950-0.74129-0.79385-0.71000.h5\n",
      "\n",
      "Epoch 00014: ReduceLROnPlateau reducing learning rate to 1.5625000742147677e-05.\n",
      "Epoch 15/20\n",
      "67/67 [==============================] - 27s 397ms/step - loss: 0.7036 - categorical_accuracy: 0.7164 - val_loss: 0.7355 - val_categorical_accuracy: 0.7300\n",
      "\n",
      "Epoch 00015: saving model to model_init_2020-02-0915_11_30.104831/model-00015-0.70358-0.71642-0.73548-0.73000.h5\n",
      "Epoch 16/20\n",
      "67/67 [==============================] - 28s 413ms/step - loss: 0.6491 - categorical_accuracy: 0.7761 - val_loss: 0.7466 - val_categorical_accuracy: 0.7300\n",
      "\n",
      "Epoch 00016: saving model to model_init_2020-02-0915_11_30.104831/model-00016-0.64915-0.77612-0.74663-0.73000.h5\n",
      "Epoch 17/20\n",
      "67/67 [==============================] - 30s 446ms/step - loss: 0.5963 - categorical_accuracy: 0.7711 - val_loss: 0.7095 - val_categorical_accuracy: 0.7000\n",
      "\n",
      "Epoch 00017: saving model to model_init_2020-02-0915_11_30.104831/model-00017-0.59634-0.77114-0.70953-0.70000.h5\n",
      "Epoch 18/20\n",
      "67/67 [==============================] - 27s 410ms/step - loss: 0.7437 - categorical_accuracy: 0.7015 - val_loss: 0.7784 - val_categorical_accuracy: 0.6800\n",
      "\n",
      "Epoch 00018: saving model to model_init_2020-02-0915_11_30.104831/model-00018-0.74366-0.70149-0.77845-0.68000.h5\n",
      "Epoch 19/20\n",
      "67/67 [==============================] - 29s 429ms/step - loss: 0.7070 - categorical_accuracy: 0.7413 - val_loss: 0.7312 - val_categorical_accuracy: 0.7200\n",
      "\n",
      "Epoch 00019: saving model to model_init_2020-02-0915_11_30.104831/model-00019-0.70701-0.74129-0.73125-0.72000.h5\n",
      "\n",
      "Epoch 00019: ReduceLROnPlateau reducing learning rate to 7.812500371073838e-06.\n",
      "Epoch 20/20\n",
      "67/67 [==============================] - 29s 426ms/step - loss: 0.5984 - categorical_accuracy: 0.7811 - val_loss: 0.7472 - val_categorical_accuracy: 0.6600\n",
      "\n",
      "Epoch 00020: saving model to model_init_2020-02-0915_11_30.104831/model-00020-0.59837-0.78109-0.74724-0.66000.h5\n"
     ]
    },
    {
     "data": {
      "text/plain": [
       "<keras.callbacks.History at 0x7fa789c1e7f0>"
      ]
     },
     "execution_count": 54,
     "metadata": {},
     "output_type": "execute_result"
    }
   ],
   "source": [
    "batch_size = 32\n",
    "num_epochs = 20\n",
    "model_final.fit_generator(train_generator, steps_per_epoch=steps_per_epoch, epochs=num_epochs, verbose=1, \n",
    "                    callbacks=callbacks_list, validation_data=val_generator, \n",
    "                    validation_steps=validation_steps, class_weight=None, workers=1, initial_epoch=0)"
   ]
  },
  {
   "cell_type": "code",
   "execution_count": 55,
   "metadata": {},
   "outputs": [
    {
     "name": "stdout",
     "output_type": "stream",
     "text": [
      "Source path =  Project_data/val ; batch size = 64Source path =  Project_data/train ; batch size = 64\n",
      "Epoch 1/20\n",
      "\n"
     ]
    },
    {
     "name": "stderr",
     "output_type": "stream",
     "text": [
      "/mnt/disks/user/anaconda3/lib/python3.6/site-packages/ipykernel_launcher.py:19: DeprecationWarning: `imread` is deprecated!\n",
      "`imread` is deprecated in SciPy 1.0.0, and will be removed in 1.2.0.\n",
      "Use ``imageio.imread`` instead.\n",
      "/mnt/disks/user/anaconda3/lib/python3.6/site-packages/ipykernel_launcher.py:24: DeprecationWarning: `imresize` is deprecated!\n",
      "`imresize` is deprecated in SciPy 1.0.0, and will be removed in 1.2.0.\n",
      "Use ``skimage.transform.resize`` instead.\n"
     ]
    },
    {
     "name": "stdout",
     "output_type": "stream",
     "text": [
      "Batch:  2 Index: 64\n"
     ]
    },
    {
     "name": "stderr",
     "output_type": "stream",
     "text": [
      "/mnt/disks/user/anaconda3/lib/python3.6/site-packages/ipykernel_launcher.py:44: DeprecationWarning: `imread` is deprecated!\n",
      "`imread` is deprecated in SciPy 1.0.0, and will be removed in 1.2.0.\n",
      "Use ``imageio.imread`` instead.\n",
      "/mnt/disks/user/anaconda3/lib/python3.6/site-packages/ipykernel_launcher.py:48: DeprecationWarning: `imresize` is deprecated!\n",
      "`imresize` is deprecated in SciPy 1.0.0, and will be removed in 1.2.0.\n",
      "Use ``skimage.transform.resize`` instead.\n"
     ]
    },
    {
     "name": "stdout",
     "output_type": "stream",
     "text": [
      " 2/67 [..............................] - ETA: 11:15 - loss: 0.6764 - categorical_accuracy: 0.7422Batch:  3 Index: 36\n",
      " 4/67 [>.............................] - ETA: 10:30 - loss: 0.5588 - categorical_accuracy: 0.8047Batch:  4 Index: 28\n",
      " 9/67 [===>..........................] - ETA: 8:39 - loss: 0.5683 - categorical_accuracy: 0.7934Batch:  11 Index: 64\n",
      "38/67 [================>.............] - ETA: 2:06 - loss: 0.5693 - categorical_accuracy: 0.7984Batch:  29 Index: 23\n",
      "67/67 [==============================] - 242s 4s/step - loss: 0.5613 - categorical_accuracy: 0.8011 - val_loss: 0.7496 - val_categorical_accuracy: 0.7152\n",
      "\n",
      "Epoch 00001: saving model to model_init_2020-02-0915_11_30.104831/model-00001-0.56552-0.79826-0.74963-0.71519.h5\n",
      "Epoch 2/20\n",
      " 4/67 [>.............................] - ETA: 1:38 - loss: 0.6425 - categorical_accuracy: 0.7368Batch:  7 Index: 16\n",
      " 6/67 [=>............................] - ETA: 2:02 - loss: 0.6335 - categorical_accuracy: 0.7456Batch:  35 Index: 19\n",
      "67/67 [==============================] - 140s 2s/step - loss: 0.5742 - categorical_accuracy: 0.7845 - val_loss: 0.6987 - val_categorical_accuracy: 0.7100\n",
      "\n",
      "Epoch 00002: saving model to model_init_2020-02-0915_11_30.104831/model-00002-0.57488-0.78404-0.69867-0.71000.h5\n",
      "Epoch 3/20\n",
      "67/67 [==============================] - 140s 2s/step - loss: 0.5805 - categorical_accuracy: 0.7928 - val_loss: 0.8023 - val_categorical_accuracy: 0.7000\n",
      "\n",
      "Epoch 00003: saving model to model_init_2020-02-0915_11_30.104831/model-00003-0.58048-0.79280-0.80232-0.70000.h5\n",
      "Epoch 4/20\n",
      "67/67 [==============================] - 143s 2s/step - loss: 0.5726 - categorical_accuracy: 0.7779 - val_loss: 0.6408 - val_categorical_accuracy: 0.7750\n",
      "\n",
      "Epoch 00004: saving model to model_init_2020-02-0915_11_30.104831/model-00004-0.57265-0.77788-0.64083-0.77500.h5\n",
      "Epoch 5/20\n",
      "67/67 [==============================] - 140s 2s/step - loss: 0.5876 - categorical_accuracy: 0.7858 - val_loss: 0.6935 - val_categorical_accuracy: 0.7500\n",
      "\n",
      "Epoch 00005: saving model to model_init_2020-02-0915_11_30.104831/model-00005-0.58759-0.78578-0.69350-0.75000.h5\n",
      "Epoch 6/20\n",
      "67/67 [==============================] - 141s 2s/step - loss: 0.5665 - categorical_accuracy: 0.7823 - val_loss: 0.7654 - val_categorical_accuracy: 0.7250\n",
      "\n",
      "Epoch 00006: saving model to model_init_2020-02-0915_11_30.104831/model-00006-0.56645-0.78227-0.76538-0.72500.h5\n",
      "\n",
      "Epoch 00006: ReduceLROnPlateau reducing learning rate to 3.906250185536919e-06.\n",
      "Epoch 7/20\n",
      "67/67 [==============================] - 141s 2s/step - loss: 0.5743 - categorical_accuracy: 0.7884 - val_loss: 0.7669 - val_categorical_accuracy: 0.6750\n",
      "\n",
      "Epoch 00007: saving model to model_init_2020-02-0915_11_30.104831/model-00007-0.57433-0.78841-0.76695-0.67500.h5\n",
      "Epoch 8/20\n",
      "67/67 [==============================] - 142s 2s/step - loss: 0.5753 - categorical_accuracy: 0.7902 - val_loss: 0.7447 - val_categorical_accuracy: 0.7250\n",
      "\n",
      "Epoch 00008: saving model to model_init_2020-02-0915_11_30.104831/model-00008-0.57534-0.79017-0.74467-0.72500.h5\n",
      "\n",
      "Epoch 00008: ReduceLROnPlateau reducing learning rate to 1.9531250927684596e-06.\n",
      "Epoch 9/20\n",
      "67/67 [==============================] - 141s 2s/step - loss: 0.5710 - categorical_accuracy: 0.7954 - val_loss: 0.7156 - val_categorical_accuracy: 0.7250\n",
      "\n",
      "Epoch 00009: saving model to model_init_2020-02-0915_11_30.104831/model-00009-0.57102-0.79543-0.71561-0.72500.h5\n",
      "Epoch 10/20\n",
      "67/67 [==============================] - 141s 2s/step - loss: 0.5868 - categorical_accuracy: 0.7814 - val_loss: 0.7653 - val_categorical_accuracy: 0.6250\n",
      "\n",
      "Epoch 00010: saving model to model_init_2020-02-0915_11_30.104831/model-00010-0.58678-0.78139-0.76527-0.62500.h5\n",
      "\n",
      "Epoch 00010: ReduceLROnPlateau reducing learning rate to 9.765625463842298e-07.\n",
      "Epoch 11/20\n",
      "67/67 [==============================] - 140s 2s/step - loss: 0.5793 - categorical_accuracy: 0.7858 - val_loss: 0.5445 - val_categorical_accuracy: 0.9000\n",
      "\n",
      "Epoch 00011: saving model to model_init_2020-02-0915_11_30.104831/model-00011-0.57932-0.78578-0.54450-0.90000.h5\n",
      "Epoch 12/20\n",
      "67/67 [==============================] - 140s 2s/step - loss: 0.5747 - categorical_accuracy: 0.7823 - val_loss: 0.7758 - val_categorical_accuracy: 0.7250\n",
      "\n",
      "Epoch 00012: saving model to model_init_2020-02-0915_11_30.104831/model-00012-0.57475-0.78227-0.77577-0.72500.h5\n",
      "Epoch 13/20\n",
      "67/67 [==============================] - 141s 2s/step - loss: 0.5807 - categorical_accuracy: 0.7902 - val_loss: 0.7864 - val_categorical_accuracy: 0.6500\n",
      "\n",
      "Epoch 00013: saving model to model_init_2020-02-0915_11_30.104831/model-00013-0.58075-0.79017-0.78637-0.65000.h5\n",
      "\n",
      "Epoch 00013: ReduceLROnPlateau reducing learning rate to 4.882812731921149e-07.\n",
      "Epoch 14/20\n",
      "67/67 [==============================] - 142s 2s/step - loss: 0.5868 - categorical_accuracy: 0.7796 - val_loss: 0.6937 - val_categorical_accuracy: 0.7750\n",
      "\n",
      "Epoch 00014: saving model to model_init_2020-02-0915_11_30.104831/model-00014-0.58675-0.77963-0.69375-0.77500.h5\n",
      "Epoch 15/20\n",
      "67/67 [==============================] - 141s 2s/step - loss: 0.5288 - categorical_accuracy: 0.8139 - val_loss: 0.7429 - val_categorical_accuracy: 0.7250\n",
      "\n",
      "Epoch 00015: saving model to model_init_2020-02-0915_11_30.104831/model-00015-0.52880-0.81387-0.74289-0.72500.h5\n",
      "\n",
      "Epoch 00015: ReduceLROnPlateau reducing learning rate to 2.4414063659605745e-07.\n",
      "Epoch 16/20\n",
      "67/67 [==============================] - 142s 2s/step - loss: 0.5493 - categorical_accuracy: 0.7893 - val_loss: 0.6453 - val_categorical_accuracy: 0.7750\n",
      "\n",
      "Epoch 00016: saving model to model_init_2020-02-0915_11_30.104831/model-00016-0.54931-0.78929-0.64527-0.77500.h5\n",
      "Epoch 17/20\n",
      "67/67 [==============================] - 142s 2s/step - loss: 0.6047 - categorical_accuracy: 0.7814 - val_loss: 0.6787 - val_categorical_accuracy: 0.7250\n",
      "\n",
      "Epoch 00017: saving model to model_init_2020-02-0915_11_30.104831/model-00017-0.60474-0.78139-0.67871-0.72500.h5\n",
      "\n",
      "Epoch 00017: ReduceLROnPlateau reducing learning rate to 1.2207031829802872e-07.\n",
      "Epoch 18/20\n",
      "67/67 [==============================] - 140s 2s/step - loss: 0.5700 - categorical_accuracy: 0.7937 - val_loss: 0.6942 - val_categorical_accuracy: 0.7500\n",
      "\n",
      "Epoch 00018: saving model to model_init_2020-02-0915_11_30.104831/model-00018-0.56999-0.79368-0.69417-0.75000.h5\n",
      "Epoch 19/20\n",
      "67/67 [==============================] - 143s 2s/step - loss: 0.5683 - categorical_accuracy: 0.7902 - val_loss: 0.7733 - val_categorical_accuracy: 0.7000\n",
      "\n",
      "Epoch 00019: saving model to model_init_2020-02-0915_11_30.104831/model-00019-0.56833-0.79017-0.77328-0.70000.h5\n",
      "\n",
      "Epoch 00019: ReduceLROnPlateau reducing learning rate to 6.103515914901436e-08.\n",
      "Epoch 20/20\n",
      "67/67 [==============================] - 140s 2s/step - loss: 0.5842 - categorical_accuracy: 0.7796 - val_loss: 0.7004 - val_categorical_accuracy: 0.7500\n",
      "\n",
      "Epoch 00020: saving model to model_init_2020-02-0915_11_30.104831/model-00020-0.58416-0.77963-0.70036-0.75000.h5\n"
     ]
    },
    {
     "data": {
      "text/plain": [
       "<keras.callbacks.History at 0x7fa7931b94a8>"
      ]
     },
     "execution_count": 55,
     "metadata": {},
     "output_type": "execute_result"
    }
   ],
   "source": [
    "batch_size = 64\n",
    "num_epochs = 20\n",
    "\n",
    "train_generator = generator_ex(train_path, train_doc, batch_size)\n",
    "val_generator = generator_ex(val_path, val_doc, batch_size)\n",
    "\n",
    "\n",
    "model_final.fit_generator(train_generator, steps_per_epoch=steps_per_epoch, epochs=num_epochs, verbose=1, \n",
    "                    callbacks=callbacks_list, validation_data=val_generator, \n",
    "                    validation_steps=validation_steps, class_weight=None, workers=1, initial_epoch=0)"
   ]
  },
  {
   "cell_type": "code",
   "execution_count": null,
   "metadata": {},
   "outputs": [
    {
     "name": "stdout",
     "output_type": "stream",
     "text": [
      "Source path =  Project_data/val ; batch size = 40\n",
      "Source path =  Project_data/train ; batch size = 40\n",
      "Epoch 1/20\n"
     ]
    },
    {
     "name": "stderr",
     "output_type": "stream",
     "text": [
      "/mnt/disks/user/anaconda3/lib/python3.6/site-packages/ipykernel_launcher.py:19: DeprecationWarning: `imread` is deprecated!\n",
      "`imread` is deprecated in SciPy 1.0.0, and will be removed in 1.2.0.\n",
      "Use ``imageio.imread`` instead.\n",
      "/mnt/disks/user/anaconda3/lib/python3.6/site-packages/ipykernel_launcher.py:24: DeprecationWarning: `imresize` is deprecated!\n",
      "`imresize` is deprecated in SciPy 1.0.0, and will be removed in 1.2.0.\n",
      "Use ``skimage.transform.resize`` instead.\n"
     ]
    },
    {
     "name": "stdout",
     "output_type": "stream",
     "text": [
      " 1/67 [..............................] - ETA: 10:21 - loss: 0.5990 - categorical_accuracy: 0.7500Batch:  3 Index: 40\n"
     ]
    },
    {
     "name": "stderr",
     "output_type": "stream",
     "text": [
      "/mnt/disks/user/anaconda3/lib/python3.6/site-packages/ipykernel_launcher.py:44: DeprecationWarning: `imread` is deprecated!\n",
      "`imread` is deprecated in SciPy 1.0.0, and will be removed in 1.2.0.\n",
      "Use ``imageio.imread`` instead.\n",
      "/mnt/disks/user/anaconda3/lib/python3.6/site-packages/ipykernel_launcher.py:48: DeprecationWarning: `imresize` is deprecated!\n",
      "`imresize` is deprecated in SciPy 1.0.0, and will be removed in 1.2.0.\n",
      "Use ``skimage.transform.resize`` instead.\n"
     ]
    },
    {
     "name": "stdout",
     "output_type": "stream",
     "text": [
      "15/67 [=====>........................] - ETA: 4:40 - loss: 0.5684 - categorical_accuracy: 0.7933Batch:  17 Index: 40\n",
      "44/67 [==================>...........] - ETA: 1:26 - loss: 0.5716 - categorical_accuracy: 0.7940Batch:  29 Index: 23\n",
      "67/67 [==============================] - 224s 3s/step - loss: 0.5652 - categorical_accuracy: 0.7936 - val_loss: 0.7251 - val_categorical_accuracy: 0.7042\n",
      "\n",
      "Epoch 00001: saving model to model_init_2020-02-0915_11_30.104831/model-00001-0.56642-0.79362-0.72510-0.70417.h5\n",
      "Epoch 2/20\n",
      "12/67 [====>.........................] - ETA: 2:17 - loss: 0.5475 - categorical_accuracy: 0.7763Batch:  35 Index: 19\n",
      "67/67 [==============================] - 150s 2s/step - loss: 0.5799 - categorical_accuracy: 0.7768 - val_loss: 0.7165 - val_categorical_accuracy: 0.7300\n",
      "\n",
      "Epoch 00002: saving model to model_init_2020-02-0915_11_30.104831/model-00002-0.57926-0.77682-0.71653-0.73000.h5\n",
      "Epoch 3/20\n",
      "67/67 [==============================] - 148s 2s/step - loss: 0.5562 - categorical_accuracy: 0.7928 - val_loss: 0.7271 - val_categorical_accuracy: 0.7300\n",
      "\n",
      "Epoch 00003: saving model to model_init_2020-02-0915_11_30.104831/model-00003-0.55619-0.79280-0.72709-0.73000.h5\n",
      "Epoch 4/20\n",
      "67/67 [==============================] - 148s 2s/step - loss: 0.5519 - categorical_accuracy: 0.7937 - val_loss: 0.7285 - val_categorical_accuracy: 0.7250\n",
      "\n",
      "Epoch 00004: saving model to model_init_2020-02-0915_11_30.104831/model-00004-0.55188-0.79368-0.72849-0.72500.h5\n",
      "\n",
      "Epoch 00004: ReduceLROnPlateau reducing learning rate to 3.051757957450718e-08.\n",
      "Epoch 5/20\n",
      "67/67 [==============================] - 149s 2s/step - loss: 0.5808 - categorical_accuracy: 0.7796 - val_loss: 0.6986 - val_categorical_accuracy: 0.7350\n",
      "\n",
      "Epoch 00005: saving model to model_init_2020-02-0915_11_30.104831/model-00005-0.58079-0.77963-0.69862-0.73500.h5\n",
      "Epoch 6/20\n",
      "67/67 [==============================] - 147s 2s/step - loss: 0.5477 - categorical_accuracy: 0.8042 - val_loss: 0.7014 - val_categorical_accuracy: 0.7450\n",
      "\n",
      "Epoch 00006: saving model to model_init_2020-02-0915_11_30.104831/model-00006-0.54767-0.80421-0.70135-0.74500.h5\n",
      "Epoch 7/20\n",
      "67/67 [==============================] - 147s 2s/step - loss: 0.5875 - categorical_accuracy: 0.7717 - val_loss: 0.7115 - val_categorical_accuracy: 0.7250\n",
      "\n",
      "Epoch 00007: saving model to model_init_2020-02-0915_11_30.104831/model-00007-0.58747-0.77173-0.71153-0.72500.h5\n",
      "\n",
      "Epoch 00007: ReduceLROnPlateau reducing learning rate to 1.525878978725359e-08.\n",
      "Epoch 8/20\n",
      "67/67 [==============================] - 147s 2s/step - loss: 0.5736 - categorical_accuracy: 0.7928 - val_loss: 0.7474 - val_categorical_accuracy: 0.7150\n",
      "\n",
      "Epoch 00008: saving model to model_init_2020-02-0915_11_30.104831/model-00008-0.57359-0.79280-0.74739-0.71500.h5\n",
      "Epoch 9/20\n",
      "67/67 [==============================] - 147s 2s/step - loss: 0.5954 - categorical_accuracy: 0.7867 - val_loss: 0.7071 - val_categorical_accuracy: 0.7450\n",
      "\n",
      "Epoch 00009: saving model to model_init_2020-02-0915_11_30.104831/model-00009-0.59543-0.78665-0.70707-0.74500.h5\n",
      "\n",
      "Epoch 00009: ReduceLROnPlateau reducing learning rate to 7.629394893626795e-09.\n",
      "Epoch 10/20\n",
      "67/67 [==============================] - 147s 2s/step - loss: 0.5535 - categorical_accuracy: 0.7946 - val_loss: 0.7131 - val_categorical_accuracy: 0.7250\n",
      "\n",
      "Epoch 00010: saving model to model_init_2020-02-0915_11_30.104831/model-00010-0.55350-0.79456-0.71311-0.72500.h5\n",
      "Epoch 11/20\n",
      "67/67 [==============================] - 146s 2s/step - loss: 0.5891 - categorical_accuracy: 0.7709 - val_loss: 0.7370 - val_categorical_accuracy: 0.7100\n",
      "\n",
      "Epoch 00011: saving model to model_init_2020-02-0915_11_30.104831/model-00011-0.58910-0.77085-0.73699-0.71000.h5\n",
      "\n",
      "Epoch 00011: ReduceLROnPlateau reducing learning rate to 3.814697446813398e-09.\n",
      "Epoch 12/20\n",
      "67/67 [==============================] - 147s 2s/step - loss: 0.5810 - categorical_accuracy: 0.7875 - val_loss: 0.6637 - val_categorical_accuracy: 0.7800\n",
      "\n",
      "Epoch 00012: saving model to model_init_2020-02-0915_11_30.104831/model-00012-0.58104-0.78753-0.66372-0.78000.h5\n",
      "Epoch 13/20\n",
      " 2/67 [..............................] - ETA: 1:02 - loss: 0.7407 - categorical_accuracy: 0.7941"
     ]
    }
   ],
   "source": [
    "batch_size = 40\n",
    "num_epochs = 20\n",
    "\n",
    "train_generator = generator_ex(train_path, train_doc, batch_size)\n",
    "val_generator = generator_ex(val_path, val_doc, batch_size)\n",
    "\n",
    "\n",
    "model_final.fit_generator(train_generator, steps_per_epoch=steps_per_epoch, epochs=num_epochs, verbose=1, \n",
    "                    callbacks=callbacks_list, validation_data=val_generator, \n",
    "                    validation_steps=validation_steps, class_weight=None, workers=1, initial_epoch=0)"
   ]
  },
  {
   "cell_type": "markdown",
   "metadata": {},
   "source": [
    "##### approx 79% accuracy"
   ]
  },
  {
   "cell_type": "code",
   "execution_count": null,
   "metadata": {},
   "outputs": [],
   "source": []
  }
 ],
 "metadata": {
  "kernelspec": {
   "display_name": "Python 3",
   "language": "python",
   "name": "python3"
  },
  "language_info": {
   "codemirror_mode": {
    "name": "ipython",
    "version": 3
   },
   "file_extension": ".py",
   "mimetype": "text/x-python",
   "name": "python",
   "nbconvert_exporter": "python",
   "pygments_lexer": "ipython3",
   "version": "3.6.8"
  }
 },
 "nbformat": 4,
 "nbformat_minor": 2
}
