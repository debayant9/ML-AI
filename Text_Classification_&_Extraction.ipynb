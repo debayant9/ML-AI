{
  "nbformat": 4,
  "nbformat_minor": 0,
  "metadata": {
    "colab": {
      "name": "Text Classification & Extraction.ipynb",
      "provenance": [],
      "collapsed_sections": [],
      "include_colab_link": true
    },
    "kernelspec": {
      "name": "python3",
      "display_name": "Python 3"
    },
    "language_info": {
      "name": "python"
    }
  },
  "cells": [
    {
      "cell_type": "markdown",
      "metadata": {
        "id": "view-in-github",
        "colab_type": "text"
      },
      "source": [
        "<a href=\"https://colab.research.google.com/github/debayant9/ML-AI/blob/master/Text_Classification_%26_Extraction.ipynb\" target=\"_parent\"><img src=\"https://colab.research.google.com/assets/colab-badge.svg\" alt=\"Open In Colab\"/></a>"
      ]
    },
    {
      "cell_type": "markdown",
      "metadata": {
        "id": "dMGZXhTZinvZ"
      },
      "source": [
        "About Me:\n",
        "\n",
        "Lavi Nigam \n",
        "\n",
        "Data Scientist @ Google\n",
        "\n",
        "Working on Google Cloud AI Ecossytem \n",
        "\n",
        "Ex - Gartner, HCL Research\n",
        "\n",
        "40 Under 40 Data Scientist India 2021 \n",
        "\n",
        "8+ Years in ML, DL & AI\n",
        "\n",
        "\n",
        "LinkedIn - https://www.linkedin.com/in/lavinigam/ \n"
      ]
    },
    {
      "cell_type": "code",
      "metadata": {
        "id": "JwoqZDqQiXeS"
      },
      "source": [
        "import pandas as pd\n",
        "\n",
        "data = pd.read_csv(\"/content/tripadvisor_hotel_reviews 2.csv\")"
      ],
      "execution_count": null,
      "outputs": []
    },
    {
      "cell_type": "code",
      "metadata": {
        "colab": {
          "base_uri": "https://localhost:8080/",
          "height": 204
        },
        "id": "boDUQe28oitm",
        "outputId": "23b3ee38-27b2-476d-c977-b55f9748b51e"
      },
      "source": [
        "data.head()"
      ],
      "execution_count": null,
      "outputs": [
        {
          "output_type": "execute_result",
          "data": {
            "text/html": [
              "<div>\n",
              "<style scoped>\n",
              "    .dataframe tbody tr th:only-of-type {\n",
              "        vertical-align: middle;\n",
              "    }\n",
              "\n",
              "    .dataframe tbody tr th {\n",
              "        vertical-align: top;\n",
              "    }\n",
              "\n",
              "    .dataframe thead th {\n",
              "        text-align: right;\n",
              "    }\n",
              "</style>\n",
              "<table border=\"1\" class=\"dataframe\">\n",
              "  <thead>\n",
              "    <tr style=\"text-align: right;\">\n",
              "      <th></th>\n",
              "      <th>Review</th>\n",
              "      <th>Rating</th>\n",
              "    </tr>\n",
              "  </thead>\n",
              "  <tbody>\n",
              "    <tr>\n",
              "      <th>0</th>\n",
              "      <td>nice hotel expensive parking got good deal sta...</td>\n",
              "      <td>4</td>\n",
              "    </tr>\n",
              "    <tr>\n",
              "      <th>1</th>\n",
              "      <td>ok nothing special charge diamond member hilto...</td>\n",
              "      <td>2</td>\n",
              "    </tr>\n",
              "    <tr>\n",
              "      <th>2</th>\n",
              "      <td>nice rooms not 4* experience hotel monaco seat...</td>\n",
              "      <td>3</td>\n",
              "    </tr>\n",
              "    <tr>\n",
              "      <th>3</th>\n",
              "      <td>unique, great stay, wonderful time hotel monac...</td>\n",
              "      <td>5</td>\n",
              "    </tr>\n",
              "    <tr>\n",
              "      <th>4</th>\n",
              "      <td>great stay great stay, went seahawk game aweso...</td>\n",
              "      <td>5</td>\n",
              "    </tr>\n",
              "  </tbody>\n",
              "</table>\n",
              "</div>"
            ],
            "text/plain": [
              "                                              Review  Rating\n",
              "0  nice hotel expensive parking got good deal sta...       4\n",
              "1  ok nothing special charge diamond member hilto...       2\n",
              "2  nice rooms not 4* experience hotel monaco seat...       3\n",
              "3  unique, great stay, wonderful time hotel monac...       5\n",
              "4  great stay great stay, went seahawk game aweso...       5"
            ]
          },
          "metadata": {},
          "execution_count": 2
        }
      ]
    },
    {
      "cell_type": "code",
      "metadata": {
        "colab": {
          "base_uri": "https://localhost:8080/"
        },
        "id": "xX2ksotkpL79",
        "outputId": "f053730f-0eff-466b-cfb8-f83b1f20b784"
      },
      "source": [
        "data['Rating'].value_counts()"
      ],
      "execution_count": null,
      "outputs": [
        {
          "output_type": "execute_result",
          "data": {
            "text/plain": [
              "5    9054\n",
              "4    6039\n",
              "3    2184\n",
              "2    1793\n",
              "1    1421\n",
              "Name: Rating, dtype: int64"
            ]
          },
          "metadata": {},
          "execution_count": 3
        }
      ]
    },
    {
      "cell_type": "code",
      "metadata": {
        "colab": {
          "base_uri": "https://localhost:8080/",
          "height": 282
        },
        "id": "PBoK59QOpTUo",
        "outputId": "b4561e84-8eb9-4d7f-b8cf-befd8324cb03"
      },
      "source": [
        "data['Rating'].hist()"
      ],
      "execution_count": null,
      "outputs": [
        {
          "output_type": "execute_result",
          "data": {
            "text/plain": [
              "<matplotlib.axes._subplots.AxesSubplot at 0x7f3ecd96ae90>"
            ]
          },
          "metadata": {},
          "execution_count": 4
        },
        {
          "output_type": "display_data",
          "data": {
            "image/png": "[encoded data removed]",
            "text/plain": [
              "<Figure size 432x288 with 1 Axes>"
            ]
          },
          "metadata": {
            "needs_background": "light"
          }
        }
      ]
    },
    {
      "cell_type": "code",
      "metadata": {
        "id": "lVcVEkcmo-qg"
      },
      "source": [
        "# Should we take Rating as the sentiment?\n",
        "   # We can divide the ratings as sentiments -\n",
        "        # 4&5 ---> postive \n",
        "        # 3 --> Neutral \n",
        "        # 1,2 ---> Negative \n",
        "# or figure out sentiments from other libraries and use that as sentiment \n",
        "# or Hybrid Approach (Rating + Sentiment)"
      ],
      "execution_count": null,
      "outputs": []
    },
    {
      "cell_type": "code",
      "metadata": {
        "colab": {
          "base_uri": "https://localhost:8080/",
          "height": 173
        },
        "id": "Dtw_YaRcp9cW",
        "outputId": "09037dd5-43b1-4d4c-d7d2-18aa6e0a0dc1"
      },
      "source": [
        "data.describe(include=\"O\")"
      ],
      "execution_count": null,
      "outputs": [
        {
          "output_type": "execute_result",
          "data": {
            "text/html": [
              "<div>\n",
              "<style scoped>\n",
              "    .dataframe tbody tr th:only-of-type {\n",
              "        vertical-align: middle;\n",
              "    }\n",
              "\n",
              "    .dataframe tbody tr th {\n",
              "        vertical-align: top;\n",
              "    }\n",
              "\n",
              "    .dataframe thead th {\n",
              "        text-align: right;\n",
              "    }\n",
              "</style>\n",
              "<table border=\"1\" class=\"dataframe\">\n",
              "  <thead>\n",
              "    <tr style=\"text-align: right;\">\n",
              "      <th></th>\n",
              "      <th>Review</th>\n",
              "    </tr>\n",
              "  </thead>\n",
              "  <tbody>\n",
              "    <tr>\n",
              "      <th>count</th>\n",
              "      <td>20491</td>\n",
              "    </tr>\n",
              "    <tr>\n",
              "      <th>unique</th>\n",
              "      <td>20491</td>\n",
              "    </tr>\n",
              "    <tr>\n",
              "      <th>top</th>\n",
              "      <td>forget negatives, wife 45 spent week starting ...</td>\n",
              "    </tr>\n",
              "    <tr>\n",
              "      <th>freq</th>\n",
              "      <td>1</td>\n",
              "    </tr>\n",
              "  </tbody>\n",
              "</table>\n",
              "</div>"
            ],
            "text/plain": [
              "                                                   Review\n",
              "count                                               20491\n",
              "unique                                              20491\n",
              "top     forget negatives, wife 45 spent week starting ...\n",
              "freq                                                    1"
            ]
          },
          "metadata": {},
          "execution_count": 7
        }
      ]
    },
    {
      "cell_type": "code",
      "metadata": {
        "id": "-FB9YI2WqNsO"
      },
      "source": [
        "# Pre-Processing or Cleansing of Text:\n",
        "  # stemming & Lemmatization \n",
        "  # Punctunation Removal \n",
        "  # Stop Word Removal (Linguistic Features will be affected)\n",
        "  # Spell COrrection \n",
        "  # All to Lowercase\n",
        "  # Emoji Rmeovals or Extraction (* See if you can incorproate emojis in Sentiment calculation)\n",
        "  # Remova of URL \n",
        "  # COntractions & Inflictions \n",
        "  # Remove numbers, date, Time and specific Hotel Domain data\n",
        "\n",
        "# EDA \n",
        "# Analysis of Review Data \n",
        "  # WordClouds \n",
        "  # Positiv & Negative Words Analysis \n",
        "  # Sentence Length \n",
        "  # Word Counts \n",
        "  # NGram Analysis \n",
        "  # Extracting sentiment of the data \n",
        "  # Linguistic Data Extraction \n",
        "      # Count Number of Adjectives \n",
        "      # Noune Phrase Extraction \n"
      ],
      "execution_count": null,
      "outputs": []
    },
    {
      "cell_type": "code",
      "metadata": {
        "colab": {
          "base_uri": "https://localhost:8080/",
          "height": 204
        },
        "id": "6ibzmnGRryVZ",
        "outputId": "525925a1-64cf-4850-c2a1-9e1d62dae504"
      },
      "source": [
        "data.head()"
      ],
      "execution_count": null,
      "outputs": [
        {
          "output_type": "execute_result",
          "data": {
            "text/html": [
              "<div>\n",
              "<style scoped>\n",
              "    .dataframe tbody tr th:only-of-type {\n",
              "        vertical-align: middle;\n",
              "    }\n",
              "\n",
              "    .dataframe tbody tr th {\n",
              "        vertical-align: top;\n",
              "    }\n",
              "\n",
              "    .dataframe thead th {\n",
              "        text-align: right;\n",
              "    }\n",
              "</style>\n",
              "<table border=\"1\" class=\"dataframe\">\n",
              "  <thead>\n",
              "    <tr style=\"text-align: right;\">\n",
              "      <th></th>\n",
              "      <th>Review</th>\n",
              "      <th>Rating</th>\n",
              "    </tr>\n",
              "  </thead>\n",
              "  <tbody>\n",
              "    <tr>\n",
              "      <th>0</th>\n",
              "      <td>nice hotel expensive parking got good deal sta...</td>\n",
              "      <td>4</td>\n",
              "    </tr>\n",
              "    <tr>\n",
              "      <th>1</th>\n",
              "      <td>ok nothing special charge diamond member hilto...</td>\n",
              "      <td>2</td>\n",
              "    </tr>\n",
              "    <tr>\n",
              "      <th>2</th>\n",
              "      <td>nice rooms not 4* experience hotel monaco seat...</td>\n",
              "      <td>3</td>\n",
              "    </tr>\n",
              "    <tr>\n",
              "      <th>3</th>\n",
              "      <td>unique, great stay, wonderful time hotel monac...</td>\n",
              "      <td>5</td>\n",
              "    </tr>\n",
              "    <tr>\n",
              "      <th>4</th>\n",
              "      <td>great stay great stay, went seahawk game aweso...</td>\n",
              "      <td>5</td>\n",
              "    </tr>\n",
              "  </tbody>\n",
              "</table>\n",
              "</div>"
            ],
            "text/plain": [
              "                                              Review  Rating\n",
              "0  nice hotel expensive parking got good deal sta...       4\n",
              "1  ok nothing special charge diamond member hilto...       2\n",
              "2  nice rooms not 4* experience hotel monaco seat...       3\n",
              "3  unique, great stay, wonderful time hotel monac...       5\n",
              "4  great stay great stay, went seahawk game aweso...       5"
            ]
          },
          "metadata": {},
          "execution_count": 8
        }
      ]
    },
    {
      "cell_type": "code",
      "metadata": {
        "id": "ox_jy0dPvS5N"
      },
      "source": [
        "from nltk.corpus import stopwords"
      ],
      "execution_count": null,
      "outputs": []
    },
    {
      "cell_type": "code",
      "metadata": {
        "colab": {
          "base_uri": "https://localhost:8080/"
        },
        "id": "lS42tXqwvoBv",
        "outputId": "2c3707b4-8360-4b42-8895-b04cb697e97a"
      },
      "source": [
        "import nltk\n",
        "nltk.download('stopwords')"
      ],
      "execution_count": null,
      "outputs": [
        {
          "output_type": "stream",
          "name": "stdout",
          "text": [
            "[nltk_data] Downloading package stopwords to /root/nltk_data...\n",
            "[nltk_data]   Package stopwords is already up-to-date!\n"
          ]
        },
        {
          "output_type": "execute_result",
          "data": {
            "text/plain": [
              "True"
            ]
          },
          "metadata": {},
          "execution_count": 3
        }
      ]
    },
    {
      "cell_type": "code",
      "metadata": {
        "id": "n7mFxOWpvk2F"
      },
      "source": [
        "# stopwords.words('english')"
      ],
      "execution_count": null,
      "outputs": []
    },
    {
      "cell_type": "code",
      "metadata": {
        "id": "Wqy-rc5AwPDw"
      },
      "source": [
        "eachRow_v1 = \"this is my sentence or review \"\n",
        "word_list = [\"this\",\"is\",\"my\"]"
      ],
      "execution_count": null,
      "outputs": []
    },
    {
      "cell_type": "code",
      "metadata": {
        "colab": {
          "base_uri": "https://localhost:8080/"
        },
        "id": "4hG6pxKdwcPK",
        "outputId": "048cea90-c16d-4843-d9da-6fd6fda58108"
      },
      "source": [
        "eachRow_v1.split()"
      ],
      "execution_count": null,
      "outputs": [
        {
          "output_type": "execute_result",
          "data": {
            "text/plain": [
              "['this', 'is', 'my', 'sentence', 'or', 'review']"
            ]
          },
          "metadata": {},
          "execution_count": 24
        }
      ]
    },
    {
      "cell_type": "code",
      "metadata": {
        "colab": {
          "base_uri": "https://localhost:8080/",
          "height": 35
        },
        "id": "oqBzNjtXxJPF",
        "outputId": "963eb445-b9e9-4ac5-a390-3b46694da7ca"
      },
      "source": [
        "\" \".join(eachRow_v1.split())"
      ],
      "execution_count": null,
      "outputs": [
        {
          "output_type": "execute_result",
          "data": {
            "application/vnd.google.colaboratory.intrinsic+json": {
              "type": "string"
            },
            "text/plain": [
              "'this-is-my-sentence-or-review'"
            ]
          },
          "metadata": {},
          "execution_count": 27
        }
      ]
    },
    {
      "cell_type": "code",
      "metadata": {
        "colab": {
          "base_uri": "https://localhost:8080/"
        },
        "id": "qkkAbI1ow6K2",
        "outputId": "fae47c14-f833-4e02-aed9-da924b47edc6"
      },
      "source": [
        "eachRow_v1 = \"this is my sentence or review \"\n",
        "word_list = eachRow_v1.split()\n",
        "[word for word in word_list if word not in stopwords.words('english')]\n",
        "# this return the review in list of words \n",
        "# this should be returened in Strings"
      ],
      "execution_count": null,
      "outputs": [
        {
          "output_type": "execute_result",
          "data": {
            "text/plain": [
              "['sentence', 'review']"
            ]
          },
          "metadata": {},
          "execution_count": 4
        }
      ]
    },
    {
      "cell_type": "code",
      "metadata": {
        "colab": {
          "base_uri": "https://localhost:8080/"
        },
        "id": "R6vlJN38x2lW",
        "outputId": "6781e66f-4971-42ee-cf3c-be63bd62d7a8"
      },
      "source": [
        "type(stopwords.words('english'))"
      ],
      "execution_count": null,
      "outputs": [
        {
          "output_type": "execute_result",
          "data": {
            "text/plain": [
              "list"
            ]
          },
          "metadata": {},
          "execution_count": 28
        }
      ]
    },
    {
      "cell_type": "code",
      "metadata": {
        "colab": {
          "base_uri": "https://localhost:8080/"
        },
        "id": "5jhZ98U_zrkt",
        "outputId": "2e37707c-c3aa-41f5-a3fd-8d1dad1142f0"
      },
      "source": [
        "data['Review'].str.split()"
      ],
      "execution_count": null,
      "outputs": [
        {
          "output_type": "execute_result",
          "data": {
            "text/plain": [
              "0        [nice, hotel, expensive, parking, got, good, d...\n",
              "1        [ok, nothing, special, charge, diamond, member...\n",
              "2        [nice, rooms, not, 4*, experience, hotel, mona...\n",
              "3        [unique,, great, stay,, wonderful, time, hotel...\n",
              "4        [great, stay, great, stay,, went, seahawk, gam...\n",
              "                               ...                        \n",
              "20486    [best, kept, secret, 3rd, time, staying, charm...\n",
              "20487    [great, location, price, view, hotel, great, q...\n",
              "20488    [ok, just, looks, nice, modern, outside,, desk...\n",
              "20489    [hotel, theft, ruined, vacation, hotel, opened...\n",
              "20490    [people, talking,, ca, n't, believe, excellent...\n",
              "Name: Review, Length: 20491, dtype: object"
            ]
          },
          "metadata": {},
          "execution_count": 41
        }
      ]
    },
    {
      "cell_type": "code",
      "metadata": {
        "id": "J4y9PXtIzwbJ"
      },
      "source": [
        "# Append (List)\n",
        "# Extend (List)\n"
      ],
      "execution_count": null,
      "outputs": []
    },
    {
      "cell_type": "code",
      "metadata": {
        "id": "rrBFBIaPzP8z"
      },
      "source": [
        "# to create global list of words like a list of workds from all words in datasets\n",
        "word_list = []\n",
        "for eachList in data['Review'].str.split():\n",
        "  word_list.extend(eachList)"
      ],
      "execution_count": null,
      "outputs": []
    },
    {
      "cell_type": "code",
      "metadata": {
        "id": "yZIe9Sw_0IDY"
      },
      "source": [
        "from collections import Counter\n",
        "# Counter(word_list).most_common(50)\n",
        "most_common_words = [word for word,count in Counter(word_list).most_common(50)]\n",
        "# Top 50 Words \n",
        "# Bottom 50 Words "
      ],
      "execution_count": null,
      "outputs": []
    },
    {
      "cell_type": "code",
      "metadata": {
        "id": "qi5PEQVE0n1b"
      },
      "source": [
        "# Least 50 Words in the datasets \n",
        "# Counter(word_list).most_common()[-50:]\n",
        "# [\"neutralizer\",\"aerate\"]\n",
        "least_words = [word for word,count in Counter(word_list).most_common()[-50:]]"
      ],
      "execution_count": null,
      "outputs": []
    },
    {
      "cell_type": "code",
      "metadata": {
        "id": "tCLG9p60yx9B"
      },
      "source": [
        "# Count the Frequency of the words that we have in overall dataset \n",
        "# Find Positive & Negative Words"
      ],
      "execution_count": null,
      "outputs": []
    },
    {
      "cell_type": "code",
      "metadata": {
        "id": "fd_9RNHEx4SM"
      },
      "source": [
        "def get_removeStoWord(sentence, word_list_to_remove):\n",
        "  word_list = sentence.split()\n",
        "  sentence_stopword_removel = [word for word in word_list if word not in word_list_to_remove] # standard stop work list\n",
        "  return \" \".join(sentence_stopword_removel)"
      ],
      "execution_count": null,
      "outputs": []
    },
    {
      "cell_type": "code",
      "metadata": {
        "id": "_bbQiIgor4De"
      },
      "source": [
        "# Apply Function \n",
        "import string\n",
        "\n",
        "def get_clean(eachRow): # parameter -- is single row value\n",
        "\n",
        "  # Convert Everything to LowerCase\n",
        "  eachRow_v1 = eachRow.lower()\n",
        "\n",
        "  # Remove the stop words \n",
        "  # List Comprehension \n",
        "  # We would like to do Custom Stop Word Removal\n",
        "  custom_stopwords = []\n",
        "  # custome_punctuations = [\"*\",\",\",\".\"]\n",
        "  custom_stopwords.extend(most_common_words)\n",
        "  custom_stopwords.extend(least_words)\n",
        "  # custom_stopwords.extend(custome_punctuations)\n",
        "  eachRow_v2 = get_removeStoWord(eachRow_v1, custom_stopwords)\n",
        "\n",
        "  # Removing the punctuation\n",
        "  eachRow_v3 = eachRow_v2.translate(str.maketrans('', '', string.punctuation))\n",
        "\n",
        "\n",
        "  #eachRow_v1 = eachRow['Review'].lower()\n",
        "  # print(eachRow_v1)\n",
        "  return eachRow_v3"
      ],
      "execution_count": null,
      "outputs": []
    },
    {
      "cell_type": "code",
      "metadata": {
        "id": "ovlqItAzup7C"
      },
      "source": [
        "# Two Approached to Remove StopWords \n",
        "    # Standard English Stop Words -- (NLTK & SPacy)\n",
        "    # Custom or Domain Stopwords ----> (Hotel,)\n",
        "    # we should remove NOT (Exclude Or Include)"
      ],
      "execution_count": null,
      "outputs": []
    },
    {
      "cell_type": "code",
      "metadata": {
        "id": "0p01NjSjr53n"
      },
      "source": [
        "# if your transformation invovles single row change, use this \n",
        "data['Review_Clean_v1'] = data['Review'].apply(get_clean) # axis & transforamtion are happening on Row Level. \n",
        "\n",
        "# if your transfaormation requires multiple columns for a change in value, use this\n",
        "# if column1 > 10 and column 3 <20, then return \"Good\"\n",
        "# data.apply(get_clean, axis=1)# axis and operations are happening on Column Leve "
      ],
      "execution_count": null,
      "outputs": []
    },
    {
      "cell_type": "code",
      "metadata": {
        "colab": {
          "base_uri": "https://localhost:8080/",
          "height": 204
        },
        "id": "QBMS7kEP3vEW",
        "outputId": "bedc299e-2ae9-453a-a300-62af943b0d5f"
      },
      "source": [
        "data.head()"
      ],
      "execution_count": null,
      "outputs": [
        {
          "output_type": "execute_result",
          "data": {
            "text/html": [
              "<div>\n",
              "<style scoped>\n",
              "    .dataframe tbody tr th:only-of-type {\n",
              "        vertical-align: middle;\n",
              "    }\n",
              "\n",
              "    .dataframe tbody tr th {\n",
              "        vertical-align: top;\n",
              "    }\n",
              "\n",
              "    .dataframe thead th {\n",
              "        text-align: right;\n",
              "    }\n",
              "</style>\n",
              "<table border=\"1\" class=\"dataframe\">\n",
              "  <thead>\n",
              "    <tr style=\"text-align: right;\">\n",
              "      <th></th>\n",
              "      <th>Review</th>\n",
              "      <th>Rating</th>\n",
              "      <th>Review_Clean_v1</th>\n",
              "    </tr>\n",
              "  </thead>\n",
              "  <tbody>\n",
              "    <tr>\n",
              "      <th>0</th>\n",
              "      <td>nice hotel expensive parking got good deal sta...</td>\n",
              "      <td>4</td>\n",
              "      <td>expensive parking deal anniversary arrived lat...</td>\n",
              "    </tr>\n",
              "    <tr>\n",
              "      <th>1</th>\n",
              "      <td>ok nothing special charge diamond member hilto...</td>\n",
              "      <td>2</td>\n",
              "      <td>ok nothing special charge diamond member hilto...</td>\n",
              "    </tr>\n",
              "    <tr>\n",
              "      <th>2</th>\n",
              "      <td>nice rooms not 4* experience hotel monaco seat...</td>\n",
              "      <td>3</td>\n",
              "      <td>4 experience monaco seattle 4 levelpositives l...</td>\n",
              "    </tr>\n",
              "    <tr>\n",
              "      <th>3</th>\n",
              "      <td>unique, great stay, wonderful time hotel monac...</td>\n",
              "      <td>5</td>\n",
              "      <td>unique stay wonderful monaco short stroll main...</td>\n",
              "    </tr>\n",
              "    <tr>\n",
              "      <th>4</th>\n",
              "      <td>great stay great stay, went seahawk game aweso...</td>\n",
              "      <td>5</td>\n",
              "      <td>stay seahawk game awesome downfall view buildi...</td>\n",
              "    </tr>\n",
              "  </tbody>\n",
              "</table>\n",
              "</div>"
            ],
            "text/plain": [
              "                                              Review  ...                                    Review_Clean_v1\n",
              "0  nice hotel expensive parking got good deal sta...  ...  expensive parking deal anniversary arrived lat...\n",
              "1  ok nothing special charge diamond member hilto...  ...  ok nothing special charge diamond member hilto...\n",
              "2  nice rooms not 4* experience hotel monaco seat...  ...  4 experience monaco seattle 4 levelpositives l...\n",
              "3  unique, great stay, wonderful time hotel monac...  ...  unique stay wonderful monaco short stroll main...\n",
              "4  great stay great stay, went seahawk game aweso...  ...  stay seahawk game awesome downfall view buildi...\n",
              "\n",
              "[5 rows x 3 columns]"
            ]
          },
          "metadata": {},
          "execution_count": 71
        }
      ]
    },
    {
      "cell_type": "code",
      "metadata": {
        "id": "OsfBDiRg32Bp"
      },
      "source": [
        "# Addign Features \n",
        "\n",
        "from vaderSentiment.vaderSentiment import SentimentIntensityAnalyzer\n",
        "analyzer = SentimentIntensityAnalyzer()\n",
        "from textblob import TextBlob\n",
        "\n",
        "def get_char_count(eachReview):\n",
        "  return len(eachReview)\n",
        "\n",
        "def get_word_count(eachReview):\n",
        "  return len(eachReview.split())\n",
        "\n",
        "def get_vadersentiment(eachReview):\n",
        "  # Data Structure Problem \n",
        "  # Return the proper value of compound\n",
        "  return analyzer.polarity_scores(eachReview)['compound']\n",
        "\n",
        "def get_textblob_sentiment(eachReview):\n",
        "  return TextBlob(eachReview).sentiment.polarity\n",
        "\n",
        "# Sentiments \n",
        "# Vader Sentiments \n",
        "# TextBlob \n",
        "# Splitting Rating into Sentiments "
      ],
      "execution_count": null,
      "outputs": []
    },
    {
      "cell_type": "code",
      "metadata": {
        "id": "CqMw9j_I5OHo"
      },
      "source": [
        "# Please do this before cleaning\n",
        "data['Char_Count'] = data['Review'].apply(get_char_count)\n",
        "data['Word_Count'] = data['Review'].apply(get_word_count)\n",
        "data['VaderSentiment'] = data['Review'].apply(get_vadersentiment)\n",
        "data['TextBlobSentiment'] = data['Review'].apply(get_textblob_sentiment)"
      ],
      "execution_count": null,
      "outputs": []
    },
    {
      "cell_type": "code",
      "metadata": {
        "colab": {
          "base_uri": "https://localhost:8080/",
          "height": 204
        },
        "id": "D0aMGr0X5eQN",
        "outputId": "31a46d71-1d5d-417e-abaf-7177cb91e86d"
      },
      "source": [
        "data.head()"
      ],
      "execution_count": null,
      "outputs": [
        {
          "output_type": "execute_result",
          "data": {
            "text/html": [
              "<div>\n",
              "<style scoped>\n",
              "    .dataframe tbody tr th:only-of-type {\n",
              "        vertical-align: middle;\n",
              "    }\n",
              "\n",
              "    .dataframe tbody tr th {\n",
              "        vertical-align: top;\n",
              "    }\n",
              "\n",
              "    .dataframe thead th {\n",
              "        text-align: right;\n",
              "    }\n",
              "</style>\n",
              "<table border=\"1\" class=\"dataframe\">\n",
              "  <thead>\n",
              "    <tr style=\"text-align: right;\">\n",
              "      <th></th>\n",
              "      <th>Review</th>\n",
              "      <th>Rating</th>\n",
              "      <th>Review_Clean_v1</th>\n",
              "      <th>Char_Count</th>\n",
              "      <th>Word_Count</th>\n",
              "      <th>VaderSentiment</th>\n",
              "      <th>TextBlobSentiment</th>\n",
              "    </tr>\n",
              "  </thead>\n",
              "  <tbody>\n",
              "    <tr>\n",
              "      <th>0</th>\n",
              "      <td>nice hotel expensive parking got good deal sta...</td>\n",
              "      <td>4</td>\n",
              "      <td>expensive parking deal anniversary arrived lat...</td>\n",
              "      <td>593</td>\n",
              "      <td>87</td>\n",
              "      <td>0.9626</td>\n",
              "      <td>0.208744</td>\n",
              "    </tr>\n",
              "    <tr>\n",
              "      <th>1</th>\n",
              "      <td>ok nothing special charge diamond member hilto...</td>\n",
              "      <td>2</td>\n",
              "      <td>ok nothing special charge diamond member hilto...</td>\n",
              "      <td>1689</td>\n",
              "      <td>250</td>\n",
              "      <td>0.9870</td>\n",
              "      <td>0.214923</td>\n",
              "    </tr>\n",
              "    <tr>\n",
              "      <th>2</th>\n",
              "      <td>nice rooms not 4* experience hotel monaco seat...</td>\n",
              "      <td>3</td>\n",
              "      <td>4 experience monaco seattle 4 levelpositives l...</td>\n",
              "      <td>1427</td>\n",
              "      <td>217</td>\n",
              "      <td>0.9842</td>\n",
              "      <td>0.294420</td>\n",
              "    </tr>\n",
              "    <tr>\n",
              "      <th>3</th>\n",
              "      <td>unique, great stay, wonderful time hotel monac...</td>\n",
              "      <td>5</td>\n",
              "      <td>unique stay wonderful monaco short stroll main...</td>\n",
              "      <td>600</td>\n",
              "      <td>89</td>\n",
              "      <td>0.9920</td>\n",
              "      <td>0.504825</td>\n",
              "    </tr>\n",
              "    <tr>\n",
              "      <th>4</th>\n",
              "      <td>great stay great stay, went seahawk game aweso...</td>\n",
              "      <td>5</td>\n",
              "      <td>stay seahawk game awesome downfall view buildi...</td>\n",
              "      <td>1281</td>\n",
              "      <td>191</td>\n",
              "      <td>0.9870</td>\n",
              "      <td>0.384615</td>\n",
              "    </tr>\n",
              "  </tbody>\n",
              "</table>\n",
              "</div>"
            ],
            "text/plain": [
              "                                              Review  ...  TextBlobSentiment\n",
              "0  nice hotel expensive parking got good deal sta...  ...           0.208744\n",
              "1  ok nothing special charge diamond member hilto...  ...           0.214923\n",
              "2  nice rooms not 4* experience hotel monaco seat...  ...           0.294420\n",
              "3  unique, great stay, wonderful time hotel monac...  ...           0.504825\n",
              "4  great stay great stay, went seahawk game aweso...  ...           0.384615\n",
              "\n",
              "[5 rows x 7 columns]"
            ]
          },
          "metadata": {},
          "execution_count": 12
        }
      ]
    },
    {
      "cell_type": "code",
      "metadata": {
        "id": "arvOTFcn7eIy"
      },
      "source": [
        "# Final Sentiment Score === Score or COmbination of (Rating + VaderSentiment + TextBlobSentiment)"
      ],
      "execution_count": null,
      "outputs": []
    },
    {
      "cell_type": "code",
      "metadata": {
        "colab": {
          "base_uri": "https://localhost:8080/",
          "height": 297
        },
        "id": "jXbEogwE7s8S",
        "outputId": "d3cfb0bf-9856-420b-da5d-0a44b52c9647"
      },
      "source": [
        "data.describe()"
      ],
      "execution_count": null,
      "outputs": [
        {
          "output_type": "execute_result",
          "data": {
            "text/html": [
              "<div>\n",
              "<style scoped>\n",
              "    .dataframe tbody tr th:only-of-type {\n",
              "        vertical-align: middle;\n",
              "    }\n",
              "\n",
              "    .dataframe tbody tr th {\n",
              "        vertical-align: top;\n",
              "    }\n",
              "\n",
              "    .dataframe thead th {\n",
              "        text-align: right;\n",
              "    }\n",
              "</style>\n",
              "<table border=\"1\" class=\"dataframe\">\n",
              "  <thead>\n",
              "    <tr style=\"text-align: right;\">\n",
              "      <th></th>\n",
              "      <th>Rating</th>\n",
              "      <th>Char_Count</th>\n",
              "      <th>Word_Count</th>\n",
              "      <th>VaderSentiment</th>\n",
              "      <th>TextBlobSentiment</th>\n",
              "    </tr>\n",
              "  </thead>\n",
              "  <tbody>\n",
              "    <tr>\n",
              "      <th>count</th>\n",
              "      <td>20491.000000</td>\n",
              "      <td>20491.000000</td>\n",
              "      <td>20491.000000</td>\n",
              "      <td>20491.000000</td>\n",
              "      <td>20491.000000</td>\n",
              "    </tr>\n",
              "    <tr>\n",
              "      <th>mean</th>\n",
              "      <td>3.952223</td>\n",
              "      <td>724.896833</td>\n",
              "      <td>104.375824</td>\n",
              "      <td>0.809780</td>\n",
              "      <td>0.274278</td>\n",
              "    </tr>\n",
              "    <tr>\n",
              "      <th>std</th>\n",
              "      <td>1.233030</td>\n",
              "      <td>689.101024</td>\n",
              "      <td>100.656586</td>\n",
              "      <td>0.445619</td>\n",
              "      <td>0.181452</td>\n",
              "    </tr>\n",
              "    <tr>\n",
              "      <th>min</th>\n",
              "      <td>1.000000</td>\n",
              "      <td>44.000000</td>\n",
              "      <td>7.000000</td>\n",
              "      <td>-0.997600</td>\n",
              "      <td>-1.000000</td>\n",
              "    </tr>\n",
              "    <tr>\n",
              "      <th>25%</th>\n",
              "      <td>3.000000</td>\n",
              "      <td>339.000000</td>\n",
              "      <td>48.000000</td>\n",
              "      <td>0.921700</td>\n",
              "      <td>0.177426</td>\n",
              "    </tr>\n",
              "    <tr>\n",
              "      <th>50%</th>\n",
              "      <td>4.000000</td>\n",
              "      <td>537.000000</td>\n",
              "      <td>77.000000</td>\n",
              "      <td>0.974400</td>\n",
              "      <td>0.280371</td>\n",
              "    </tr>\n",
              "    <tr>\n",
              "      <th>75%</th>\n",
              "      <td>5.000000</td>\n",
              "      <td>859.000000</td>\n",
              "      <td>124.000000</td>\n",
              "      <td>0.989000</td>\n",
              "      <td>0.384903</td>\n",
              "    </tr>\n",
              "    <tr>\n",
              "      <th>max</th>\n",
              "      <td>5.000000</td>\n",
              "      <td>13501.000000</td>\n",
              "      <td>1931.000000</td>\n",
              "      <td>0.999900</td>\n",
              "      <td>1.000000</td>\n",
              "    </tr>\n",
              "  </tbody>\n",
              "</table>\n",
              "</div>"
            ],
            "text/plain": [
              "             Rating    Char_Count  ...  VaderSentiment  TextBlobSentiment\n",
              "count  20491.000000  20491.000000  ...    20491.000000       20491.000000\n",
              "mean       3.952223    724.896833  ...        0.809780           0.274278\n",
              "std        1.233030    689.101024  ...        0.445619           0.181452\n",
              "min        1.000000     44.000000  ...       -0.997600          -1.000000\n",
              "25%        3.000000    339.000000  ...        0.921700           0.177426\n",
              "50%        4.000000    537.000000  ...        0.974400           0.280371\n",
              "75%        5.000000    859.000000  ...        0.989000           0.384903\n",
              "max        5.000000  13501.000000  ...        0.999900           1.000000\n",
              "\n",
              "[8 rows x 5 columns]"
            ]
          },
          "metadata": {},
          "execution_count": 13
        }
      ]
    },
    {
      "cell_type": "code",
      "metadata": {
        "colab": {
          "base_uri": "https://localhost:8080/",
          "height": 173
        },
        "id": "V8y4cQAO7s1L",
        "outputId": "128719c5-da47-4627-f955-638acd61d5ec"
      },
      "source": [
        "data.describe(include=\"O\")"
      ],
      "execution_count": null,
      "outputs": [
        {
          "output_type": "execute_result",
          "data": {
            "text/html": [
              "<div>\n",
              "<style scoped>\n",
              "    .dataframe tbody tr th:only-of-type {\n",
              "        vertical-align: middle;\n",
              "    }\n",
              "\n",
              "    .dataframe tbody tr th {\n",
              "        vertical-align: top;\n",
              "    }\n",
              "\n",
              "    .dataframe thead th {\n",
              "        text-align: right;\n",
              "    }\n",
              "</style>\n",
              "<table border=\"1\" class=\"dataframe\">\n",
              "  <thead>\n",
              "    <tr style=\"text-align: right;\">\n",
              "      <th></th>\n",
              "      <th>Review</th>\n",
              "      <th>Review_Clean_v1</th>\n",
              "    </tr>\n",
              "  </thead>\n",
              "  <tbody>\n",
              "    <tr>\n",
              "      <th>count</th>\n",
              "      <td>20491</td>\n",
              "      <td>20491</td>\n",
              "    </tr>\n",
              "    <tr>\n",
              "      <th>unique</th>\n",
              "      <td>20491</td>\n",
              "      <td>20491</td>\n",
              "    </tr>\n",
              "    <tr>\n",
              "      <th>top</th>\n",
              "      <td>forget negatives, wife 45 spent week starting ...</td>\n",
              "      <td>westin visit westin lovely great cool modern l...</td>\n",
              "    </tr>\n",
              "    <tr>\n",
              "      <th>freq</th>\n",
              "      <td>1</td>\n",
              "      <td>1</td>\n",
              "    </tr>\n",
              "  </tbody>\n",
              "</table>\n",
              "</div>"
            ],
            "text/plain": [
              "                                                   Review                                    Review_Clean_v1\n",
              "count                                               20491                                              20491\n",
              "unique                                              20491                                              20491\n",
              "top     forget negatives, wife 45 spent week starting ...  westin visit westin lovely great cool modern l...\n",
              "freq                                                    1                                                  1"
            ]
          },
          "metadata": {},
          "execution_count": 87
        }
      ]
    },
    {
      "cell_type": "code",
      "metadata": {
        "id": "mLXatDV377go"
      },
      "source": [
        "# CountVEcotrizer & TFIDF Vecotrizer \n",
        "from sklearn.feature_extraction.text import CountVectorizer\n",
        "vectorizer = CountVectorizer(max_features=10000,ngram_range=(1, 5))\n",
        "X = vectorizer.fit_transform(data['Review_Clean_v1'])"
      ],
      "execution_count": null,
      "outputs": []
    },
    {
      "cell_type": "code",
      "metadata": {
        "id": "EZNTZ9Cy-jNz"
      },
      "source": [
        "# NGRAM Logic -- It retains the context\n",
        "\"I love India and Data Science\"\n",
        "1Gram \n",
        "\"I\"\n",
        "\"Love\"\n",
        "\"India\"\n",
        "2Gram \n",
        "\"I Love\"\n",
        "\"Love India\"\n",
        "\"India and\"\n",
        "3Gram \n",
        "\"I Love India\"\n",
        "\"India and Data\""
      ],
      "execution_count": null,
      "outputs": []
    },
    {
      "cell_type": "code",
      "metadata": {
        "colab": {
          "base_uri": "https://localhost:8080/"
        },
        "id": "f-oIojPH8tOU",
        "outputId": "6e33d783-6884-4649-abc2-18e72679cb80"
      },
      "source": [
        "len(vectorizer.vocabulary_.keys())"
      ],
      "execution_count": null,
      "outputs": [
        {
          "output_type": "execute_result",
          "data": {
            "text/plain": [
              "10000"
            ]
          },
          "metadata": {},
          "execution_count": 22
        }
      ]
    },
    {
      "cell_type": "code",
      "metadata": {
        "id": "gYyoJ7Yu9FVC"
      },
      "source": [
        "count_vect_df = pd.DataFrame(X.todense(), columns=vectorizer.get_feature_names())"
      ],
      "execution_count": null,
      "outputs": []
    },
    {
      "cell_type": "code",
      "metadata": {
        "colab": {
          "base_uri": "https://localhost:8080/",
          "height": 287
        },
        "id": "_oiZXGAD9iy_",
        "outputId": "f15a88f8-da45-480e-ecc4-f9234fde42e1"
      },
      "source": [
        "count_vect_df.head(5)"
      ],
      "execution_count": null,
      "outputs": [
        {
          "output_type": "execute_result",
          "data": {
            "text/html": [
              "<div>\n",
              "<style scoped>\n",
              "    .dataframe tbody tr th:only-of-type {\n",
              "        vertical-align: middle;\n",
              "    }\n",
              "\n",
              "    .dataframe tbody tr th {\n",
              "        vertical-align: top;\n",
              "    }\n",
              "\n",
              "    .dataframe thead th {\n",
              "        text-align: right;\n",
              "    }\n",
              "</style>\n",
              "<table border=\"1\" class=\"dataframe\">\n",
              "  <thead>\n",
              "    <tr style=\"text-align: right;\">\n",
              "      <th></th>\n",
              "      <th>04</th>\n",
              "      <th>05</th>\n",
              "      <th>06</th>\n",
              "      <th>07</th>\n",
              "      <th>08</th>\n",
              "      <th>10</th>\n",
              "      <th>10 15</th>\n",
              "      <th>10 days</th>\n",
              "      <th>10 euro</th>\n",
              "      <th>10 euros</th>\n",
              "      <th>10 min</th>\n",
              "      <th>10 mins</th>\n",
              "      <th>10 minute</th>\n",
              "      <th>10 minutes</th>\n",
              "      <th>10 minutes away</th>\n",
              "      <th>10 nights</th>\n",
              "      <th>10 pm</th>\n",
              "      <th>10 year</th>\n",
              "      <th>10 year old</th>\n",
              "      <th>10 years</th>\n",
              "      <th>100</th>\n",
              "      <th>100 yards</th>\n",
              "      <th>1000</th>\n",
              "      <th>10000</th>\n",
              "      <th>101</th>\n",
              "      <th>1015</th>\n",
              "      <th>1015 minute</th>\n",
              "      <th>1015 minutes</th>\n",
              "      <th>1030</th>\n",
              "      <th>1030pm</th>\n",
              "      <th>10am</th>\n",
              "      <th>10mins</th>\n",
              "      <th>10minute</th>\n",
              "      <th>10pm</th>\n",
              "      <th>10th</th>\n",
              "      <th>10th floor</th>\n",
              "      <th>11</th>\n",
              "      <th>11 days</th>\n",
              "      <th>11 pm</th>\n",
              "      <th>110</th>\n",
              "      <th>...</th>\n",
              "      <th>yellow</th>\n",
              "      <th>yen</th>\n",
              "      <th>yes</th>\n",
              "      <th>yes yes</th>\n",
              "      <th>yesterday</th>\n",
              "      <th>yo</th>\n",
              "      <th>yoga</th>\n",
              "      <th>yoghurt</th>\n",
              "      <th>yoghurts</th>\n",
              "      <th>yogurt</th>\n",
              "      <th>yogurts</th>\n",
              "      <th>york</th>\n",
              "      <th>york city</th>\n",
              "      <th>you</th>\n",
              "      <th>young</th>\n",
              "      <th>young children</th>\n",
              "      <th>young kids</th>\n",
              "      <th>young lady</th>\n",
              "      <th>young man</th>\n",
              "      <th>young woman</th>\n",
              "      <th>younger</th>\n",
              "      <th>youre</th>\n",
              "      <th>youth</th>\n",
              "      <th>youthe</th>\n",
              "      <th>youçéèe</th>\n",
              "      <th>youçéêl</th>\n",
              "      <th>yr</th>\n",
              "      <th>yr old</th>\n",
              "      <th>yrs</th>\n",
              "      <th>yuck</th>\n",
              "      <th>yum</th>\n",
              "      <th>yummy</th>\n",
              "      <th>yunque</th>\n",
              "      <th>zero</th>\n",
              "      <th>zip</th>\n",
              "      <th>zona</th>\n",
              "      <th>zona rosa</th>\n",
              "      <th>zone</th>\n",
              "      <th>zoo</th>\n",
              "      <th>äcor</th>\n",
              "    </tr>\n",
              "  </thead>\n",
              "  <tbody>\n",
              "    <tr>\n",
              "      <th>0</th>\n",
              "      <td>0</td>\n",
              "      <td>0</td>\n",
              "      <td>0</td>\n",
              "      <td>0</td>\n",
              "      <td>0</td>\n",
              "      <td>0</td>\n",
              "      <td>0</td>\n",
              "      <td>0</td>\n",
              "      <td>0</td>\n",
              "      <td>0</td>\n",
              "      <td>0</td>\n",
              "      <td>0</td>\n",
              "      <td>0</td>\n",
              "      <td>0</td>\n",
              "      <td>0</td>\n",
              "      <td>0</td>\n",
              "      <td>0</td>\n",
              "      <td>0</td>\n",
              "      <td>0</td>\n",
              "      <td>0</td>\n",
              "      <td>0</td>\n",
              "      <td>0</td>\n",
              "      <td>0</td>\n",
              "      <td>0</td>\n",
              "      <td>0</td>\n",
              "      <td>0</td>\n",
              "      <td>0</td>\n",
              "      <td>0</td>\n",
              "      <td>0</td>\n",
              "      <td>0</td>\n",
              "      <td>0</td>\n",
              "      <td>0</td>\n",
              "      <td>0</td>\n",
              "      <td>0</td>\n",
              "      <td>0</td>\n",
              "      <td>0</td>\n",
              "      <td>0</td>\n",
              "      <td>0</td>\n",
              "      <td>0</td>\n",
              "      <td>0</td>\n",
              "      <td>...</td>\n",
              "      <td>0</td>\n",
              "      <td>0</td>\n",
              "      <td>0</td>\n",
              "      <td>0</td>\n",
              "      <td>0</td>\n",
              "      <td>0</td>\n",
              "      <td>0</td>\n",
              "      <td>0</td>\n",
              "      <td>0</td>\n",
              "      <td>0</td>\n",
              "      <td>0</td>\n",
              "      <td>0</td>\n",
              "      <td>0</td>\n",
              "      <td>0</td>\n",
              "      <td>0</td>\n",
              "      <td>0</td>\n",
              "      <td>0</td>\n",
              "      <td>0</td>\n",
              "      <td>0</td>\n",
              "      <td>0</td>\n",
              "      <td>0</td>\n",
              "      <td>0</td>\n",
              "      <td>0</td>\n",
              "      <td>0</td>\n",
              "      <td>0</td>\n",
              "      <td>0</td>\n",
              "      <td>0</td>\n",
              "      <td>0</td>\n",
              "      <td>0</td>\n",
              "      <td>0</td>\n",
              "      <td>0</td>\n",
              "      <td>0</td>\n",
              "      <td>0</td>\n",
              "      <td>0</td>\n",
              "      <td>0</td>\n",
              "      <td>0</td>\n",
              "      <td>0</td>\n",
              "      <td>0</td>\n",
              "      <td>0</td>\n",
              "      <td>0</td>\n",
              "    </tr>\n",
              "    <tr>\n",
              "      <th>1</th>\n",
              "      <td>0</td>\n",
              "      <td>0</td>\n",
              "      <td>0</td>\n",
              "      <td>0</td>\n",
              "      <td>0</td>\n",
              "      <td>0</td>\n",
              "      <td>0</td>\n",
              "      <td>0</td>\n",
              "      <td>0</td>\n",
              "      <td>0</td>\n",
              "      <td>0</td>\n",
              "      <td>0</td>\n",
              "      <td>0</td>\n",
              "      <td>0</td>\n",
              "      <td>0</td>\n",
              "      <td>0</td>\n",
              "      <td>0</td>\n",
              "      <td>0</td>\n",
              "      <td>0</td>\n",
              "      <td>0</td>\n",
              "      <td>0</td>\n",
              "      <td>0</td>\n",
              "      <td>0</td>\n",
              "      <td>0</td>\n",
              "      <td>0</td>\n",
              "      <td>0</td>\n",
              "      <td>0</td>\n",
              "      <td>0</td>\n",
              "      <td>0</td>\n",
              "      <td>0</td>\n",
              "      <td>0</td>\n",
              "      <td>0</td>\n",
              "      <td>0</td>\n",
              "      <td>0</td>\n",
              "      <td>0</td>\n",
              "      <td>0</td>\n",
              "      <td>1</td>\n",
              "      <td>0</td>\n",
              "      <td>1</td>\n",
              "      <td>0</td>\n",
              "      <td>...</td>\n",
              "      <td>0</td>\n",
              "      <td>0</td>\n",
              "      <td>0</td>\n",
              "      <td>0</td>\n",
              "      <td>0</td>\n",
              "      <td>0</td>\n",
              "      <td>0</td>\n",
              "      <td>0</td>\n",
              "      <td>0</td>\n",
              "      <td>0</td>\n",
              "      <td>0</td>\n",
              "      <td>0</td>\n",
              "      <td>0</td>\n",
              "      <td>0</td>\n",
              "      <td>0</td>\n",
              "      <td>0</td>\n",
              "      <td>0</td>\n",
              "      <td>0</td>\n",
              "      <td>0</td>\n",
              "      <td>0</td>\n",
              "      <td>0</td>\n",
              "      <td>0</td>\n",
              "      <td>0</td>\n",
              "      <td>0</td>\n",
              "      <td>0</td>\n",
              "      <td>0</td>\n",
              "      <td>0</td>\n",
              "      <td>0</td>\n",
              "      <td>0</td>\n",
              "      <td>0</td>\n",
              "      <td>0</td>\n",
              "      <td>0</td>\n",
              "      <td>0</td>\n",
              "      <td>0</td>\n",
              "      <td>0</td>\n",
              "      <td>0</td>\n",
              "      <td>0</td>\n",
              "      <td>0</td>\n",
              "      <td>0</td>\n",
              "      <td>0</td>\n",
              "    </tr>\n",
              "    <tr>\n",
              "      <th>2</th>\n",
              "      <td>0</td>\n",
              "      <td>0</td>\n",
              "      <td>0</td>\n",
              "      <td>0</td>\n",
              "      <td>0</td>\n",
              "      <td>0</td>\n",
              "      <td>0</td>\n",
              "      <td>0</td>\n",
              "      <td>0</td>\n",
              "      <td>0</td>\n",
              "      <td>0</td>\n",
              "      <td>0</td>\n",
              "      <td>0</td>\n",
              "      <td>0</td>\n",
              "      <td>0</td>\n",
              "      <td>0</td>\n",
              "      <td>0</td>\n",
              "      <td>0</td>\n",
              "      <td>0</td>\n",
              "      <td>0</td>\n",
              "      <td>0</td>\n",
              "      <td>0</td>\n",
              "      <td>0</td>\n",
              "      <td>0</td>\n",
              "      <td>0</td>\n",
              "      <td>0</td>\n",
              "      <td>0</td>\n",
              "      <td>0</td>\n",
              "      <td>0</td>\n",
              "      <td>0</td>\n",
              "      <td>2</td>\n",
              "      <td>0</td>\n",
              "      <td>0</td>\n",
              "      <td>0</td>\n",
              "      <td>0</td>\n",
              "      <td>0</td>\n",
              "      <td>0</td>\n",
              "      <td>0</td>\n",
              "      <td>0</td>\n",
              "      <td>0</td>\n",
              "      <td>...</td>\n",
              "      <td>0</td>\n",
              "      <td>0</td>\n",
              "      <td>0</td>\n",
              "      <td>0</td>\n",
              "      <td>0</td>\n",
              "      <td>0</td>\n",
              "      <td>0</td>\n",
              "      <td>0</td>\n",
              "      <td>0</td>\n",
              "      <td>0</td>\n",
              "      <td>0</td>\n",
              "      <td>0</td>\n",
              "      <td>0</td>\n",
              "      <td>0</td>\n",
              "      <td>0</td>\n",
              "      <td>0</td>\n",
              "      <td>0</td>\n",
              "      <td>0</td>\n",
              "      <td>0</td>\n",
              "      <td>0</td>\n",
              "      <td>0</td>\n",
              "      <td>0</td>\n",
              "      <td>0</td>\n",
              "      <td>0</td>\n",
              "      <td>0</td>\n",
              "      <td>0</td>\n",
              "      <td>0</td>\n",
              "      <td>0</td>\n",
              "      <td>0</td>\n",
              "      <td>0</td>\n",
              "      <td>0</td>\n",
              "      <td>0</td>\n",
              "      <td>0</td>\n",
              "      <td>0</td>\n",
              "      <td>0</td>\n",
              "      <td>0</td>\n",
              "      <td>0</td>\n",
              "      <td>0</td>\n",
              "      <td>0</td>\n",
              "      <td>0</td>\n",
              "    </tr>\n",
              "    <tr>\n",
              "      <th>3</th>\n",
              "      <td>0</td>\n",
              "      <td>0</td>\n",
              "      <td>0</td>\n",
              "      <td>0</td>\n",
              "      <td>0</td>\n",
              "      <td>0</td>\n",
              "      <td>0</td>\n",
              "      <td>0</td>\n",
              "      <td>0</td>\n",
              "      <td>0</td>\n",
              "      <td>0</td>\n",
              "      <td>0</td>\n",
              "      <td>0</td>\n",
              "      <td>0</td>\n",
              "      <td>0</td>\n",
              "      <td>0</td>\n",
              "      <td>0</td>\n",
              "      <td>0</td>\n",
              "      <td>0</td>\n",
              "      <td>0</td>\n",
              "      <td>0</td>\n",
              "      <td>0</td>\n",
              "      <td>0</td>\n",
              "      <td>0</td>\n",
              "      <td>0</td>\n",
              "      <td>0</td>\n",
              "      <td>0</td>\n",
              "      <td>0</td>\n",
              "      <td>0</td>\n",
              "      <td>0</td>\n",
              "      <td>0</td>\n",
              "      <td>0</td>\n",
              "      <td>0</td>\n",
              "      <td>0</td>\n",
              "      <td>0</td>\n",
              "      <td>0</td>\n",
              "      <td>0</td>\n",
              "      <td>0</td>\n",
              "      <td>0</td>\n",
              "      <td>0</td>\n",
              "      <td>...</td>\n",
              "      <td>0</td>\n",
              "      <td>0</td>\n",
              "      <td>0</td>\n",
              "      <td>0</td>\n",
              "      <td>0</td>\n",
              "      <td>0</td>\n",
              "      <td>0</td>\n",
              "      <td>0</td>\n",
              "      <td>0</td>\n",
              "      <td>0</td>\n",
              "      <td>0</td>\n",
              "      <td>0</td>\n",
              "      <td>0</td>\n",
              "      <td>0</td>\n",
              "      <td>0</td>\n",
              "      <td>0</td>\n",
              "      <td>0</td>\n",
              "      <td>0</td>\n",
              "      <td>0</td>\n",
              "      <td>0</td>\n",
              "      <td>0</td>\n",
              "      <td>0</td>\n",
              "      <td>0</td>\n",
              "      <td>0</td>\n",
              "      <td>0</td>\n",
              "      <td>0</td>\n",
              "      <td>0</td>\n",
              "      <td>0</td>\n",
              "      <td>0</td>\n",
              "      <td>0</td>\n",
              "      <td>0</td>\n",
              "      <td>0</td>\n",
              "      <td>0</td>\n",
              "      <td>0</td>\n",
              "      <td>0</td>\n",
              "      <td>0</td>\n",
              "      <td>0</td>\n",
              "      <td>0</td>\n",
              "      <td>0</td>\n",
              "      <td>0</td>\n",
              "    </tr>\n",
              "    <tr>\n",
              "      <th>4</th>\n",
              "      <td>0</td>\n",
              "      <td>0</td>\n",
              "      <td>0</td>\n",
              "      <td>0</td>\n",
              "      <td>0</td>\n",
              "      <td>0</td>\n",
              "      <td>0</td>\n",
              "      <td>0</td>\n",
              "      <td>0</td>\n",
              "      <td>0</td>\n",
              "      <td>0</td>\n",
              "      <td>0</td>\n",
              "      <td>0</td>\n",
              "      <td>0</td>\n",
              "      <td>0</td>\n",
              "      <td>0</td>\n",
              "      <td>0</td>\n",
              "      <td>0</td>\n",
              "      <td>0</td>\n",
              "      <td>0</td>\n",
              "      <td>0</td>\n",
              "      <td>0</td>\n",
              "      <td>0</td>\n",
              "      <td>0</td>\n",
              "      <td>0</td>\n",
              "      <td>0</td>\n",
              "      <td>0</td>\n",
              "      <td>0</td>\n",
              "      <td>0</td>\n",
              "      <td>0</td>\n",
              "      <td>0</td>\n",
              "      <td>0</td>\n",
              "      <td>0</td>\n",
              "      <td>0</td>\n",
              "      <td>0</td>\n",
              "      <td>0</td>\n",
              "      <td>0</td>\n",
              "      <td>0</td>\n",
              "      <td>0</td>\n",
              "      <td>0</td>\n",
              "      <td>...</td>\n",
              "      <td>0</td>\n",
              "      <td>0</td>\n",
              "      <td>0</td>\n",
              "      <td>0</td>\n",
              "      <td>0</td>\n",
              "      <td>0</td>\n",
              "      <td>0</td>\n",
              "      <td>0</td>\n",
              "      <td>0</td>\n",
              "      <td>0</td>\n",
              "      <td>0</td>\n",
              "      <td>0</td>\n",
              "      <td>0</td>\n",
              "      <td>0</td>\n",
              "      <td>0</td>\n",
              "      <td>0</td>\n",
              "      <td>0</td>\n",
              "      <td>0</td>\n",
              "      <td>0</td>\n",
              "      <td>0</td>\n",
              "      <td>0</td>\n",
              "      <td>0</td>\n",
              "      <td>0</td>\n",
              "      <td>0</td>\n",
              "      <td>0</td>\n",
              "      <td>0</td>\n",
              "      <td>0</td>\n",
              "      <td>0</td>\n",
              "      <td>0</td>\n",
              "      <td>0</td>\n",
              "      <td>0</td>\n",
              "      <td>0</td>\n",
              "      <td>0</td>\n",
              "      <td>0</td>\n",
              "      <td>0</td>\n",
              "      <td>0</td>\n",
              "      <td>0</td>\n",
              "      <td>0</td>\n",
              "      <td>0</td>\n",
              "      <td>0</td>\n",
              "    </tr>\n",
              "  </tbody>\n",
              "</table>\n",
              "<p>5 rows × 10000 columns</p>\n",
              "</div>"
            ],
            "text/plain": [
              "   04  05  06  07  08  10  10 15  ...  zero  zip  zona  zona rosa  zone  zoo  äcor\n",
              "0   0   0   0   0   0   0      0  ...     0    0     0          0     0    0     0\n",
              "1   0   0   0   0   0   0      0  ...     0    0     0          0     0    0     0\n",
              "2   0   0   0   0   0   0      0  ...     0    0     0          0     0    0     0\n",
              "3   0   0   0   0   0   0      0  ...     0    0     0          0     0    0     0\n",
              "4   0   0   0   0   0   0      0  ...     0    0     0          0     0    0     0\n",
              "\n",
              "[5 rows x 10000 columns]"
            ]
          },
          "metadata": {},
          "execution_count": 15
        }
      ]
    },
    {
      "cell_type": "code",
      "metadata": {
        "id": "Z8vasoC3-_FI"
      },
      "source": [
        "model_data = pd.concat([count_vect_df,data],axis=1)"
      ],
      "execution_count": null,
      "outputs": []
    },
    {
      "cell_type": "code",
      "metadata": {
        "id": "pDSzTf5y_MXh"
      },
      "source": [
        "model_data.drop(['Review_Clean_v1','Review'],axis=1,inplace=True)"
      ],
      "execution_count": null,
      "outputs": []
    },
    {
      "cell_type": "code",
      "metadata": {
        "id": "r1xVmMEN_wWQ"
      },
      "source": [
        "def get_sentiment(rating):\n",
        "  if rating >= 3:\n",
        "    return \"Postive\"\n",
        "  else:\n",
        "    return \"Negative\"\n",
        "\n",
        "model_data['Sentiment'] = model_data['Rating'].apply(get_sentiment)"
      ],
      "execution_count": null,
      "outputs": []
    },
    {
      "cell_type": "code",
      "metadata": {
        "id": "HTHn19LGAG4-"
      },
      "source": [
        "model_data.drop(['Rating'],axis=1,inplace=True)"
      ],
      "execution_count": null,
      "outputs": []
    },
    {
      "cell_type": "code",
      "metadata": {
        "id": "Az1EVZXjAzoO"
      },
      "source": [
        "model_data.to_csv(\"model_data.csv\")"
      ],
      "execution_count": null,
      "outputs": []
    },
    {
      "cell_type": "code",
      "metadata": {
        "id": "ICERjl_K_aoL"
      },
      "source": [
        "X = model_data.drop(['Sentiment'],axis=1)\n",
        "y = model_data['Sentiment']\n",
        "from sklearn.model_selection import train_test_split\n",
        "X_train, X_test, y_train, y_test = train_test_split(X, y, test_size=0.20, random_state=42)"
      ],
      "execution_count": null,
      "outputs": []
    },
    {
      "cell_type": "code",
      "metadata": {
        "colab": {
          "base_uri": "https://localhost:8080/"
        },
        "id": "S6lX5yI0AgIF",
        "outputId": "e80d5ffe-b7d3-410b-db48-5c247a6a5dbc"
      },
      "source": [
        "from sklearn.linear_model import LogisticRegression\n",
        "clf = LogisticRegression(random_state=0).fit(X_train, y_train)"
      ],
      "execution_count": null,
      "outputs": [
        {
          "output_type": "stream",
          "name": "stderr",
          "text": [
            "/usr/local/lib/python3.7/dist-packages/sklearn/linear_model/_logistic.py:940: ConvergenceWarning: lbfgs failed to converge (status=1):\n",
            "STOP: TOTAL NO. of ITERATIONS REACHED LIMIT.\n",
            "\n",
            "Increase the number of iterations (max_iter) or scale the data as shown in:\n",
            "    https://scikit-learn.org/stable/modules/preprocessing.html\n",
            "Please also refer to the documentation for alternative solver options:\n",
            "    https://scikit-learn.org/stable/modules/linear_model.html#logistic-regression\n",
            "  extra_warning_msg=_LOGISTIC_SOLVER_CONVERGENCE_MSG)\n"
          ]
        }
      ]
    },
    {
      "cell_type": "code",
      "metadata": {
        "id": "jdU60VqcBxmD"
      },
      "source": [
        "prediction = clf.predict(X_test)"
      ],
      "execution_count": null,
      "outputs": []
    },
    {
      "cell_type": "code",
      "metadata": {
        "colab": {
          "base_uri": "https://localhost:8080/"
        },
        "id": "o3leiirsB7Mo",
        "outputId": "571f44db-286a-442b-bf38-9bc00f562924"
      },
      "source": [
        "from sklearn.metrics import classification_report\n",
        "print(classification_report(y_test, prediction))"
      ],
      "execution_count": null,
      "outputs": [
        {
          "output_type": "stream",
          "name": "stdout",
          "text": [
            "              precision    recall  f1-score   support\n",
            "\n",
            "    Negative       0.82      0.69      0.75       625\n",
            "     Postive       0.95      0.97      0.96      3474\n",
            "\n",
            "    accuracy                           0.93      4099\n",
            "   macro avg       0.88      0.83      0.85      4099\n",
            "weighted avg       0.93      0.93      0.93      4099\n",
            "\n"
          ]
        }
      ]
    },
    {
      "cell_type": "code",
      "metadata": {
        "id": "ZgV5xc9hBMo-"
      },
      "source": [
        "#PYCaret "
      ],
      "execution_count": null,
      "outputs": []
    }
  ]
}