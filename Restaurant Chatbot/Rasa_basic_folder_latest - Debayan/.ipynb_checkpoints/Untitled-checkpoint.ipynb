{
 "cells": [
  {
   "cell_type": "code",
   "execution_count": 1,
   "metadata": {},
   "outputs": [],
   "source": [
    "import re\n",
    "import zomatopy\n",
    "import json\n",
    "\n",
    "#Reading quantitative texts\n",
    "file = open('all_cities.txt',mode='r', encoding=\"utf8\")\n",
    "\n",
    " \n",
    "# read all lines at once\n",
    "quantitative_sent = file.read()\n",
    "quantitative_sent = re.sub(r\"[\\n\\t\\s]*\", \"\", quantitative_sent)\n",
    " \n",
    "# close the file\n",
    "file.close()"
   ]
  },
  {
   "cell_type": "code",
   "execution_count": 2,
   "metadata": {},
   "outputs": [],
   "source": [
    "quantitative_sent = quantitative_sent.lower().split(',')"
   ]
  },
  {
   "cell_type": "code",
   "execution_count": 3,
   "metadata": {},
   "outputs": [
    {
     "data": {
      "text/plain": [
       "['bangalore',\n",
       " 'chennai',\n",
       " 'delhi',\n",
       " 'hyderabad',\n",
       " 'kolkata',\n",
       " 'mumbai',\n",
       " 'ahmedabad',\n",
       " 'pune',\n",
       " 'kochi',\n",
       " 'agra',\n",
       " 'ajmer',\n",
       " 'aligarh',\n",
       " 'amravati',\n",
       " 'amritsar',\n",
       " 'asansol',\n",
       " 'aurangabad',\n",
       " 'bareilly',\n",
       " 'belgaum',\n",
       " 'bhavnagar',\n",
       " 'bhiwandi',\n",
       " 'bhopal',\n",
       " 'bhubaneswar',\n",
       " 'bikaner',\n",
       " 'bilaspur',\n",
       " 'bokaro',\n",
       " 'chandigarh',\n",
       " 'coimbatore',\n",
       " 'nagpur',\n",
       " 'cuttack',\n",
       " 'dehradun',\n",
       " 'dhanbad',\n",
       " 'bhilai',\n",
       " 'durgapur',\n",
       " 'erode',\n",
       " 'faridabad',\n",
       " 'firozabad',\n",
       " 'ghaziabad',\n",
       " 'gorakhpur',\n",
       " 'gulbarga',\n",
       " 'guntur',\n",
       " 'gwalior',\n",
       " 'jhansi',\n",
       " 'jodhpur',\n",
       " 'kakinada',\n",
       " 'kannur',\n",
       " 'kanpur',\n",
       " 'kottayam',\n",
       " 'kolhapur',\n",
       " 'kollam',\n",
       " 'kozhikode',\n",
       " 'kurnool',\n",
       " 'ludhiana',\n",
       " 'lucknow',\n",
       " 'madurai',\n",
       " 'malappuram',\n",
       " 'mathura',\n",
       " 'goa',\n",
       " 'mangalore',\n",
       " 'meerut',\n",
       " 'moradabad',\n",
       " 'mysore',\n",
       " 'nanded',\n",
       " 'nashik',\n",
       " 'nellore',\n",
       " 'noida',\n",
       " 'palakkad',\n",
       " 'patna',\n",
       " 'perinthalmanna',\n",
       " 'pondicherry',\n",
       " 'purulia',\n",
       " 'prayagraj',\n",
       " 'raipur',\n",
       " 'rajkot',\n",
       " 'rajahmundry',\n",
       " 'ranchi',\n",
       " 'rourkela',\n",
       " 'salem',\n",
       " 'sangli',\n",
       " 'shimla',\n",
       " 'siliguri',\n",
       " 'solapur',\n",
       " 'srinagar',\n",
       " 'thiruvananthapuram',\n",
       " 'thrissur',\n",
       " 'vijayawada',\n",
       " 'vellore',\n",
       " 'warangal',\n",
       " 'surat',\n",
       " 'visakhapatnam']"
      ]
     },
     "execution_count": 3,
     "metadata": {},
     "output_type": "execute_result"
    }
   ],
   "source": [
    "quantitative_sent"
   ]
  },
  {
   "cell_type": "code",
   "execution_count": 4,
   "metadata": {},
   "outputs": [],
   "source": [
    "config = {\"user_key\": \"82620001ca282d1716dab0d934fb3051\"}\n",
    "zomato = zomatopy.initialize_app(config)"
   ]
  },
  {
   "cell_type": "code",
   "execution_count": 5,
   "metadata": {},
   "outputs": [
    {
     "name": "stdout",
     "output_type": "stream",
     "text": [
      "{\"location_suggestions\":[{\"entity_type\":\"city\",\"entity_id\":2,\"title\":\"Kolkata\",\"latitude\":22.572646,\"longitude\":88.363895,\"city_id\":2,\"city_name\":\"Kolkata\",\"country_id\":1,\"country_name\":\"India\"}],\"status\":\"success\",\"has_more\":0,\"has_total\":0,\"user_has_addresses\":true}\n"
     ]
    }
   ],
   "source": [
    "dit = zomato.get_location(\"kolkata\",1)\n",
    "print(dit)"
   ]
  },
  {
   "cell_type": "code",
   "execution_count": 36,
   "metadata": {},
   "outputs": [
    {
     "name": "stdout",
     "output_type": "stream",
     "text": [
      "{\"location_suggestions\":[{\"entity_type\":\"city\",\"entity_id\":1,\"title\":\"Delhi NCR\",\"latitude\":28.625789,\"longitude\":77.210276,\"city_id\":1,\"city_name\":\"Delhi NCR\",\"country_id\":1,\"country_name\":\"India\"}],\"status\":\"success\",\"has_more\":0,\"has_total\":0,\"user_has_addresses\":true}\n"
     ]
    }
   ],
   "source": [
    "dit = zomato.get_location(\"delhi\",1)\n",
    "print(dit)"
   ]
  },
  {
   "cell_type": "code",
   "execution_count": 41,
   "metadata": {},
   "outputs": [
    {
     "name": "stdout",
     "output_type": "stream",
     "text": [
      "{\"location_suggestions\":[{\"entity_type\":\"city\",\"entity_id\":3,\"title\":\"Mumbai\",\"latitude\":19.017656,\"longitude\":72.856178,\"city_id\":3,\"city_name\":\"Mumbai\",\"country_id\":1,\"country_name\":\"India\"}],\"status\":\"success\",\"has_more\":0,\"has_total\":0,\"user_has_addresses\":true}\n"
     ]
    }
   ],
   "source": [
    "dit = zomato.get_location(\"mumbai\",1)\n",
    "print(dit)"
   ]
  },
  {
   "cell_type": "code",
   "execution_count": 42,
   "metadata": {},
   "outputs": [
    {
     "name": "stdout",
     "output_type": "stream",
     "text": [
      "{\"location_suggestions\":[{\"entity_type\":\"city\",\"entity_id\":8,\"title\":\"Lucknow\",\"latitude\":26.864,\"longitude\":80.95,\"city_id\":8,\"city_name\":\"Lucknow\",\"country_id\":1,\"country_name\":\"India\"}],\"status\":\"success\",\"has_more\":0,\"has_total\":0,\"user_has_addresses\":true}\n"
     ]
    }
   ],
   "source": [
    "dit = zomato.get_location(\"lucknow\",1)\n",
    "print(dit)"
   ]
  },
  {
   "cell_type": "code",
   "execution_count": 43,
   "metadata": {},
   "outputs": [
    {
     "name": "stdout",
     "output_type": "stream",
     "text": [
      "{\"location_suggestions\":[{\"entity_type\":\"city\",\"entity_id\":11423,\"title\":\"Asansol\",\"latitude\":23.6739452,\"longitude\":86.9523954,\"city_id\":11423,\"city_name\":\"Asansol\",\"country_id\":1,\"country_name\":\"India\"}],\"status\":\"success\",\"has_more\":0,\"has_total\":0,\"user_has_addresses\":true}\n"
     ]
    }
   ],
   "source": [
    "dit = zomato.get_location(\"asansol\",1)\n",
    "print(dit)"
   ]
  },
  {
   "cell_type": "code",
   "execution_count": 6,
   "metadata": {},
   "outputs": [],
   "source": [
    "d1 = json.loads(dit)"
   ]
  },
  {
   "cell_type": "code",
   "execution_count": 7,
   "metadata": {},
   "outputs": [
    {
     "data": {
      "text/plain": [
       "'success'"
      ]
     },
     "execution_count": 7,
     "metadata": {},
     "output_type": "execute_result"
    }
   ],
   "source": [
    "d1[\"status\"]"
   ]
  },
  {
   "cell_type": "code",
   "execution_count": 8,
   "metadata": {},
   "outputs": [],
   "source": [
    "rest = zomato.restaurant_search(\"\", 22.572646, 88.363895)\n",
    "d2 = json.loads(rest)"
   ]
  },
  {
   "cell_type": "code",
   "execution_count": 9,
   "metadata": {},
   "outputs": [
    {
     "data": {
      "text/plain": [
       "{'R': {'has_menu_status': {'delivery': -1, 'takeaway': -1},\n",
       "  'res_id': 19041242},\n",
       " 'apikey': '82620001ca282d1716dab0d934fb3051',\n",
       " 'id': '19041242',\n",
       " 'name': 'The Co Dee Empresa Hotel',\n",
       " 'url': 'https://www.zomato.com/kolkata/the-co-dee-empresa-hotel-park-street-area?utm_source=api_basic_user&utm_medium=api&utm_campaign=v2.1',\n",
       " 'location': {'address': '12/2A, KYD Street, Park Street Area, Kolkata',\n",
       "  'locality': 'Park Street Area',\n",
       "  'city': 'Kolkata',\n",
       "  'city_id': 2,\n",
       "  'latitude': '22.5558428300',\n",
       "  'longitude': '88.3531927317',\n",
       "  'zipcode': '',\n",
       "  'country_id': 1,\n",
       "  'locality_verbose': 'Park Street Area, Kolkata'},\n",
       " 'switch_to_order_menu': 0,\n",
       " 'cuisines': 'North Indian, South Indian, Chinese',\n",
       " 'timings': '7:30 AM to 10:30 PM',\n",
       " 'average_cost_for_two': 100,\n",
       " 'price_range': 1,\n",
       " 'currency': 'Rs.',\n",
       " 'highlights': ['Dinner',\n",
       "  'Credit Card',\n",
       "  'Debit Card',\n",
       "  'Lunch',\n",
       "  'Cash',\n",
       "  'Takeaway Available',\n",
       "  'Breakfast',\n",
       "  'Indoor Seating',\n",
       "  'Air Conditioned',\n",
       "  'Smoking Area',\n",
       "  'Digital Payments Accepted'],\n",
       " 'offers': [],\n",
       " 'opentable_support': 0,\n",
       " 'is_zomato_book_res': 0,\n",
       " 'mezzo_provider': 'OTHER',\n",
       " 'is_book_form_web_view': 0,\n",
       " 'book_form_web_view_url': '',\n",
       " 'book_again_url': '',\n",
       " 'thumb': '',\n",
       " 'user_rating': {'aggregate_rating': 0,\n",
       "  'rating_text': 'Not rated',\n",
       "  'rating_color': 'CBCBCB',\n",
       "  'rating_obj': {'title': {'text': '-'},\n",
       "   'bg_color': {'type': 'grey', 'tint': '400'}},\n",
       "  'votes': 0},\n",
       " 'all_reviews_count': 0,\n",
       " 'photos_url': 'https://www.zomato.com/kolkata/the-co-dee-empresa-hotel-park-street-area/photos?utm_source=api_basic_user&utm_medium=api&utm_campaign=v2.1#tabtop',\n",
       " 'photo_count': 0,\n",
       " 'menu_url': 'https://www.zomato.com/kolkata/the-co-dee-empresa-hotel-park-street-area/menu?utm_source=api_basic_user&utm_medium=api&utm_campaign=v2.1&openSwipeBox=menu&showMinimal=1#tabtop',\n",
       " 'featured_image': '',\n",
       " 'has_online_delivery': 0,\n",
       " 'is_delivering_now': 0,\n",
       " 'include_bogo_offers': True,\n",
       " 'deeplink': 'zomato://restaurant/19041242',\n",
       " 'is_table_reservation_supported': 0,\n",
       " 'has_table_booking': 0,\n",
       " 'events_url': 'https://www.zomato.com/kolkata/the-co-dee-empresa-hotel-park-street-area/events#tabtop?utm_source=api_basic_user&utm_medium=api&utm_campaign=v2.1',\n",
       " 'phone_numbers': '033 40021888, +91 9674722554',\n",
       " 'all_reviews': {'reviews': []},\n",
       " 'establishment': ['Casual Dining'],\n",
       " 'establishment_types': {'establishment_type': {'id': '16',\n",
       "   'name': 'Casual Dining'}}}"
      ]
     },
     "execution_count": 9,
     "metadata": {},
     "output_type": "execute_result"
    }
   ],
   "source": [
    "d2[\"restaurants\"][0]['restaurant']"
   ]
  },
  {
   "cell_type": "code",
   "execution_count": 48,
   "metadata": {},
   "outputs": [
    {
     "name": "stdout",
     "output_type": "stream",
     "text": [
      "[4500, 'Aqua - The Park', 3.9, 'The Park, 15, Parliament Street, Connaught Place, New Delhi']\n",
      "[3800, 'Whisky Samba', 4.2, 'Plaza Level, Two Horizon Center, Golf Course Road, Gurgaon']\n",
      "[3200, 'Dramz', 4.0, '1580/1, KD Marg, Near Qutub Minar, Mehrauli, New Delhi']\n",
      "[3200, 'Punjab Grill', 4.1, '70, 1st Floor, Khan Market, New Delhi']\n",
      "[3000, 'Plum By Bent Chair', 4.7, 'The Walk, Worldmark 2, Aerocity, New Delhi']\n",
      "[3000, 'MKT', 4.2, 'Lower Ground Floor, Chanakya Mall, Chanakyapuri, New Delhi']\n",
      "[3000, 'The Wine Company', 4.1, 'Cyber Hub, DLF Cyber City, Gurgaon']\n",
      "[3000, 'Jamun', 4.2, '17, Lodhi Colony, New Delhi']\n",
      "[3000, 'Punjab Grill', 4.2, '2nd Floor, Food Court, Select Citywalk Mall, Saket, New Delhi']\n",
      "[3000, 'Atrium Bar  & Lounge - The Suryaa New Delhi', 3.3, 'The Suryaa New Delhi, New Friends Colony, New Delhi']\n",
      "[2800, 'Rosebud - By The Nook', 4.0, 'Ground Floor, Tower A, Vatika Business Park, Sohna Road, Gurgaon']\n",
      "[2800, 'Dirty Apron By The Piano Man', 4.0, 'B6-7/22, 2nd Floor, Safdarjung Enclave Market, Opposite Deer Park, Safdarjung, New Delhi']\n",
      "[2800, \"3B's -  Country Inn & Suites\", 4.0, 'Country Inn & Suites by Carlson, Sahibabad, Ghaziabad']\n",
      "[2800, 'Vagator Beach Shack', 4.3, 'Lower Ground Floor 34, South Point Mall, Golf Course Road, Gurgaon']\n",
      "[2700, 'Punjab Grill', 4.3, 'Pacific Mall, Tagore Garden, New Delhi']\n",
      "[2700, 'Punjab Grill', 4.1, '401, 4th Floor, Starling Mall, Sector 104, Near Sector 110, Noida']\n",
      "[2700, 'Punjab Grill', 4.2, '3rd Floor, Food Court, Ambience Mall, DLF Phase 3, Gurgaon']\n",
      "[2500, 'One8 Commune', 4.5, '8, World Mark 2, IGI Airport, Aerocity, New Delhi']\n",
      "[2500, 'Comorin', 4.5, '101, 1st Floor, Plaza Level, Two Horizon Center, Golf Course Road, Gurgaon']\n",
      "[2500, 'Gulati', 4.4, '6, Pandara Road Market, New Delhi']\n"
     ]
    }
   ],
   "source": [
    "Dict = {} \n",
    "index = 0\n",
    "with open('rest.txt', encoding=\"utf8\") as json_file:\n",
    "    data = json.load(json_file)\n",
    "    for p in data['restaurants']:\n",
    "        #print(p['restaurant']['average_cost_for_two'])\n",
    "        Dict[p['restaurant']['id']] = [p['restaurant']['average_cost_for_two'], p['restaurant']['name'],\n",
    "                                               float(p['restaurant']['user_rating']['aggregate_rating']),\n",
    "                                      p['restaurant']['location']['address']]\n",
    "        print(Dict[p['restaurant']['id']])\n",
    "        index = index+1\n",
    "        "
   ]
  },
  {
   "cell_type": "code",
   "execution_count": 12,
   "metadata": {},
   "outputs": [
    {
     "ename": "IndexError",
     "evalue": "list index out of range",
     "output_type": "error",
     "traceback": [
      "\u001b[1;31m---------------------------------------------------------------------------\u001b[0m",
      "\u001b[1;31mIndexError\u001b[0m                                Traceback (most recent call last)",
      "\u001b[1;32m<ipython-input-12-af54a0236639>\u001b[0m in \u001b[0;36m<module>\u001b[1;34m\u001b[0m\n\u001b[1;32m----> 1\u001b[1;33m \u001b[0mprint\u001b[0m\u001b[1;33m(\u001b[0m\u001b[0mDict\u001b[0m\u001b[1;33m[\u001b[0m\u001b[1;34m'20849'\u001b[0m\u001b[1;33m]\u001b[0m\u001b[1;33m[\u001b[0m\u001b[1;36m1\u001b[0m\u001b[1;33m]\u001b[0m\u001b[1;33m)\u001b[0m\u001b[1;33m\u001b[0m\u001b[1;33m\u001b[0m\u001b[0m\n\u001b[0m",
      "\u001b[1;31mIndexError\u001b[0m: list index out of range"
     ]
    }
   ],
   "source": [
    "print(Dict['20849'][1])\n"
   ]
  },
  {
   "cell_type": "code",
   "execution_count": 31,
   "metadata": {},
   "outputs": [],
   "source": [
    "#sort by cost\n",
    "ls1 = sorted(Dict.items(), key=lambda e: e[1][0])"
   ]
  },
  {
   "cell_type": "code",
   "execution_count": 32,
   "metadata": {
    "collapsed": true
   },
   "outputs": [
    {
     "data": {
      "text/plain": [
       "[('24286',\n",
       "  [1900,\n",
       "   'The Irish House',\n",
       "   4.2,\n",
       "   '33, 5th Floor, Quest Mall, Syed Ali Amir Avenue, Ballygunge, Kolkata']),\n",
       " ('18368652',\n",
       "  [1900,\n",
       "   'Mamagoto',\n",
       "   4.5,\n",
       "   '24, Park Street, Annex Building, Magma House Complex, Park Street Area, Kolkata']),\n",
       " ('24205',\n",
       "  [1900,\n",
       "   'Bombay Brasserie',\n",
       "   4.3,\n",
       "   '33, 5th Floor, Quest Mall, Syed Ali Amir Avenue, Ballygunge, Kolkata']),\n",
       " ('21876',\n",
       "  [1900,\n",
       "   'Oval Lounge',\n",
       "   3.5,\n",
       "   '1st Floor, 101, Tower C, DLF IT Park, Major Arterial Road, New Town, Kolkata']),\n",
       " ('21532',\n",
       "  [1900,\n",
       "   'Red Xpress',\n",
       "   3.8,\n",
       "   'BIPL Building, GP, A2, M2, N2, Sector 5, Salt Lake, Kolkata']),\n",
       " ('20849',\n",
       "  [1900,\n",
       "   'Saffron - The Park',\n",
       "   4.1,\n",
       "   'The Park, 17, Park Street Area, Kolkata']),\n",
       " ('18948084',\n",
       "  [2000,\n",
       "   'Refinery091',\n",
       "   4.1,\n",
       "   '11 & 12, EP Block, Globsyn Crystal, Sector 5, Salt Lake City, Kolkata']),\n",
       " ('20927',\n",
       "  [2000,\n",
       "   'Mainland China',\n",
       "   4.4,\n",
       "   'Shop 330 & 375, 3rd Floor, South City Mall, Prince Anwar Shah Road, Kolkata']),\n",
       " ('18217475',\n",
       "  [2000,\n",
       "   'Asia Kitchen by Mainland China',\n",
       "   4.7,\n",
       "   'Shop 1858/1, 4th Floor, Acropolis Mall, Rajdanga Main Road, Kasba, Kolkata']),\n",
       " ('18166940',\n",
       "  [2000,\n",
       "   'Beer Republic',\n",
       "   3.8,\n",
       "   '89C, Maulana Abul Kalam Azad Sarani, Near Swabhumi, Kankurgachi, Kolkata']),\n",
       " ('21574',\n",
       "  [2000,\n",
       "   'Aaheli',\n",
       "   3.4,\n",
       "   '106, 4th Floor, Block CS, Axis Mall, 106, Major Arterial Road, New Town, Kolkata']),\n",
       " ('23923',\n",
       "  [2000,\n",
       "   'Mirage - The Stadel',\n",
       "   3.9,\n",
       "   'The Stadel, Gate 3, Salt Lake Stadium, Sector 3, Salt Lake']),\n",
       " ('21542',\n",
       "  [2000,\n",
       "   'The Big Ben - Kenilworth Hotel',\n",
       "   3.7,\n",
       "   '1&2, Kenilworth Hotels, Little Russel Street, Russel Street, Kolkata, Theatre Road, Kolkata']),\n",
       " ('18761167',\n",
       "  [2100,\n",
       "   'Echoes Kolkata',\n",
       "   4.7,\n",
       "   'Shop 86 A, Main 6th Floor, Haute Street, Corporate Park, Topsia Road, Seal Lane, Topsia, Kolkata']),\n",
       " ('18440204',\n",
       "  [2100,\n",
       "   'Social Kitchen - Holiday Inn',\n",
       "   4.0,\n",
       "   'Holiday Inn, Biswa Bangla Sarani, Chinar Park, Kolkata']),\n",
       " ('21220',\n",
       "  [2100,\n",
       "   'Flame N Grill Restaurant',\n",
       "   4.1,\n",
       "   '164/1, 4th Floor, Mani Square Mall, E.M. Bypass, Kankurgachi, Kolkata']),\n",
       " ('18343750',\n",
       "  [2100,\n",
       "   'SpiceKlub',\n",
       "   4.2,\n",
       "   '1st Floor, 24, Park Street, Annex Building, Magma House Complex, Park Street Area, Kolkata']),\n",
       " ('18620365',\n",
       "  [2500,\n",
       "   'Capella - Altair Boutique Hotel',\n",
       "   4.2,\n",
       "   '20th Floor, Altair Boutique Hotel, Eco Center Ambuja Neotia, EM 4, Sector 5, Salt Lake, Kolkata']),\n",
       " ('18398880',\n",
       "  [3000,\n",
       "   'JW Kitchen - JW Marriott Hotel',\n",
       "   4.4,\n",
       "   'JW Marriott Hotel, 4A, J.B.S Haldane Avenue, Science City Area, Kolkata']),\n",
       " ('20850',\n",
       "  [3000,\n",
       "   'The Bridge - The Park',\n",
       "   4.0,\n",
       "   'The Park, 17, Park Street, Park Street Area, Kolkata'])]"
      ]
     },
     "execution_count": 32,
     "metadata": {},
     "output_type": "execute_result"
    }
   ],
   "source": [
    "ls1"
   ]
  },
  {
   "cell_type": "code",
   "execution_count": 49,
   "metadata": {},
   "outputs": [],
   "source": [
    "#sorted(Dict.items(), key=lambda x: x[1], reverse=True)\n",
    "ls = sorted(Dict.items(), key=lambda e: e[1][2], reverse=True)"
   ]
  },
  {
   "cell_type": "code",
   "execution_count": 50,
   "metadata": {
    "collapsed": true
   },
   "outputs": [
    {
     "data": {
      "text/plain": [
       "[('18895645',\n",
       "  [3000,\n",
       "   'Plum By Bent Chair',\n",
       "   4.7,\n",
       "   'The Walk, Worldmark 2, Aerocity, New Delhi']),\n",
       " ('19012596',\n",
       "  [2500,\n",
       "   'One8 Commune',\n",
       "   4.5,\n",
       "   '8, World Mark 2, IGI Airport, Aerocity, New Delhi']),\n",
       " ('18896450',\n",
       "  [2500,\n",
       "   'Comorin',\n",
       "   4.5,\n",
       "   '101, 1st Floor, Plaza Level, Two Horizon Center, Golf Course Road, Gurgaon']),\n",
       " ('799', [2500, 'Gulati', 4.4, '6, Pandara Road Market, New Delhi']),\n",
       " ('18884058',\n",
       "  [2800,\n",
       "   'Vagator Beach Shack',\n",
       "   4.3,\n",
       "   'Lower Ground Floor 34, South Point Mall, Golf Course Road, Gurgaon']),\n",
       " ('301998',\n",
       "  [2700, 'Punjab Grill', 4.3, 'Pacific Mall, Tagore Garden, New Delhi']),\n",
       " ('18291198',\n",
       "  [3800,\n",
       "   'Whisky Samba',\n",
       "   4.2,\n",
       "   'Plaza Level, Two Horizon Center, Golf Course Road, Gurgaon']),\n",
       " ('18687055',\n",
       "  [3000,\n",
       "   'MKT',\n",
       "   4.2,\n",
       "   'Lower Ground Floor, Chanakya Mall, Chanakyapuri, New Delhi']),\n",
       " ('18601702', [3000, 'Jamun', 4.2, '17, Lodhi Colony, New Delhi']),\n",
       " ('2786',\n",
       "  [3000,\n",
       "   'Punjab Grill',\n",
       "   4.2,\n",
       "   '2nd Floor, Food Court, Select Citywalk Mall, Saket, New Delhi']),\n",
       " ('2787',\n",
       "  [2700,\n",
       "   'Punjab Grill',\n",
       "   4.2,\n",
       "   '3rd Floor, Food Court, Ambience Mall, DLF Phase 3, Gurgaon']),\n",
       " ('18653220',\n",
       "  [3200, 'Punjab Grill', 4.1, '70, 1st Floor, Khan Market, New Delhi']),\n",
       " ('306134',\n",
       "  [3000, 'The Wine Company', 4.1, 'Cyber Hub, DLF Cyber City, Gurgaon']),\n",
       " ('18728119',\n",
       "  [2700,\n",
       "   'Punjab Grill',\n",
       "   4.1,\n",
       "   '401, 4th Floor, Starling Mall, Sector 104, Near Sector 110, Noida']),\n",
       " ('307432',\n",
       "  [3200,\n",
       "   'Dramz',\n",
       "   4.0,\n",
       "   '1580/1, KD Marg, Near Qutub Minar, Mehrauli, New Delhi']),\n",
       " ('310457',\n",
       "  [2800,\n",
       "   'Rosebud - By The Nook',\n",
       "   4.0,\n",
       "   'Ground Floor, Tower A, Vatika Business Park, Sohna Road, Gurgaon']),\n",
       " ('18237319',\n",
       "  [2800,\n",
       "   'Dirty Apron By The Piano Man',\n",
       "   4.0,\n",
       "   'B6-7/22, 2nd Floor, Safdarjung Enclave Market, Opposite Deer Park, Safdarjung, New Delhi']),\n",
       " ('6198',\n",
       "  [2800,\n",
       "   \"3B's -  Country Inn & Suites\",\n",
       "   4.0,\n",
       "   'Country Inn & Suites by Carlson, Sahibabad, Ghaziabad']),\n",
       " ('2769',\n",
       "  [4500,\n",
       "   'Aqua - The Park',\n",
       "   3.9,\n",
       "   'The Park, 15, Parliament Street, Connaught Place, New Delhi']),\n",
       " ('3202',\n",
       "  [3000,\n",
       "   'Atrium Bar  & Lounge - The Suryaa New Delhi',\n",
       "   3.3,\n",
       "   'The Suryaa New Delhi, New Friends Colony, New Delhi'])]"
      ]
     },
     "execution_count": 50,
     "metadata": {},
     "output_type": "execute_result"
    }
   ],
   "source": [
    "ls"
   ]
  },
  {
   "cell_type": "code",
   "execution_count": 53,
   "metadata": {},
   "outputs": [
    {
     "ename": "TypeError",
     "evalue": "can only concatenate str (not \"float\") to str",
     "output_type": "error",
     "traceback": [
      "\u001b[1;31m---------------------------------------------------------------------------\u001b[0m",
      "\u001b[1;31mTypeError\u001b[0m                                 Traceback (most recent call last)",
      "\u001b[1;32m<ipython-input-53-654cf5e7c400>\u001b[0m in \u001b[0;36m<module>\u001b[1;34m\u001b[0m\n\u001b[0;32m      1\u001b[0m \u001b[0mresponse\u001b[0m \u001b[1;33m=\u001b[0m \u001b[1;34m\"\"\u001b[0m\u001b[1;33m\u001b[0m\u001b[1;33m\u001b[0m\u001b[0m\n\u001b[0;32m      2\u001b[0m \u001b[1;32mfor\u001b[0m \u001b[0mdata\u001b[0m \u001b[1;32min\u001b[0m \u001b[0mls\u001b[0m\u001b[1;33m:\u001b[0m\u001b[1;33m\u001b[0m\u001b[1;33m\u001b[0m\u001b[0m\n\u001b[1;32m----> 3\u001b[1;33m     \u001b[0mresponse\u001b[0m \u001b[1;33m=\u001b[0m \u001b[0mresponse\u001b[0m \u001b[1;33m+\u001b[0m \u001b[0mdata\u001b[0m\u001b[1;33m[\u001b[0m\u001b[1;36m1\u001b[0m\u001b[1;33m]\u001b[0m\u001b[1;33m[\u001b[0m\u001b[1;36m1\u001b[0m\u001b[1;33m]\u001b[0m \u001b[1;33m+\u001b[0m \u001b[1;34m\" in \"\u001b[0m \u001b[1;33m+\u001b[0m \u001b[0mdata\u001b[0m\u001b[1;33m[\u001b[0m\u001b[1;36m1\u001b[0m\u001b[1;33m]\u001b[0m\u001b[1;33m[\u001b[0m\u001b[1;36m3\u001b[0m\u001b[1;33m]\u001b[0m \u001b[1;33m+\u001b[0m \u001b[1;34m\" has been rated \"\u001b[0m \u001b[1;33m+\u001b[0m \u001b[0mdata\u001b[0m\u001b[1;33m[\u001b[0m\u001b[1;36m1\u001b[0m\u001b[1;33m]\u001b[0m\u001b[1;33m[\u001b[0m\u001b[1;36m2\u001b[0m\u001b[1;33m]\u001b[0m \u001b[1;33m+\u001b[0m \u001b[1;34m\"\\n\"\u001b[0m\u001b[1;33m\u001b[0m\u001b[1;33m\u001b[0m\u001b[0m\n\u001b[0m\u001b[0;32m      4\u001b[0m     \u001b[0mprint\u001b[0m\u001b[1;33m(\u001b[0m\u001b[0mresponse\u001b[0m\u001b[1;33m)\u001b[0m\u001b[1;33m\u001b[0m\u001b[1;33m\u001b[0m\u001b[0m\n",
      "\u001b[1;31mTypeError\u001b[0m: can only concatenate str (not \"float\") to str"
     ]
    }
   ],
   "source": [
    "response = \"\"\n",
    "for data in ls:\n",
    "    response = response + data[1][1] + \" in \" + data[1][3] + \" has been rated \" + str(data[1][2]) + \"\\n\"\n",
    "    print(response)\n"
   ]
  }
 ],
 "metadata": {
  "kernelspec": {
   "display_name": "Python 3",
   "language": "python",
   "name": "python3"
  },
  "language_info": {
   "codemirror_mode": {
    "name": "ipython",
    "version": 3
   },
   "file_extension": ".py",
   "mimetype": "text/x-python",
   "name": "python",
   "nbconvert_exporter": "python",
   "pygments_lexer": "ipython3",
   "version": "3.7.3"
  }
 },
 "nbformat": 4,
 "nbformat_minor": 2
}
