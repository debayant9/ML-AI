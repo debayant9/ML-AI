{
 "cells": [
  {
   "cell_type": "markdown",
   "metadata": {
    "colab_type": "text",
    "id": "8WeVM3bNw1aq"
   },
   "source": [
    "# Telecom Churn - Case Study\n",
    "##### By: Kirti Gupta"
   ]
  },
  {
   "cell_type": "markdown",
   "metadata": {
    "colab_type": "text",
    "id": "1VghQ7YBw1as"
   },
   "source": [
    "###### Business Problem Overview\n",
    "In the telecom industry, customers are able to choose from multiple service providers and actively switch from one operator to another. In this highly competitive market, the telecommunications industry experiences an average of 15-25% annual churn rate. Given the fact that it costs 5-10 times more to acquire a new customer than to retain an existing one, customer retention has now become even more important than customer acquisition.\n",
    "\n",
    "For many incumbent operators, retaining high profitable customers is the number one business goal.\n",
    "To reduce customer churn, telecom companies need to predict which customers are at high risk of churn.\n",
    "\n",
    "In this project, you will analyse customer-level data of a leading telecom firm, build predictive models to identify customers at high risk of churn and identify the main indicators of churn.\n",
    "\n",
    "\n",
    "##### Understanding and Defining Churn\n",
    "There are two main models of payment in the telecom industry - **postpaid** (customers pay a monthly/annual bill after using the services) and **prepaid** (customers pay/recharge with a certain amount in advance and then use the services).\n",
    "\n",
    " \n",
    "\n",
    "In the postpaid model, when customers want to switch to another operator, they usually inform the existing operator to terminate the services, and you directly know that this is an instance of churn.\n",
    "\n",
    " \n",
    "\n",
    "However, in the prepaid model, customers who want to switch to another network can simply stop using the services without any notice, and it is hard to know whether someone has actually churned or is simply not using the services temporarily (e.g. someone may be on a trip abroad for a month or two and then intend to resume using the services again).\n",
    "\n",
    " \n",
    "\n",
    "Thus, churn prediction is usually more critical (and non-trivial) for prepaid customers, and the term ‘churn’ should be defined carefully.  Also, prepaid is the most common model in India and southeast Asia, while postpaid is more common in Europe in North America.\n",
    "\n",
    "\n",
    "###### Definitions of Churn\n",
    "Definitions of Churn\n",
    "There are various ways to define churn, such as:\n",
    "\n",
    "###### Revenue-based churn: \n",
    "Customers who have not utilised any revenue-generating facilities such as mobile internet, outgoing calls, SMS etc. over a given period of time. One could also use aggregate metrics such as ‘customers who have generated less than INR 4 per month in total/average/median revenue’.\n",
    "\n",
    " \n",
    "The main shortcoming of this definition is that there are customers who only receive calls/SMSes from their wage-earning counterparts, i.e. they don’t generate revenue but use the services. For example, many users in rural areas only receive calls from their wage-earning siblings in urban areas.\n",
    "\n",
    " \n",
    "\n",
    "###### High-value Churn\n",
    "In the Indian and the southeast Asian market, approximately 80% of revenue comes from the top 20% customers (called high-value customers). Thus, if we can reduce churn of the high-value customers, we will be able to reduce significant revenue leakage.\n",
    "\n",
    "\n",
    "###### Business Objective \n",
    "The business objective is to predict the churn in the last (i.e. the ninth) month using the data (features) from the first three months. To do this task well, understanding the typical customer behaviour during churn will be helpful."
   ]
  },
  {
   "cell_type": "markdown",
   "metadata": {
    "colab_type": "text",
    "id": "Xeo3lJ_yw1at"
   },
   "source": [
    "###### Understanding Customer Behaviour During Churn\n",
    "Customers usually do not decide to switch to another competitor instantly, but rather over a period of time (this is especially applicable to high-value customers). In churn prediction, we assume that there are three phases of customer lifecycle :\n",
    "\n",
    "The ‘good’ phase: In this phase, the customer is happy with the service and behaves as usual.\n",
    "\n",
    "The ‘action’ phase: The customer experience starts to sore in this phase, for e.g. he/she gets a compelling offer from a  competitor, faces unjust charges, becomes unhappy with service quality etc. In this phase, the customer usually shows different behaviour than the ‘good’ months. Also, it is crucial to identify high-churn-risk customers in this phase, since some corrective actions can be taken at this point (such as matching the competitor’s offer/improving the service quality etc.)\n",
    "\n",
    "The ‘churn’ phase: In this phase, the customer is said to have churned. You define churn based on this phase. Also, it is important to note that at the time of prediction (i.e. the action months), this data is not available to you for prediction. Thus, after tagging churn as 1/0 based on this phase, you discard all data corresponding to this phase.\n",
    "\n",
    " \n",
    "\n",
    "In this case, since you are working over a four-month window, the first two months are the ‘good’ phase, the third month is the ‘action’ phase, while the fourth month is the ‘churn’ phase."
   ]
  },
  {
   "cell_type": "markdown",
   "metadata": {
    "colab_type": "text",
    "id": "E8C9xDPQw1au"
   },
   "source": [
    "#### DataSet\n",
    "The dataset contains customer-level information for a span of four consecutive months - June, July, August and September. The months are encoded as 6, 7, 8 and 9, respectively.\n",
    "Dataset name-------telecom_churn_data.csv\n",
    "\n",
    " "
   ]
  },
  {
   "cell_type": "markdown",
   "metadata": {
    "colab_type": "text",
    "id": "BjiQL76jw1av"
   },
   "source": [
    "---------"
   ]
  },
  {
   "cell_type": "code",
   "execution_count": 89,
   "metadata": {
    "colab": {},
    "colab_type": "code",
    "id": "PvPhyxKZw1az"
   },
   "outputs": [],
   "source": [
    "# Import the required libraries\n",
    "\n",
    "import numpy as np\n",
    "import pandas as pd\n",
    "import matplotlib.pyplot as plt\n",
    "import seaborn as sns\n",
    "import warnings\n",
    "warnings.filterwarnings('ignore')"
   ]
  },
  {
   "cell_type": "code",
   "execution_count": 90,
   "metadata": {
    "colab": {},
    "colab_type": "code",
    "id": "a2roMMJbw1a6",
    "outputId": "ac71a6eb-4be3-465e-f301-9dabcbd9bc9d"
   },
   "outputs": [
    {
     "data": {
      "text/html": [
       "<div>\n",
       "<style scoped>\n",
       "    .dataframe tbody tr th:only-of-type {\n",
       "        vertical-align: middle;\n",
       "    }\n",
       "\n",
       "    .dataframe tbody tr th {\n",
       "        vertical-align: top;\n",
       "    }\n",
       "\n",
       "    .dataframe thead th {\n",
       "        text-align: right;\n",
       "    }\n",
       "</style>\n",
       "<table border=\"1\" class=\"dataframe\">\n",
       "  <thead>\n",
       "    <tr style=\"text-align: right;\">\n",
       "      <th></th>\n",
       "      <th>mobile_number</th>\n",
       "      <th>circle_id</th>\n",
       "      <th>loc_og_t2o_mou</th>\n",
       "      <th>std_og_t2o_mou</th>\n",
       "      <th>loc_ic_t2o_mou</th>\n",
       "      <th>last_date_of_month_6</th>\n",
       "      <th>last_date_of_month_7</th>\n",
       "      <th>last_date_of_month_8</th>\n",
       "      <th>last_date_of_month_9</th>\n",
       "      <th>arpu_6</th>\n",
       "      <th>...</th>\n",
       "      <th>sachet_3g_9</th>\n",
       "      <th>fb_user_6</th>\n",
       "      <th>fb_user_7</th>\n",
       "      <th>fb_user_8</th>\n",
       "      <th>fb_user_9</th>\n",
       "      <th>aon</th>\n",
       "      <th>aug_vbc_3g</th>\n",
       "      <th>jul_vbc_3g</th>\n",
       "      <th>jun_vbc_3g</th>\n",
       "      <th>sep_vbc_3g</th>\n",
       "    </tr>\n",
       "  </thead>\n",
       "  <tbody>\n",
       "    <tr>\n",
       "      <th>0</th>\n",
       "      <td>7000842753</td>\n",
       "      <td>109</td>\n",
       "      <td>0.0</td>\n",
       "      <td>0.0</td>\n",
       "      <td>0.0</td>\n",
       "      <td>6/30/2014</td>\n",
       "      <td>7/31/2014</td>\n",
       "      <td>8/31/2014</td>\n",
       "      <td>9/30/2014</td>\n",
       "      <td>197.385</td>\n",
       "      <td>...</td>\n",
       "      <td>0</td>\n",
       "      <td>1.0</td>\n",
       "      <td>1.0</td>\n",
       "      <td>1.0</td>\n",
       "      <td>NaN</td>\n",
       "      <td>968</td>\n",
       "      <td>30.4</td>\n",
       "      <td>0.0</td>\n",
       "      <td>101.20</td>\n",
       "      <td>3.58</td>\n",
       "    </tr>\n",
       "    <tr>\n",
       "      <th>1</th>\n",
       "      <td>7001865778</td>\n",
       "      <td>109</td>\n",
       "      <td>0.0</td>\n",
       "      <td>0.0</td>\n",
       "      <td>0.0</td>\n",
       "      <td>6/30/2014</td>\n",
       "      <td>7/31/2014</td>\n",
       "      <td>8/31/2014</td>\n",
       "      <td>9/30/2014</td>\n",
       "      <td>34.047</td>\n",
       "      <td>...</td>\n",
       "      <td>0</td>\n",
       "      <td>NaN</td>\n",
       "      <td>1.0</td>\n",
       "      <td>1.0</td>\n",
       "      <td>NaN</td>\n",
       "      <td>1006</td>\n",
       "      <td>0.0</td>\n",
       "      <td>0.0</td>\n",
       "      <td>0.00</td>\n",
       "      <td>0.00</td>\n",
       "    </tr>\n",
       "    <tr>\n",
       "      <th>2</th>\n",
       "      <td>7001625959</td>\n",
       "      <td>109</td>\n",
       "      <td>0.0</td>\n",
       "      <td>0.0</td>\n",
       "      <td>0.0</td>\n",
       "      <td>6/30/2014</td>\n",
       "      <td>7/31/2014</td>\n",
       "      <td>8/31/2014</td>\n",
       "      <td>9/30/2014</td>\n",
       "      <td>167.690</td>\n",
       "      <td>...</td>\n",
       "      <td>0</td>\n",
       "      <td>NaN</td>\n",
       "      <td>NaN</td>\n",
       "      <td>NaN</td>\n",
       "      <td>1.0</td>\n",
       "      <td>1103</td>\n",
       "      <td>0.0</td>\n",
       "      <td>0.0</td>\n",
       "      <td>4.17</td>\n",
       "      <td>0.00</td>\n",
       "    </tr>\n",
       "    <tr>\n",
       "      <th>3</th>\n",
       "      <td>7001204172</td>\n",
       "      <td>109</td>\n",
       "      <td>0.0</td>\n",
       "      <td>0.0</td>\n",
       "      <td>0.0</td>\n",
       "      <td>6/30/2014</td>\n",
       "      <td>7/31/2014</td>\n",
       "      <td>8/31/2014</td>\n",
       "      <td>9/30/2014</td>\n",
       "      <td>221.338</td>\n",
       "      <td>...</td>\n",
       "      <td>0</td>\n",
       "      <td>NaN</td>\n",
       "      <td>NaN</td>\n",
       "      <td>NaN</td>\n",
       "      <td>NaN</td>\n",
       "      <td>2491</td>\n",
       "      <td>0.0</td>\n",
       "      <td>0.0</td>\n",
       "      <td>0.00</td>\n",
       "      <td>0.00</td>\n",
       "    </tr>\n",
       "    <tr>\n",
       "      <th>4</th>\n",
       "      <td>7000142493</td>\n",
       "      <td>109</td>\n",
       "      <td>0.0</td>\n",
       "      <td>0.0</td>\n",
       "      <td>0.0</td>\n",
       "      <td>6/30/2014</td>\n",
       "      <td>7/31/2014</td>\n",
       "      <td>8/31/2014</td>\n",
       "      <td>9/30/2014</td>\n",
       "      <td>261.636</td>\n",
       "      <td>...</td>\n",
       "      <td>0</td>\n",
       "      <td>0.0</td>\n",
       "      <td>NaN</td>\n",
       "      <td>NaN</td>\n",
       "      <td>NaN</td>\n",
       "      <td>1526</td>\n",
       "      <td>0.0</td>\n",
       "      <td>0.0</td>\n",
       "      <td>0.00</td>\n",
       "      <td>0.00</td>\n",
       "    </tr>\n",
       "  </tbody>\n",
       "</table>\n",
       "<p>5 rows × 226 columns</p>\n",
       "</div>"
      ],
      "text/plain": [
       "   mobile_number  circle_id  loc_og_t2o_mou  std_og_t2o_mou  loc_ic_t2o_mou  \\\n",
       "0     7000842753        109             0.0             0.0             0.0   \n",
       "1     7001865778        109             0.0             0.0             0.0   \n",
       "2     7001625959        109             0.0             0.0             0.0   \n",
       "3     7001204172        109             0.0             0.0             0.0   \n",
       "4     7000142493        109             0.0             0.0             0.0   \n",
       "\n",
       "  last_date_of_month_6 last_date_of_month_7 last_date_of_month_8  \\\n",
       "0            6/30/2014            7/31/2014            8/31/2014   \n",
       "1            6/30/2014            7/31/2014            8/31/2014   \n",
       "2            6/30/2014            7/31/2014            8/31/2014   \n",
       "3            6/30/2014            7/31/2014            8/31/2014   \n",
       "4            6/30/2014            7/31/2014            8/31/2014   \n",
       "\n",
       "  last_date_of_month_9   arpu_6  ...  sachet_3g_9  fb_user_6  fb_user_7  \\\n",
       "0            9/30/2014  197.385  ...            0        1.0        1.0   \n",
       "1            9/30/2014   34.047  ...            0        NaN        1.0   \n",
       "2            9/30/2014  167.690  ...            0        NaN        NaN   \n",
       "3            9/30/2014  221.338  ...            0        NaN        NaN   \n",
       "4            9/30/2014  261.636  ...            0        0.0        NaN   \n",
       "\n",
       "   fb_user_8  fb_user_9   aon  aug_vbc_3g  jul_vbc_3g  jun_vbc_3g  sep_vbc_3g  \n",
       "0        1.0        NaN   968        30.4         0.0      101.20        3.58  \n",
       "1        1.0        NaN  1006         0.0         0.0        0.00        0.00  \n",
       "2        NaN        1.0  1103         0.0         0.0        4.17        0.00  \n",
       "3        NaN        NaN  2491         0.0         0.0        0.00        0.00  \n",
       "4        NaN        NaN  1526         0.0         0.0        0.00        0.00  \n",
       "\n",
       "[5 rows x 226 columns]"
      ]
     },
     "execution_count": 90,
     "metadata": {},
     "output_type": "execute_result"
    }
   ],
   "source": [
    "# reading the input data and preview\n",
    "churn= pd.read_csv('telecom_churn_data.csv')\n",
    "churn.head()"
   ]
  },
  {
   "cell_type": "code",
   "execution_count": 91,
   "metadata": {
    "colab": {},
    "colab_type": "code",
    "id": "thaqLR4ww1bF",
    "outputId": "f1fefc3a-db74-4355-c1bd-bc9022fa1af4"
   },
   "outputs": [
    {
     "name": "stdout",
     "output_type": "stream",
     "text": [
      "(99999, 226)\n"
     ]
    }
   ],
   "source": [
    "print (churn.shape)\n"
   ]
  },
  {
   "cell_type": "code",
   "execution_count": 92,
   "metadata": {},
   "outputs": [
    {
     "name": "stdout",
     "output_type": "stream",
     "text": [
      "<class 'pandas.core.frame.DataFrame'>\n",
      "RangeIndex: 99999 entries, 0 to 99998\n",
      "Columns: 226 entries, mobile_number to sep_vbc_3g\n",
      "dtypes: float64(179), int64(35), object(12)\n",
      "memory usage: 172.4+ MB\n",
      "None\n"
     ]
    }
   ],
   "source": [
    "print (churn.info())\n"
   ]
  },
  {
   "cell_type": "code",
   "execution_count": 93,
   "metadata": {},
   "outputs": [
    {
     "data": {
      "text/html": [
       "<div>\n",
       "<style scoped>\n",
       "    .dataframe tbody tr th:only-of-type {\n",
       "        vertical-align: middle;\n",
       "    }\n",
       "\n",
       "    .dataframe tbody tr th {\n",
       "        vertical-align: top;\n",
       "    }\n",
       "\n",
       "    .dataframe thead th {\n",
       "        text-align: right;\n",
       "    }\n",
       "</style>\n",
       "<table border=\"1\" class=\"dataframe\">\n",
       "  <thead>\n",
       "    <tr style=\"text-align: right;\">\n",
       "      <th></th>\n",
       "      <th>mobile_number</th>\n",
       "      <th>circle_id</th>\n",
       "      <th>loc_og_t2o_mou</th>\n",
       "      <th>std_og_t2o_mou</th>\n",
       "      <th>loc_ic_t2o_mou</th>\n",
       "      <th>arpu_6</th>\n",
       "      <th>arpu_7</th>\n",
       "      <th>arpu_8</th>\n",
       "      <th>arpu_9</th>\n",
       "      <th>onnet_mou_6</th>\n",
       "      <th>...</th>\n",
       "      <th>sachet_3g_9</th>\n",
       "      <th>fb_user_6</th>\n",
       "      <th>fb_user_7</th>\n",
       "      <th>fb_user_8</th>\n",
       "      <th>fb_user_9</th>\n",
       "      <th>aon</th>\n",
       "      <th>aug_vbc_3g</th>\n",
       "      <th>jul_vbc_3g</th>\n",
       "      <th>jun_vbc_3g</th>\n",
       "      <th>sep_vbc_3g</th>\n",
       "    </tr>\n",
       "  </thead>\n",
       "  <tbody>\n",
       "    <tr>\n",
       "      <th>count</th>\n",
       "      <td>9.999900e+04</td>\n",
       "      <td>99999.0</td>\n",
       "      <td>98981.0</td>\n",
       "      <td>98981.0</td>\n",
       "      <td>98981.0</td>\n",
       "      <td>99999.000000</td>\n",
       "      <td>99999.000000</td>\n",
       "      <td>99999.000000</td>\n",
       "      <td>99999.000000</td>\n",
       "      <td>96062.000000</td>\n",
       "      <td>...</td>\n",
       "      <td>99999.000000</td>\n",
       "      <td>25153.000000</td>\n",
       "      <td>25571.000000</td>\n",
       "      <td>26339.000000</td>\n",
       "      <td>25922.000000</td>\n",
       "      <td>99999.000000</td>\n",
       "      <td>99999.000000</td>\n",
       "      <td>99999.000000</td>\n",
       "      <td>99999.000000</td>\n",
       "      <td>99999.000000</td>\n",
       "    </tr>\n",
       "    <tr>\n",
       "      <th>mean</th>\n",
       "      <td>7.001207e+09</td>\n",
       "      <td>109.0</td>\n",
       "      <td>0.0</td>\n",
       "      <td>0.0</td>\n",
       "      <td>0.0</td>\n",
       "      <td>282.987358</td>\n",
       "      <td>278.536648</td>\n",
       "      <td>279.154731</td>\n",
       "      <td>261.645069</td>\n",
       "      <td>132.395875</td>\n",
       "      <td>...</td>\n",
       "      <td>0.084581</td>\n",
       "      <td>0.914404</td>\n",
       "      <td>0.908764</td>\n",
       "      <td>0.890808</td>\n",
       "      <td>0.860968</td>\n",
       "      <td>1219.854749</td>\n",
       "      <td>68.170248</td>\n",
       "      <td>66.839062</td>\n",
       "      <td>60.021204</td>\n",
       "      <td>3.299373</td>\n",
       "    </tr>\n",
       "    <tr>\n",
       "      <th>std</th>\n",
       "      <td>6.956694e+05</td>\n",
       "      <td>0.0</td>\n",
       "      <td>0.0</td>\n",
       "      <td>0.0</td>\n",
       "      <td>0.0</td>\n",
       "      <td>328.439770</td>\n",
       "      <td>338.156291</td>\n",
       "      <td>344.474791</td>\n",
       "      <td>341.998630</td>\n",
       "      <td>297.207406</td>\n",
       "      <td>...</td>\n",
       "      <td>0.650457</td>\n",
       "      <td>0.279772</td>\n",
       "      <td>0.287950</td>\n",
       "      <td>0.311885</td>\n",
       "      <td>0.345987</td>\n",
       "      <td>954.733842</td>\n",
       "      <td>267.580450</td>\n",
       "      <td>271.201856</td>\n",
       "      <td>253.938223</td>\n",
       "      <td>32.408353</td>\n",
       "    </tr>\n",
       "    <tr>\n",
       "      <th>min</th>\n",
       "      <td>7.000000e+09</td>\n",
       "      <td>109.0</td>\n",
       "      <td>0.0</td>\n",
       "      <td>0.0</td>\n",
       "      <td>0.0</td>\n",
       "      <td>-2258.709000</td>\n",
       "      <td>-2014.045000</td>\n",
       "      <td>-945.808000</td>\n",
       "      <td>-1899.505000</td>\n",
       "      <td>0.000000</td>\n",
       "      <td>...</td>\n",
       "      <td>0.000000</td>\n",
       "      <td>0.000000</td>\n",
       "      <td>0.000000</td>\n",
       "      <td>0.000000</td>\n",
       "      <td>0.000000</td>\n",
       "      <td>180.000000</td>\n",
       "      <td>0.000000</td>\n",
       "      <td>0.000000</td>\n",
       "      <td>0.000000</td>\n",
       "      <td>0.000000</td>\n",
       "    </tr>\n",
       "    <tr>\n",
       "      <th>25%</th>\n",
       "      <td>7.000606e+09</td>\n",
       "      <td>109.0</td>\n",
       "      <td>0.0</td>\n",
       "      <td>0.0</td>\n",
       "      <td>0.0</td>\n",
       "      <td>93.411500</td>\n",
       "      <td>86.980500</td>\n",
       "      <td>84.126000</td>\n",
       "      <td>62.685000</td>\n",
       "      <td>7.380000</td>\n",
       "      <td>...</td>\n",
       "      <td>0.000000</td>\n",
       "      <td>1.000000</td>\n",
       "      <td>1.000000</td>\n",
       "      <td>1.000000</td>\n",
       "      <td>1.000000</td>\n",
       "      <td>467.000000</td>\n",
       "      <td>0.000000</td>\n",
       "      <td>0.000000</td>\n",
       "      <td>0.000000</td>\n",
       "      <td>0.000000</td>\n",
       "    </tr>\n",
       "    <tr>\n",
       "      <th>50%</th>\n",
       "      <td>7.001205e+09</td>\n",
       "      <td>109.0</td>\n",
       "      <td>0.0</td>\n",
       "      <td>0.0</td>\n",
       "      <td>0.0</td>\n",
       "      <td>197.704000</td>\n",
       "      <td>191.640000</td>\n",
       "      <td>192.080000</td>\n",
       "      <td>176.849000</td>\n",
       "      <td>34.310000</td>\n",
       "      <td>...</td>\n",
       "      <td>0.000000</td>\n",
       "      <td>1.000000</td>\n",
       "      <td>1.000000</td>\n",
       "      <td>1.000000</td>\n",
       "      <td>1.000000</td>\n",
       "      <td>863.000000</td>\n",
       "      <td>0.000000</td>\n",
       "      <td>0.000000</td>\n",
       "      <td>0.000000</td>\n",
       "      <td>0.000000</td>\n",
       "    </tr>\n",
       "    <tr>\n",
       "      <th>75%</th>\n",
       "      <td>7.001812e+09</td>\n",
       "      <td>109.0</td>\n",
       "      <td>0.0</td>\n",
       "      <td>0.0</td>\n",
       "      <td>0.0</td>\n",
       "      <td>371.060000</td>\n",
       "      <td>365.344500</td>\n",
       "      <td>369.370500</td>\n",
       "      <td>353.466500</td>\n",
       "      <td>118.740000</td>\n",
       "      <td>...</td>\n",
       "      <td>0.000000</td>\n",
       "      <td>1.000000</td>\n",
       "      <td>1.000000</td>\n",
       "      <td>1.000000</td>\n",
       "      <td>1.000000</td>\n",
       "      <td>1807.500000</td>\n",
       "      <td>0.000000</td>\n",
       "      <td>0.000000</td>\n",
       "      <td>0.000000</td>\n",
       "      <td>0.000000</td>\n",
       "    </tr>\n",
       "    <tr>\n",
       "      <th>max</th>\n",
       "      <td>7.002411e+09</td>\n",
       "      <td>109.0</td>\n",
       "      <td>0.0</td>\n",
       "      <td>0.0</td>\n",
       "      <td>0.0</td>\n",
       "      <td>27731.088000</td>\n",
       "      <td>35145.834000</td>\n",
       "      <td>33543.624000</td>\n",
       "      <td>38805.617000</td>\n",
       "      <td>7376.710000</td>\n",
       "      <td>...</td>\n",
       "      <td>49.000000</td>\n",
       "      <td>1.000000</td>\n",
       "      <td>1.000000</td>\n",
       "      <td>1.000000</td>\n",
       "      <td>1.000000</td>\n",
       "      <td>4337.000000</td>\n",
       "      <td>12916.220000</td>\n",
       "      <td>9165.600000</td>\n",
       "      <td>11166.210000</td>\n",
       "      <td>2618.570000</td>\n",
       "    </tr>\n",
       "  </tbody>\n",
       "</table>\n",
       "<p>8 rows × 214 columns</p>\n",
       "</div>"
      ],
      "text/plain": [
       "       mobile_number  circle_id  loc_og_t2o_mou  std_og_t2o_mou  \\\n",
       "count   9.999900e+04    99999.0         98981.0         98981.0   \n",
       "mean    7.001207e+09      109.0             0.0             0.0   \n",
       "std     6.956694e+05        0.0             0.0             0.0   \n",
       "min     7.000000e+09      109.0             0.0             0.0   \n",
       "25%     7.000606e+09      109.0             0.0             0.0   \n",
       "50%     7.001205e+09      109.0             0.0             0.0   \n",
       "75%     7.001812e+09      109.0             0.0             0.0   \n",
       "max     7.002411e+09      109.0             0.0             0.0   \n",
       "\n",
       "       loc_ic_t2o_mou        arpu_6        arpu_7        arpu_8        arpu_9  \\\n",
       "count         98981.0  99999.000000  99999.000000  99999.000000  99999.000000   \n",
       "mean              0.0    282.987358    278.536648    279.154731    261.645069   \n",
       "std               0.0    328.439770    338.156291    344.474791    341.998630   \n",
       "min               0.0  -2258.709000  -2014.045000   -945.808000  -1899.505000   \n",
       "25%               0.0     93.411500     86.980500     84.126000     62.685000   \n",
       "50%               0.0    197.704000    191.640000    192.080000    176.849000   \n",
       "75%               0.0    371.060000    365.344500    369.370500    353.466500   \n",
       "max               0.0  27731.088000  35145.834000  33543.624000  38805.617000   \n",
       "\n",
       "        onnet_mou_6  ...   sachet_3g_9     fb_user_6     fb_user_7  \\\n",
       "count  96062.000000  ...  99999.000000  25153.000000  25571.000000   \n",
       "mean     132.395875  ...      0.084581      0.914404      0.908764   \n",
       "std      297.207406  ...      0.650457      0.279772      0.287950   \n",
       "min        0.000000  ...      0.000000      0.000000      0.000000   \n",
       "25%        7.380000  ...      0.000000      1.000000      1.000000   \n",
       "50%       34.310000  ...      0.000000      1.000000      1.000000   \n",
       "75%      118.740000  ...      0.000000      1.000000      1.000000   \n",
       "max     7376.710000  ...     49.000000      1.000000      1.000000   \n",
       "\n",
       "          fb_user_8     fb_user_9           aon    aug_vbc_3g    jul_vbc_3g  \\\n",
       "count  26339.000000  25922.000000  99999.000000  99999.000000  99999.000000   \n",
       "mean       0.890808      0.860968   1219.854749     68.170248     66.839062   \n",
       "std        0.311885      0.345987    954.733842    267.580450    271.201856   \n",
       "min        0.000000      0.000000    180.000000      0.000000      0.000000   \n",
       "25%        1.000000      1.000000    467.000000      0.000000      0.000000   \n",
       "50%        1.000000      1.000000    863.000000      0.000000      0.000000   \n",
       "75%        1.000000      1.000000   1807.500000      0.000000      0.000000   \n",
       "max        1.000000      1.000000   4337.000000  12916.220000   9165.600000   \n",
       "\n",
       "         jun_vbc_3g    sep_vbc_3g  \n",
       "count  99999.000000  99999.000000  \n",
       "mean      60.021204      3.299373  \n",
       "std      253.938223     32.408353  \n",
       "min        0.000000      0.000000  \n",
       "25%        0.000000      0.000000  \n",
       "50%        0.000000      0.000000  \n",
       "75%        0.000000      0.000000  \n",
       "max    11166.210000   2618.570000  \n",
       "\n",
       "[8 rows x 214 columns]"
      ]
     },
     "execution_count": 93,
     "metadata": {},
     "output_type": "execute_result"
    }
   ],
   "source": [
    "churn.describe()"
   ]
  },
  {
   "cell_type": "code",
   "execution_count": 94,
   "metadata": {
    "colab": {},
    "colab_type": "code",
    "id": "DSFhG0VQw1bO",
    "outputId": "eba5db71-2be3-4c6c-ac0f-768987f58437"
   },
   "outputs": [
    {
     "data": {
      "text/plain": [
       "226"
      ]
     },
     "execution_count": 94,
     "metadata": {},
     "output_type": "execute_result"
    }
   ],
   "source": [
    "churn.shape[1]\n"
   ]
  },
  {
   "cell_type": "code",
   "execution_count": 95,
   "metadata": {},
   "outputs": [
    {
     "data": {
      "text/plain": [
       "99999"
      ]
     },
     "execution_count": 95,
     "metadata": {},
     "output_type": "execute_result"
    }
   ],
   "source": [
    "# getting the unique number of custormers from the data\n",
    "len(churn.mobile_number.unique())"
   ]
  },
  {
   "cell_type": "code",
   "execution_count": 96,
   "metadata": {
    "colab": {},
    "colab_type": "code",
    "id": "pfKES94-w1bT",
    "outputId": "bf5788b2-e604-4c1c-daa6-a54d3675676c",
    "scrolled": true
   },
   "outputs": [
    {
     "data": {
      "text/html": [
       "<div>\n",
       "<style scoped>\n",
       "    .dataframe tbody tr th:only-of-type {\n",
       "        vertical-align: middle;\n",
       "    }\n",
       "\n",
       "    .dataframe tbody tr th {\n",
       "        vertical-align: top;\n",
       "    }\n",
       "\n",
       "    .dataframe thead th {\n",
       "        text-align: right;\n",
       "    }\n",
       "</style>\n",
       "<table border=\"1\" class=\"dataframe\">\n",
       "  <thead>\n",
       "    <tr style=\"text-align: right;\">\n",
       "      <th></th>\n",
       "      <th>0</th>\n",
       "    </tr>\n",
       "  </thead>\n",
       "  <tbody>\n",
       "    <tr>\n",
       "      <th>0</th>\n",
       "      <td>mobile_number</td>\n",
       "    </tr>\n",
       "    <tr>\n",
       "      <th>1</th>\n",
       "      <td>circle_id</td>\n",
       "    </tr>\n",
       "    <tr>\n",
       "      <th>2</th>\n",
       "      <td>loc_og_t2o_mou</td>\n",
       "    </tr>\n",
       "    <tr>\n",
       "      <th>3</th>\n",
       "      <td>std_og_t2o_mou</td>\n",
       "    </tr>\n",
       "    <tr>\n",
       "      <th>4</th>\n",
       "      <td>loc_ic_t2o_mou</td>\n",
       "    </tr>\n",
       "    <tr>\n",
       "      <th>5</th>\n",
       "      <td>last_date_of_month_6</td>\n",
       "    </tr>\n",
       "    <tr>\n",
       "      <th>6</th>\n",
       "      <td>last_date_of_month_7</td>\n",
       "    </tr>\n",
       "    <tr>\n",
       "      <th>7</th>\n",
       "      <td>last_date_of_month_8</td>\n",
       "    </tr>\n",
       "    <tr>\n",
       "      <th>8</th>\n",
       "      <td>last_date_of_month_9</td>\n",
       "    </tr>\n",
       "    <tr>\n",
       "      <th>9</th>\n",
       "      <td>arpu_6</td>\n",
       "    </tr>\n",
       "    <tr>\n",
       "      <th>10</th>\n",
       "      <td>arpu_7</td>\n",
       "    </tr>\n",
       "    <tr>\n",
       "      <th>11</th>\n",
       "      <td>arpu_8</td>\n",
       "    </tr>\n",
       "    <tr>\n",
       "      <th>12</th>\n",
       "      <td>arpu_9</td>\n",
       "    </tr>\n",
       "    <tr>\n",
       "      <th>13</th>\n",
       "      <td>onnet_mou_6</td>\n",
       "    </tr>\n",
       "    <tr>\n",
       "      <th>14</th>\n",
       "      <td>onnet_mou_7</td>\n",
       "    </tr>\n",
       "    <tr>\n",
       "      <th>15</th>\n",
       "      <td>onnet_mou_8</td>\n",
       "    </tr>\n",
       "    <tr>\n",
       "      <th>16</th>\n",
       "      <td>onnet_mou_9</td>\n",
       "    </tr>\n",
       "    <tr>\n",
       "      <th>17</th>\n",
       "      <td>offnet_mou_6</td>\n",
       "    </tr>\n",
       "    <tr>\n",
       "      <th>18</th>\n",
       "      <td>offnet_mou_7</td>\n",
       "    </tr>\n",
       "    <tr>\n",
       "      <th>19</th>\n",
       "      <td>offnet_mou_8</td>\n",
       "    </tr>\n",
       "    <tr>\n",
       "      <th>20</th>\n",
       "      <td>offnet_mou_9</td>\n",
       "    </tr>\n",
       "    <tr>\n",
       "      <th>21</th>\n",
       "      <td>roam_ic_mou_6</td>\n",
       "    </tr>\n",
       "    <tr>\n",
       "      <th>22</th>\n",
       "      <td>roam_ic_mou_7</td>\n",
       "    </tr>\n",
       "    <tr>\n",
       "      <th>23</th>\n",
       "      <td>roam_ic_mou_8</td>\n",
       "    </tr>\n",
       "    <tr>\n",
       "      <th>24</th>\n",
       "      <td>roam_ic_mou_9</td>\n",
       "    </tr>\n",
       "    <tr>\n",
       "      <th>25</th>\n",
       "      <td>roam_og_mou_6</td>\n",
       "    </tr>\n",
       "    <tr>\n",
       "      <th>26</th>\n",
       "      <td>roam_og_mou_7</td>\n",
       "    </tr>\n",
       "    <tr>\n",
       "      <th>27</th>\n",
       "      <td>roam_og_mou_8</td>\n",
       "    </tr>\n",
       "    <tr>\n",
       "      <th>28</th>\n",
       "      <td>roam_og_mou_9</td>\n",
       "    </tr>\n",
       "    <tr>\n",
       "      <th>29</th>\n",
       "      <td>loc_og_t2t_mou_6</td>\n",
       "    </tr>\n",
       "    <tr>\n",
       "      <th>...</th>\n",
       "      <td>...</td>\n",
       "    </tr>\n",
       "    <tr>\n",
       "      <th>196</th>\n",
       "      <td>arpu_2g_9</td>\n",
       "    </tr>\n",
       "    <tr>\n",
       "      <th>197</th>\n",
       "      <td>night_pck_user_6</td>\n",
       "    </tr>\n",
       "    <tr>\n",
       "      <th>198</th>\n",
       "      <td>night_pck_user_7</td>\n",
       "    </tr>\n",
       "    <tr>\n",
       "      <th>199</th>\n",
       "      <td>night_pck_user_8</td>\n",
       "    </tr>\n",
       "    <tr>\n",
       "      <th>200</th>\n",
       "      <td>night_pck_user_9</td>\n",
       "    </tr>\n",
       "    <tr>\n",
       "      <th>201</th>\n",
       "      <td>monthly_2g_6</td>\n",
       "    </tr>\n",
       "    <tr>\n",
       "      <th>202</th>\n",
       "      <td>monthly_2g_7</td>\n",
       "    </tr>\n",
       "    <tr>\n",
       "      <th>203</th>\n",
       "      <td>monthly_2g_8</td>\n",
       "    </tr>\n",
       "    <tr>\n",
       "      <th>204</th>\n",
       "      <td>monthly_2g_9</td>\n",
       "    </tr>\n",
       "    <tr>\n",
       "      <th>205</th>\n",
       "      <td>sachet_2g_6</td>\n",
       "    </tr>\n",
       "    <tr>\n",
       "      <th>206</th>\n",
       "      <td>sachet_2g_7</td>\n",
       "    </tr>\n",
       "    <tr>\n",
       "      <th>207</th>\n",
       "      <td>sachet_2g_8</td>\n",
       "    </tr>\n",
       "    <tr>\n",
       "      <th>208</th>\n",
       "      <td>sachet_2g_9</td>\n",
       "    </tr>\n",
       "    <tr>\n",
       "      <th>209</th>\n",
       "      <td>monthly_3g_6</td>\n",
       "    </tr>\n",
       "    <tr>\n",
       "      <th>210</th>\n",
       "      <td>monthly_3g_7</td>\n",
       "    </tr>\n",
       "    <tr>\n",
       "      <th>211</th>\n",
       "      <td>monthly_3g_8</td>\n",
       "    </tr>\n",
       "    <tr>\n",
       "      <th>212</th>\n",
       "      <td>monthly_3g_9</td>\n",
       "    </tr>\n",
       "    <tr>\n",
       "      <th>213</th>\n",
       "      <td>sachet_3g_6</td>\n",
       "    </tr>\n",
       "    <tr>\n",
       "      <th>214</th>\n",
       "      <td>sachet_3g_7</td>\n",
       "    </tr>\n",
       "    <tr>\n",
       "      <th>215</th>\n",
       "      <td>sachet_3g_8</td>\n",
       "    </tr>\n",
       "    <tr>\n",
       "      <th>216</th>\n",
       "      <td>sachet_3g_9</td>\n",
       "    </tr>\n",
       "    <tr>\n",
       "      <th>217</th>\n",
       "      <td>fb_user_6</td>\n",
       "    </tr>\n",
       "    <tr>\n",
       "      <th>218</th>\n",
       "      <td>fb_user_7</td>\n",
       "    </tr>\n",
       "    <tr>\n",
       "      <th>219</th>\n",
       "      <td>fb_user_8</td>\n",
       "    </tr>\n",
       "    <tr>\n",
       "      <th>220</th>\n",
       "      <td>fb_user_9</td>\n",
       "    </tr>\n",
       "    <tr>\n",
       "      <th>221</th>\n",
       "      <td>aon</td>\n",
       "    </tr>\n",
       "    <tr>\n",
       "      <th>222</th>\n",
       "      <td>aug_vbc_3g</td>\n",
       "    </tr>\n",
       "    <tr>\n",
       "      <th>223</th>\n",
       "      <td>jul_vbc_3g</td>\n",
       "    </tr>\n",
       "    <tr>\n",
       "      <th>224</th>\n",
       "      <td>jun_vbc_3g</td>\n",
       "    </tr>\n",
       "    <tr>\n",
       "      <th>225</th>\n",
       "      <td>sep_vbc_3g</td>\n",
       "    </tr>\n",
       "  </tbody>\n",
       "</table>\n",
       "<p>226 rows × 1 columns</p>\n",
       "</div>"
      ],
      "text/plain": [
       "                        0\n",
       "0           mobile_number\n",
       "1               circle_id\n",
       "2          loc_og_t2o_mou\n",
       "3          std_og_t2o_mou\n",
       "4          loc_ic_t2o_mou\n",
       "5    last_date_of_month_6\n",
       "6    last_date_of_month_7\n",
       "7    last_date_of_month_8\n",
       "8    last_date_of_month_9\n",
       "9                  arpu_6\n",
       "10                 arpu_7\n",
       "11                 arpu_8\n",
       "12                 arpu_9\n",
       "13            onnet_mou_6\n",
       "14            onnet_mou_7\n",
       "15            onnet_mou_8\n",
       "16            onnet_mou_9\n",
       "17           offnet_mou_6\n",
       "18           offnet_mou_7\n",
       "19           offnet_mou_8\n",
       "20           offnet_mou_9\n",
       "21          roam_ic_mou_6\n",
       "22          roam_ic_mou_7\n",
       "23          roam_ic_mou_8\n",
       "24          roam_ic_mou_9\n",
       "25          roam_og_mou_6\n",
       "26          roam_og_mou_7\n",
       "27          roam_og_mou_8\n",
       "28          roam_og_mou_9\n",
       "29       loc_og_t2t_mou_6\n",
       "..                    ...\n",
       "196             arpu_2g_9\n",
       "197      night_pck_user_6\n",
       "198      night_pck_user_7\n",
       "199      night_pck_user_8\n",
       "200      night_pck_user_9\n",
       "201          monthly_2g_6\n",
       "202          monthly_2g_7\n",
       "203          monthly_2g_8\n",
       "204          monthly_2g_9\n",
       "205           sachet_2g_6\n",
       "206           sachet_2g_7\n",
       "207           sachet_2g_8\n",
       "208           sachet_2g_9\n",
       "209          monthly_3g_6\n",
       "210          monthly_3g_7\n",
       "211          monthly_3g_8\n",
       "212          monthly_3g_9\n",
       "213           sachet_3g_6\n",
       "214           sachet_3g_7\n",
       "215           sachet_3g_8\n",
       "216           sachet_3g_9\n",
       "217             fb_user_6\n",
       "218             fb_user_7\n",
       "219             fb_user_8\n",
       "220             fb_user_9\n",
       "221                   aon\n",
       "222            aug_vbc_3g\n",
       "223            jul_vbc_3g\n",
       "224            jun_vbc_3g\n",
       "225            sep_vbc_3g\n",
       "\n",
       "[226 rows x 1 columns]"
      ]
     },
     "execution_count": 96,
     "metadata": {},
     "output_type": "execute_result"
    }
   ],
   "source": [
    "#list of columns\n",
    "pd.DataFrame(churn.columns)"
   ]
  },
  {
   "cell_type": "markdown",
   "metadata": {
    "colab_type": "text",
    "id": "IyfWdSy4w1bZ"
   },
   "source": [
    "---\n",
    "##  Data Cleaning\n",
    "\n",
    "---"
   ]
  },
  {
   "cell_type": "markdown",
   "metadata": {
    "colab_type": "text",
    "id": "lgfFK9pzw1ba"
   },
   "source": [
    "Defining data cleaning function"
   ]
  },
  {
   "cell_type": "code",
   "execution_count": 97,
   "metadata": {
    "colab": {},
    "colab_type": "code",
    "id": "-w7VwT9Sw1bd"
   },
   "outputs": [],
   "source": [
    "def getNanValues(nanCutoff):\n",
    "    # Function to retun the columns with more than nanCutoff% missing values.\n",
    "    # argument: nanCutoff, % values threshold for missing values\n",
    "    nan_cols = round(100*(churn.isnull().sum()/churn.shape[0]))\n",
    "    print(\" {}% missing values\".format(len(nan_cols.loc[nan_cols > nanCutoff]),nanCutoff))\n",
    "    return nan_cols.loc[nan_cols > nanCutoff]"
   ]
  },
  {
   "cell_type": "code",
   "execution_count": 98,
   "metadata": {
    "colab": {},
    "colab_type": "code",
    "id": "vpKT6Evow1bg"
   },
   "outputs": [],
   "source": [
    "def imputeNanValues(data,imputedList=False,nan_list=False):\n",
    "    # Function impute the nan with 0\n",
    "    # argument: colList, list of columns for which nan is to be replaced with 0\n",
    "    if imputedList:\n",
    "        for col in [y + s for s in ['_6','_7','_8','_9'] for y in imputedList]:\n",
    "            data[col].fillna(0, inplace=True)\n",
    "    else:    \n",
    "        for col in nan_list:\n",
    "            data[col].fillna(0, inplace=True)"
   ]
  },
  {
   "cell_type": "markdown",
   "metadata": {
    "colab_type": "text",
    "id": "S_YDMY8Dw1bj"
   },
   "source": [
    "##### Checking  missing data\n",
    "check  missing values "
   ]
  },
  {
   "cell_type": "code",
   "execution_count": 99,
   "metadata": {
    "colab": {},
    "colab_type": "code",
    "id": "sKonDVuKw1bk",
    "outputId": "f8c6a5f2-13ca-4bc3-d6f9-f2589ddab768",
    "scrolled": true
   },
   "outputs": [
    {
     "name": "stdout",
     "output_type": "stream",
     "text": [
      " 40% missing values\n"
     ]
    },
    {
     "data": {
      "text/plain": [
       "date_of_last_rech_data_6    75.0\n",
       "date_of_last_rech_data_7    74.0\n",
       "date_of_last_rech_data_8    74.0\n",
       "date_of_last_rech_data_9    74.0\n",
       "total_rech_data_6           75.0\n",
       "total_rech_data_7           74.0\n",
       "total_rech_data_8           74.0\n",
       "total_rech_data_9           74.0\n",
       "max_rech_data_6             75.0\n",
       "max_rech_data_7             74.0\n",
       "max_rech_data_8             74.0\n",
       "max_rech_data_9             74.0\n",
       "count_rech_2g_6             75.0\n",
       "count_rech_2g_7             74.0\n",
       "count_rech_2g_8             74.0\n",
       "count_rech_2g_9             74.0\n",
       "count_rech_3g_6             75.0\n",
       "count_rech_3g_7             74.0\n",
       "count_rech_3g_8             74.0\n",
       "count_rech_3g_9             74.0\n",
       "av_rech_amt_data_6          75.0\n",
       "av_rech_amt_data_7          74.0\n",
       "av_rech_amt_data_8          74.0\n",
       "av_rech_amt_data_9          74.0\n",
       "arpu_3g_6                   75.0\n",
       "arpu_3g_7                   74.0\n",
       "arpu_3g_8                   74.0\n",
       "arpu_3g_9                   74.0\n",
       "arpu_2g_6                   75.0\n",
       "arpu_2g_7                   74.0\n",
       "arpu_2g_8                   74.0\n",
       "arpu_2g_9                   74.0\n",
       "night_pck_user_6            75.0\n",
       "night_pck_user_7            74.0\n",
       "night_pck_user_8            74.0\n",
       "night_pck_user_9            74.0\n",
       "fb_user_6                   75.0\n",
       "fb_user_7                   74.0\n",
       "fb_user_8                   74.0\n",
       "fb_user_9                   74.0\n",
       "dtype: float64"
      ]
     },
     "execution_count": 99,
     "metadata": {},
     "output_type": "execute_result"
    }
   ],
   "source": [
    "# Missing values per column expressed as 50% of total number of values\n",
    "getNanValues(50)"
   ]
  },
  {
   "cell_type": "markdown",
   "metadata": {
    "colab_type": "text",
    "id": "E-lu8wY4w1bq"
   },
   "source": [
    "Out the these 40 features, many are required and are essential for analysis. The missing values for these features seems to suggest that these customers KPI's did not have any value at that month.\n",
    "\n",
    "We can impute these values with 0 to make enable these features to give value to analysis."
   ]
  },
  {
   "cell_type": "code",
   "execution_count": 100,
   "metadata": {
    "colab": {},
    "colab_type": "code",
    "id": "qHQktPDgw1br"
   },
   "outputs": [],
   "source": [
    "# Since av_rech_amt_data_* features are important for getting the high-value customers,\n",
    "#lets impute the missing av_rech_amt_data_* with 0\n",
    "imputedCols = ['av_rech_amt_data', 'arpu_2g', 'arpu_3g', 'count_rech_2g', 'count_rech_3g',\n",
    "             'max_rech_data', 'total_rech_data','fb_user','night_pck_user']\n",
    "imputeNanValues(churn,imputedCols)"
   ]
  },
  {
   "cell_type": "code",
   "execution_count": 101,
   "metadata": {
    "colab": {},
    "colab_type": "code",
    "id": "4b7vA2Fcw1bu",
    "outputId": "7479dd37-701b-445d-c0f3-9914d29134ee"
   },
   "outputs": [
    {
     "name": "stdout",
     "output_type": "stream",
     "text": [
      " 4% missing values\n"
     ]
    },
    {
     "data": {
      "text/plain": [
       "date_of_last_rech_data_6    75.0\n",
       "date_of_last_rech_data_7    74.0\n",
       "date_of_last_rech_data_8    74.0\n",
       "date_of_last_rech_data_9    74.0\n",
       "dtype: float64"
      ]
     },
     "execution_count": 101,
     "metadata": {},
     "output_type": "execute_result"
    }
   ],
   "source": [
    "getNanValues(50)"
   ]
  },
  {
   "cell_type": "code",
   "execution_count": 102,
   "metadata": {
    "colab": {},
    "colab_type": "code",
    "id": "jgznSmO-w1bz",
    "outputId": "26e405da-2af4-4b2b-cabd-646b3eb8c696"
   },
   "outputs": [
    {
     "name": "stdout",
     "output_type": "stream",
     "text": [
      " 4% missing values\n"
     ]
    },
    {
     "data": {
      "text/plain": [
       "(99999, 222)"
      ]
     },
     "execution_count": 102,
     "metadata": {},
     "output_type": "execute_result"
    }
   ],
   "source": [
    "# dropping the columns having more than 50% missing values\n",
    "nan_cols = list(getNanValues(50).index)\n",
    "churn.drop(nan_cols,axis=1,inplace=True)\n",
    "churn.shape"
   ]
  },
  {
   "cell_type": "code",
   "execution_count": 103,
   "metadata": {},
   "outputs": [
    {
     "name": "stdout",
     "output_type": "stream",
     "text": [
      " 0% missing values\n"
     ]
    },
    {
     "data": {
      "text/plain": [
       "Series([], dtype: float64)"
      ]
     },
     "execution_count": 103,
     "metadata": {},
     "output_type": "execute_result"
    }
   ],
   "source": [
    "# Missing values per column expressed as % of total number of values > 10%\n",
    "getNanValues(10) "
   ]
  },
  {
   "cell_type": "code",
   "execution_count": 104,
   "metadata": {
    "colab": {},
    "colab_type": "code",
    "id": "GVbTUyRUw1b7",
    "outputId": "f449d7bc-4c9d-4943-b39c-063dc0bb73d4",
    "scrolled": true
   },
   "outputs": [
    {
     "name": "stdout",
     "output_type": "stream",
     "text": [
      " 29% missing values\n"
     ]
    },
    {
     "data": {
      "text/plain": [
       "onnet_mou_9         8.0\n",
       "offnet_mou_9        8.0\n",
       "roam_ic_mou_9       8.0\n",
       "roam_og_mou_9       8.0\n",
       "loc_og_t2t_mou_9    8.0\n",
       "loc_og_t2m_mou_9    8.0\n",
       "loc_og_t2f_mou_9    8.0\n",
       "loc_og_t2c_mou_9    8.0\n",
       "loc_og_mou_9        8.0\n",
       "std_og_t2t_mou_9    8.0\n",
       "std_og_t2m_mou_9    8.0\n",
       "std_og_t2f_mou_9    8.0\n",
       "std_og_t2c_mou_9    8.0\n",
       "std_og_mou_9        8.0\n",
       "isd_og_mou_9        8.0\n",
       "spl_og_mou_9        8.0\n",
       "og_others_9         8.0\n",
       "loc_ic_t2t_mou_9    8.0\n",
       "loc_ic_t2m_mou_9    8.0\n",
       "loc_ic_t2f_mou_9    8.0\n",
       "loc_ic_mou_9        8.0\n",
       "std_ic_t2t_mou_9    8.0\n",
       "std_ic_t2m_mou_9    8.0\n",
       "std_ic_t2f_mou_9    8.0\n",
       "std_ic_t2o_mou_9    8.0\n",
       "std_ic_mou_9        8.0\n",
       "spl_ic_mou_9        8.0\n",
       "isd_ic_mou_9        8.0\n",
       "ic_others_9         8.0\n",
       "dtype: float64"
      ]
     },
     "execution_count": 104,
     "metadata": {},
     "output_type": "execute_result"
    }
   ],
   "source": [
    "# Missing values per column expressed as % of total number of values > 5%\n",
    "getNanValues(5) "
   ]
  },
  {
   "cell_type": "markdown",
   "metadata": {
    "colab_type": "text",
    "id": "AymtxYWMw1cD"
   },
   "source": [
    "Above these features for the month sep(9) are missing together"
   ]
  },
  {
   "cell_type": "code",
   "execution_count": 105,
   "metadata": {
    "colab": {},
    "colab_type": "code",
    "id": "nSWl9fQrw1cG",
    "outputId": "8ebac937-5cd3-44d4-8b2f-a9f0757c19a2"
   },
   "outputs": [
    {
     "name": "stdout",
     "output_type": "stream",
     "text": [
      " 29% missing values\n",
      " 7745 customers having missing values for ['onnet_mou_9', 'offnet_mou_9', 'roam_ic_mou_9', 'roam_og_mou_9', 'loc_og_t2t_mou_9', 'loc_og_t2m_mou_9', 'loc_og_t2f_mou_9', 'loc_og_t2c_mou_9', 'loc_og_mou_9', 'std_og_t2t_mou_9', 'std_og_t2m_mou_9', 'std_og_t2f_mou_9', 'std_og_t2c_mou_9', 'std_og_mou_9', 'isd_og_mou_9', 'spl_og_mou_9', 'og_others_9', 'loc_ic_t2t_mou_9', 'loc_ic_t2m_mou_9', 'loc_ic_t2f_mou_9', 'loc_ic_mou_9', 'std_ic_t2t_mou_9', 'std_ic_t2m_mou_9', 'std_ic_t2f_mou_9', 'std_ic_t2o_mou_9', 'std_ic_mou_9', 'spl_ic_mou_9', 'isd_ic_mou_9', 'ic_others_9']\n"
     ]
    },
    {
     "data": {
      "text/html": [
       "<div>\n",
       "<style scoped>\n",
       "    .dataframe tbody tr th:only-of-type {\n",
       "        vertical-align: middle;\n",
       "    }\n",
       "\n",
       "    .dataframe tbody tr th {\n",
       "        vertical-align: top;\n",
       "    }\n",
       "\n",
       "    .dataframe thead th {\n",
       "        text-align: right;\n",
       "    }\n",
       "</style>\n",
       "<table border=\"1\" class=\"dataframe\">\n",
       "  <thead>\n",
       "    <tr style=\"text-align: right;\">\n",
       "      <th></th>\n",
       "      <th>onnet_mou_9</th>\n",
       "      <th>offnet_mou_9</th>\n",
       "      <th>roam_ic_mou_9</th>\n",
       "      <th>roam_og_mou_9</th>\n",
       "      <th>loc_og_t2t_mou_9</th>\n",
       "      <th>loc_og_t2m_mou_9</th>\n",
       "      <th>loc_og_t2f_mou_9</th>\n",
       "      <th>loc_og_t2c_mou_9</th>\n",
       "      <th>loc_og_mou_9</th>\n",
       "      <th>std_og_t2t_mou_9</th>\n",
       "      <th>...</th>\n",
       "      <th>loc_ic_t2f_mou_9</th>\n",
       "      <th>loc_ic_mou_9</th>\n",
       "      <th>std_ic_t2t_mou_9</th>\n",
       "      <th>std_ic_t2m_mou_9</th>\n",
       "      <th>std_ic_t2f_mou_9</th>\n",
       "      <th>std_ic_t2o_mou_9</th>\n",
       "      <th>std_ic_mou_9</th>\n",
       "      <th>spl_ic_mou_9</th>\n",
       "      <th>isd_ic_mou_9</th>\n",
       "      <th>ic_others_9</th>\n",
       "    </tr>\n",
       "  </thead>\n",
       "  <tbody>\n",
       "    <tr>\n",
       "      <th>0</th>\n",
       "      <td>NaN</td>\n",
       "      <td>NaN</td>\n",
       "      <td>NaN</td>\n",
       "      <td>NaN</td>\n",
       "      <td>NaN</td>\n",
       "      <td>NaN</td>\n",
       "      <td>NaN</td>\n",
       "      <td>NaN</td>\n",
       "      <td>NaN</td>\n",
       "      <td>NaN</td>\n",
       "      <td>...</td>\n",
       "      <td>NaN</td>\n",
       "      <td>NaN</td>\n",
       "      <td>NaN</td>\n",
       "      <td>NaN</td>\n",
       "      <td>NaN</td>\n",
       "      <td>NaN</td>\n",
       "      <td>NaN</td>\n",
       "      <td>NaN</td>\n",
       "      <td>NaN</td>\n",
       "      <td>NaN</td>\n",
       "    </tr>\n",
       "    <tr>\n",
       "      <th>7</th>\n",
       "      <td>NaN</td>\n",
       "      <td>NaN</td>\n",
       "      <td>NaN</td>\n",
       "      <td>NaN</td>\n",
       "      <td>NaN</td>\n",
       "      <td>NaN</td>\n",
       "      <td>NaN</td>\n",
       "      <td>NaN</td>\n",
       "      <td>NaN</td>\n",
       "      <td>NaN</td>\n",
       "      <td>...</td>\n",
       "      <td>NaN</td>\n",
       "      <td>NaN</td>\n",
       "      <td>NaN</td>\n",
       "      <td>NaN</td>\n",
       "      <td>NaN</td>\n",
       "      <td>NaN</td>\n",
       "      <td>NaN</td>\n",
       "      <td>NaN</td>\n",
       "      <td>NaN</td>\n",
       "      <td>NaN</td>\n",
       "    </tr>\n",
       "    <tr>\n",
       "      <th>29</th>\n",
       "      <td>NaN</td>\n",
       "      <td>NaN</td>\n",
       "      <td>NaN</td>\n",
       "      <td>NaN</td>\n",
       "      <td>NaN</td>\n",
       "      <td>NaN</td>\n",
       "      <td>NaN</td>\n",
       "      <td>NaN</td>\n",
       "      <td>NaN</td>\n",
       "      <td>NaN</td>\n",
       "      <td>...</td>\n",
       "      <td>NaN</td>\n",
       "      <td>NaN</td>\n",
       "      <td>NaN</td>\n",
       "      <td>NaN</td>\n",
       "      <td>NaN</td>\n",
       "      <td>NaN</td>\n",
       "      <td>NaN</td>\n",
       "      <td>NaN</td>\n",
       "      <td>NaN</td>\n",
       "      <td>NaN</td>\n",
       "    </tr>\n",
       "    <tr>\n",
       "      <th>32</th>\n",
       "      <td>NaN</td>\n",
       "      <td>NaN</td>\n",
       "      <td>NaN</td>\n",
       "      <td>NaN</td>\n",
       "      <td>NaN</td>\n",
       "      <td>NaN</td>\n",
       "      <td>NaN</td>\n",
       "      <td>NaN</td>\n",
       "      <td>NaN</td>\n",
       "      <td>NaN</td>\n",
       "      <td>...</td>\n",
       "      <td>NaN</td>\n",
       "      <td>NaN</td>\n",
       "      <td>NaN</td>\n",
       "      <td>NaN</td>\n",
       "      <td>NaN</td>\n",
       "      <td>NaN</td>\n",
       "      <td>NaN</td>\n",
       "      <td>NaN</td>\n",
       "      <td>NaN</td>\n",
       "      <td>NaN</td>\n",
       "    </tr>\n",
       "    <tr>\n",
       "      <th>35</th>\n",
       "      <td>NaN</td>\n",
       "      <td>NaN</td>\n",
       "      <td>NaN</td>\n",
       "      <td>NaN</td>\n",
       "      <td>NaN</td>\n",
       "      <td>NaN</td>\n",
       "      <td>NaN</td>\n",
       "      <td>NaN</td>\n",
       "      <td>NaN</td>\n",
       "      <td>NaN</td>\n",
       "      <td>...</td>\n",
       "      <td>NaN</td>\n",
       "      <td>NaN</td>\n",
       "      <td>NaN</td>\n",
       "      <td>NaN</td>\n",
       "      <td>NaN</td>\n",
       "      <td>NaN</td>\n",
       "      <td>NaN</td>\n",
       "      <td>NaN</td>\n",
       "      <td>NaN</td>\n",
       "      <td>NaN</td>\n",
       "    </tr>\n",
       "  </tbody>\n",
       "</table>\n",
       "<p>5 rows × 29 columns</p>\n",
       "</div>"
      ],
      "text/plain": [
       "    onnet_mou_9  offnet_mou_9  roam_ic_mou_9  roam_og_mou_9  loc_og_t2t_mou_9  \\\n",
       "0           NaN           NaN            NaN            NaN               NaN   \n",
       "7           NaN           NaN            NaN            NaN               NaN   \n",
       "29          NaN           NaN            NaN            NaN               NaN   \n",
       "32          NaN           NaN            NaN            NaN               NaN   \n",
       "35          NaN           NaN            NaN            NaN               NaN   \n",
       "\n",
       "    loc_og_t2m_mou_9  loc_og_t2f_mou_9  loc_og_t2c_mou_9  loc_og_mou_9  \\\n",
       "0                NaN               NaN               NaN           NaN   \n",
       "7                NaN               NaN               NaN           NaN   \n",
       "29               NaN               NaN               NaN           NaN   \n",
       "32               NaN               NaN               NaN           NaN   \n",
       "35               NaN               NaN               NaN           NaN   \n",
       "\n",
       "    std_og_t2t_mou_9  ...  loc_ic_t2f_mou_9  loc_ic_mou_9  std_ic_t2t_mou_9  \\\n",
       "0                NaN  ...               NaN           NaN               NaN   \n",
       "7                NaN  ...               NaN           NaN               NaN   \n",
       "29               NaN  ...               NaN           NaN               NaN   \n",
       "32               NaN  ...               NaN           NaN               NaN   \n",
       "35               NaN  ...               NaN           NaN               NaN   \n",
       "\n",
       "    std_ic_t2m_mou_9  std_ic_t2f_mou_9  std_ic_t2o_mou_9  std_ic_mou_9  \\\n",
       "0                NaN               NaN               NaN           NaN   \n",
       "7                NaN               NaN               NaN           NaN   \n",
       "29               NaN               NaN               NaN           NaN   \n",
       "32               NaN               NaN               NaN           NaN   \n",
       "35               NaN               NaN               NaN           NaN   \n",
       "\n",
       "    spl_ic_mou_9  isd_ic_mou_9  ic_others_9  \n",
       "0            NaN           NaN          NaN  \n",
       "7            NaN           NaN          NaN  \n",
       "29           NaN           NaN          NaN  \n",
       "32           NaN           NaN          NaN  \n",
       "35           NaN           NaN          NaN  \n",
       "\n",
       "[5 rows x 29 columns]"
      ]
     },
     "execution_count": 105,
     "metadata": {},
     "output_type": "execute_result"
    }
   ],
   "source": [
    "nan_cols = list(getNanValues(5).index)\n",
    "print (\" %d customers having missing values for %s\"%(len(churn[churn[nan_cols].isnull().all(axis=1)]),nan_cols))\n",
    "churn[churn[nan_cols].isnull().all(axis=1)][nan_cols].head()"
   ]
  },
  {
   "cell_type": "markdown",
   "metadata": {
    "colab_type": "text",
    "id": "nPK0k-Cpw1cU"
   },
   "source": [
    "We can impute these values with 0 also."
   ]
  },
  {
   "cell_type": "code",
   "execution_count": 106,
   "metadata": {
    "colab": {},
    "colab_type": "code",
    "id": "T0lN0Ocbw1cV"
   },
   "outputs": [],
   "source": [
    "imputeNanValues(churn,nan_list=nan_cols)"
   ]
  },
  {
   "cell_type": "code",
   "execution_count": 107,
   "metadata": {
    "colab": {},
    "colab_type": "code",
    "id": "Ze7632LVw1cZ",
    "outputId": "348e34ba-7e49-4d77-a4eb-bea939cd7a2e"
   },
   "outputs": [
    {
     "data": {
      "text/plain": [
       "(99999, 222)"
      ]
     },
     "execution_count": 107,
     "metadata": {},
     "output_type": "execute_result"
    }
   ],
   "source": [
    "churn=churn[~churn[nan_cols].isnull().all(axis=1)]\n",
    "churn.shape"
   ]
  },
  {
   "cell_type": "code",
   "execution_count": 108,
   "metadata": {
    "colab": {},
    "colab_type": "code",
    "id": "g8ngtLTTw1ce",
    "outputId": "ce447628-b276-46bf-8065-1f70eb624cf6",
    "scrolled": true
   },
   "outputs": [
    {
     "name": "stdout",
     "output_type": "stream",
     "text": [
      " 89% missing values\n"
     ]
    },
    {
     "data": {
      "text/plain": [
       "onnet_mou_6            4.0\n",
       "onnet_mou_7            4.0\n",
       "onnet_mou_8            5.0\n",
       "offnet_mou_6           4.0\n",
       "offnet_mou_7           4.0\n",
       "offnet_mou_8           5.0\n",
       "roam_ic_mou_6          4.0\n",
       "roam_ic_mou_7          4.0\n",
       "roam_ic_mou_8          5.0\n",
       "roam_og_mou_6          4.0\n",
       "roam_og_mou_7          4.0\n",
       "roam_og_mou_8          5.0\n",
       "loc_og_t2t_mou_6       4.0\n",
       "loc_og_t2t_mou_7       4.0\n",
       "loc_og_t2t_mou_8       5.0\n",
       "loc_og_t2m_mou_6       4.0\n",
       "loc_og_t2m_mou_7       4.0\n",
       "loc_og_t2m_mou_8       5.0\n",
       "loc_og_t2f_mou_6       4.0\n",
       "loc_og_t2f_mou_7       4.0\n",
       "loc_og_t2f_mou_8       5.0\n",
       "loc_og_t2c_mou_6       4.0\n",
       "loc_og_t2c_mou_7       4.0\n",
       "loc_og_t2c_mou_8       5.0\n",
       "loc_og_mou_6           4.0\n",
       "loc_og_mou_7           4.0\n",
       "loc_og_mou_8           5.0\n",
       "std_og_t2t_mou_6       4.0\n",
       "std_og_t2t_mou_7       4.0\n",
       "std_og_t2t_mou_8       5.0\n",
       "                      ... \n",
       "loc_ic_t2f_mou_8       5.0\n",
       "loc_ic_mou_6           4.0\n",
       "loc_ic_mou_7           4.0\n",
       "loc_ic_mou_8           5.0\n",
       "std_ic_t2t_mou_6       4.0\n",
       "std_ic_t2t_mou_7       4.0\n",
       "std_ic_t2t_mou_8       5.0\n",
       "std_ic_t2m_mou_6       4.0\n",
       "std_ic_t2m_mou_7       4.0\n",
       "std_ic_t2m_mou_8       5.0\n",
       "std_ic_t2f_mou_6       4.0\n",
       "std_ic_t2f_mou_7       4.0\n",
       "std_ic_t2f_mou_8       5.0\n",
       "std_ic_t2o_mou_6       4.0\n",
       "std_ic_t2o_mou_7       4.0\n",
       "std_ic_t2o_mou_8       5.0\n",
       "std_ic_mou_6           4.0\n",
       "std_ic_mou_7           4.0\n",
       "std_ic_mou_8           5.0\n",
       "spl_ic_mou_6           4.0\n",
       "spl_ic_mou_7           4.0\n",
       "spl_ic_mou_8           5.0\n",
       "isd_ic_mou_6           4.0\n",
       "isd_ic_mou_7           4.0\n",
       "isd_ic_mou_8           5.0\n",
       "ic_others_6            4.0\n",
       "ic_others_7            4.0\n",
       "ic_others_8            5.0\n",
       "date_of_last_rech_8    4.0\n",
       "date_of_last_rech_9    5.0\n",
       "Length: 89, dtype: float64"
      ]
     },
     "execution_count": 108,
     "metadata": {},
     "output_type": "execute_result"
    }
   ],
   "source": [
    "# Missing values per column expressed as % of total number of values>2\n",
    "getNanValues(2)"
   ]
  },
  {
   "cell_type": "code",
   "execution_count": 109,
   "metadata": {
    "colab": {},
    "colab_type": "code",
    "id": "vTKMYsOsw1ch",
    "outputId": "678f832d-545e-43b1-ec31-93211f8b684d"
   },
   "outputs": [
    {
     "name": "stdout",
     "output_type": "stream",
     "text": [
      " 89% missing values\n",
      "381 customers with missing values for ['onnet_mou_6', 'onnet_mou_7', 'onnet_mou_8', 'offnet_mou_6', 'offnet_mou_7', 'offnet_mou_8', 'roam_ic_mou_6', 'roam_ic_mou_7', 'roam_ic_mou_8', 'roam_og_mou_6', 'roam_og_mou_7', 'roam_og_mou_8', 'loc_og_t2t_mou_6', 'loc_og_t2t_mou_7', 'loc_og_t2t_mou_8', 'loc_og_t2m_mou_6', 'loc_og_t2m_mou_7', 'loc_og_t2m_mou_8', 'loc_og_t2f_mou_6', 'loc_og_t2f_mou_7', 'loc_og_t2f_mou_8', 'loc_og_t2c_mou_6', 'loc_og_t2c_mou_7', 'loc_og_t2c_mou_8', 'loc_og_mou_6', 'loc_og_mou_7', 'loc_og_mou_8', 'std_og_t2t_mou_6', 'std_og_t2t_mou_7', 'std_og_t2t_mou_8', 'std_og_t2m_mou_6', 'std_og_t2m_mou_7', 'std_og_t2m_mou_8', 'std_og_t2f_mou_6', 'std_og_t2f_mou_7', 'std_og_t2f_mou_8', 'std_og_t2c_mou_6', 'std_og_t2c_mou_7', 'std_og_t2c_mou_8', 'std_og_mou_6', 'std_og_mou_7', 'std_og_mou_8', 'isd_og_mou_6', 'isd_og_mou_7', 'isd_og_mou_8', 'spl_og_mou_6', 'spl_og_mou_7', 'spl_og_mou_8', 'og_others_6', 'og_others_7', 'og_others_8', 'loc_ic_t2t_mou_6', 'loc_ic_t2t_mou_7', 'loc_ic_t2t_mou_8', 'loc_ic_t2m_mou_6', 'loc_ic_t2m_mou_7', 'loc_ic_t2m_mou_8', 'loc_ic_t2f_mou_6', 'loc_ic_t2f_mou_7', 'loc_ic_t2f_mou_8', 'loc_ic_mou_6', 'loc_ic_mou_7', 'loc_ic_mou_8', 'std_ic_t2t_mou_6', 'std_ic_t2t_mou_7', 'std_ic_t2t_mou_8', 'std_ic_t2m_mou_6', 'std_ic_t2m_mou_7', 'std_ic_t2m_mou_8', 'std_ic_t2f_mou_6', 'std_ic_t2f_mou_7', 'std_ic_t2f_mou_8', 'std_ic_t2o_mou_6', 'std_ic_t2o_mou_7', 'std_ic_t2o_mou_8', 'std_ic_mou_6', 'std_ic_mou_7', 'std_ic_mou_8', 'spl_ic_mou_6', 'spl_ic_mou_7', 'spl_ic_mou_8', 'isd_ic_mou_6', 'isd_ic_mou_7', 'isd_ic_mou_8', 'ic_others_6', 'ic_others_7', 'ic_others_8', 'date_of_last_rech_8', 'date_of_last_rech_9'] \n"
     ]
    },
    {
     "data": {
      "text/html": [
       "<div>\n",
       "<style scoped>\n",
       "    .dataframe tbody tr th:only-of-type {\n",
       "        vertical-align: middle;\n",
       "    }\n",
       "\n",
       "    .dataframe tbody tr th {\n",
       "        vertical-align: top;\n",
       "    }\n",
       "\n",
       "    .dataframe thead th {\n",
       "        text-align: right;\n",
       "    }\n",
       "</style>\n",
       "<table border=\"1\" class=\"dataframe\">\n",
       "  <thead>\n",
       "    <tr style=\"text-align: right;\">\n",
       "      <th></th>\n",
       "      <th>onnet_mou_6</th>\n",
       "      <th>onnet_mou_7</th>\n",
       "      <th>onnet_mou_8</th>\n",
       "      <th>offnet_mou_6</th>\n",
       "      <th>offnet_mou_7</th>\n",
       "      <th>offnet_mou_8</th>\n",
       "      <th>roam_ic_mou_6</th>\n",
       "      <th>roam_ic_mou_7</th>\n",
       "      <th>roam_ic_mou_8</th>\n",
       "      <th>roam_og_mou_6</th>\n",
       "      <th>...</th>\n",
       "      <th>spl_ic_mou_7</th>\n",
       "      <th>spl_ic_mou_8</th>\n",
       "      <th>isd_ic_mou_6</th>\n",
       "      <th>isd_ic_mou_7</th>\n",
       "      <th>isd_ic_mou_8</th>\n",
       "      <th>ic_others_6</th>\n",
       "      <th>ic_others_7</th>\n",
       "      <th>ic_others_8</th>\n",
       "      <th>date_of_last_rech_8</th>\n",
       "      <th>date_of_last_rech_9</th>\n",
       "    </tr>\n",
       "  </thead>\n",
       "  <tbody>\n",
       "    <tr>\n",
       "      <th>202</th>\n",
       "      <td>NaN</td>\n",
       "      <td>NaN</td>\n",
       "      <td>NaN</td>\n",
       "      <td>NaN</td>\n",
       "      <td>NaN</td>\n",
       "      <td>NaN</td>\n",
       "      <td>NaN</td>\n",
       "      <td>NaN</td>\n",
       "      <td>NaN</td>\n",
       "      <td>NaN</td>\n",
       "      <td>...</td>\n",
       "      <td>NaN</td>\n",
       "      <td>NaN</td>\n",
       "      <td>NaN</td>\n",
       "      <td>NaN</td>\n",
       "      <td>NaN</td>\n",
       "      <td>NaN</td>\n",
       "      <td>NaN</td>\n",
       "      <td>NaN</td>\n",
       "      <td>NaN</td>\n",
       "      <td>NaN</td>\n",
       "    </tr>\n",
       "    <tr>\n",
       "      <th>275</th>\n",
       "      <td>NaN</td>\n",
       "      <td>NaN</td>\n",
       "      <td>NaN</td>\n",
       "      <td>NaN</td>\n",
       "      <td>NaN</td>\n",
       "      <td>NaN</td>\n",
       "      <td>NaN</td>\n",
       "      <td>NaN</td>\n",
       "      <td>NaN</td>\n",
       "      <td>NaN</td>\n",
       "      <td>...</td>\n",
       "      <td>NaN</td>\n",
       "      <td>NaN</td>\n",
       "      <td>NaN</td>\n",
       "      <td>NaN</td>\n",
       "      <td>NaN</td>\n",
       "      <td>NaN</td>\n",
       "      <td>NaN</td>\n",
       "      <td>NaN</td>\n",
       "      <td>NaN</td>\n",
       "      <td>NaN</td>\n",
       "    </tr>\n",
       "    <tr>\n",
       "      <th>687</th>\n",
       "      <td>NaN</td>\n",
       "      <td>NaN</td>\n",
       "      <td>NaN</td>\n",
       "      <td>NaN</td>\n",
       "      <td>NaN</td>\n",
       "      <td>NaN</td>\n",
       "      <td>NaN</td>\n",
       "      <td>NaN</td>\n",
       "      <td>NaN</td>\n",
       "      <td>NaN</td>\n",
       "      <td>...</td>\n",
       "      <td>NaN</td>\n",
       "      <td>NaN</td>\n",
       "      <td>NaN</td>\n",
       "      <td>NaN</td>\n",
       "      <td>NaN</td>\n",
       "      <td>NaN</td>\n",
       "      <td>NaN</td>\n",
       "      <td>NaN</td>\n",
       "      <td>NaN</td>\n",
       "      <td>NaN</td>\n",
       "    </tr>\n",
       "    <tr>\n",
       "      <th>1206</th>\n",
       "      <td>NaN</td>\n",
       "      <td>NaN</td>\n",
       "      <td>NaN</td>\n",
       "      <td>NaN</td>\n",
       "      <td>NaN</td>\n",
       "      <td>NaN</td>\n",
       "      <td>NaN</td>\n",
       "      <td>NaN</td>\n",
       "      <td>NaN</td>\n",
       "      <td>NaN</td>\n",
       "      <td>...</td>\n",
       "      <td>NaN</td>\n",
       "      <td>NaN</td>\n",
       "      <td>NaN</td>\n",
       "      <td>NaN</td>\n",
       "      <td>NaN</td>\n",
       "      <td>NaN</td>\n",
       "      <td>NaN</td>\n",
       "      <td>NaN</td>\n",
       "      <td>NaN</td>\n",
       "      <td>NaN</td>\n",
       "    </tr>\n",
       "    <tr>\n",
       "      <th>1232</th>\n",
       "      <td>NaN</td>\n",
       "      <td>NaN</td>\n",
       "      <td>NaN</td>\n",
       "      <td>NaN</td>\n",
       "      <td>NaN</td>\n",
       "      <td>NaN</td>\n",
       "      <td>NaN</td>\n",
       "      <td>NaN</td>\n",
       "      <td>NaN</td>\n",
       "      <td>NaN</td>\n",
       "      <td>...</td>\n",
       "      <td>NaN</td>\n",
       "      <td>NaN</td>\n",
       "      <td>NaN</td>\n",
       "      <td>NaN</td>\n",
       "      <td>NaN</td>\n",
       "      <td>NaN</td>\n",
       "      <td>NaN</td>\n",
       "      <td>NaN</td>\n",
       "      <td>NaN</td>\n",
       "      <td>NaN</td>\n",
       "    </tr>\n",
       "  </tbody>\n",
       "</table>\n",
       "<p>5 rows × 89 columns</p>\n",
       "</div>"
      ],
      "text/plain": [
       "      onnet_mou_6  onnet_mou_7  onnet_mou_8  offnet_mou_6  offnet_mou_7  \\\n",
       "202           NaN          NaN          NaN           NaN           NaN   \n",
       "275           NaN          NaN          NaN           NaN           NaN   \n",
       "687           NaN          NaN          NaN           NaN           NaN   \n",
       "1206          NaN          NaN          NaN           NaN           NaN   \n",
       "1232          NaN          NaN          NaN           NaN           NaN   \n",
       "\n",
       "      offnet_mou_8  roam_ic_mou_6  roam_ic_mou_7  roam_ic_mou_8  \\\n",
       "202            NaN            NaN            NaN            NaN   \n",
       "275            NaN            NaN            NaN            NaN   \n",
       "687            NaN            NaN            NaN            NaN   \n",
       "1206           NaN            NaN            NaN            NaN   \n",
       "1232           NaN            NaN            NaN            NaN   \n",
       "\n",
       "      roam_og_mou_6  ...  spl_ic_mou_7  spl_ic_mou_8  isd_ic_mou_6  \\\n",
       "202             NaN  ...           NaN           NaN           NaN   \n",
       "275             NaN  ...           NaN           NaN           NaN   \n",
       "687             NaN  ...           NaN           NaN           NaN   \n",
       "1206            NaN  ...           NaN           NaN           NaN   \n",
       "1232            NaN  ...           NaN           NaN           NaN   \n",
       "\n",
       "      isd_ic_mou_7  isd_ic_mou_8  ic_others_6  ic_others_7  ic_others_8  \\\n",
       "202            NaN           NaN          NaN          NaN          NaN   \n",
       "275            NaN           NaN          NaN          NaN          NaN   \n",
       "687            NaN           NaN          NaN          NaN          NaN   \n",
       "1206           NaN           NaN          NaN          NaN          NaN   \n",
       "1232           NaN           NaN          NaN          NaN          NaN   \n",
       "\n",
       "      date_of_last_rech_8  date_of_last_rech_9  \n",
       "202                   NaN                  NaN  \n",
       "275                   NaN                  NaN  \n",
       "687                   NaN                  NaN  \n",
       "1206                  NaN                  NaN  \n",
       "1232                  NaN                  NaN  \n",
       "\n",
       "[5 rows x 89 columns]"
      ]
     },
     "execution_count": 109,
     "metadata": {},
     "output_type": "execute_result"
    }
   ],
   "source": [
    "nan_cols = list(getNanValues(2).index)\n",
    "print (\"%d customers with missing values for %s \"%(len(churn[churn[nan_cols].isnull().all(axis=1)]),nan_cols))\n",
    "churn[churn[nan_cols].isnull().all(axis=1)][nan_cols].head()"
   ]
  },
  {
   "cell_type": "markdown",
   "metadata": {
    "colab_type": "text",
    "id": "Sh09uXj9w1cj"
   },
   "source": [
    "Yes, It looks like there are **381 Customers** for whom **all** these features are without any value.\n",
    "Let's drop these customers from the data. "
   ]
  },
  {
   "cell_type": "code",
   "execution_count": 110,
   "metadata": {
    "colab": {},
    "colab_type": "code",
    "id": "J2SB9HcIw1ck",
    "outputId": "ebeb1559-942d-476c-d38e-9f49a4987b28"
   },
   "outputs": [
    {
     "data": {
      "text/plain": [
       "(99618, 222)"
      ]
     },
     "execution_count": 110,
     "metadata": {},
     "output_type": "execute_result"
    }
   ],
   "source": [
    "churn=churn[~churn[nan_cols].isnull().all(axis=1)]\n",
    "churn.shape"
   ]
  },
  {
   "cell_type": "code",
   "execution_count": 111,
   "metadata": {
    "colab": {},
    "colab_type": "code",
    "id": "NACoOfVTw1co"
   },
   "outputs": [],
   "source": [
    "# For other customers where these missing values are spread out, impute them with zero. \n",
    "\n",
    "nan_cols.remove('date_of_last_rech_8')\n",
    "nan_cols.remove('date_of_last_rech_9')\n",
    "imputeNanValues(churn,nan_list=nan_cols)"
   ]
  },
  {
   "cell_type": "code",
   "execution_count": 112,
   "metadata": {
    "colab": {},
    "colab_type": "code",
    "id": "UrHn6DAxw1cp",
    "outputId": "67adf5b3-58e7-4092-adb2-5064e43dba6c",
    "scrolled": true
   },
   "outputs": [
    {
     "name": "stdout",
     "output_type": "stream",
     "text": [
      " 9% missing values\n"
     ]
    },
    {
     "data": {
      "text/plain": [
       "loc_og_t2o_mou          1.0\n",
       "std_og_t2o_mou          1.0\n",
       "loc_ic_t2o_mou          1.0\n",
       "last_date_of_month_8    1.0\n",
       "last_date_of_month_9    1.0\n",
       "date_of_last_rech_6     1.0\n",
       "date_of_last_rech_7     1.0\n",
       "date_of_last_rech_8     3.0\n",
       "date_of_last_rech_9     4.0\n",
       "dtype: float64"
      ]
     },
     "execution_count": 112,
     "metadata": {},
     "output_type": "execute_result"
    }
   ],
   "source": [
    "# Missing values per column expressed as % of total number of values\n",
    "getNanValues(0)"
   ]
  },
  {
   "cell_type": "code",
   "execution_count": 113,
   "metadata": {
    "colab": {},
    "colab_type": "code",
    "id": "bGM8cLz7w1cs",
    "outputId": "e1ac84d7-e26d-43b4-99d5-701f73a92d61"
   },
   "outputs": [
    {
     "name": "stdout",
     "output_type": "stream",
     "text": [
      "Unique values in column loc_og_t2o_mou are [ 0. nan]\n",
      "Unique values in column std_og_t2o_mou are [ 0. nan]\n",
      "Unique values in column loc_ic_t2o_mou are [ 0. nan]\n",
      "Unique values in column last_date_of_month_7 are ['7/31/2014' nan]\n",
      "Unique values in column last_date_of_month_8 are ['8/31/2014' nan]\n",
      "Unique values in column last_date_of_month_9 are ['9/30/2014' nan]\n",
      "Unique values in column date_of_last_rech_7 are ['7/16/2014' '7/31/2014' '7/24/2014' '7/28/2014' '7/17/2014' '7/25/2014'\n",
      " '7/23/2014' '7/5/2014' '7/10/2014' '7/22/2014' '7/30/2014' '7/3/2014'\n",
      " '7/7/2014' '7/29/2014' '7/27/2014' '7/19/2014' '7/14/2014' '7/20/2014'\n",
      " '7/4/2014' '7/12/2014' nan '7/26/2014' '7/11/2014' '7/6/2014' '7/21/2014'\n",
      " '7/13/2014' '7/15/2014' '7/18/2014' '7/9/2014' '7/2/2014' '7/8/2014'\n",
      " '7/1/2014']\n",
      "Unique values in column date_of_last_rech_8 are ['8/8/2014' '8/28/2014' '8/14/2014' '8/31/2014' '8/9/2014' '8/24/2014'\n",
      " '8/26/2014' '8/30/2014' '8/29/2014' '8/27/2014' '8/21/2014' '8/10/2014'\n",
      " '8/25/2014' '8/19/2014' '8/22/2014' '8/2/2014' '8/13/2014' '8/5/2014'\n",
      " '8/18/2014' '8/20/2014' '8/23/2014' '8/12/2014' '8/11/2014' '8/16/2014'\n",
      " '8/15/2014' '8/6/2014' nan '8/17/2014' '8/7/2014' '8/1/2014' '8/4/2014'\n",
      " '8/3/2014']\n",
      "Unique values in column date_of_last_rech_9 are ['9/28/2014' '9/30/2014' '9/29/2014' '9/20/2014' '9/6/2014' nan\n",
      " '9/21/2014' '9/26/2014' '9/10/2014' '9/24/2014' '9/16/2014' '9/27/2014'\n",
      " '9/25/2014' '9/12/2014' '9/17/2014' '9/15/2014' '9/8/2014' '9/23/2014'\n",
      " '9/11/2014' '9/22/2014' '9/9/2014' '9/19/2014' '9/7/2014' '9/1/2014'\n",
      " '9/2/2014' '9/13/2014' '9/3/2014' '9/18/2014' '9/14/2014' '9/5/2014'\n",
      " '9/4/2014']\n"
     ]
    }
   ],
   "source": [
    "col = ['loc_og_t2o_mou','std_og_t2o_mou','loc_ic_t2o_mou','last_date_of_month_7','last_date_of_month_8','last_date_of_month_9', 'date_of_last_rech_7', 'date_of_last_rech_8', 'date_of_last_rech_9']\n",
    "for c in col: \n",
    "    print(\"Unique values in column %s are %s\" % (c,churn[c].unique()))\n",
    "                                                 "
   ]
  },
  {
   "cell_type": "code",
   "execution_count": 114,
   "metadata": {
    "colab": {},
    "colab_type": "code",
    "id": "r2oIZ0SAw1cu",
    "outputId": "b54c38be-4ad0-431b-a358-874b29db8558"
   },
   "outputs": [
    {
     "name": "stdout",
     "output_type": "stream",
     "text": [
      "0.0    98981\n",
      "Name: loc_og_t2o_mou, dtype: int64\n",
      "0.0    98981\n",
      "Name: std_og_t2o_mou, dtype: int64\n",
      "0.0    98981\n",
      "Name: loc_ic_t2o_mou, dtype: int64\n",
      "7/31/2014    99300\n",
      "Name: last_date_of_month_7, dtype: int64\n",
      "8/31/2014    98867\n",
      "Name: last_date_of_month_8, dtype: int64\n",
      "9/30/2014    98321\n",
      "Name: last_date_of_month_9, dtype: int64\n",
      "All the above features take only one value. So imputing the missing values in these features with the mode\n"
     ]
    }
   ],
   "source": [
    "#Some of these features take only one value. Lets impute their missing values in these features with the mode\n",
    "col = ['loc_og_t2o_mou','std_og_t2o_mou','loc_ic_t2o_mou','last_date_of_month_7','last_date_of_month_8','last_date_of_month_9']\n",
    "for c in col:\n",
    "    print(churn[c].value_counts())\n",
    "    churn[c].fillna(churn[c].mode()[0], inplace=True)\n",
    "print(\"All the above features take only one value. So imputing the missing values in these features with the mode\")\n"
   ]
  },
  {
   "cell_type": "code",
   "execution_count": 115,
   "metadata": {
    "colab": {},
    "colab_type": "code",
    "id": "yjx6oo2Yw1cy",
    "outputId": "27518364-ca39-401d-e492-afc85ce665c2",
    "scrolled": true
   },
   "outputs": [
    {
     "name": "stdout",
     "output_type": "stream",
     "text": [
      " 4% missing values\n"
     ]
    },
    {
     "data": {
      "text/plain": [
       "date_of_last_rech_6    1.0\n",
       "date_of_last_rech_7    1.0\n",
       "date_of_last_rech_8    3.0\n",
       "date_of_last_rech_9    4.0\n",
       "dtype: float64"
      ]
     },
     "execution_count": 115,
     "metadata": {},
     "output_type": "execute_result"
    }
   ],
   "source": [
    "# Missing values per column expressed as % of total number of values\n",
    "getNanValues(0)"
   ]
  },
  {
   "cell_type": "code",
   "execution_count": 116,
   "metadata": {
    "colab": {},
    "colab_type": "code",
    "id": "VALyQ_Flw1c0",
    "outputId": "69cf94b5-ba30-4ea6-a059-99fb8b11432c"
   },
   "outputs": [
    {
     "name": "stdout",
     "output_type": "stream",
     "text": [
      " 4% missing values\n",
      "There are 22 rows in total having missing values for these variables.\n"
     ]
    }
   ],
   "source": [
    "# All these features are missing together\n",
    "nan_cols = list(getNanValues(0).index)\n",
    "print (\"There are %d rows in total having missing values for these variables.\"%(len(churn[churn[nan_cols].isnull().all(axis=1)])))"
   ]
  },
  {
   "cell_type": "code",
   "execution_count": 117,
   "metadata": {
    "colab": {},
    "colab_type": "code",
    "id": "wvljWLqHw1c3"
   },
   "outputs": [],
   "source": [
    "churn[churn['date_of_last_rech_6'].isnull()]['date_of_last_rech_6'] = '6/30/2014'\n",
    "churn[churn['date_of_last_rech_7'].isnull()]['date_of_last_rech_7'] = '7/31/2014'\n",
    "churn[churn['date_of_last_rech_8'].isnull()]['date_of_last_rech_8'] = '8/31/2014'\n",
    "churn[churn['date_of_last_rech_9'].isnull()]['date_of_last_rech_9'] = '9/30/2014'"
   ]
  },
  {
   "cell_type": "markdown",
   "metadata": {
    "colab_type": "text",
    "id": "ctJ4Mw_8w1c5"
   },
   "source": [
    "<br><br>Let's look for columns having all values as 0."
   ]
  },
  {
   "cell_type": "code",
   "execution_count": 118,
   "metadata": {
    "colab": {},
    "colab_type": "code",
    "id": "vz2OPtSaw1c6",
    "outputId": "a3f86eef-ff61-492d-e8ae-b46eec0edd8b",
    "scrolled": true
   },
   "outputs": [
    {
     "name": "stdout",
     "output_type": "stream",
     "text": [
      " 11 features which has only 0 as values. These features are \n",
      "Index(['loc_og_t2o_mou', 'std_og_t2o_mou', 'loc_ic_t2o_mou',\n",
      "       'std_og_t2c_mou_6', 'std_og_t2c_mou_7', 'std_og_t2c_mou_8',\n",
      "       'std_og_t2c_mou_9', 'std_ic_t2o_mou_6', 'std_ic_t2o_mou_7',\n",
      "       'std_ic_t2o_mou_8', 'std_ic_t2o_mou_9'],\n",
      "      dtype='object')\n"
     ]
    }
   ],
   "source": [
    "zero_columns=churn.columns[(churn == 0).all()]\n",
    "print (\" {} features which has only 0 as values. These features are \\n{}\".format(len(zero_columns),zero_columns))"
   ]
  },
  {
   "cell_type": "code",
   "execution_count": 119,
   "metadata": {
    "colab": {},
    "colab_type": "code",
    "id": "jQWFI3V7w1c9"
   },
   "outputs": [],
   "source": [
    "# Let's remove these columns as well. All take a single value '0'. \n",
    "churn.drop(zero_columns,axis=1,inplace=True)"
   ]
  },
  {
   "cell_type": "code",
   "execution_count": 120,
   "metadata": {
    "colab": {},
    "colab_type": "code",
    "id": "3RIOWKmcw1c-",
    "outputId": "6bc3abf4-6c90-49a6-cd37-02b4235e1bbb"
   },
   "outputs": [
    {
     "name": "stdout",
     "output_type": "stream",
     "text": [
      "Percentage of data remaining after treating missing values: 99.62%\n",
      "No. of customers: 99618\n",
      "No. of features: 211\n"
     ]
    }
   ],
   "source": [
    "# Percentage of data left after removing the missing values.\n",
    "print(\"Percentage of data remaining after treating missing values: {}%\".format(round(churn.shape[0]/99999 *100,2)))\n",
    "print (\"No. of customers: {}\".format(churn.shape[0]))\n",
    "print (\"No. of features: {}\".format(churn.shape[1]))"
   ]
  },
  {
   "cell_type": "markdown",
   "metadata": {
    "colab_type": "text",
    "id": "rjw-a_hEw1dB"
   },
   "source": [
    "##### Fixing data types and columns names\n",
    "\n",
    "Let's check for data types of the different columns."
   ]
  },
  {
   "cell_type": "code",
   "execution_count": 121,
   "metadata": {
    "colab": {},
    "colab_type": "code",
    "id": "2ETZnE1_w1dD",
    "outputId": "d4abac5e-2576-4f43-9190-8ee49448704c"
   },
   "outputs": [
    {
     "data": {
      "text/plain": [
       "['last_date_of_month_6',\n",
       " 'last_date_of_month_7',\n",
       " 'last_date_of_month_8',\n",
       " 'last_date_of_month_9',\n",
       " 'date_of_last_rech_6',\n",
       " 'date_of_last_rech_7',\n",
       " 'date_of_last_rech_8',\n",
       " 'date_of_last_rech_9']"
      ]
     },
     "execution_count": 121,
     "metadata": {},
     "output_type": "execute_result"
    }
   ],
   "source": [
    "churn.reset_index(inplace=True,drop=True)\n",
    "# list of all columns which store date\n",
    "date_columns = list(churn.filter(regex='date').columns)\n",
    "date_columns"
   ]
  },
  {
   "cell_type": "code",
   "execution_count": 122,
   "metadata": {
    "colab": {},
    "colab_type": "code",
    "id": "KuClA7HUw1dF"
   },
   "outputs": [],
   "source": [
    "# Converting dtype of date columns to datetime\n",
    "for col in date_columns:\n",
    "    churn[col] = pd.to_datetime(churn[col], format='%m/%d/%Y')"
   ]
  },
  {
   "cell_type": "code",
   "execution_count": 123,
   "metadata": {
    "colab": {},
    "colab_type": "code",
    "id": "54YP75GUw1dH",
    "outputId": "66008bd4-5815-4b5b-825f-44445c8e2889"
   },
   "outputs": [
    {
     "name": "stdout",
     "output_type": "stream",
     "text": [
      "<class 'pandas.core.frame.DataFrame'>\n",
      "RangeIndex: 99618 entries, 0 to 99617\n",
      "Columns: 211 entries, mobile_number to sep_vbc_3g\n",
      "dtypes: datetime64[ns](8), float64(168), int64(35)\n",
      "memory usage: 160.4 MB\n"
     ]
    }
   ],
   "source": [
    "churn.info()"
   ]
  },
  {
   "cell_type": "markdown",
   "metadata": {
    "colab_type": "text",
    "id": "uzhtu1KKw1dL"
   },
   "source": [
    "<br><br> There are some monthly features which are not in the standard naming (\\_6,\\_7,\\_8,\\_9)"
   ]
  },
  {
   "cell_type": "code",
   "execution_count": 124,
   "metadata": {
    "colab": {},
    "colab_type": "code",
    "id": "cN2FCQ0iw1dN"
   },
   "outputs": [],
   "source": [
    "# renaming columns,\n",
    "#'jun_vbc_3g' : 'jun_vbc_3g_6'\n",
    "#'jul_vbc_3g' : 'jul_vbc_3g_7'\n",
    "#'aug_vbc_3g' : 'aug_vbc_3g_8'\n",
    "#'sep_vbc_3g' : 'sep_vbc_3g_9'\n",
    "churn.rename(columns={'jun_vbc_3g' : 'jun_vbc_3g_6', 'jul_vbc_3g' : 'jul_vbc_3g_7', 'aug_vbc_3g' : 'aug_vbc_3g_8',\n",
    "                      'sep_vbc_3g' : 'sep_vbc_3g_9'}, inplace=True)"
   ]
  },
  {
   "cell_type": "markdown",
   "metadata": {
    "colab_type": "text",
    "id": "0pyAEUgqw1dS"
   },
   "source": [
    "**Creating new feature:** 'vol_data_mb_6', 'vol_data_mb_7', 'vol_data_mb_8', 'vol_data_mb_9'\n",
    "\n",
    "These will store the total data volume (= vol_2g_mb_* + vol_3g_mb_*) used by user."
   ]
  },
  {
   "cell_type": "code",
   "execution_count": 125,
   "metadata": {
    "colab": {},
    "colab_type": "code",
    "id": "rg_rkfalw1dT"
   },
   "outputs": [],
   "source": [
    "#Creating new feature: 'vol_data_mb_6', 'vol_data_mb_7', 'vol_data_mb_8', 'vol_data_mb_9',\n",
    "for i in range(6,10):\n",
    "    churn['vol_data_mb_'+str(i)] = (churn['vol_2g_mb_'+str(i)]+churn['vol_3g_mb_'+str(i)]).astype(int)"
   ]
  },
  {
   "cell_type": "markdown",
   "metadata": {
    "colab_type": "text",
    "id": "XrjIoPLqw1dV"
   },
   "source": [
    "###### Filter high-value customers\n",
    "Defining high-value customers as follows: \n",
    "\n",
    "Those who have recharged with an amount more than or equal to X, where X is the 70th percentile of the average recharge amount in the first two months (the good phase)."
   ]
  },
  {
   "cell_type": "code",
   "execution_count": 126,
   "metadata": {
    "colab": {},
    "colab_type": "code",
    "id": "s48O0Cchw1dW",
    "outputId": "d928f40c-f839-4874-c815-ee65db769918"
   },
   "outputs": [
    {
     "data": {
      "text/html": [
       "<div>\n",
       "<style scoped>\n",
       "    .dataframe tbody tr th:only-of-type {\n",
       "        vertical-align: middle;\n",
       "    }\n",
       "\n",
       "    .dataframe tbody tr th {\n",
       "        vertical-align: top;\n",
       "    }\n",
       "\n",
       "    .dataframe thead th {\n",
       "        text-align: right;\n",
       "    }\n",
       "</style>\n",
       "<table border=\"1\" class=\"dataframe\">\n",
       "  <thead>\n",
       "    <tr style=\"text-align: right;\">\n",
       "      <th></th>\n",
       "      <th>count_rech_2g_6</th>\n",
       "      <th>count_rech_2g_7</th>\n",
       "      <th>count_rech_2g_8</th>\n",
       "      <th>count_rech_2g_9</th>\n",
       "      <th>count_rech_3g_6</th>\n",
       "      <th>count_rech_3g_7</th>\n",
       "      <th>count_rech_3g_8</th>\n",
       "      <th>count_rech_3g_9</th>\n",
       "    </tr>\n",
       "  </thead>\n",
       "  <tbody>\n",
       "    <tr>\n",
       "      <th>0</th>\n",
       "      <td>0.0</td>\n",
       "      <td>0.0</td>\n",
       "      <td>0.0</td>\n",
       "      <td>0.0</td>\n",
       "      <td>1.0</td>\n",
       "      <td>1.0</td>\n",
       "      <td>1.0</td>\n",
       "      <td>0.0</td>\n",
       "    </tr>\n",
       "    <tr>\n",
       "      <th>1</th>\n",
       "      <td>0.0</td>\n",
       "      <td>1.0</td>\n",
       "      <td>2.0</td>\n",
       "      <td>0.0</td>\n",
       "      <td>0.0</td>\n",
       "      <td>0.0</td>\n",
       "      <td>0.0</td>\n",
       "      <td>0.0</td>\n",
       "    </tr>\n",
       "    <tr>\n",
       "      <th>2</th>\n",
       "      <td>0.0</td>\n",
       "      <td>0.0</td>\n",
       "      <td>0.0</td>\n",
       "      <td>1.0</td>\n",
       "      <td>0.0</td>\n",
       "      <td>0.0</td>\n",
       "      <td>0.0</td>\n",
       "      <td>0.0</td>\n",
       "    </tr>\n",
       "    <tr>\n",
       "      <th>3</th>\n",
       "      <td>0.0</td>\n",
       "      <td>0.0</td>\n",
       "      <td>0.0</td>\n",
       "      <td>0.0</td>\n",
       "      <td>0.0</td>\n",
       "      <td>0.0</td>\n",
       "      <td>0.0</td>\n",
       "      <td>0.0</td>\n",
       "    </tr>\n",
       "    <tr>\n",
       "      <th>4</th>\n",
       "      <td>1.0</td>\n",
       "      <td>0.0</td>\n",
       "      <td>0.0</td>\n",
       "      <td>0.0</td>\n",
       "      <td>0.0</td>\n",
       "      <td>0.0</td>\n",
       "      <td>0.0</td>\n",
       "      <td>0.0</td>\n",
       "    </tr>\n",
       "  </tbody>\n",
       "</table>\n",
       "</div>"
      ],
      "text/plain": [
       "   count_rech_2g_6  count_rech_2g_7  count_rech_2g_8  count_rech_2g_9  \\\n",
       "0              0.0              0.0              0.0              0.0   \n",
       "1              0.0              1.0              2.0              0.0   \n",
       "2              0.0              0.0              0.0              1.0   \n",
       "3              0.0              0.0              0.0              0.0   \n",
       "4              1.0              0.0              0.0              0.0   \n",
       "\n",
       "   count_rech_3g_6  count_rech_3g_7  count_rech_3g_8  count_rech_3g_9  \n",
       "0              1.0              1.0              1.0              0.0  \n",
       "1              0.0              0.0              0.0              0.0  \n",
       "2              0.0              0.0              0.0              0.0  \n",
       "3              0.0              0.0              0.0              0.0  \n",
       "4              0.0              0.0              0.0              0.0  "
      ]
     },
     "execution_count": 126,
     "metadata": {},
     "output_type": "execute_result"
    }
   ],
   "source": [
    "rech_cols = churn.filter(regex=('count')).columns\n",
    "churn[rech_cols].head()"
   ]
  },
  {
   "cell_type": "markdown",
   "metadata": {
    "colab_type": "text",
    "id": "8OYxyezxw1da"
   },
   "source": [
    "**Creating new feature:** avg_rech_amt_6,avg_rech_amt_7,avg_rech_amt_8,avg_rech_amt_9\n",
    "\n",
    "These will store the average recharge value for each customer for every month"
   ]
  },
  {
   "cell_type": "code",
   "execution_count": 127,
   "metadata": {
    "colab": {},
    "colab_type": "code",
    "id": "SrlH8Cktw1db"
   },
   "outputs": [],
   "source": [
    "# Creating new feature: avg_rech_amt_6,avg_rech_amt_7,avg_rech_amt_8,avg_rech_amt_9\n",
    "for i in range(6,10):\n",
    "    churn['avg_rech_amt_'+str(i)] = round(churn['total_rech_amt_'+str(i)]/churn['total_rech_num_'+str(i)]+1,2)"
   ]
  },
  {
   "cell_type": "code",
   "execution_count": 128,
   "metadata": {
    "colab": {},
    "colab_type": "code",
    "id": "5N3thOfow1de",
    "scrolled": true
   },
   "outputs": [],
   "source": [
    "imputeNanValues(churn,nan_list=['avg_rech_amt_6','avg_rech_amt_7','avg_rech_amt_8','avg_rech_amt_9'])"
   ]
  },
  {
   "cell_type": "markdown",
   "metadata": {
    "colab_type": "text",
    "id": "SnL_dQ01w1df"
   },
   "source": [
    "**Creating new feature:** total_rech_num_data_6,total_rech_num_data_7,total_rech_num_data_8,total_rech_num_data_9\n",
    "\n",
    "These will store the total number of data recharge (=count_rech_2g + count_rech_3g ) for each month."
   ]
  },
  {
   "cell_type": "code",
   "execution_count": 129,
   "metadata": {
    "colab": {},
    "colab_type": "code",
    "id": "emHL6dAMw1dg"
   },
   "outputs": [],
   "source": [
    "#Creating new feature: total_rech_num_data_6,total_rech_num_data_7,total_rech_num_data_8,total_rech_num_data_9\n",
    "for i in range(6,10):\n",
    "    churn['total_rech_num_data_'+str(i)] = (churn['count_rech_2g_'+str(i)]+churn['count_rech_3g_'+str(i)]).astype(int)"
   ]
  },
  {
   "cell_type": "markdown",
   "metadata": {
    "colab_type": "text",
    "id": "OocpanW-w1di"
   },
   "source": [
    "**Creating new feature:** total_rech_amt_data_6,total_rech_amt_data_7,total_rech_amt_data_8,total_rech_amt_data_9\n",
    "\n",
    "These will store the total amount of data recharge (=total_rech_num_data * av_rech_amt_data ) for each month."
   ]
  },
  {
   "cell_type": "code",
   "execution_count": 130,
   "metadata": {
    "colab": {},
    "colab_type": "code",
    "id": "rX-9PquQw1dj"
   },
   "outputs": [],
   "source": [
    "#Creating new feature: total_rech_amt_data_6,total_rech_amt_data_7,total_rech_amt_data_8,total_rech_amt_data_9\n",
    "for i in range(6,10):\n",
    "    churn['total_rech_amt_data_'+str(i)] = churn['total_rech_num_data_'+str(i)]*churn['av_rech_amt_data_'+str(i)]"
   ]
  },
  {
   "cell_type": "markdown",
   "metadata": {
    "colab_type": "text",
    "id": "CQ3LlH7_w1dk"
   },
   "source": [
    "**Creating new feature:** total_month_rech_6,total_month_rech_7,total_month_rech_8,total_month_rech_9\n",
    "\n",
    "These will store the total recharge amount (= total_rech_amt + total_rech_amt_data ) for each customer, for each month."
   ]
  },
  {
   "cell_type": "code",
   "execution_count": 131,
   "metadata": {
    "colab": {},
    "colab_type": "code",
    "id": "VgZIynXMw1dm",
    "outputId": "1f52cdee-6c2d-4d89-ddb6-d1c73e6cd72a"
   },
   "outputs": [
    {
     "data": {
      "text/html": [
       "<div>\n",
       "<style scoped>\n",
       "    .dataframe tbody tr th:only-of-type {\n",
       "        vertical-align: middle;\n",
       "    }\n",
       "\n",
       "    .dataframe tbody tr th {\n",
       "        vertical-align: top;\n",
       "    }\n",
       "\n",
       "    .dataframe thead th {\n",
       "        text-align: right;\n",
       "    }\n",
       "</style>\n",
       "<table border=\"1\" class=\"dataframe\">\n",
       "  <thead>\n",
       "    <tr style=\"text-align: right;\">\n",
       "      <th></th>\n",
       "      <th>total_month_rech_6</th>\n",
       "      <th>total_month_rech_7</th>\n",
       "      <th>total_month_rech_8</th>\n",
       "      <th>total_month_rech_9</th>\n",
       "    </tr>\n",
       "  </thead>\n",
       "  <tbody>\n",
       "    <tr>\n",
       "      <th>0</th>\n",
       "      <td>614.0</td>\n",
       "      <td>504.0</td>\n",
       "      <td>504.0</td>\n",
       "      <td>0.0</td>\n",
       "    </tr>\n",
       "    <tr>\n",
       "      <th>1</th>\n",
       "      <td>74.0</td>\n",
       "      <td>538.0</td>\n",
       "      <td>383.0</td>\n",
       "      <td>121.0</td>\n",
       "    </tr>\n",
       "    <tr>\n",
       "      <th>2</th>\n",
       "      <td>168.0</td>\n",
       "      <td>315.0</td>\n",
       "      <td>116.0</td>\n",
       "      <td>404.0</td>\n",
       "    </tr>\n",
       "    <tr>\n",
       "      <th>3</th>\n",
       "      <td>230.0</td>\n",
       "      <td>310.0</td>\n",
       "      <td>601.0</td>\n",
       "      <td>410.0</td>\n",
       "    </tr>\n",
       "    <tr>\n",
       "      <th>4</th>\n",
       "      <td>252.0</td>\n",
       "      <td>350.0</td>\n",
       "      <td>287.0</td>\n",
       "      <td>200.0</td>\n",
       "    </tr>\n",
       "  </tbody>\n",
       "</table>\n",
       "</div>"
      ],
      "text/plain": [
       "   total_month_rech_6  total_month_rech_7  total_month_rech_8  \\\n",
       "0               614.0               504.0               504.0   \n",
       "1                74.0               538.0               383.0   \n",
       "2               168.0               315.0               116.0   \n",
       "3               230.0               310.0               601.0   \n",
       "4               252.0               350.0               287.0   \n",
       "\n",
       "   total_month_rech_9  \n",
       "0                 0.0  \n",
       "1               121.0  \n",
       "2               404.0  \n",
       "3               410.0  \n",
       "4               200.0  "
      ]
     },
     "execution_count": 131,
     "metadata": {},
     "output_type": "execute_result"
    }
   ],
   "source": [
    "#Creating new feature: total_mon_rech_6,total_mon_rech_7,total_mon_rech_8,total_mon_rech_9\n",
    "for i in range(6,10):\n",
    "    churn['total_month_rech_'+str(i)] = churn['total_rech_amt_'+str(i)]+churn['total_rech_amt_data_'+str(i)]\n",
    "churn.filter(regex=('total_month_rech')).head()"
   ]
  },
  {
   "cell_type": "code",
   "execution_count": 132,
   "metadata": {
    "colab": {},
    "colab_type": "code",
    "id": "9SXsOuKsw1dp",
    "outputId": "32ab1994-0eef-4104-a3e3-d67af23e7adf"
   },
   "outputs": [
    {
     "name": "stdout",
     "output_type": "stream",
     "text": [
      "No. of High-Value Customers in the Dataset: 29906\n",
      "\n",
      "% of High-value users in data : 30%\n"
     ]
    }
   ],
   "source": [
    "# calculating the avegare of first two months (good phase) total monthly recharge amount\n",
    "avg_goodPhase =(churn.total_month_rech_6 + churn.total_month_rech_7)/2\n",
    "# finding the cutoff which is the 70th percentile of the good phase average recharge amounts\n",
    "hv_cutoff= np.percentile(avg_goodPhase,70)\n",
    "# Filtering the users whose good phase avg. recharge amount >= to the cutoff of 70th percentile.\n",
    "hv_users = churn[avg_goodPhase >=  hv_cutoff]\n",
    "hv_users.reset_index(inplace=True,drop=True)\n",
    "\n",
    "print(\"No. of High-Value Customers in the Dataset: %d\\n\"% len(hv_users))\n",
    "print(\"% of High-value users in data : {}%\".format(round(len(hv_users)/churn.shape[0]*100),2))"
   ]
  },
  {
   "cell_type": "markdown",
   "metadata": {
    "colab_type": "text",
    "id": "tNPxDUQ7w1ds"
   },
   "source": [
    "###### Tagging Churners\n",
    "Now tag the churned customers (churn=1, else 0) based on the fourth month as follows:\n",
    "\n",
    "Those who have not made any calls (either incoming or outgoing) AND have not used mobile internet even once in the churn phase. The attributes we need to use to tag churners are:\n",
    "- total_ic_mou_9\n",
    "- total_og_mou_9\n",
    "- vol_2g_mb_9\n",
    "- vol_3g_mb_9"
   ]
  },
  {
   "cell_type": "code",
   "execution_count": 133,
   "metadata": {
    "colab": {},
    "colab_type": "code",
    "id": "QhHhvVILw1du"
   },
   "outputs": [],
   "source": [
    "def getChurnStatus(data,churnPhaseMonth=9):\n",
    "    # Function to tag customers as churners (churn=1, else 0) based on 'vol_2g_mb_','vol_3g_mb_','total_ic_mou_','total_og_mou_'\n",
    "    #argument: churnPhaseMonth, indicating the month number to be used to define churn (default= 9)\n",
    "    churn_features= ['vol_2g_mb_','vol_3g_mb_','total_ic_mou_','total_og_mou_']\n",
    "    flag = ~data[[s + str(churnPhaseMonth) for s in churn_features ]].any(axis=1)\n",
    "    flag = flag.map({True:1, False:0})\n",
    "    return flag"
   ]
  },
  {
   "cell_type": "code",
   "execution_count": 134,
   "metadata": {
    "colab": {},
    "colab_type": "code",
    "id": "0diq7zy2w1dx",
    "outputId": "41032039-62bb-4f8a-e4aa-0243b3ae7ebe"
   },
   "outputs": [
    {
     "name": "stdout",
     "output_type": "stream",
     "text": [
      " 2418 users tagged as churners out of 29906 High-Value Customers.\n",
      "High-value Churn Percentage : 8.09%\n"
     ]
    }
   ],
   "source": [
    "hv_users['churn'] = getChurnStatus(hv_users,9)\n",
    "print(\" {} users tagged as churners out of {} High-Value Customers.\".format(len(hv_users[hv_users.churn == 1]),hv_users.shape[0]))\n",
    "print(\"High-value Churn Percentage : {}%\".format(round(len(hv_users[hv_users.churn == 1])/hv_users.shape[0] *100,2)))\n"
   ]
  },
  {
   "cell_type": "code",
   "execution_count": 135,
   "metadata": {},
   "outputs": [
    {
     "data": {
      "text/plain": [
       "(99618, 231)"
      ]
     },
     "execution_count": 135,
     "metadata": {},
     "output_type": "execute_result"
    }
   ],
   "source": [
    "churn.shape"
   ]
  },
  {
   "cell_type": "markdown",
   "metadata": {
    "colab_type": "text",
    "id": "LLsZKd11w1dz"
   },
   "source": [
    "<br>There are just **8.09% churn** cases.\n",
    "<br>This indicated an **highly imbalanced** data set where the churn cases are the minority(8.14%) as opposed to the non-churners who are the majority(91.91)"
   ]
  },
  {
   "cell_type": "markdown",
   "metadata": {
    "colab_type": "text",
    "id": "wUZpKshPw1gQ"
   },
   "source": [
    "Decision Tree---------------------------------------------"
   ]
  },
  {
   "cell_type": "markdown",
   "metadata": {
    "colab_type": "text",
    "id": "iFFPJTG4w1gQ"
   },
   "source": [
    "##### Applying Decision Tree Classifier on our principal components with Hyperparameter tuning"
   ]
  },
  {
   "cell_type": "markdown",
   "metadata": {
    "colab": {},
    "colab_type": "code",
    "id": "H1-91gmhw1gQ",
    "outputId": "21c074ac-4a82-495a-8197-9c656f2fdb46"
   },
   "source": [
    "dt = DecisionTreeClassifier(attributes....)\n",
    "modelfit(dt, X_train, y_train_res)"
   ]
  },
  {
   "cell_type": "markdown",
   "metadata": {
    "colab": {},
    "colab_type": "code",
    "id": "DMvsTkDMw1gT",
    "outputId": "6e435fdc-0611-4c01-87b6-3ee28085d116"
   },
   "source": [
    "\n",
    "pred_probs_test = dt.predict(X_test)\n",
    "#Let's check the model metrices.\n",
    "getModelMetrics(actual_churn=y_test,pred_churn=pred_probs_test)"
   ]
  },
  {
   "cell_type": "markdown",
   "metadata": {
    "colab": {},
    "colab_type": "code",
    "id": "pj9OcaFew1gU"
   },
   "source": [
    "#### Create a tree based model\n",
    "dt = DecisionTreeClassifier(attributes............)\n",
    "#### Instantiate the grid search model\n",
    "grid_search = GridSearchCV(estimator = dt, param_grid = param_grid, ................)"
   ]
  },
  {
   "cell_type": "markdown",
   "metadata": {
    "colab": {},
    "colab_type": "code",
    "id": "wy13PLucw1gV",
    "outputId": "1f0378de-25be-42e3-f2af-a2190c3ecc7c"
   },
   "source": [
    "##### Fit the grid search to the data\n",
    "grid_search.fit(........)"
   ]
  },
  {
   "cell_type": "markdown",
   "metadata": {
    "colab": {},
    "colab_type": "code",
    "id": "byVSAxvww1gZ"
   },
   "source": [
    "dt_final = DecisionTreeClassifier(.............)"
   ]
  },
  {
   "cell_type": "markdown",
   "metadata": {
    "colab": {},
    "colab_type": "code",
    "id": "B3APjfT9w1ga",
    "outputId": "d9f12dac-a2b1-4f62-b2ba-98d88287691d"
   },
   "source": [
    "modelfit(,.......)"
   ]
  },
  {
   "cell_type": "markdown",
   "metadata": {
    "colab": {},
    "colab_type": "code",
    "id": "z6aY4FBcw1gb",
    "outputId": "c74cb7d6-1dd5-4c6f-f503-a7d3d5272a84"
   },
   "source": [
    "###### make predictions\n",
    "pred_probs_test = dt_final.predict(.....)\n",
    "getModelMetrics(actual_churn=y_test,pred_churn=pred_probs_test)"
   ]
  },
  {
   "cell_type": "markdown",
   "metadata": {
    "colab": {},
    "colab_type": "code",
    "id": "i38pLQJOw1gj",
    "outputId": "1a2eec91-0040-4ae5-e45b-10cde227adb5"
   },
   "source": [
    "findOptimalCutoff(y_train_df)"
   ]
  },
  {
   "cell_type": "markdown",
   "metadata": {
    "colab_type": "text",
    "id": "G5kKREtHw1h3"
   },
   "source": [
    "SVM"
   ]
  },
  {
   "cell_type": "markdown",
   "metadata": {
    "colab_type": "text",
    "id": "0ZnmP7ksw1h3"
   },
   "source": [
    "##### Using linear kernal"
   ]
  },
  {
   "cell_type": "markdown",
   "metadata": {
    "colab": {},
    "colab_type": "code",
    "id": "TB1Mw0Mdw1h4"
   },
   "source": [
    "##### instantiate an object of class SVC()\n",
    "svm = SVC(C = 1)"
   ]
  },
  {
   "cell_type": "markdown",
   "metadata": {
    "colab": {},
    "colab_type": "code",
    "id": "SV9AinIjw1h5",
    "outputId": "bdc8a09a-11ef-4c14-82cc-97df6bffacae"
   },
   "source": [
    "###### fit\n",
    "svm0.fit(X_train, y_train_res)\n",
    "\n",
    "###### predict on train\n",
    "y_pred = svm0.predict(X_train_pca)\n",
    "getModelMetrics(y_train_res,y_pred)"
   ]
  },
  {
   "cell_type": "markdown",
   "metadata": {
    "colab": {},
    "colab_type": "code",
    "id": "WrEP4D8Tw1h6",
    "outputId": "ac12b6b1-29b1-4f38-b069-3574fb7650e3"
   },
   "source": [
    "##### Predict on test\n",
    "y_pred = svm0.predict(X_test_pca)\n",
    "getModelMetrics(y_test,y_pred)"
   ]
  },
  {
   "cell_type": "markdown",
   "metadata": {
    "colab_type": "text",
    "id": "VKNeHW7Cw1h7"
   },
   "source": [
    "###### Hyperparameter tuning for linear kernal"
   ]
  },
  {
   "cell_type": "markdown",
   "metadata": {
    "colab_type": "text",
    "id": "5fmP1sCxw1h7"
   },
   "source": [
    "Let's see if we can tune the hyperparameters of SVM and get a better Sensitivity score."
   ]
  },
  {
   "cell_type": "markdown",
   "metadata": {
    "colab": {},
    "colab_type": "code",
    "id": "ZHU-DFGQw1h8",
    "outputId": "75d3fb62-7696-49d3-aac1-6a7030e8c141"
   },
   "source": [
    "params = {................}\n",
    "\n",
    "svm1 = SVC()\n",
    "\n",
    "model_cv = GridSearchCV(.............)"
   ]
  },
  {
   "cell_type": "markdown",
   "metadata": {
    "colab": {},
    "colab_type": "code",
    "id": "cKRowxDuw1h-",
    "outputId": "fb0155f5-31de-4696-8a91-f0cf3cc526e3"
   },
   "source": [
    "plot_traintestAcc(model_cv.cv_results_,'C')"
   ]
  },
  {
   "cell_type": "markdown",
   "metadata": {
    "colab": {},
    "colab_type": "code",
    "id": "QJCGbE0zw1h_",
    "outputId": "348130e2-1ea7-430b-a2ac-7f6d38388fb3"
   },
   "source": [
    "model_cv.best_params_"
   ]
  },
  {
   "cell_type": "markdown",
   "metadata": {
    "colab": {},
    "colab_type": "code",
    "id": "-en-z_b7w1iB"
   },
   "source": [
    "svm_final = SVC(C = 1000)\n",
    "##### fit\n",
    "svm_final.fit(X_train, y_train_res)"
   ]
  },
  {
   "cell_type": "code",
   "execution_count": null,
   "metadata": {},
   "outputs": [],
   "source": []
  }
 ],
 "metadata": {
  "colab": {
   "collapsed_sections": [
    "qFQpGLvaw1d0",
    "o7WGRV_Hw1gN",
    "wUZpKshPw1gQ",
    "ibcAPYP7w1gr",
    "T3Aa5rJsw1gt",
    "K9WuZSfww1g2",
    "t7YVGrqKw1g5",
    "ak4zK8ORw1g8",
    "vCPOdDG7w1hC",
    "yc7S_S7-w1hE",
    "n40kKPV5w1hP",
    "G5kKREtHw1h3",
    "ZAK656wEw1iJ",
    "99pwzPygw1iU"
   ],
   "name": "Akshay_Final_Submission_Telecom Churn - ML Group Case Study.ipynb",
   "provenance": [],
   "toc_visible": true,
   "version": "0.3.2"
  },
  "kernelspec": {
   "display_name": "Python 3",
   "language": "python",
   "name": "python3"
  },
  "language_info": {
   "codemirror_mode": {
    "name": "ipython",
    "version": 3
   },
   "file_extension": ".py",
   "mimetype": "text/x-python",
   "name": "python",
   "nbconvert_exporter": "python",
   "pygments_lexer": "ipython3",
   "version": "3.7.3"
  }
 },
 "nbformat": 4,
 "nbformat_minor": 1
}
