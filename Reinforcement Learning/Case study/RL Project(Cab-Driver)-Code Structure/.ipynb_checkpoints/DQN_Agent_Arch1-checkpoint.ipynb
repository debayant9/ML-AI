{
 "cells": [
  {
   "cell_type": "markdown",
   "metadata": {},
   "source": [
    "### Cab-Driver Agent"
   ]
  },
  {
   "cell_type": "code",
   "execution_count": null,
   "metadata": {},
   "outputs": [],
   "source": [
    "# Importing libraries\n",
    "import numpy as np\n",
    "import random\n",
    "import math\n",
    "from collections import deque\n",
    "import collections\n",
    "import os\n",
    "import pickle\n",
    "\n",
    "# for building DQN model\n",
    "from keras import layers\n",
    "from keras import Sequential\n",
    "from keras.layers import Dense, Activation, Flatten\n",
    "from keras.optimizers import Adam\n",
    "from keras.models import load_model\n",
    "\n",
    "# for plotting graphs\n",
    "import matplotlib.pyplot as plt\n",
    "\n",
    "# Import the environment\n",
    "from Env import CabDriver"
   ]
  },
  {
   "cell_type": "markdown",
   "metadata": {},
   "source": [
    "#### Defining Time Matrix"
   ]
  },
  {
   "cell_type": "code",
   "execution_count": null,
   "metadata": {},
   "outputs": [],
   "source": [
    "# Loading the time matrix provided\n",
    "Time_matrix = np.load(\"TM.npy\")"
   ]
  },
  {
   "cell_type": "code",
   "execution_count": null,
   "metadata": {},
   "outputs": [],
   "source": [
    "States_track = collections.defaultdict(dict)\n",
    "print(len(States_track))"
   ]
  },
  {
   "cell_type": "markdown",
   "metadata": {},
   "source": [
    "#### Tracking the state-action pairs for checking convergence\n"
   ]
  },
  {
   "cell_type": "code",
   "execution_count": null,
   "metadata": {},
   "outputs": [],
   "source": [
    "# make directory\n",
    "if not os.path.exists(\"saved_pickle_files\"):\n",
    "    os.mkdir(\"saved_pickle_files\")"
   ]
  },
  {
   "cell_type": "code",
   "execution_count": null,
   "metadata": {},
   "outputs": [],
   "source": [
    "#This function will initialise the 7 Q-values which need to be tracked for checking convergence\n",
    "\n",
    "#iters = []                            #the x-axis of convergence graphs\n",
    "\n",
    "def initialise_tracking_states():\n",
    "    sample_q_values = [((1,9,1),(1,2)),((1,11,3),(1,3)),((1,20,5),(2,4)),((4,10,5),(3,1)),((3,13,0),(3,1)),((0,9,6),(1,3))]    #select any 4 Q-values\n",
    "    for q_values in sample_q_values:\n",
    "        state = q_values[0]\n",
    "        action = q_values[1]\n",
    "        States_track[state][action] = []    #this is an array which will have appended values of that state-action pair for every 2000th episode         "
   ]
  },
  {
   "cell_type": "code",
   "execution_count": null,
   "metadata": {},
   "outputs": [],
   "source": [
    "#This function will append latest Q-values of the 6 Q-values which are being tracked for checking convergence\n",
    "\n",
    "def save_tracking_states(actions_list, qvalues, state):\n",
    "    if state in States_track.keys():\n",
    "        action = list(States_track[state].keys())\n",
    "        ind = actions_list.index(action[0])\n",
    "        qv = qvalues[0][ind]\n",
    "        States_track[state][action[0]].append(qv)"
   ]
  },
  {
   "cell_type": "code",
   "execution_count": null,
   "metadata": {},
   "outputs": [],
   "source": [
    "#Defining a function to save the Q-dictionary as a pickle file\n",
    "def save_pickle(obj, name ):\n",
    "    with open(name + '.pkl', 'wb') as f:\n",
    "        pickle.dump(obj, f, pickle.HIGHEST_PROTOCOL)"
   ]
  },
  {
   "cell_type": "markdown",
   "metadata": {},
   "source": [
    "### Agent Class\n",
    "\n",
    "If you are using this framework, you need to fill the following to complete the following code block:\n",
    "1. State and Action Size\n",
    "2. Hyperparameters\n",
    "3. Create a neural-network model in function 'build_model()'\n",
    "4. Define epsilon-greedy strategy in function 'get_action()'\n",
    "5. Complete the function 'append_sample()'. This function appends the recent experience tuple <state, action, reward, new-state> to the memory\n",
    "6. Complete the 'train_model()' function with following logic:\n",
    "   - If the memory size is greater than mini-batch size, you randomly sample experiences from memory as per the mini-batch size and do the following:\n",
    "      - Initialise your input and output batch for training the model\n",
    "      - Calculate the target Q value for each sample: reward + gamma*max(Q(s'a,))\n",
    "      - Get Q(s', a) values from the last trained model\n",
    "      - Update the input batch as your encoded state and output batch as your Q-values\n",
    "      - Then fit your DQN model using the updated input and output batch."
   ]
  },
  {
   "cell_type": "code",
   "execution_count": null,
   "metadata": {},
   "outputs": [],
   "source": [
    "class DQNAgent:\n",
    "    def __init__(self, state_size, action_size):\n",
    "        # Define size of state and action\n",
    "        self.input_size = state_size   # input for NN which is size of state + size of action\n",
    "        self.output_size = action_size # output of NN which is \n",
    "\n",
    "        # Write here: Specify you hyper parameters for the DQN\n",
    "        self.discount_factor = 0.95\n",
    "        self.learning_rate =  0.01     \n",
    "        self.epsilon = 1.0\n",
    "        self.epsilon_min = 0.01\n",
    "        self.batch_size = 32 \n",
    "        self.epsilon_decay = -0.0005\n",
    "        \n",
    "        self.batch_size = 32        \n",
    "        # create replay memory using deque\n",
    "        self.memory = deque(maxlen=2000)\n",
    "        \n",
    "        self.special_states_tracked = []\n",
    "        \n",
    "         # We are going to track state [0,0,0] and action (0,2) at index 2 in the action space.\n",
    "        self.track_state = np.array(env.state_encod_arch1([0,0,0])).reshape(1, 36)\n",
    "\n",
    "        # create main model and target model\n",
    "        self.model = self.build_model()\n",
    "\n",
    "    # approximate Q function using Neural Network\n",
    "    def build_model(self):\n",
    "        model = Sequential()\n",
    "        # Write your code here: Add layers to your neural nets     \n",
    "        \n",
    "        # hidden layers\n",
    "        model.add(Dense(32, input_dim=self.input_size, activation='relu', kernel_initializer='he_uniform'))\n",
    "        model.add(Dense(32, activation='relu', kernel_initializer='he_uniform'))\n",
    "\n",
    "        # the output layer: output is of size num_actions\n",
    "        model.add(Dense(self.output_size, activation='relu', kernel_initializer='he_uniform'))\n",
    "\n",
    "        model.compile(loss='mse',optimizer=Adam(lr=self.learning_rate))\n",
    "        model.summary\n",
    "        return model\n",
    "\n",
    "\n",
    "\n",
    "    def get_action(self, state, env):\n",
    "    # Write your code here:\n",
    "    # get action from model using epsilon-greedy policy\n",
    "    # Decay in ε after we generate each sample from the environment \n",
    "        action_index, all_actions = env.requests(state)\n",
    "#          print(all_actions)\n",
    "        if np.random.rand() <= self.epsilon:\n",
    "            # explore: choose a random action from all possible actions\n",
    "            # in case of cartpole this will randomly choose an action between 0 and 1\n",
    "            return random.choice(action_index)\n",
    "        else:\n",
    "            # choose the action with the highest q(s, a)\n",
    "            # the first index corresponds to the batch size, so\n",
    "            # reshape state to (1, state_size) so that the first index corresponds to the batch size\n",
    "            action_dict = {}\n",
    "            input_nn = env.state_encod_arch1(state)\n",
    "            input_nn = input_nn.reshape(1, self.input_size)\n",
    "            q_value = self.model.predict(input_nn)\n",
    "            save_tracking_states(env.action_space, q_value, state)\n",
    "            for ind in action_index:\n",
    "                action_dict[ind] = q_value[0][ind]\n",
    "            max_qvalue_action = max(action_dict, key=action_dict.get)\n",
    "            return max_qvalue_action\n",
    "        \n",
    "\n",
    "    def append_sample(self, state, action, reward, next_state, done):\n",
    "    # Write your code here:\n",
    "    # save sample <s,a,r,s'> to the replay memory\n",
    "     self.memory.append((state, action, reward, next_state, done))\n",
    "    \n",
    "    \n",
    "    \n",
    "    # pick samples randomly from replay memory (with batch_size) and train the network\n",
    "    def train_model(self):\n",
    "        \n",
    "        if len(self.memory) > self.batch_size:\n",
    "            # Sample batch from the memory\n",
    "            mini_batch = random.sample(self.memory, self.batch_size)\n",
    "            update_output = np.zeros((self.batch_size, self.input_size))\n",
    "            update_input =np.zeros((self.batch_size, self.input_size))\n",
    "            \n",
    "            actions, rewards, done = [], [], []\n",
    "            \n",
    "            for i in range(self.batch_size):\n",
    "                state, action, reward, next_state, done_boolean = mini_batch[i]\n",
    "                state_input_nn = env.state_encod_arch1(state)\n",
    "                state_input_nn = state_input_nn.reshape(1, self.input_size)\n",
    "                update_input[i] = state_input_nn\n",
    "                actions.append(action)\n",
    "                rewards.append(reward)\n",
    "                next_state_input_nn = env.state_encod_arch1(state)\n",
    "                next_state_input_nn = next_state_input_nn.reshape(1, self.input_size)\n",
    "                update_output[i] = next_state_input_nn\n",
    "                done.append(done_boolean)\n",
    "                \n",
    "                # Write your code from here\n",
    "                # 1. Predict the target from earlier model\n",
    "            target = self.model.predict(update_input)\n",
    "                \n",
    "                # 2. Get the target for the Q-network\n",
    "            target_qval = self.model.predict(update_output)\n",
    "                \n",
    "                #3. Update your 'update_output' and 'update_input' batch\n",
    "            for i in range(self.batch_size):\n",
    "                if done[i]:\n",
    "                    target[i][actions[i]] = rewards[i]\n",
    "                else: # non-terminal state\n",
    "                    #print(\"thu\")\n",
    "                    target[i][actions[i]] = rewards[i] + self.discount_factor * np.max(target_qval[i])\n",
    "                \n",
    "        # 4. Fit your model and track the loss values\n",
    "            self.model.fit(update_input, target, batch_size=self.batch_size, epochs=1, verbose=0)\n",
    "            \n",
    "    def save_tracking_states(self):\n",
    "        # Use the model to predict the q_value of the state we are tacking.\n",
    "        q_value = self.model.predict(self.track_state)\n",
    "        \n",
    "        # Grab the q_value of the action index that we are tracking.\n",
    "        self.special_states_tracked.append(q_value[0][2])\n",
    "            \n",
    "\n",
    "    def save(self, name):\n",
    "        with open(name, 'wb') as file:  \n",
    "            pickle.dump(self.model, file,pickle.HIGHEST_PROTOCOL)\n",
    "    "
   ]
  },
  {
   "cell_type": "code",
   "execution_count": null,
   "metadata": {},
   "outputs": [],
   "source": [
    "# Invoke Env class\n",
    "env = CabDriver()\n",
    "Episodes = 12000\n",
    "Save_Rewards_After_Ep = 50\n",
    "Save_Weights_After_Ep = 50\n",
    "rewards_per_episode, episodes = [], []\n",
    "agent = DQNAgent(36,21)\n",
    "initialise_tracking_states()"
   ]
  },
  {
   "cell_type": "code",
   "execution_count": null,
   "metadata": {},
   "outputs": [],
   "source": [
    "#agent.load_weights(\"model_weights\")"
   ]
  },
  {
   "cell_type": "code",
   "execution_count": null,
   "metadata": {},
   "outputs": [],
   "source": [
    "# Episodes = 5\n",
    "# agent = DQNAgent(36,21)"
   ]
  },
  {
   "cell_type": "code",
   "execution_count": null,
   "metadata": {},
   "outputs": [],
   "source": [
    "# agent.model.load_weights(\"model_weights\")"
   ]
  },
  {
   "cell_type": "markdown",
   "metadata": {},
   "source": [
    "### DQN block"
   ]
  },
  {
   "cell_type": "code",
   "execution_count": 1,
   "metadata": {},
   "outputs": [
    {
     "ename": "NameError",
     "evalue": "name 'Episodes' is not defined",
     "output_type": "error",
     "traceback": [
      "\u001b[1;31m---------------------------------------------------------------------------\u001b[0m",
      "\u001b[1;31mNameError\u001b[0m                                 Traceback (most recent call last)",
      "\u001b[1;32m<ipython-input-1-32672fa207ce>\u001b[0m in \u001b[0;36m<module>\u001b[1;34m\u001b[0m\n\u001b[1;32m----> 1\u001b[1;33m \u001b[1;32mfor\u001b[0m \u001b[0mepisode\u001b[0m \u001b[1;32min\u001b[0m \u001b[0mrange\u001b[0m\u001b[1;33m(\u001b[0m\u001b[0mEpisodes\u001b[0m\u001b[1;33m)\u001b[0m\u001b[1;33m:\u001b[0m\u001b[1;33m\u001b[0m\u001b[1;33m\u001b[0m\u001b[0m\n\u001b[0m\u001b[0;32m      2\u001b[0m \u001b[1;33m\u001b[0m\u001b[0m\n\u001b[0;32m      3\u001b[0m     \u001b[1;31m# Write code here\u001b[0m\u001b[1;33m\u001b[0m\u001b[1;33m\u001b[0m\u001b[1;33m\u001b[0m\u001b[0m\n\u001b[0;32m      4\u001b[0m     \u001b[1;31m# Call the environment\u001b[0m\u001b[1;33m\u001b[0m\u001b[1;33m\u001b[0m\u001b[1;33m\u001b[0m\u001b[0m\n\u001b[0;32m      5\u001b[0m     \u001b[1;31m# Call all the initialised variables of the environment\u001b[0m\u001b[1;33m\u001b[0m\u001b[1;33m\u001b[0m\u001b[1;33m\u001b[0m\u001b[0m\n",
      "\u001b[1;31mNameError\u001b[0m: name 'Episodes' is not defined"
     ]
    }
   ],
   "source": [
    "for episode in range(Episodes):\n",
    "\n",
    "    # Write code here\n",
    "    # Call the environment\n",
    "    # Call all the initialised variables of the environment\n",
    "    env = CabDriver()\n",
    "    all_actions, all_state, curr_state = env.reset()\n",
    "    terminal_state = False\n",
    "    revenue = 0\n",
    "    #Call the DQN agent\n",
    "    ep_start_hour = curr_state[1]\n",
    "    ep_end_hour = curr_state[1] + 24 * 30\n",
    "    #print(\"ep {0}\".format(episode))\n",
    "    \n",
    "    while terminal_state == False:\n",
    "        \n",
    "        # Write your code here\n",
    "        # 1. Pick epsilon-greedy action from possible actions for the current state\n",
    "        # 2. Evaluate your reward and next state\n",
    "        # 3. Append the experience to the memory\n",
    "        # 4. Train the model by calling function agent.train_model\n",
    "        # 5. Keep a track of rewards, Q-values, loss\n",
    "        fin_action_index = agent.get_action(curr_state, env)\n",
    "        \n",
    "        \n",
    "        \n",
    "#         if fin_action_index == 20:\n",
    "#             print(\"state = {0} {1} {2}, action = {3}\".format(curr_state[0],curr_state[1],curr_state[2], fin_action_index))\n",
    "#         else:\n",
    "#             act = env.action_space[fin_action_index]\n",
    "#             print(\"state = {0} {1} {2}, action = {3} {4}\".format(curr_state[0],curr_state[1],curr_state[2],act[0],act[1]))\n",
    "            \n",
    "            \n",
    "        next_state, reward, total_hours_lapsed = env.step(curr_state, fin_action_index, Time_matrix)\n",
    "        ep_start_hour += total_hours_lapsed\n",
    "            \n",
    "        if ep_start_hour >= ep_end_hour:\n",
    "            terminal_state = True\n",
    "            \n",
    "        agent.append_sample(curr_state, fin_action_index, reward, next_state, terminal_state)\n",
    "        \n",
    "        agent.train_model()\n",
    "        revenue += reward\n",
    "        #print(\"reward = {0}\".format(reward)) \n",
    "        curr_state = next_state\n",
    "\n",
    "    # store total reward obtained in this episode\n",
    "    rewards_per_episode.append(revenue)\n",
    "    episodes.append(episode) \n",
    "    \n",
    "    # epsilon decay\n",
    "    agent.epsilon = (1 - 0.00001) * np.exp(agent.epsilon_decay * episode)\n",
    "\n",
    "    # save rewards_per_episode\n",
    "    if episode % Save_Rewards_After_Ep == 0: \n",
    "        save_pickle(rewards_per_episode, \"saved_pickle_files/rewards_per_episode\")\n",
    "    \n",
    "    if episode % Save_Rewards_After_Ep == 0:     \n",
    "        save_pickle(States_track,'saved_pickle_files/States_tracked') \n",
    "        \n",
    "    if ((episode + 1) % 5 == 0):\n",
    "        print(\"reward after ep {0} = {1}\".format(episode, revenue))\n",
    "        agent.save_tracking_states()\n",
    "        \n",
    "        \n",
    "    if(episode % Save_Weights_After_Ep == 0):\n",
    "        print(\"Saving Model {}\".format(episode))\n",
    "        agent.save(name=\"model_weights.pkl\")\n",
    "            \n",
    "        "
   ]
  },
  {
   "cell_type": "code",
   "execution_count": null,
   "metadata": {},
   "outputs": [],
   "source": []
  },
  {
   "cell_type": "code",
   "execution_count": null,
   "metadata": {},
   "outputs": [],
   "source": []
  },
  {
   "cell_type": "markdown",
   "metadata": {},
   "source": [
    "### Tracking Convergence"
   ]
  },
  {
   "cell_type": "code",
   "execution_count": null,
   "metadata": {},
   "outputs": [],
   "source": []
  },
  {
   "cell_type": "code",
   "execution_count": null,
   "metadata": {},
   "outputs": [],
   "source": [
    "print(\"Average reward of last 10 episodes is {0}\".format(np.max(rewards_per_episode[-100:])))"
   ]
  },
  {
   "cell_type": "code",
   "execution_count": null,
   "metadata": {},
   "outputs": [],
   "source": [
    "with open('saved_pickle_files/rewards_per_episode.pkl', 'rb') as f:\n",
    "    rewards_per_episode = pickle.load(f)\n",
    "\n",
    "plt.plot(list(range(len(rewards_per_episode))), rewards_per_episode)\n",
    "plt.xlabel(\"episode number\")\n",
    "plt.ylabel(\"reward per episode\")\n",
    "print(len(rewards_per_episode))\n",
    "\n",
    "# save plots in saved_plots/ directory\n",
    "plt.savefig('rewards.png')\n",
    "\n",
    "print(\"Average reward of last 10 episodes is {0}\".format(np.mean(rewards_per_episode[-1000:])))"
   ]
  },
  {
   "cell_type": "code",
   "execution_count": null,
   "metadata": {},
   "outputs": [],
   "source": [
    "with open('saved_pickle_files/States_tracked.pkl', 'rb') as f:\n",
    "    States_track = pickle.load(f)"
   ]
  },
  {
   "cell_type": "code",
   "execution_count": null,
   "metadata": {},
   "outputs": [],
   "source": [
    "plt.figure(0, figsize=(16,7))\n",
    "plt.subplot(241)\n",
    "plt.title('state=(15,mon) action=12')\n",
    "xaxis = np.asarray(range(0, len(States_track[(1,9,1)][(1,2)])))\n",
    "plt.plot(xaxis,np.asarray(States_track[(1,9,1)][(1,2)]))\n",
    "\n",
    "plt.subplot(242)\n",
    "plt.title('state=(15,mon) action=12')\n",
    "xaxis = np.asarray(range(0, len(States_track[(1,20,5)][(2,4)])))\n",
    "plt.plot(xaxis,np.asarray(States_track[(1,20,5)][(2,4)]))\n",
    "\n",
    "plt.subplot(243)\n",
    "plt.title('state=(15,mon) action=12')\n",
    "xaxis = np.asarray(range(0, len(States_track[(1,11,3)][(1,3)])))\n",
    "plt.plot(xaxis,np.asarray(States_track[(1,11,3)][(1,3)]))\n",
    "\n",
    "plt.subplot(244)\n",
    "plt.title('state=(15,mon) action=12')\n",
    "xaxis = np.asarray(range(0, len(States_track[(4,10,5)][(3,1)])))\n",
    "plt.plot(xaxis,np.asarray(States_track[(4,10,5)][(3,1)]))\n",
    "\n",
    "plt.subplot(245)\n",
    "plt.title('state=(15,mon) action=12')\n",
    "xaxis = np.asarray(range(0, len(States_track[(3,13,0)][(3,1)])))\n",
    "plt.plot(xaxis,np.asarray(States_track[(3,13,0)][(3,1)]))\n",
    "\n",
    "plt.subplot(246)\n",
    "plt.title('state=(15,mon) action=12')\n",
    "xaxis = np.asarray(range(0, len(States_track[(0,9,6)][(1,3)])))\n",
    "plt.plot(xaxis,np.asarray(States_track[(0,9,6)][(1,3)]))\n",
    "\n"
   ]
  },
  {
   "cell_type": "code",
   "execution_count": null,
   "metadata": {},
   "outputs": [],
   "source": [
    "state_tracked_sample = [agent.special_states_tracked[i] for i in range(len(agent.special_states_tracked)) if agent.special_states_tracked[i] < 1000]"
   ]
  },
  {
   "cell_type": "code",
   "execution_count": null,
   "metadata": {},
   "outputs": [],
   "source": [
    "plt.figure(0, figsize=(16,7))\n",
    "plt.title('Q_value for state [0,0,0]  action (0,2)')\n",
    "xaxis = np.asarray(range(0, len(agent.special_states_tracked)))\n",
    "plt.semilogy(xaxis,np.asarray(agent.special_states_tracked))\n",
    "plt.show()"
   ]
  },
  {
   "cell_type": "code",
   "execution_count": null,
   "metadata": {},
   "outputs": [],
   "source": [
    "for key, value in States_track.items():\n",
    "    for k,v in value.items():\n",
    "        print(len(v))"
   ]
  },
  {
   "cell_type": "markdown",
   "metadata": {},
   "source": [
    "#### Epsilon-decay sample function"
   ]
  },
  {
   "cell_type": "markdown",
   "metadata": {},
   "source": [
    "<div class=\"alert alert-block alert-info\">\n",
    "Try building a similar epsilon-decay function for your model.\n",
    "</div>"
   ]
  },
  {
   "cell_type": "code",
   "execution_count": null,
   "metadata": {},
   "outputs": [],
   "source": [
    "time = np.arange(0,100)\n",
    "epsilon = []\n",
    "for i in range(0,3000):\n",
    "    epsilon.append(0 + (1 - 0) * np.exp(-0.0009*i))\n",
    "   # epsilon.append(np.random.rand())\n",
    "print(epsilon)"
   ]
  },
  {
   "cell_type": "code",
   "execution_count": null,
   "metadata": {},
   "outputs": [],
   "source": [
    "plt.plot(time, epsilon)\n",
    "plt.show()"
   ]
  },
  {
   "cell_type": "code",
   "execution_count": null,
   "metadata": {},
   "outputs": [],
   "source": []
  }
 ],
 "metadata": {
  "kernelspec": {
   "display_name": "Python 3",
   "language": "python",
   "name": "python3"
  },
  "language_info": {
   "codemirror_mode": {
    "name": "ipython",
    "version": 3
   },
   "file_extension": ".py",
   "mimetype": "text/x-python",
   "name": "python",
   "nbconvert_exporter": "python",
   "pygments_lexer": "ipython3",
   "version": "3.7.3"
  }
 },
 "nbformat": 4,
 "nbformat_minor": 2
}
